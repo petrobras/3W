{
 "cells": [
  {
   "cell_type": "markdown",
   "id": "be1c0260",
   "metadata": {},
   "source": [
    "# 7. Model Training and Evaluation\n",
    "\n",
    "**Quick overview of the model training and evaluation**\n",
    "\n",
    "This notebook provides instructions to use the model training and evaluation tools of the **3WToolkit v2.0.0**.\n",
    "\n",
    "These tools demonstrates how to train and evaluate machine learning models using the 3WToolkit. We will cover a complete workflow from data preparation to model assessment, including:\n",
    "\n",
    "- Loading and preprocessing the 3W dataset\n",
    "- Training MLP models with different configurations\n",
    "- Evaluating model performance using various metrics\n",
    "- Visualizing training history and results\n",
    "\n",
    "**By the end of this notebook, you will be able to**:\n",
    "\n",
    "- Configure and train MLP models using the 3WToolkit\n",
    "- Evaluate model performance using comprehensive metrics\n",
    "- Visualize training progress and model predictions\n",
    "- Understand the complete model training workflow\n",
    "\n",
    "\n",
    "## 📋 Table of Contents\n",
    "\n",
    "1. [Importing required libraries](#importing-required-libraries)\n",
    "2. [Loading the 3W Dataset](#loading-the-3w-dataset)\n",
    "3. [Load Model and Trainer Setup](#load-model-and-trainer-setup)\n",
    "4. [Data Preprocessing with Windowing](#data-preprocessing-with-windowing)\n",
    "5. [Model Training](#model-training)\n",
    "6. [Model Evaluation and Assessment](#model-evaluation-and-assessment)\n",
    "7. [Training history visualization](#training-history-visualization)\n",
    "8. [Next Steps](#Next-Steps)\n",
    "---"
   ]
  },
  {
   "cell_type": "markdown",
   "id": "56f3c221",
   "metadata": {},
   "source": [
    "### Importing required libraries"
   ]
  },
  {
   "cell_type": "code",
   "execution_count": 1,
   "id": "437797a7",
   "metadata": {},
   "outputs": [],
   "source": [
    "import numpy as np\n",
    "import pandas as pd\n",
    "import matplotlib.pyplot as plt\n",
    "import torch\n",
    "\n",
    "from tqdm import tqdm\n",
    "from pathlib import Path\n",
    "\n",
    "from ThreeWToolkit.preprocessing import Windowing\n",
    "from ThreeWToolkit.core.base_preprocessing import WindowingConfig\n",
    "from ThreeWToolkit.trainer.trainer import ModelTrainer, TrainerConfig\n",
    "from ThreeWToolkit.models.mlp import MLPConfig\n",
    "from ThreeWToolkit.dataset import ParquetDataset\n",
    "from ThreeWToolkit.core.base_dataset import ParquetDatasetConfig\n",
    "from ThreeWToolkit.core.base_assessment import ModelAssessmentConfig\n",
    "from ThreeWToolkit.assessment.model_assess import ModelAssessment\n",
    "from ThreeWToolkit.core.enums import TaskType, EventPrefixEnum"
   ]
  },
  {
   "cell_type": "markdown",
   "id": "65e51677",
   "metadata": {},
   "source": [
    "### Loading the 3W Dataset"
   ]
  },
  {
   "cell_type": "markdown",
   "id": "d624e924",
   "metadata": {},
   "source": [
    "Let's create a ParquetDataset that loads cleaned data with target classes 0, 1, and 2"
   ]
  },
  {
   "cell_type": "code",
   "execution_count": 2,
   "id": "d3b343f1",
   "metadata": {},
   "outputs": [
    {
     "name": "stdout",
     "output_type": "stream",
     "text": [
      "[ParquetDataset] Dataset found at ..\\..\\dataset\n",
      "[ParquetDataset] Validating dataset integrity...\n",
      "[ParquetDataset] Dataset integrity check passed!\n",
      "Dataset loaded successfully!\n",
      "Total events: 620\n"
     ]
    }
   ],
   "source": [
    "# Define dataset path\n",
    "dataset_path = Path(\"../../dataset\")\n",
    "\n",
    "# Create and load dataset with target classes 0, 1, and 2\n",
    "ds_config = ParquetDatasetConfig(\n",
    "    path=dataset_path, \n",
    "    clean_data=True, \n",
    "    target_class=[0, 1, 2],\n",
    "    event_type=[EventPrefixEnum.REAL]\n",
    ")\n",
    "ds = ParquetDataset(ds_config)\n",
    "\n",
    "print(\"Dataset loaded successfully!\")\n",
    "print(f\"Total events: {len(ds)}\")\n"
   ]
  },
  {
   "cell_type": "markdown",
   "id": "02b59db1",
   "metadata": {},
   "source": [
    "### Load Model and Trainer Setup\n"
   ]
  },
  {
   "cell_type": "markdown",
   "id": "a3aa8a48",
   "metadata": {},
   "source": [
    "\n",
    "With the ParquetDataset instance defined, we can set the parameters for the MLP model using the MLPConfig object. These parameters will be combined with the TrainerConfig and managed through the ModelTrainer, which encapsulates the training workflow.\n",
    "\n",
    "The defined workflow controls most relevant parameters that will be used for training of a model. \n",
    "\n",
    "Finally, the ModelTrainer is instantiated with the training configuration, while the ModelAssessment object prepares the evaluation pipeline. The model architecture can be visualized by printing the `trainer.model`.\n"
   ]
  },
  {
   "cell_type": "code",
   "execution_count": 3,
   "id": "a838d48e",
   "metadata": {},
   "outputs": [
    {
     "name": "stdout",
     "output_type": "stream",
     "text": [
      "Model Architecture:\n",
      "MLP(\n",
      "  (activation_func): ReLU()\n",
      "  (model): Sequential(\n",
      "    (0): Linear(in_features=100, out_features=32, bias=True)\n",
      "    (1): ReLU()\n",
      "    (2): Linear(in_features=32, out_features=16, bias=True)\n",
      "    (3): ReLU()\n",
      "    (4): Linear(in_features=16, out_features=3, bias=True)\n",
      "  )\n",
      ")\n"
     ]
    }
   ],
   "source": [
    "# Define window size for the model\n",
    "window_size = 100\n",
    "\n",
    "# Configure the MLP model\n",
    "mlp_config = MLPConfig(\n",
    "    input_size=window_size,\n",
    "    hidden_sizes=(32, 16),\n",
    "    output_size=3,  # 3 classes\n",
    "    random_seed=11,\n",
    "    activation_function=\"relu\",\n",
    "    regularization=None,\n",
    ")\n",
    "\n",
    "# Configure the trainer\n",
    "trainer_config = TrainerConfig(\n",
    "    optimizer=\"adam\",\n",
    "    criterion=\"cross_entropy\",\n",
    "    batch_size=32,\n",
    "    epochs=20,\n",
    "    seed=11,\n",
    "    config_model=mlp_config,\n",
    "    learning_rate=0.001,\n",
    "    device=\"cuda\" if torch.cuda.is_available() else \"cpu\",\n",
    "    cross_validation=False,\n",
    "    shuffle_train=True,\n",
    ")\n",
    "\n",
    "# Configure model assessment\n",
    "assessment_config = ModelAssessmentConfig(\n",
    "    metrics=[\"balanced_accuracy\", \"precision\", \"recall\", \"f1\"],\n",
    "    task_type=TaskType.CLASSIFICATION,\n",
    "    class_names=[\"Class_0\", \"Class_1\", \"Class_2\"],\n",
    "    export_results=True,\n",
    "    generate_report=False,\n",
    ")\n",
    "\n",
    "# Initialize trainer and assessor\n",
    "trainer = ModelTrainer(trainer_config)\n",
    "assessor = ModelAssessment(assessment_config)\n",
    "\n",
    "# Display the model architecture\n",
    "print(\"Model Architecture:\")\n",
    "print(trainer.model)\n"
   ]
  },
  {
   "cell_type": "markdown",
   "id": "1f90ee17",
   "metadata": {},
   "source": [
    "### Data Preprocessing with Windowing"
   ]
  },
  {
   "cell_type": "markdown",
   "id": "e56135cc",
   "metadata": {},
   "source": [
    "The next step is to iterate over a dataset of time series events, applying a windowing function to a selected signal column, in this case `T-TPT`.\n",
    "\n",
    "All windowed segments from all events are then concatenated into a single DataFrame (dfs_final). This prepares the data for supervised training, where each row represents a windowed segment with its corresponding class label.\n"
   ]
  },
  {
   "cell_type": "code",
   "execution_count": 4,
   "id": "ac8dd9b3",
   "metadata": {},
   "outputs": [
    {
     "name": "stdout",
     "output_type": "stream",
     "text": [
      "Processing events with windowing...\n"
     ]
    },
    {
     "name": "stderr",
     "output_type": "stream",
     "text": [
      "100%|██████████| 620/620 [01:07<00:00,  9.20it/s]"
     ]
    },
    {
     "name": "stdout",
     "output_type": "stream",
     "text": [
      "Preprocessing completed!\n",
      "Total windows: 253732\n",
      "Window size: 100\n",
      "Features per window: 100\n",
      "Label distribution:\n",
      "label\n",
      "0    250021\n",
      "1      1502\n",
      "2      2209\n",
      "Name: count, dtype: int64\n"
     ]
    },
    {
     "name": "stderr",
     "output_type": "stream",
     "text": [
      "\n"
     ]
    }
   ],
   "source": [
    "# Select target columns and prepare training data with windowing\n",
    "selected_col = \"T-TPT\"\n",
    "dfs = []\n",
    "\n",
    "# Configure windowing\n",
    "wind = Windowing(WindowingConfig(\n",
    "    window=\"hann\",\n",
    "    window_size=window_size,\n",
    "    overlap=0.5,\n",
    "    pad_last_window=True\n",
    "))\n",
    "\n",
    "label_wind = Windowing(WindowingConfig(\n",
    "    window=\"boxcar\",\n",
    "    window_size=window_size,\n",
    "    overlap=0.5,\n",
    "    pad_last_window=True\n",
    "))\n",
    "\n",
    "print(\"Processing events with windowing...\")\n",
    "for event in tqdm(ds):\n",
    "    # Apply windowing to the selected column\n",
    "    windowed_signal = wind(event[\"signal\"][selected_col])\n",
    "    windowed_label = label_wind(event[\"label\"][\"class\"])\n",
    "    # Remove the window column (not needed for training)\n",
    "    windowed_signal.drop(columns=[\"win\"], inplace=True)\n",
    "    windowed_label.drop(columns=[\"win\"], inplace=True)\n",
    "    # Add the label for this event\n",
    "    windowed_signal[\"label\"] = windowed_label.mode(axis=1)[0].values#np.unique(event[\"label\"][\"class\"])[0]\n",
    "    windowed_signal[\"label\"] = windowed_signal[\"label\"].astype(int)\n",
    "    dfs.append(windowed_signal)\n",
    "    \n",
    "# Concatenate all windowed data\n",
    "dfs_final = pd.concat(dfs, ignore_index=True, axis=0)\n",
    "\n",
    "\n",
    "print(\"Preprocessing completed!\")\n",
    "print(f\"Total windows: {len(dfs_final)}\")\n",
    "print(f\"Window size: {window_size}\")\n",
    "print(f\"Features per window: {dfs_final.shape[1] - 1}\")  # -1 for label column\n",
    "print(\"Label distribution:\")\n",
    "print(dfs_final[\"label\"].value_counts().sort_index())"
   ]
  },
  {
   "cell_type": "markdown",
   "id": "0bf5c5c0",
   "metadata": {},
   "source": [
    "### Model Training"
   ]
  },
  {
   "cell_type": "markdown",
   "id": "87b6e1fe",
   "metadata": {},
   "source": [
    "\n",
    "Finally we can call the train function using the trainer object.\n"
   ]
  },
  {
   "cell_type": "code",
   "execution_count": 5,
   "id": "46cd6be8",
   "metadata": {},
   "outputs": [
    {
     "name": "stdout",
     "output_type": "stream",
     "text": [
      "Starting model training...\n",
      "Training data shape: (253732, 100)\n",
      "Training labels shape: (253732,)\n"
     ]
    },
    {
     "data": {
      "application/vnd.jupyter.widget-view+json": {
       "model_id": "7a797f0ff9b44897ae2f60882bdd7425",
       "version_major": 2,
       "version_minor": 0
      },
      "text/plain": [
       "[Pipeline] Training:   0%|          | 0/20 [00:00<?, ?epoch/s]"
      ]
     },
     "metadata": {},
     "output_type": "display_data"
    },
    {
     "name": "stdout",
     "output_type": "stream",
     "text": [
      "Training completed!\n"
     ]
    }
   ],
   "source": [
    "# Prepare training data\n",
    "x_train = dfs_final.iloc[:, :-1]  # All columns except the last one (label)\n",
    "y_train = dfs_final[\"label\"].astype(int)  # Convert labels to integers\n",
    "\n",
    "print(\"Starting model training...\")\n",
    "print(f\"Training data shape: {x_train.shape}\")\n",
    "print(f\"Training labels shape: {y_train.shape}\")\n",
    "\n",
    "# Train the MLP model using the ModelTrainer interface\n",
    "trainer.train(x_train=x_train, y_train=y_train)\n",
    "\n",
    "print(\"Training completed!\")"
   ]
  },
  {
   "cell_type": "markdown",
   "id": "3688c0ae",
   "metadata": {},
   "source": [
    "### Model Evaluation and Assessment"
   ]
  },
  {
   "cell_type": "markdown",
   "id": "e3879ae1",
   "metadata": {},
   "source": [
    "The trainer class allows direct evaluation of the trained model using the `assess` method, which returns a dictionary containing performance metrics and evaluation parameters.\n"
   ]
  },
  {
   "cell_type": "code",
   "execution_count": null,
   "id": "3ad7d5cf",
   "metadata": {},
   "outputs": [
    {
     "name": "stdout",
     "output_type": "stream",
     "text": [
      "=== Method 1: Direct Assessment using Trainer ===\n",
      "Results exported to D:\\Git\\3W\\toolkit\\output\n",
      "Model Assessment Summary\n",
      "========================\n",
      "Model: MLP\n",
      "Task Type: classification\n",
      "Timestamp: 2025-10-22T17:02:28.140331\n",
      "\n",
      "Metrics:\n",
      "  balanced_accuracy: 0.6406\n",
      "  precision: 0.9873\n",
      "  recall: 0.9932\n",
      "  f1: 0.9902\n"
     ]
    }
   ],
   "source": [
    "# Method 1: Direct assessment using trainer\n",
    "print(\"=== Method 1: Direct Assessment using Trainer ===\")\n",
    "trainer_results = trainer.assess(x_train, y_train, assessment_config)"
   ]
  },
  {
   "cell_type": "markdown",
   "id": "246a5cc3",
   "metadata": {},
   "source": [
    "**Another option, and the most recommended one, is to use the `ModelAssessment` class to perform the evaluation of the results.**\n"
   ]
  },
  {
   "cell_type": "code",
   "execution_count": 7,
   "id": "c224c709",
   "metadata": {},
   "outputs": [
    {
     "name": "stdout",
     "output_type": "stream",
     "text": [
      "\n",
      "=== Method 2: Using ModelAssessment Class (Recommended) ===\n",
      "Results exported to D:\\Git\\3W\\toolkit\\output\n",
      "Model Assessment Summary\n",
      "========================\n",
      "Model: MLP\n",
      "Task Type: classification\n",
      "Timestamp: 2025-10-22T17:02:34.273720\n",
      "\n",
      "Metrics:\n",
      "  balanced_accuracy: 0.6406\n",
      "  precision: 0.9873\n",
      "  recall: 0.9932\n",
      "  f1: 0.9902\n",
      "\n",
      "Detailed Results:\n"
     ]
    },
    {
     "data": {
      "text/plain": [
       "{'model_name': 'MLP',\n",
       " 'task_type': <TaskType.CLASSIFICATION: 'classification'>,\n",
       " 'predictions': array([0, 0, 0, ..., 2, 2, 0], dtype=int64),\n",
       " 'true_values': array([0, 0, 0, ..., 2, 2, 0]),\n",
       " 'X_test': array([[ 0.        ,  0.00071654,  0.00286333, ...,  0.00643203,\n",
       "          0.00286339,  0.00071655],\n",
       "        [ 0.        ,  0.00071655,  0.00286336, ...,  0.00643208,\n",
       "          0.00286341,  0.00071656],\n",
       "        [ 0.        ,  0.00071655,  0.00286339, ...,  0.00643214,\n",
       "          0.00286345,  0.00071657],\n",
       "        ...,\n",
       "        [-0.        , -0.00285468, -0.01140765, ..., -0.02565491,\n",
       "         -0.01142114, -0.00285815],\n",
       "        [-0.        , -0.00285712, -0.01141741, ...,  0.        ,\n",
       "          0.        ,  0.        ],\n",
       "        [-0.        , -0.00285824, -0.01142185, ...,  0.        ,\n",
       "          0.        ,  0.        ]]),\n",
       " 'metrics': {'balanced_accuracy': 0.6406269116490638,\n",
       "  'precision': 0.9872598679769613,\n",
       "  'recall': 0.9931502530228745,\n",
       "  'f1': 0.9901897755139722},\n",
       " 'config': {'metrics': ['balanced_accuracy', 'precision', 'recall', 'f1'],\n",
       "  'output_dir': WindowsPath('D:/Git/3W/toolkit/output'),\n",
       "  'export_results': True,\n",
       "  'generate_report': False,\n",
       "  'task_type': <TaskType.CLASSIFICATION: 'classification'>,\n",
       "  'batch_size': 64,\n",
       "  'device': 'cuda',\n",
       "  'report_title': None,\n",
       "  'report_author': '3W Toolkit Report'},\n",
       " 'timestamp': '2025-10-22T17:02:34.273720'}"
      ]
     },
     "execution_count": 7,
     "metadata": {},
     "output_type": "execute_result"
    }
   ],
   "source": [
    "# Method 2: Using ModelAssessment class (recommended)\n",
    "print(\"\\n=== Method 2: Using ModelAssessment Class (Recommended) ===\")\n",
    "results = assessor.evaluate(trainer.model, x_train, y_train)\n",
    "print(\"\\nDetailed Results:\")\n",
    "results"
   ]
  },
  {
   "cell_type": "code",
   "execution_count": null,
   "id": "339d5751",
   "metadata": {},
   "outputs": [
    {
     "name": "stdout",
     "output_type": "stream",
     "text": [
      "=== Model Performance Summary ===\n",
      "Model Assessment Summary\n",
      "========================\n",
      "Model: MLP\n",
      "Task Type: classification\n",
      "Timestamp: 2025-10-22T17:02:34.273720\n",
      "\n",
      "Metrics:\n",
      "  balanced_accuracy: 0.6406\n",
      "  precision: 0.9873\n",
      "  recall: 0.9932\n",
      "  f1: 0.9902\n"
     ]
    }
   ],
   "source": [
    "# Display summary metrics\n",
    "print(\"=== Model Performance Summary ===\")\n",
    "print(assessor.summary())"
   ]
  },
  {
   "cell_type": "markdown",
   "id": "5e773518",
   "metadata": {},
   "source": [
    "\n",
    "The trainer object also collects a history of validation and training loss that can be visualized after the training is completed.\n"
   ]
  },
  {
   "cell_type": "markdown",
   "id": "7e98d76e",
   "metadata": {},
   "source": [
    "### Training history visualization"
   ]
  },
  {
   "cell_type": "code",
   "execution_count": null,
   "id": "adcea378",
   "metadata": {},
   "outputs": [
    {
     "data": {
      "image/png": "[encoded data removed]",
      "text/plain": [
       "<Figure size 1200x500 with 1 Axes>"
      ]
     },
     "metadata": {},
     "output_type": "display_data"
    },
    {
     "name": "stdout",
     "output_type": "stream",
     "text": [
      "=== Final Training Statistics ===\n",
      "Final Training Loss: 0.0363\n",
      "Final Validation Loss: 0.0346\n"
     ]
    }
   ],
   "source": [
    "# Visualize training history\n",
    "plt.figure(figsize=(12, 5))\n",
    "\n",
    "# Plot training and validation loss\n",
    "plt.subplot(1, 2, 1)\n",
    "plt.plot(trainer.history[0][\"val_loss\"], label=\"Validation Loss\", marker='o')\n",
    "plt.plot(trainer.history[0][\"train_loss\"], label=\"Training Loss\", marker='s')\n",
    "plt.title(\"Training and Validation Loss\")\n",
    "plt.xlabel(\"Epoch\")\n",
    "plt.ylabel(\"Loss\")\n",
    "plt.legend()\n",
    "plt.grid(True, alpha=0.3)\n",
    "plt.tight_layout()\n",
    "plt.show()\n",
    "\n",
    "# Print final training statistics\n",
    "print(\"=== Final Training Statistics ===\")\n",
    "print(f\"Final Training Loss: {trainer.history[0]['train_loss'][-1]:.4f}\")\n",
    "print(f\"Final Validation Loss: {trainer.history[0]['val_loss'][-1]:.4f}\")"
   ]
  },
  {
   "cell_type": "markdown",
   "id": "b6c5218a",
   "metadata": {},
   "source": [
    "## Next Steps\n",
    "\n",
    "🎉 **Nice!** Now you can use the **3W Toolkit** model training and evaluation tools!\n",
    "\n",
    "### What's Next?\n",
    "\n",
    "1. **Pipeline integration and Report Generation**: Discover how to chain together all the steps of your machine learning workflow in a single, cohesive structure and to create comprehensive HTML or LaTeX reports from model evaluation results.data in [Notebook 8: Pipeline Integration](8_pipeline_integration.ipynb)\n",
    "---"
   ]
  },
  {
   "cell_type": "markdown",
   "id": "752e421e",
   "metadata": {},
   "source": [
    "---\n",
    "\n",
    "**📚 Tutorial Navigation:**\n",
    "- **Previous**: [6. Data Visualization](6_data_visualization.ipynb)\n",
    "- **Next**: [8. Pipeline Integration](8_pipeline_integration.ipynb)\n",
    "\n",
    "**🔗 Additional Resources:**\n",
    "- [3W Project Repository](https://github.com/petrobras/3W)\n",
    "- [3W Dataset on Figshare](https://figshare.com/projects/3W_Dataset/251195)\n"
   ]
  }
 ],
 "metadata": {
  "kernelspec": {
   "display_name": "Python 3",
   "language": "python",
   "name": "python3"
  },
  "language_info": {
   "codemirror_mode": {
    "name": "ipython",
    "version": 3
   },
   "file_extension": ".py",
   "mimetype": "text/x-python",
   "name": "python",
   "nbconvert_exporter": "python",
   "pygments_lexer": "ipython3",
   "version": "3.10.11"
  }
 },
 "nbformat": 4,
 "nbformat_minor": 5
}
