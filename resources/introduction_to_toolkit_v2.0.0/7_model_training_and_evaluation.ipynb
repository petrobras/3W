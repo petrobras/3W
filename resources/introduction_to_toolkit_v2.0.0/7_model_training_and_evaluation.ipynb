{
 "cells": [
  {
   "cell_type": "markdown",
   "id": "6bab0cac",
   "metadata": {},
   "source": [
    "# 7. 🤖 Model Training and Evaluation"
   ]
  },
  {
   "cell_type": "markdown",
   "id": "52d3632d",
   "metadata": {},
   "source": [
    "\n",
    "\n",
    "This notebook demonstrates how to train and evaluate machine learning models using the 3WToolkit. We will cover a complete workflow from data preparation to model assessment, including:\n",
    "\n",
    "- Loading and preprocessing the 3W dataset\n",
    "- Training MLP models with different configurations\n",
    "- Evaluating model performance using various metrics\n",
    "- Visualizing training history and results\n",
    "\n",
    "## Learning Objectives\n",
    "\n",
    "By the end of this notebook, you will be able to:\n",
    "- Configure and train MLP models using the 3WToolkit\n",
    "- Evaluate model performance using comprehensive metrics\n",
    "- Visualize training progress and model predictions\n",
    "- Understand the complete model training workflow\n"
   ]
  },
  {
   "cell_type": "markdown",
   "id": "56f3c221",
   "metadata": {},
   "source": [
    "## Required Imports"
   ]
  },
  {
   "cell_type": "code",
   "execution_count": 1,
   "id": "437797a7",
   "metadata": {},
   "outputs": [],
   "source": [
    "import numpy as np\n",
    "import pandas as pd\n",
    "import matplotlib.pyplot as plt\n",
    "import torch\n",
    "\n",
    "from tqdm import tqdm\n",
    "from pathlib import Path\n",
    "\n",
    "from ThreeWToolkit.preprocessing import Windowing\n",
    "from ThreeWToolkit.core.base_preprocessing import WindowingConfig\n",
    "from ThreeWToolkit.trainer.trainer import ModelTrainer, TrainerConfig\n",
    "from ThreeWToolkit.models.mlp import MLPConfig\n",
    "from ThreeWToolkit.dataset import ParquetDataset\n",
    "from ThreeWToolkit.core.base_dataset import ParquetDatasetConfig\n",
    "from ThreeWToolkit.core.base_assessment import ModelAssessmentConfig\n",
    "from ThreeWToolkit.assessment.model_assess import ModelAssessment\n",
    "from ThreeWToolkit.core.enums import TaskType\n"
   ]
  },
  {
   "cell_type": "markdown",
   "id": "65e51677",
   "metadata": {},
   "source": [
    "### 1. Load Dataset"
   ]
  },
  {
   "cell_type": "markdown",
   "id": "d624e924",
   "metadata": {},
   "source": [
    "Let's create a ParquetDataset that loads cleaned data with target classes 0, 1, and 2"
   ]
  },
  {
   "cell_type": "code",
   "execution_count": 2,
   "id": "d3b343f1",
   "metadata": {},
   "outputs": [
    {
     "name": "stdout",
     "output_type": "stream",
     "text": [
      "[ParquetDataset] Dataset found at ../../dataset\n",
      "[ParquetDataset] Validating dataset integrity...\n",
      "[ParquetDataset] Dataset integrity check passed!\n",
      "Dataset loaded successfully!\n",
      "Total events: 760\n"
     ]
    }
   ],
   "source": [
    "# Define dataset path\n",
    "dataset_path = Path(\"../../dataset\")\n",
    "\n",
    "# Create and load dataset with target classes 0, 1, and 2\n",
    "ds_config = ParquetDatasetConfig(\n",
    "    path=dataset_path, \n",
    "    clean_data=True, \n",
    "    target_class=[0, 1, 2]\n",
    ")\n",
    "ds = ParquetDataset(ds_config)\n",
    "\n",
    "print(\"Dataset loaded successfully!\")\n",
    "print(f\"Total events: {len(ds)}\")\n"
   ]
  },
  {
   "cell_type": "markdown",
   "id": "02b59db1",
   "metadata": {},
   "source": [
    "### 2. Load Model and Trainer Setup\n"
   ]
  },
  {
   "cell_type": "markdown",
   "id": "a3aa8a48",
   "metadata": {},
   "source": [
    "\n",
    "**II. Instantiating configuration classes for the MLP model, Training parameters, and Evaluation parameters.**\n",
    "\n",
    "With the ParquetDataset instance defined, we can set the parameters for the MLP model using the MLPConfig object. These parameters will be combined with the TrainerConfig and managed through the ModelTrainer, which encapsulates the training workflow.\n",
    "\n",
    "The defined workflow controls most relevant parameters that will be used for training of a model. \n",
    "\n",
    "Finally, the ModelTrainer is instantiated with the training configuration, while the ModelAssessment object prepares the evaluation pipeline. The model architecture can be visualized by printing the `trainer.model`.\n"
   ]
  },
  {
   "cell_type": "code",
   "execution_count": 3,
   "id": "a838d48e",
   "metadata": {},
   "outputs": [
    {
     "name": "stdout",
     "output_type": "stream",
     "text": [
      "Model Architecture:\n",
      "MLP(\n",
      "  (activation_func): ReLU()\n",
      "  (model): Sequential(\n",
      "    (0): Linear(in_features=100, out_features=32, bias=True)\n",
      "    (1): ReLU()\n",
      "    (2): Linear(in_features=32, out_features=16, bias=True)\n",
      "    (3): ReLU()\n",
      "    (4): Linear(in_features=16, out_features=3, bias=True)\n",
      "  )\n",
      ")\n"
     ]
    }
   ],
   "source": [
    "# Define window size for the model\n",
    "window_size = 100\n",
    "\n",
    "# Configure the MLP model\n",
    "mlp_config = MLPConfig(\n",
    "    input_size=window_size,\n",
    "    hidden_sizes=(32, 16),\n",
    "    output_size=3,  # 3 classes\n",
    "    random_seed=11,\n",
    "    activation_function=\"relu\",\n",
    "    regularization=None,\n",
    ")\n",
    "\n",
    "# Configure the trainer\n",
    "trainer_config = TrainerConfig(\n",
    "    optimizer=\"adam\",\n",
    "    criterion=\"cross_entropy\",\n",
    "    batch_size=32,\n",
    "    epochs=20,\n",
    "    seed=11,\n",
    "    config_model=mlp_config,\n",
    "    learning_rate=0.001,\n",
    "    device=\"cuda\" if torch.cuda.is_available() else \"cpu\",\n",
    "    cross_validation=False,\n",
    "    shuffle_train=True,\n",
    ")\n",
    "\n",
    "# Configure model assessment\n",
    "assessment_config = ModelAssessmentConfig(\n",
    "    metrics=[\"balanced_accuracy\", \"precision\", \"recall\", \"f1\"],\n",
    "    task_type=TaskType.CLASSIFICATION,\n",
    "    class_names=[\"Class_0\", \"Class_1\", \"Class_2\"],\n",
    "    export_results=True,\n",
    "    generate_report=False,\n",
    ")\n",
    "\n",
    "# Initialize trainer and assessor\n",
    "trainer = ModelTrainer(trainer_config)\n",
    "assessor = ModelAssessment(assessment_config)\n",
    "\n",
    "# Display the model architecture\n",
    "print(\"Model Architecture:\")\n",
    "print(trainer.model)\n"
   ]
  },
  {
   "cell_type": "markdown",
   "id": "1f90ee17",
   "metadata": {},
   "source": [
    "### 3. Data Preprocessing with Windowing"
   ]
  },
  {
   "cell_type": "markdown",
   "id": "e56135cc",
   "metadata": {},
   "source": [
    "The next step is to iterate over a dataset of time series events, applying a windowing function to a selected signal column, in this case `T-TPT`.\n",
    "\n",
    "All windowed segments from all events are then concatenated into a single DataFrame (dfs_final). This prepares the data for supervised training, where each row represents a windowed segment with its corresponding class label.\n"
   ]
  },
  {
   "cell_type": "code",
   "execution_count": 4,
   "id": "ac8dd9b3",
   "metadata": {},
   "outputs": [
    {
     "name": "stdout",
     "output_type": "stream",
     "text": [
      "Processing events with windowing...\n"
     ]
    },
    {
     "name": "stderr",
     "output_type": "stream",
     "text": [
      "100%|██████████| 760/760 [00:25<00:00, 29.95it/s]\n"
     ]
    },
    {
     "name": "stdout",
     "output_type": "stream",
     "text": [
      "Preprocessing completed!\n",
      "Total windows: 440356\n",
      "Window size: 100\n",
      "Features per window: 100\n",
      "Label distribution:\n",
      "label\n",
      "0    243441\n",
      "1    182146\n",
      "2     14769\n",
      "Name: count, dtype: int64\n"
     ]
    }
   ],
   "source": [
    "# Select target columns and prepare training data with windowing\n",
    "selected_col = \"T-TPT\"\n",
    "dfs = []\n",
    "\n",
    "# Configure windowing\n",
    "wind = Windowing(WindowingConfig(\n",
    "    window=\"hann\",\n",
    "    window_size=window_size,\n",
    "    overlap=0.5,\n",
    "    pad_last_window=True\n",
    "))\n",
    "\n",
    "print(\"Processing events with windowing...\")\n",
    "for event in tqdm(ds):\n",
    "    # Apply windowing to the selected column\n",
    "    windowed_signal = wind(event[\"signal\"][selected_col])\n",
    "    # Remove the window column (not needed for training)\n",
    "    windowed_signal.drop(columns=[\"win\"], inplace=True)\n",
    "    # Add the label for this event\n",
    "    windowed_signal[\"label\"] = np.unique(event[\"label\"][\"class\"])[0]\n",
    "    dfs.append(windowed_signal)\n",
    "# Concatenate all windowed data\n",
    "dfs_final = pd.concat(dfs, ignore_index=True, axis=0)\n",
    "\n",
    "\n",
    "print(\"Preprocessing completed!\")\n",
    "print(f\"Total windows: {len(dfs_final)}\")\n",
    "print(f\"Window size: {window_size}\")\n",
    "print(f\"Features per window: {dfs_final.shape[1] - 1}\")  # -1 for label column\n",
    "print(\"Label distribution:\")\n",
    "print(dfs_final[\"label\"].value_counts().sort_index())\n"
   ]
  },
  {
   "cell_type": "markdown",
   "id": "0bf5c5c0",
   "metadata": {},
   "source": [
    "### 4. Model Training"
   ]
  },
  {
   "cell_type": "markdown",
   "id": "87b6e1fe",
   "metadata": {},
   "source": [
    "\n",
    "Finally we can call the train function using the trainer object.\n"
   ]
  },
  {
   "cell_type": "code",
   "execution_count": 5,
   "id": "46cd6be8",
   "metadata": {},
   "outputs": [
    {
     "name": "stdout",
     "output_type": "stream",
     "text": [
      "Starting model training...\n",
      "Training data shape: (440356, 100)\n",
      "Training labels shape: (440356,)\n"
     ]
    },
    {
     "data": {
      "application/vnd.jupyter.widget-view+json": {
       "model_id": "8ae54739d0e841baa5a71a274578c61e",
       "version_major": 2,
       "version_minor": 0
      },
      "text/plain": [
       "[Pipeline] Training:   0%|          | 0/20 [00:00<?, ?epoch/s]"
      ]
     },
     "metadata": {},
     "output_type": "display_data"
    },
    {
     "name": "stdout",
     "output_type": "stream",
     "text": [
      "Training completed!\n"
     ]
    }
   ],
   "source": [
    "# Prepare training data\n",
    "x_train = dfs_final.iloc[:, :-1]  # All columns except the last one (label)\n",
    "y_train = dfs_final[\"label\"].astype(int)  # Convert labels to integers\n",
    "\n",
    "print(\"Starting model training...\")\n",
    "print(f\"Training data shape: {x_train.shape}\")\n",
    "print(f\"Training labels shape: {y_train.shape}\")\n",
    "\n",
    "# Train the MLP model using the ModelTrainer interface\n",
    "trainer.train(x_train=x_train, y_train=y_train)\n",
    "\n",
    "print(\"Training completed!\")\n"
   ]
  },
  {
   "cell_type": "markdown",
   "id": "3688c0ae",
   "metadata": {},
   "source": [
    "### 5. Model Evaluation and Assessment"
   ]
  },
  {
   "cell_type": "markdown",
   "id": "e3879ae1",
   "metadata": {},
   "source": [
    "The trainer class allows direct evaluation of the trained model using the `assess` method, which returns a dictionary containing performance metrics and evaluation parameters.\n"
   ]
  },
  {
   "cell_type": "code",
   "execution_count": 6,
   "id": "3ad7d5cf",
   "metadata": {},
   "outputs": [
    {
     "name": "stdout",
     "output_type": "stream",
     "text": [
      "=== Method 1: Direct Assessment using Trainer ===\n",
      "Results exported to /home/rafael/pos-doc/repos/3W/toolkit/output\n",
      "Model Assessment Summary\n",
      "========================\n",
      "Model: MLP\n",
      "Task Type: TaskType.CLASSIFICATION\n",
      "Timestamp: 2025-10-15T19:40:01.565880\n",
      "\n",
      "Metrics:\n",
      "  balanced_accuracy: 0.9453\n",
      "  precision: 0.9631\n",
      "  recall: 0.9615\n",
      "  f1: 0.9613\n"
     ]
    }
   ],
   "source": [
    "# Method 1: Direct assessment using trainer\n",
    "print(\"=== Method 1: Direct Assessment using Trainer ===\")\n",
    "trainer_results = trainer.assess(x_train, y_train, assessment_config)\n"
   ]
  },
  {
   "cell_type": "markdown",
   "id": "246a5cc3",
   "metadata": {},
   "source": [
    "**Another option, and the most recommended one, is to use the `ModelAssessment` class to perform the evaluation of the results.**\n"
   ]
  },
  {
   "cell_type": "code",
   "execution_count": 7,
   "id": "c224c709",
   "metadata": {},
   "outputs": [
    {
     "name": "stdout",
     "output_type": "stream",
     "text": [
      "\n",
      "=== Method 2: Using ModelAssessment Class (Recommended) ===\n",
      "Results exported to /home/rafael/pos-doc/repos/3W/toolkit/output\n",
      "Model Assessment Summary\n",
      "========================\n",
      "Model: MLP\n",
      "Task Type: TaskType.CLASSIFICATION\n",
      "Timestamp: 2025-10-15T19:40:05.856414\n",
      "\n",
      "Metrics:\n",
      "  balanced_accuracy: 0.9453\n",
      "  precision: 0.9631\n",
      "  recall: 0.9615\n",
      "  f1: 0.9613\n",
      "\n",
      "Detailed Results:\n",
      "{'model_name': 'MLP', 'task_type': <TaskType.CLASSIFICATION: 'classification'>, 'predictions': array([2, 2, 2, ..., 0, 0, 0], shape=(440356,)), 'true_values': array([2, 2, 2, ..., 0, 0, 0], shape=(440356,)), 'X_test': array([[0.        , 0.00051192, 0.00204574, ..., 0.00459149, 0.00204418,\n",
      "        0.00051159],\n",
      "       [0.        , 0.00051175, 0.0020449 , ..., 0.00458746, 0.00204227,\n",
      "        0.00051108],\n",
      "       [0.        , 0.00051167, 0.00204482, ..., 0.00459149, 0.00204405,\n",
      "        0.00051153],\n",
      "       ...,\n",
      "       [0.        , 0.000307  , 0.00122664, ..., 0.00274646, 0.00122265,\n",
      "        0.00030596],\n",
      "       [0.        , 0.00030587, 0.00122227, ..., 0.        , 0.        ,\n",
      "        0.        ],\n",
      "       [0.        , 0.00030595, 0.00122257, ..., 0.        , 0.        ,\n",
      "        0.        ]], shape=(440356, 100)), 'metrics': {'balanced_accuracy': 0.9453199975765365, 'precision': 0.9630749195086606, 'recall': 0.9615106868079463, 'f1': 0.9612640580982365}, 'config': {'metrics': ['balanced_accuracy', 'precision', 'recall', 'f1'], 'output_dir': PosixPath('/home/rafael/pos-doc/repos/3W/toolkit/output'), 'export_results': True, 'generate_report': False, 'task_type': <TaskType.CLASSIFICATION: 'classification'>, 'batch_size': 64, 'device': 'cuda', 'report_title': None, 'report_author': '3W Toolkit Report'}, 'timestamp': '2025-10-15T19:40:05.856414'}\n"
     ]
    }
   ],
   "source": [
    "# Method 2: Using ModelAssessment class (recommended)\n",
    "print(\"\\n=== Method 2: Using ModelAssessment Class (Recommended) ===\")\n",
    "results = assessor.evaluate(trainer.model, x_train, y_train)\n",
    "print(\"\\nDetailed Results:\")\n",
    "print(results)\n"
   ]
  },
  {
   "cell_type": "code",
   "execution_count": 8,
   "id": "339d5751",
   "metadata": {},
   "outputs": [
    {
     "name": "stdout",
     "output_type": "stream",
     "text": [
      "=== Model Performance Summary ===\n",
      "Model Assessment Summary\n",
      "========================\n",
      "Model: MLP\n",
      "Task Type: TaskType.CLASSIFICATION\n",
      "Timestamp: 2025-10-15T19:40:05.856414\n",
      "\n",
      "Metrics:\n",
      "  balanced_accuracy: 0.9453\n",
      "  precision: 0.9631\n",
      "  recall: 0.9615\n",
      "  f1: 0.9613\n"
     ]
    }
   ],
   "source": [
    "# Display summary metrics\n",
    "print(\"=== Model Performance Summary ===\")\n",
    "print(assessor.summary())\n"
   ]
  },
  {
   "cell_type": "markdown",
   "id": "5e773518",
   "metadata": {},
   "source": [
    "\n",
    "The trainer object also collects a history of validation and training loss that can be visualized after the training is completed.\n"
   ]
  },
  {
   "cell_type": "markdown",
   "id": "7e98d76e",
   "metadata": {},
   "source": [
    "### 6. Training History Visualization"
   ]
  },
  {
   "cell_type": "code",
   "execution_count": 9,
   "id": "adcea378",
   "metadata": {},
   "outputs": [
    {
     "data": {
      "image/png": "[encoded data removed]",
      "text/plain": [
       "<Figure size 1200x500 with 1 Axes>"
      ]
     },
     "metadata": {},
     "output_type": "display_data"
    },
    {
     "name": "stdout",
     "output_type": "stream",
     "text": [
      "=== Final Training Statistics ===\n",
      "Final Training Loss: 0.1401\n",
      "Final Validation Loss: 0.1380\n"
     ]
    }
   ],
   "source": [
    "# Visualize training history\n",
    "plt.figure(figsize=(12, 5))\n",
    "\n",
    "# Plot training and validation loss\n",
    "plt.subplot(1, 2, 1)\n",
    "plt.plot(trainer.history[0][\"val_loss\"], label=\"Validation Loss\", marker='o')\n",
    "plt.plot(trainer.history[0][\"train_loss\"], label=\"Training Loss\", marker='s')\n",
    "plt.title(\"Training and Validation Loss\")\n",
    "plt.xlabel(\"Epoch\")\n",
    "plt.ylabel(\"Loss\")\n",
    "plt.legend()\n",
    "plt.grid(True, alpha=0.3)\n",
    "plt.tight_layout()\n",
    "plt.show()\n",
    "\n",
    "# Print final training statistics\n",
    "print(\"=== Final Training Statistics ===\")\n",
    "print(f\"Final Training Loss: {trainer.history[0]['train_loss'][-1]:.4f}\")\n",
    "print(f\"Final Validation Loss: {trainer.history[0]['val_loss'][-1]:.4f}\")\n"
   ]
  }
 ],
 "metadata": {
  "kernelspec": {
   "display_name": ".venv",
   "language": "python",
   "name": "python3"
  },
  "language_info": {
   "codemirror_mode": {
    "name": "ipython",
    "version": 3
   },
   "file_extension": ".py",
   "mimetype": "text/x-python",
   "name": "python",
   "nbconvert_exporter": "python",
   "pygments_lexer": "ipython3",
   "version": "3.13.3"
  }
 },
 "nbformat": 4,
 "nbformat_minor": 5
}
