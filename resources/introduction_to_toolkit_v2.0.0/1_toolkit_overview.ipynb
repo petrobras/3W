{
 "cells": [
  {
   "cell_type": "markdown",
   "id": "4c1389de-ad25-4708-a4bb-a970e45032cb",
   "metadata": {},
   "source": [
    "---\n",
    "**📚 Tutorial Index:**\n",
    "\n",
    "1. [Toolkit Overview](1_toolkit_overview.ipynb) (you are here)\n",
    "2. [Installation Guide](2_installation.ipynb)\n",
    "3. [Dataset Download](3_download_dataset.ipynb)\n",
    "4. [Preprocessing](4_preprocessing.ipynb)\n",
    "5. [Feature Extraction](5_feature_extraction.ipynb)\n",
    "6. [Data Visualization](6_data_visualization.ipynb)\n",
    "7. [Model Training and Evaluation](7_model_training_and_evaluation.ipynb)\n",
    "8. [Pipeline Integration](8_pipeline_integration.ipynb)"
   ]
  },
  {
   "cell_type": "markdown",
   "id": "9fd80803-d1ec-4375-9a6c-ad449011a0ad",
   "metadata": {},
   "source": [
    "# 1. Toolkit overview\n",
    "\n",
    "**Getting Started with 3WToolkit v2.0.0**\n",
    "\n",
    "## 📋 Table of Contents\n",
    "1. [Introduction](#Introduction)\n",
    "2. [Modular Architecture](#Modular-architecture)\n",
    "3. [Key features](#Key-features)\n",
    "---"
   ]
  },
  {
   "cell_type": "markdown",
   "id": "24550b66-4e7f-4620-90db-45e928e6af44",
   "metadata": {},
   "source": [
    "## Introduction\n",
    "\n",
    "Welcome to the comprehensive tutorial series for the **3WToolkit v2.0.0**! This collection of Jupyter notebooks provides a step-by-step guide to understanding and using the toolkit's powerful features for time-series analysis, fault detection, and machine learning applications targeting not only the 3W Toolkit for oil well operations, but also for machine learning tasks in general.\n",
    "\n",
    "As we'll see, the **3WToolkit v2.0.0** offers functionality for most common tasks:\n",
    "- Dataset handling\n",
    "- Data Preprocessing\n",
    "- Feature Extraction\n",
    "- Visualization\n",
    "- Model training\n",
    "- Model assessment\n",
    "\n",
    "The toolkit is designed to facilitate implementation, evaluation and comparison between models!"
   ]
  },
  {
   "cell_type": "markdown",
   "id": "5c91171b-7e07-4524-917d-dbc0c82cc14b",
   "metadata": {},
   "source": [
    "## Modular Architecture\n",
    "\n",
    "The functionalities of the **3WToolkit v2.0.0** are split in two layers, Application and Core.\n",
    "\n",
    "For each *application* class to be instantiated, a corresponding *configuration* class exists, to be passed to the constructor.\n",
    "All the configuration classes validate that the arguments passed to it are present, if needed, and do not have inconsistencies.\n",
    "\n",
    "A brief overview of the implemented tools:\n",
    "![Main Classes](assets/main_classes.png)\n",
    "\n",
    "While all the classes can be used *standalone*, the true power of this toolkit is the possibility to integrate all steps needed for a particular task through the `Pipeline`, as we shall see later."
   ]
  },
  {
   "cell_type": "markdown",
   "id": "c547b5f6-0812-4c3e-bf99-4b8c4f52f472",
   "metadata": {},
   "source": [
    "## Key features\n",
    "- Straightforward installation and usage\n",
    "- Automated downloading and verification of the 3W Dataset\n",
    "- Sensible data cleanup procedure\n",
    "- Pre-processing steps included\n",
    "- Feature Extraction modules included\n",
    "- Data visualization tools\n",
    "- Integration with Scikit-Learn for model training\n",
    "- Pipeline for end-to-end model training\n",
    "- Automated report generation (HTML or $\\LaTeX$)\n",
    "- Customizable and Expansible!"
   ]
  },
  {
   "cell_type": "markdown",
   "id": "f93d28de-db57-476f-b016-b64ea2e694a5",
   "metadata": {},
   "source": [
    "---\n",
    "\n",
    "**📚 Tutorial Navigation:**\n",
    "- **Next**: [2. Installation Guide](2_installation.ipynb)\n",
    "\n",
    "**🔗 Additional Resources:**\n",
    "- [3W Project Repository](https://github.com/petrobras/3W)\n",
    "- [3W Dataset on Figshare](https://figshare.com/projects/3W_Dataset/251195)\n",
    "- [Workshop Registration](https://forms.gle/cmLa2u4VaXd1T7qp8)"
   ]
  }
 ],
 "metadata": {
  "kernelspec": {
   "display_name": "Python 3 (ipykernel)",
   "language": "python",
   "name": "python3"
  },
  "language_info": {
   "codemirror_mode": {
    "name": "ipython",
    "version": 3
   },
   "file_extension": ".py",
   "mimetype": "text/x-python",
   "name": "python",
   "nbconvert_exporter": "python",
   "pygments_lexer": "ipython3",
   "version": "3.13.3"
  }
 },
 "nbformat": 4,
 "nbformat_minor": 5
}
