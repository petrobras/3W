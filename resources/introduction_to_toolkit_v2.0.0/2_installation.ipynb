{
 "cells": [
  {
   "cell_type": "markdown",
   "id": "e3ea94b3",
   "metadata": {},
   "source": [
    "# 2. Installation Guide\n",
    "\n",
    "**Setting Up Your Development Environment**\n",
    "\n",
    "This notebook provides comprehensive instructions for installing the **3WToolkit v2.0.0** using different package managers and methods. We'll cover installation via `conda`, `pip`, and `uv` package managers.\n",
    "\n",
    "## 📋 Table of Contents\n",
    "\n",
    "1. [Prerequisites](#prerequisites)\n",
    "2. [Method 1: Installation with Conda](#method-1-installation-with-conda)\n",
    "3. [Method 2: Installation with pip](#method-2-installation-with-pip)\n",
    "4. [Method 3: Installation with uv](#method-3-installation-with-uv)\n",
    "5. [Verification](#verification)\n",
    "6. [Troubleshooting](#troubleshooting)\n",
    "\n",
    "---"
   ]
  },
  {
   "cell_type": "markdown",
   "id": "ae63af42",
   "metadata": {},
   "source": [
    "## Prerequisites\n",
    "\n",
    "Before installing the 3WToolkit, ensure you have the following:\n",
    "\n",
    "### System Requirements\n",
    "- **Python**: Version 3.10.11 (required)\n",
    "- **Operating System**: Windows, macOS, or Linux\n",
    "- **Memory**: At least 4GB RAM (8GB recommended)\n",
    "- **Storage**: At least 2GB free space for the toolkit and dependencies\n",
    "\n",
    "### Package Manager Options\n",
    "Choose one of the following package managers:\n",
    "\n",
    "1. **Conda** (recommended for beginners)\n",
    "2. **pip** (standard Python package manager)\n",
    "3. **uv** (fast, modern Python package manager)\n",
    "\n",
    "### Key Dependencies\n",
    "The 3WToolkit requires several scientific computing libraries:\n",
    "- NumPy, SciPy, Pandas (data manipulation)\n",
    "- Scikit-learn (machine learning)\n",
    "- Matplotlib, Seaborn, Plotly (visualization)\n",
    "- PyTorch (deep learning)\n",
    "- PyWavelets (wavelet analysis)\n",
    "- And many more...\n"
   ]
  },
  {
   "cell_type": "markdown",
   "id": "4b60e821",
   "metadata": {},
   "source": [
    "---\n"
   ]
  },
  {
   "cell_type": "markdown",
   "id": "9491c5c7",
   "metadata": {},
   "source": [
    "## Method 1: Installation with Conda\n",
    "\n",
    "**Conda** is the recommended installation method as it handles dependencies automatically and provides better environment isolation.\n",
    "\n",
    "### Step 1: Install Miniforge (if not already installed)\n",
    "\n",
    "We recommend using **Miniforge** instead of Anaconda for better performance and compatibility:\n",
    "\n",
    "1. Download Miniforge from: https://github.com/conda-forge/miniforge\n",
    "2. Follow the installation instructions for your operating system\n",
    "3. Verify installation by opening a terminal and running:\n",
    "\n",
    "```bash\n",
    "conda --version\n",
    "```\n"
   ]
  },
  {
   "cell_type": "code",
   "execution_count": null,
   "id": "71c6d9e9",
   "metadata": {},
   "outputs": [],
   "source": [
    "# Check if conda is available (run this in terminal, not in notebook)\n",
    "# !conda --version\n"
   ]
  },
  {
   "cell_type": "markdown",
   "id": "8c45ae29",
   "metadata": {},
   "source": [
    "### Step 2: Create Environment from environment.yml\n",
    "\n",
    "The project includes an `environment.yml` file that specifies all required dependencies. This is the **easiest and most reliable** method:\n"
   ]
  },
  {
   "cell_type": "code",
   "execution_count": null,
   "id": "3354f416",
   "metadata": {},
   "outputs": [],
   "source": [
    "# Navigate to the project directory and create the environment\n",
    "# Run these commands in your terminal:\n",
    "\n",
    "# 1. Clone the repository (if you haven't already)\n",
    "# git clone https://github.com/petrobras/3W.git\n",
    "# cd 3W\n",
    "\n",
    "# 2. Create environment from environment.yml\n",
    "# conda env create -f environment.yml\n",
    "\n",
    "# 3. Activate the environment\n",
    "# conda activate 3W\n",
    "\n",
    "print(\"Run the above commands in your terminal to set up the conda environment\")\n"
   ]
  },
  {
   "cell_type": "markdown",
   "id": "fa25e7aa",
   "metadata": {},
   "source": [
    "### Step 3: Install 3WToolkit in Development Mode\n",
    "\n",
    "After creating and activating the conda environment, install the toolkit in development mode:\n"
   ]
  },
  {
   "cell_type": "code",
   "execution_count": null,
   "id": "e3e0b112",
   "metadata": {},
   "outputs": [],
   "source": [
    "# Install the toolkit in development mode\n",
    "# Run this in your terminal after activating the conda environment:\n",
    "\n",
    "# pip install -e .\n",
    "\n",
    "print(\"Run 'pip install -e .' in your terminal to install the toolkit in development mode\")\n"
   ]
  },
  {
   "cell_type": "markdown",
   "id": "d8ec5468",
   "metadata": {},
   "source": [
    "### Alternative: Manual Conda Installation\n",
    "\n",
    "If you prefer to create the environment manually:\n"
   ]
  },
  {
   "cell_type": "code",
   "execution_count": null,
   "id": "576162e1",
   "metadata": {},
   "outputs": [],
   "source": [
    "# Manual conda environment creation\n",
    "# Run these commands in your terminal:\n",
    "\n",
    "# 1. Create a new environment with Python 3.10\n",
    "# conda create -n 3w python=3.10 -y\n",
    "\n",
    "# 2. Activate the environment\n",
    "# conda activate 3w\n",
    "\n",
    "# 3. Install core dependencies\n",
    "# conda install -c conda-forge numpy scipy pandas scikit-learn matplotlib seaborn plotly -y\n",
    "# conda install -c conda-forge pytorch torchvision torchaudio -y\n",
    "# conda install -c conda-forge pywavelets pyarrow -y\n",
    "\n",
    "# 4. Install additional dependencies\n",
    "# pip install imbalanced-learn pydantic pytest black mypy ruff\n",
    "\n",
    "print(\"Manual installation commands shown above\")\n"
   ]
  },
  {
   "cell_type": "markdown",
   "id": "3a29b7ad",
   "metadata": {},
   "source": [
    "---\n"
   ]
  },
  {
   "cell_type": "markdown",
   "id": "2388dab2",
   "metadata": {},
   "source": [
    "## Method 2: Installation with pip\n",
    "\n",
    "**pip** is the standard Python package manager. This method is suitable if you already have a Python environment set up.\n",
    "\n",
    "### Step 1: Set Up Python Virtual Environment\n",
    "\n",
    "It's recommended to use a virtual environment to avoid conflicts with other projects:\n"
   ]
  },
  {
   "cell_type": "code",
   "execution_count": null,
   "id": "1de5c097",
   "metadata": {},
   "outputs": [],
   "source": [
    "# Create and activate a virtual environment\n",
    "# Run these commands in your terminal:\n",
    "\n",
    "# 1. Create virtual environment\n",
    "# python -m venv 3w_env\n",
    "\n",
    "# 2. Activate the environment\n",
    "# On Windows:\n",
    "# 3w_env\\Scripts\\activate\n",
    "# On macOS/Linux:\n",
    "# source 3w_env/bin/activate\n",
    "\n",
    "# 3. Upgrade pip\n",
    "# python -m pip install --upgrade pip\n",
    "\n",
    "print(\"Virtual environment setup commands shown above\")\n"
   ]
  },
  {
   "cell_type": "markdown",
   "id": "224f55b0",
   "metadata": {},
   "source": [
    "### Step 2: Install from GitHub Repository\n",
    "\n",
    "Install the toolkit directly from the GitHub repository:\n"
   ]
  },
  {
   "cell_type": "code",
   "execution_count": null,
   "id": "36bdcc95",
   "metadata": {},
   "outputs": [],
   "source": [
    "# Install directly from GitHub\n",
    "# Run this in your terminal after activating the virtual environment:\n",
    "\n",
    "# pip install git+https://github.com/petrobras/3W.git\n",
    "\n",
    "print(\"Run 'pip install git+https://github.com/petrobras/3W.git' to install from GitHub\")\n"
   ]
  },
  {
   "cell_type": "markdown",
   "id": "66dee9f8",
   "metadata": {},
   "source": [
    "### Step 3: Install in Development Mode (Recommended)\n",
    "\n",
    "If you plan to modify the toolkit or contribute to the project, install in development mode:\n"
   ]
  },
  {
   "cell_type": "code",
   "execution_count": null,
   "id": "f2862aa8",
   "metadata": {},
   "outputs": [],
   "source": [
    "# Development installation\n",
    "# Run these commands in your terminal:\n",
    "\n",
    "# 1. Clone the repository\n",
    "# git clone https://github.com/petrobras/3W.git\n",
    "# cd 3W\n",
    "\n",
    "# 2. Install in development mode\n",
    "# pip install -e .\n",
    "\n",
    "# 3. Install development dependencies\n",
    "# pip install -e .[dev]\n",
    "\n",
    "print(\"Development installation commands shown above\")\n"
   ]
  },
  {
   "cell_type": "markdown",
   "id": "b0f95242",
   "metadata": {},
   "source": [
    "---\n"
   ]
  },
  {
   "cell_type": "markdown",
   "id": "92196ded",
   "metadata": {},
   "source": [
    "## Method 3: Installation with uv\n",
    "\n",
    "**uv** is a fast, modern Python package manager written in Rust. It's significantly faster than pip and handles dependencies more efficiently.\n",
    "\n",
    "### Step 1: Install uv\n",
    "\n",
    "Install uv using one of the following methods:\n"
   ]
  },
  {
   "cell_type": "code",
   "execution_count": null,
   "id": "1d3f715b",
   "metadata": {},
   "outputs": [],
   "source": [
    "# Install uv\n",
    "# Run one of these commands in your terminal:\n",
    "\n",
    "# Option 1: Using pip\n",
    "# pip install uv\n",
    "\n",
    "# Option 2: Using curl (Linux/macOS)\n",
    "# curl -LsSf https://astral.sh/uv/install.sh | sh\n",
    "\n",
    "# Option 3: Using PowerShell (Windows)\n",
    "# powershell -c \"irm https://astral.sh/uv/install.ps1 | iex\"\n",
    "\n",
    "# Verify installation\n",
    "# uv --version\n",
    "\n",
    "print(\"uv installation commands shown above\")\n"
   ]
  },
  {
   "cell_type": "markdown",
   "id": "46458a23",
   "metadata": {},
   "source": [
    "### Step 2: Create Project with uv\n",
    "\n",
    "uv can manage the entire project environment:\n"
   ]
  },
  {
   "cell_type": "code",
   "execution_count": null,
   "id": "5b05f397",
   "metadata": {},
   "outputs": [],
   "source": [
    "# Create a new project with uv\n",
    "# Run these commands in your terminal:\n",
    "\n",
    "# 1. Clone the repository\n",
    "# git clone https://github.com/petrobras/3W.git\n",
    "# cd 3W\n",
    "\n",
    "# 2. Create virtual environment and install dependencies\n",
    "# uv venv\n",
    "# uv pip install -e .\n",
    "\n",
    "# 3. Activate the environment\n",
    "# On Windows:\n",
    "# .venv\\Scripts\\activate\n",
    "# On macOS/Linux:\n",
    "# source .venv/bin/activate\n",
    "\n",
    "print(\"uv project setup commands shown above\")\n"
   ]
  },
  {
   "cell_type": "markdown",
   "id": "2512d69e",
   "metadata": {},
   "source": [
    "### Step 3: Install Development Dependencies\n",
    "\n",
    "Install additional development tools:\n"
   ]
  },
  {
   "cell_type": "code",
   "execution_count": null,
   "id": "b7c939f0",
   "metadata": {},
   "outputs": [],
   "source": [
    "# Install development dependencies with uv\n",
    "# Run this in your terminal after activating the environment:\n",
    "\n",
    "# uv pip install -e .[dev]\n",
    "\n",
    "print(\"Run 'uv pip install -e .[dev]' to install development dependencies\")\n"
   ]
  },
  {
   "cell_type": "markdown",
   "id": "f3382492",
   "metadata": {},
   "source": [
    "---\n"
   ]
  },
  {
   "cell_type": "markdown",
   "id": "6a3b0917",
   "metadata": {},
   "source": [
    "## Verification\n",
    "\n",
    "After installation, verify that everything is working correctly:\n"
   ]
  },
  {
   "cell_type": "code",
   "execution_count": null,
   "id": "c5fa3701",
   "metadata": {},
   "outputs": [],
   "source": [
    "# Test the installation\n",
    "try:\n",
    "    import ThreeWToolkit\n",
    "    print(f\"✅ 3WToolkit successfully imported!\")\n",
    "    print(f\"📦 Version: {ThreeWToolkit.__version__}\")\n",
    "except ImportError as e:\n",
    "    print(f\"❌ Failed to import 3WToolkit: {e}\")\n",
    "    print(\"Please check your installation.\")\n"
   ]
  },
  {
   "cell_type": "code",
   "execution_count": null,
   "id": "f8d8d7c6",
   "metadata": {},
   "outputs": [],
   "source": [
    "# Test key imports\n",
    "try:\n",
    "    from ThreeWToolkit.dataset import ParquetDataset\n",
    "    from ThreeWToolkit.preprocessing import ImputeMissing, Normalize\n",
    "    from ThreeWToolkit.feature_extraction import ExtractStatisticalFeatures\n",
    "    from ThreeWToolkit.models import SklearnModels\n",
    "    from ThreeWToolkit.plots import DataVisualization\n",
    "    \n",
    "    print(\"✅ All key modules imported successfully!\")\n",
    "    print(\"📚 Available modules:\")\n",
    "    print(\"   - ParquetDataset (data loading)\")\n",
    "    print(\"   - ImputeMissing, Normalize (preprocessing)\")\n",
    "    print(\"   - ExtractStatisticalFeatures (feature extraction)\")\n",
    "    print(\"   - SklearnModels (machine learning)\")\n",
    "    print(\"   - DataVisualization (plotting)\")\n",
    "    \n",
    "except ImportError as e:\n",
    "    print(f\"❌ Failed to import modules: {e}\")\n",
    "    print(\"Please check your installation.\")\n"
   ]
  },
  {
   "cell_type": "code",
   "execution_count": null,
   "id": "0010d3e4",
   "metadata": {},
   "outputs": [],
   "source": [
    "# Check Python version\n",
    "import sys\n",
    "print(f\"🐍 Python version: {sys.version}\")\n",
    "\n",
    "if sys.version_info >= (3, 10):\n",
    "    print(\"✅ Python version is compatible (3.10+)\")\n",
    "else:\n",
    "    print(\"⚠️  Warning: Python 3.10+ is recommended\")\n"
   ]
  },
  {
   "cell_type": "code",
   "execution_count": null,
   "id": "4bc7677e",
   "metadata": {},
   "outputs": [],
   "source": [
    "# Check key dependencies\n",
    "import numpy as np\n",
    "import pandas as pd\n",
    "import sklearn\n",
    "import matplotlib\n",
    "import torch\n",
    "\n",
    "print(\"📦 Key dependencies:\")\n",
    "print(f\"   - NumPy: {np.__version__}\")\n",
    "print(f\"   - Pandas: {pd.__version__}\")\n",
    "print(f\"   - Scikit-learn: {sklearn.__version__}\")\n",
    "print(f\"   - Matplotlib: {matplotlib.__version__}\")\n",
    "print(f\"   - PyTorch: {torch.__version__}\")\n",
    "\n",
    "print(\"\\n✅ All dependencies are available!\")\n"
   ]
  },
  {
   "cell_type": "markdown",
   "id": "8c354be9",
   "metadata": {},
   "source": [
    "---\n"
   ]
  },
  {
   "cell_type": "markdown",
   "id": "3da12598",
   "metadata": {},
   "source": [
    "## Troubleshooting\n",
    "\n",
    "### Common Issues and Solutions\n",
    "\n",
    "#### 1. Python Version Issues\n",
    "**Problem**: `Python version 3.10.11 is required`\n",
    "\n",
    "**Solution**:\n",
    "- Install Python 3.10.11 using pyenv, conda, or from python.org\n",
    "- Use conda: `conda install python=3.10.11`\n",
    "\n",
    "#### 2. Dependency Conflicts\n",
    "**Problem**: Package conflicts during installation\n",
    "\n",
    "**Solution**:\n",
    "- Use conda environment: `conda env create -f environment.yml`\n",
    "- Create a fresh virtual environment\n",
    "- Use `--force-reinstall` flag with pip\n",
    "\n",
    "#### 3. PyTorch Installation Issues\n",
    "**Problem**: PyTorch installation fails\n",
    "\n",
    "**Solution**:\n",
    "- Install PyTorch separately: `conda install pytorch torchvision -c pytorch`\n",
    "- Check CUDA compatibility if using GPU\n",
    "\n",
    "#### 4. Import Errors\n",
    "**Problem**: `ModuleNotFoundError` when importing ThreeWToolkit\n",
    "\n",
    "**Solution**:\n",
    "- Ensure you're in the correct environment\n",
    "- Install in development mode: `pip install -e .`\n",
    "- Check Python path: `python -c \"import sys; print(sys.path)\"`\n",
    "\n",
    "#### 5. Memory Issues\n",
    "**Problem**: Out of memory during installation\n",
    "\n",
    "**Solution**:\n",
    "- Install packages one by one\n",
    "- Use `--no-cache-dir` flag with pip\n",
    "- Increase swap space (Linux/macOS)\n",
    "\n",
    "### Getting Help\n",
    "\n",
    "If you encounter issues not covered here:\n",
    "\n",
    "1. **Check the documentation**: [3W Toolkit Documentation](../../toolkit/ThreeWToolkit/README.md)\n",
    "2. **GitHub Issues**: [Report issues on GitHub](https://github.com/petrobras/3W/issues)\n",
    "3. **Discussions**: [Join the community discussions](https://github.com/petrobras/3W/discussions)\n",
    "4. **Workshop Support**: Contact the workshop organizers\n"
   ]
  },
  {
   "cell_type": "markdown",
   "id": "4069b98c",
   "metadata": {},
   "source": [
    "---\n"
   ]
  },
  {
   "cell_type": "markdown",
   "id": "3c4e9035",
   "metadata": {},
   "source": [
    "## Next Steps\n",
    "\n",
    "🎉 **Congratulations!** You have successfully installed the 3WToolkit v2.0.0.\n",
    "\n",
    "### What's Next?\n",
    "\n",
    "1. **Download the Dataset**: Proceed to [Notebook 3: Dataset Download](3_download_dataset.ipynb)\n",
    "2. **Explore Preprocessing**: Learn about data preparation in [Notebook 4: Preprocessing](4_preprocessing.ipynb)\n",
    "3. **Feature Extraction**: Discover advanced features in [Notebook 5: Feature Extraction](5_feature_extraction.ipynb)\n",
    "\n",
    "### Quick Start Example\n",
    "\n",
    "Here's a simple example to test your installation:\n"
   ]
  },
  {
   "cell_type": "code",
   "execution_count": null,
   "id": "2dbde3dd",
   "metadata": {},
   "outputs": [],
   "source": [
    "# Quick start example\n",
    "from ThreeWToolkit.dataset import ParquetDataset\n",
    "from ThreeWToolkit.core.base_dataset import ParquetDatasetConfig\n",
    "\n",
    "# This will be covered in detail in the next notebook\n",
    "print(\"🚀 Ready to start working with the 3W Toolkit!\")\n",
    "print(\"📖 Continue to the next notebook to learn about dataset handling.\")\n"
   ]
  },
  {
   "cell_type": "markdown",
   "id": "628be38a",
   "metadata": {},
   "source": [
    "---\n",
    "\n",
    "**📚 Tutorial Navigation:**\n",
    "- **Previous**: [1. Toolkit Overview](1_toolkit_overview.ipynb)\n",
    "- **Next**: [3. Dataset Download](3_download_dataset.ipynb)\n",
    "\n",
    "**🔗 Additional Resources:**\n",
    "- [3W Project Repository](https://github.com/petrobras/3W)\n",
    "- [3W Dataset on Figshare](https://figshare.com/projects/3W_Dataset/251195)\n",
    "- [Workshop Registration](https://forms.gle/cmLa2u4VaXd1T7qp8)\n"
   ]
  }
 ],
 "metadata": {
  "kernelspec": {
   "display_name": "Python 3 (ipykernel)",
   "language": "python",
   "name": "python3"
  },
  "language_info": {
   "codemirror_mode": {
    "name": "ipython",
    "version": 3
   },
   "file_extension": ".py",
   "mimetype": "text/x-python",
   "name": "python",
   "nbconvert_exporter": "python",
   "pygments_lexer": "ipython3",
   "version": "3.10.11"
  }
 },
 "nbformat": 4,
 "nbformat_minor": 5
}
