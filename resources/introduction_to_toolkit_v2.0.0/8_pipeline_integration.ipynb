{
 "cells": [
  {
   "cell_type": "markdown",
   "id": "fe3d91fd",
   "metadata": {},
   "source": [
    "# 8. Pipeline Integration and Report Generation\n",
    "\n",
    "**Quick overview of the Pipeline integration and report generation**\n",
    "\n",
    "This notebook provides instructions to use the pipeline and report generation tools of the **3WToolkit v2.0.0**.\n",
    "\n",
    "The `Pipeline` class provides a powerful way to chain together all the steps of your machine learning workflow in a single, cohesive structure. This approach ensures reproducibility, reduces boilerplate code, and makes it easier to experiment with different configurations.\n",
    "\n",
    "The Pipeline in 3WToolkit v2.0.0 follows a sequential execution model where each step processes the data and passes it to the next stage. The pipeline automatically handles data transformations between steps, ensuring compatibility and proper data flow.\n",
    "\n",
    "**Pipeline Execution Flow:**\n",
    "```\n",
    "Dataset Loading → Preprocessing → Feature Extraction → Model Training → Model Assessment\n",
    "```\n",
    "\n",
    "Each component in the pipeline is configured using its respective configuration class, which encapsulates all the parameters needed for that specific step.\n",
    "\n",
    "\n",
    "## 📋 Table of Contents\n",
    "\n",
    "1. [Creating a basic Pipeline](#creating-a-basic-pipeline)\n",
    "2. [Pipeline Modules Overview](#pipeline-modules-overview)\n",
    "    1. [Complete Pipeline Examples](#complete-pipeline-examples)\n",
    "3. [Report Generation](#report-generation)\n",
    "8. [Next Steps](#Next-Steps)\n",
    "---"
   ]
  },
  {
   "cell_type": "markdown",
   "id": "4fa96261",
   "metadata": {},
   "source": [
    "## Creating a basic Pipeline\n"
   ]
  },
  {
   "cell_type": "markdown",
   "id": "0a954751",
   "metadata": {},
   "source": [
    "\n",
    "\n",
    "To create a pipeline, you'll need to import the necessary configuration classes and the `Pipeline` class itself:\n"
   ]
  },
  {
   "cell_type": "code",
   "execution_count": 1,
   "id": "5ae34330",
   "metadata": {},
   "outputs": [],
   "source": [
    "import matplotlib.pyplot as plt\n",
    "\n",
    "from ThreeWToolkit.pipeline import Pipeline\n",
    "from ThreeWToolkit.core.base_dataset import ParquetDatasetConfig\n",
    "from ThreeWToolkit.core.base_preprocessing import (\n",
    "    ImputeMissingConfig,\n",
    "    NormalizeConfig,\n",
    "    WindowingConfig,\n",
    ")\n",
    "from ThreeWToolkit.core.base_assessment import ModelAssessmentConfig\n",
    "from ThreeWToolkit.core.enums import TaskType\n",
    "from ThreeWToolkit.models.mlp import MLPConfig\n",
    "from ThreeWToolkit.trainer.trainer import TrainerConfig"
   ]
  },
  {
   "cell_type": "code",
   "execution_count": 2,
   "id": "16b734d3",
   "metadata": {},
   "outputs": [],
   "source": [
    "# Define dataset path\n",
    "dataset_path = \"../../dataset\""
   ]
  },
  {
   "cell_type": "markdown",
   "id": "c9e144ef",
   "metadata": {},
   "source": [
    "Now let's create a simple pipeline:\n"
   ]
  },
  {
   "cell_type": "code",
   "execution_count": 3,
   "id": "183102a1",
   "metadata": {},
   "outputs": [
    {
     "name": "stdout",
     "output_type": "stream",
     "text": [
      "[ParquetDataset] Dataset found at ../../dataset\n",
      "[ParquetDataset] Validating dataset integrity...\n",
      "[ParquetDataset] Dataset integrity check passed!\n",
      ">> ['T-JUS-CKP', 'T-MON-CKP']\n"
     ]
    }
   ],
   "source": [
    "# Define the model configuration\n",
    "config_model = MLPConfig(\n",
    "    hidden_sizes=(64, 32),\n",
    "    output_size=2, \n",
    "    random_seed=42,\n",
    "    activation_function=\"relu\",\n",
    "    regularization=None,\n",
    ")\n",
    "\n",
    "# Create the pipeline with sequential steps\n",
    "pipeline = Pipeline(\n",
    "    [\n",
    "        # Step 1: Load Dataset\n",
    "        ParquetDatasetConfig(\n",
    "            path=dataset_path,\n",
    "            split=None,\n",
    "            force_download=False,\n",
    "            columns=[\"T-JUS-CKP\", \"T-MON-CKP\"],\n",
    "            target_column=\"class\",\n",
    "            target_class=[0, 1],\n",
    "        ),\n",
    "        # Step 2: Preprocessing\n",
    "        ImputeMissingConfig(strategy=\"median\", columns=[\"T-JUS-CKP\"]),\n",
    "        NormalizeConfig(norm=\"l2\"),\n",
    "        WindowingConfig(window_size=100),\n",
    "        # Step 3: Model Training\n",
    "        TrainerConfig(\n",
    "            optimizer=\"adam\",\n",
    "            criterion=\"cross_entropy\",\n",
    "            batch_size=32,\n",
    "            epochs=10,\n",
    "            seed=42,\n",
    "            config_model=config_model,\n",
    "            learning_rate=0.001,\n",
    "            cross_validation=False,\n",
    "            shuffle_train=True,\n",
    "        ),\n",
    "        # Step 4: Model Assessment\n",
    "        ModelAssessmentConfig(\n",
    "            metrics=[\"balanced_accuracy\", \"precision\", \"recall\", \"f1\"],\n",
    "            task_type=TaskType.CLASSIFICATION,\n",
    "            export_results=True,\n",
    "            generate_report=True,           # Important option to enable report generation through the Pipeline class\n",
    "        ),\n",
    "    ]\n",
    ")\n"
   ]
  },
  {
   "cell_type": "code",
   "execution_count": 4,
   "id": "b8569138",
   "metadata": {},
   "outputs": [
    {
     "data": {
      "application/vnd.jupyter.widget-view+json": {
       "model_id": "3c684941ffa94f1b9b0e0ba811ed42df",
       "version_major": 2,
       "version_minor": 0
      },
      "text/plain": [
       "[Pipeline] Processing batches:   0%|          | 0/722 [00:00<?, ?file/s]"
      ]
     },
     "metadata": {},
     "output_type": "display_data"
    },
    {
     "data": {
      "application/vnd.jupyter.widget-view+json": {
       "model_id": "24a299719dea4c078889fe0a6a8c4b88",
       "version_major": 2,
       "version_minor": 0
      },
      "text/plain": [
       "[Pipeline] Preprocessing steps:   0%|          | 0/3 [00:00<?, ?step/s]"
      ]
     },
     "metadata": {},
     "output_type": "display_data"
    },
    {
     "data": {
      "application/vnd.jupyter.widget-view+json": {
       "model_id": "c2e099c4d27246e1876f04bb83c3a7bf",
       "version_major": 2,
       "version_minor": 0
      },
      "text/plain": [
       "[Pipeline] Preprocessing steps:   0%|          | 0/3 [00:00<?, ?step/s]"
      ]
     },
     "metadata": {},
     "output_type": "display_data"
    },
    {
     "data": {
      "application/vnd.jupyter.widget-view+json": {
       "model_id": "ffb243cc81dc4a1d9dfc5cd20dabd5b0",
       "version_major": 2,
       "version_minor": 0
      },
      "text/plain": [
       "[Pipeline] Preprocessing steps:   0%|          | 0/3 [00:00<?, ?step/s]"
      ]
     },
     "metadata": {},
     "output_type": "display_data"
    },
    {
     "data": {
      "application/vnd.jupyter.widget-view+json": {
       "model_id": "c6718264d11b4246821fe8c495795d3b",
       "version_major": 2,
       "version_minor": 0
      },
      "text/plain": [
       "[Pipeline] Preprocessing steps:   0%|          | 0/3 [00:00<?, ?step/s]"
      ]
     },
     "metadata": {},
     "output_type": "display_data"
    },
    {
     "data": {
      "application/vnd.jupyter.widget-view+json": {
       "model_id": "ad898296b909420285a5432ca3432931",
       "version_major": 2,
       "version_minor": 0
      },
      "text/plain": [
       "[Pipeline] Preprocessing steps:   0%|          | 0/3 [00:00<?, ?step/s]"
      ]
     },
     "metadata": {},
     "output_type": "display_data"
    },
    {
     "data": {
      "application/vnd.jupyter.widget-view+json": {
       "model_id": "a12eb1889f594e70b194a5f8cacbe72f",
       "version_major": 2,
       "version_minor": 0
      },
      "text/plain": [
       "[Pipeline] Preprocessing steps:   0%|          | 0/3 [00:00<?, ?step/s]"
      ]
     },
     "metadata": {},
     "output_type": "display_data"
    },
    {
     "data": {
      "application/vnd.jupyter.widget-view+json": {
       "model_id": "93c5bd65e29d401f963d7eb330b97ddb",
       "version_major": 2,
       "version_minor": 0
      },
      "text/plain": [
       "[Pipeline] Preprocessing steps:   0%|          | 0/3 [00:00<?, ?step/s]"
      ]
     },
     "metadata": {},
     "output_type": "display_data"
    },
    {
     "data": {
      "application/vnd.jupyter.widget-view+json": {
       "model_id": "3e968836e5be4b87b87e82d85f8252fb",
       "version_major": 2,
       "version_minor": 0
      },
      "text/plain": [
       "[Pipeline] Preprocessing steps:   0%|          | 0/3 [00:00<?, ?step/s]"
      ]
     },
     "metadata": {},
     "output_type": "display_data"
    },
    {
     "data": {
      "application/vnd.jupyter.widget-view+json": {
       "model_id": "4c2ca77a068443de943df39fbe6b16fa",
       "version_major": 2,
       "version_minor": 0
      },
      "text/plain": [
       "[Pipeline] Preprocessing steps:   0%|          | 0/3 [00:00<?, ?step/s]"
      ]
     },
     "metadata": {},
     "output_type": "display_data"
    },
    {
     "data": {
      "application/vnd.jupyter.widget-view+json": {
       "model_id": "66518b420cea435fb007459d566399ef",
       "version_major": 2,
       "version_minor": 0
      },
      "text/plain": [
       "[Pipeline] Preprocessing steps:   0%|          | 0/3 [00:00<?, ?step/s]"
      ]
     },
     "metadata": {},
     "output_type": "display_data"
    },
    {
     "data": {
      "application/vnd.jupyter.widget-view+json": {
       "model_id": "6871b6e9d09b4ebc94e9663342b7d69c",
       "version_major": 2,
       "version_minor": 0
      },
      "text/plain": [
       "[Pipeline] Preprocessing steps:   0%|          | 0/3 [00:00<?, ?step/s]"
      ]
     },
     "metadata": {},
     "output_type": "display_data"
    },
    {
     "data": {
      "application/vnd.jupyter.widget-view+json": {
       "model_id": "26fd333bbdea49c098a062708e6a8bcc",
       "version_major": 2,
       "version_minor": 0
      },
      "text/plain": [
       "[Pipeline] Preprocessing steps:   0%|          | 0/3 [00:00<?, ?step/s]"
      ]
     },
     "metadata": {},
     "output_type": "display_data"
    },
    {
     "data": {
      "application/vnd.jupyter.widget-view+json": {
       "model_id": "7a11900c6d86453a97c817906134ba01",
       "version_major": 2,
       "version_minor": 0
      },
      "text/plain": [
       "[Pipeline] Preprocessing steps:   0%|          | 0/3 [00:00<?, ?step/s]"
      ]
     },
     "metadata": {},
     "output_type": "display_data"
    },
    {
     "data": {
      "application/vnd.jupyter.widget-view+json": {
       "model_id": "d7875606ffaa45f9aedbee21911bba41",
       "version_major": 2,
       "version_minor": 0
      },
      "text/plain": [
       "[Pipeline] Preprocessing steps:   0%|          | 0/3 [00:00<?, ?step/s]"
      ]
     },
     "metadata": {},
     "output_type": "display_data"
    },
    {
     "data": {
      "application/vnd.jupyter.widget-view+json": {
       "model_id": "6d279edc0b5d47388b238aead2c2e237",
       "version_major": 2,
       "version_minor": 0
      },
      "text/plain": [
       "[Pipeline] Preprocessing steps:   0%|          | 0/3 [00:00<?, ?step/s]"
      ]
     },
     "metadata": {},
     "output_type": "display_data"
    },
    {
     "data": {
      "application/vnd.jupyter.widget-view+json": {
       "model_id": "3ba3b5a06afd4ac0ad47399939ded37a",
       "version_major": 2,
       "version_minor": 0
      },
      "text/plain": [
       "[Pipeline] Preprocessing steps:   0%|          | 0/3 [00:00<?, ?step/s]"
      ]
     },
     "metadata": {},
     "output_type": "display_data"
    },
    {
     "data": {
      "application/vnd.jupyter.widget-view+json": {
       "model_id": "bac2ed149a6b4056afccbab6c1915f48",
       "version_major": 2,
       "version_minor": 0
      },
      "text/plain": [
       "[Pipeline] Preprocessing steps:   0%|          | 0/3 [00:00<?, ?step/s]"
      ]
     },
     "metadata": {},
     "output_type": "display_data"
    },
    {
     "data": {
      "application/vnd.jupyter.widget-view+json": {
       "model_id": "4215c945f5334fb2b7b3e0a8a3a4a9de",
       "version_major": 2,
       "version_minor": 0
      },
      "text/plain": [
       "[Pipeline] Preprocessing steps:   0%|          | 0/3 [00:00<?, ?step/s]"
      ]
     },
     "metadata": {},
     "output_type": "display_data"
    },
    {
     "data": {
      "application/vnd.jupyter.widget-view+json": {
       "model_id": "3dc128c10d6d49b1a44ce365890be867",
       "version_major": 2,
       "version_minor": 0
      },
      "text/plain": [
       "[Pipeline] Preprocessing steps:   0%|          | 0/3 [00:00<?, ?step/s]"
      ]
     },
     "metadata": {},
     "output_type": "display_data"
    },
    {
     "data": {
      "application/vnd.jupyter.widget-view+json": {
       "model_id": "ae2ad81bce3d49af9da75acacefc8b93",
       "version_major": 2,
       "version_minor": 0
      },
      "text/plain": [
       "[Pipeline] Preprocessing steps:   0%|          | 0/3 [00:00<?, ?step/s]"
      ]
     },
     "metadata": {},
     "output_type": "display_data"
    },
    {
     "data": {
      "application/vnd.jupyter.widget-view+json": {
       "model_id": "aa5fa8e1bec54d4584f5aa5b3cc2ea83",
       "version_major": 2,
       "version_minor": 0
      },
      "text/plain": [
       "[Pipeline] Preprocessing steps:   0%|          | 0/3 [00:00<?, ?step/s]"
      ]
     },
     "metadata": {},
     "output_type": "display_data"
    },
    {
     "data": {
      "application/vnd.jupyter.widget-view+json": {
       "model_id": "58f5ad2c871b4c0287814a28cabc5bbb",
       "version_major": 2,
       "version_minor": 0
      },
      "text/plain": [
       "[Pipeline] Preprocessing steps:   0%|          | 0/3 [00:00<?, ?step/s]"
      ]
     },
     "metadata": {},
     "output_type": "display_data"
    },
    {
     "data": {
      "application/vnd.jupyter.widget-view+json": {
       "model_id": "4b7f00b9c1864606965d2daf7f856f8a",
       "version_major": 2,
       "version_minor": 0
      },
      "text/plain": [
       "[Pipeline] Preprocessing steps:   0%|          | 0/3 [00:00<?, ?step/s]"
      ]
     },
     "metadata": {},
     "output_type": "display_data"
    },
    {
     "data": {
      "application/vnd.jupyter.widget-view+json": {
       "model_id": "d51364d658f24cad874425eb30f04318",
       "version_major": 2,
       "version_minor": 0
      },
      "text/plain": [
       "[Pipeline] Preprocessing steps:   0%|          | 0/3 [00:00<?, ?step/s]"
      ]
     },
     "metadata": {},
     "output_type": "display_data"
    },
    {
     "data": {
      "application/vnd.jupyter.widget-view+json": {
       "model_id": "91796398b63a4a6ebadfe777ef248fda",
       "version_major": 2,
       "version_minor": 0
      },
      "text/plain": [
       "[Pipeline] Preprocessing steps:   0%|          | 0/3 [00:00<?, ?step/s]"
      ]
     },
     "metadata": {},
     "output_type": "display_data"
    },
    {
     "data": {
      "application/vnd.jupyter.widget-view+json": {
       "model_id": "011fbb7d48a745a1b39c95e45da8ebe0",
       "version_major": 2,
       "version_minor": 0
      },
      "text/plain": [
       "[Pipeline] Preprocessing steps:   0%|          | 0/3 [00:00<?, ?step/s]"
      ]
     },
     "metadata": {},
     "output_type": "display_data"
    },
    {
     "data": {
      "application/vnd.jupyter.widget-view+json": {
       "model_id": "29042a53e284439292478ef7c706d71d",
       "version_major": 2,
       "version_minor": 0
      },
      "text/plain": [
       "[Pipeline] Preprocessing steps:   0%|          | 0/3 [00:00<?, ?step/s]"
      ]
     },
     "metadata": {},
     "output_type": "display_data"
    },
    {
     "data": {
      "application/vnd.jupyter.widget-view+json": {
       "model_id": "4d22ba2befa644189f44cbe01eef9a77",
       "version_major": 2,
       "version_minor": 0
      },
      "text/plain": [
       "[Pipeline] Preprocessing steps:   0%|          | 0/3 [00:00<?, ?step/s]"
      ]
     },
     "metadata": {},
     "output_type": "display_data"
    },
    {
     "data": {
      "application/vnd.jupyter.widget-view+json": {
       "model_id": "ef402d51bc6f40c681a37c23a61fb874",
       "version_major": 2,
       "version_minor": 0
      },
      "text/plain": [
       "[Pipeline] Preprocessing steps:   0%|          | 0/3 [00:00<?, ?step/s]"
      ]
     },
     "metadata": {},
     "output_type": "display_data"
    },
    {
     "data": {
      "application/vnd.jupyter.widget-view+json": {
       "model_id": "b8e72e3c694f4f369653f7fefca2fae9",
       "version_major": 2,
       "version_minor": 0
      },
      "text/plain": [
       "[Pipeline] Preprocessing steps:   0%|          | 0/3 [00:00<?, ?step/s]"
      ]
     },
     "metadata": {},
     "output_type": "display_data"
    },
    {
     "data": {
      "application/vnd.jupyter.widget-view+json": {
       "model_id": "78c9cfc58ea8468a850e62687d2aafed",
       "version_major": 2,
       "version_minor": 0
      },
      "text/plain": [
       "[Pipeline] Preprocessing steps:   0%|          | 0/3 [00:00<?, ?step/s]"
      ]
     },
     "metadata": {},
     "output_type": "display_data"
    },
    {
     "data": {
      "application/vnd.jupyter.widget-view+json": {
       "model_id": "4b54edbb839c4c34ad09999bc38e37d0",
       "version_major": 2,
       "version_minor": 0
      },
      "text/plain": [
       "[Pipeline] Preprocessing steps:   0%|          | 0/3 [00:00<?, ?step/s]"
      ]
     },
     "metadata": {},
     "output_type": "display_data"
    },
    {
     "data": {
      "application/vnd.jupyter.widget-view+json": {
       "model_id": "2102805b2edc45598a5b25de19bf3514",
       "version_major": 2,
       "version_minor": 0
      },
      "text/plain": [
       "[Pipeline] Preprocessing steps:   0%|          | 0/3 [00:00<?, ?step/s]"
      ]
     },
     "metadata": {},
     "output_type": "display_data"
    },
    {
     "data": {
      "application/vnd.jupyter.widget-view+json": {
       "model_id": "c07e152f6a864d87ac2573a2b7edcac9",
       "version_major": 2,
       "version_minor": 0
      },
      "text/plain": [
       "[Pipeline] Preprocessing steps:   0%|          | 0/3 [00:00<?, ?step/s]"
      ]
     },
     "metadata": {},
     "output_type": "display_data"
    },
    {
     "data": {
      "application/vnd.jupyter.widget-view+json": {
       "model_id": "edabb8a3fadf4453b17cef0042827cae",
       "version_major": 2,
       "version_minor": 0
      },
      "text/plain": [
       "[Pipeline] Preprocessing steps:   0%|          | 0/3 [00:00<?, ?step/s]"
      ]
     },
     "metadata": {},
     "output_type": "display_data"
    },
    {
     "data": {
      "application/vnd.jupyter.widget-view+json": {
       "model_id": "8fe100605a3849e7b21f49dec6f9680f",
       "version_major": 2,
       "version_minor": 0
      },
      "text/plain": [
       "[Pipeline] Preprocessing steps:   0%|          | 0/3 [00:00<?, ?step/s]"
      ]
     },
     "metadata": {},
     "output_type": "display_data"
    },
    {
     "data": {
      "application/vnd.jupyter.widget-view+json": {
       "model_id": "2ddca8e4d0694e72819531e9ef6fc251",
       "version_major": 2,
       "version_minor": 0
      },
      "text/plain": [
       "[Pipeline] Preprocessing steps:   0%|          | 0/3 [00:00<?, ?step/s]"
      ]
     },
     "metadata": {},
     "output_type": "display_data"
    },
    {
     "data": {
      "application/vnd.jupyter.widget-view+json": {
       "model_id": "5429d276a18a4e96b42993d1bd574098",
       "version_major": 2,
       "version_minor": 0
      },
      "text/plain": [
       "[Pipeline] Preprocessing steps:   0%|          | 0/3 [00:00<?, ?step/s]"
      ]
     },
     "metadata": {},
     "output_type": "display_data"
    },
    {
     "data": {
      "application/vnd.jupyter.widget-view+json": {
       "model_id": "69b45d52cf164f03aca6529e3d2c1c8c",
       "version_major": 2,
       "version_minor": 0
      },
      "text/plain": [
       "[Pipeline] Preprocessing steps:   0%|          | 0/3 [00:00<?, ?step/s]"
      ]
     },
     "metadata": {},
     "output_type": "display_data"
    },
    {
     "data": {
      "application/vnd.jupyter.widget-view+json": {
       "model_id": "50b57aaf83be43c190ad7092162b8c5a",
       "version_major": 2,
       "version_minor": 0
      },
      "text/plain": [
       "[Pipeline] Preprocessing steps:   0%|          | 0/3 [00:00<?, ?step/s]"
      ]
     },
     "metadata": {},
     "output_type": "display_data"
    },
    {
     "data": {
      "application/vnd.jupyter.widget-view+json": {
       "model_id": "73e81dcd665d49709f3b42b7e2688edb",
       "version_major": 2,
       "version_minor": 0
      },
      "text/plain": [
       "[Pipeline] Preprocessing steps:   0%|          | 0/3 [00:00<?, ?step/s]"
      ]
     },
     "metadata": {},
     "output_type": "display_data"
    },
    {
     "data": {
      "application/vnd.jupyter.widget-view+json": {
       "model_id": "23c1742163ad4112bace32dd4c9e5427",
       "version_major": 2,
       "version_minor": 0
      },
      "text/plain": [
       "[Pipeline] Preprocessing steps:   0%|          | 0/3 [00:00<?, ?step/s]"
      ]
     },
     "metadata": {},
     "output_type": "display_data"
    },
    {
     "data": {
      "application/vnd.jupyter.widget-view+json": {
       "model_id": "213d950bd2714b40a60ce6120c523a17",
       "version_major": 2,
       "version_minor": 0
      },
      "text/plain": [
       "[Pipeline] Preprocessing steps:   0%|          | 0/3 [00:00<?, ?step/s]"
      ]
     },
     "metadata": {},
     "output_type": "display_data"
    },
    {
     "data": {
      "application/vnd.jupyter.widget-view+json": {
       "model_id": "3d960bf15e4c4e2fb0ce9d1b6899e5c1",
       "version_major": 2,
       "version_minor": 0
      },
      "text/plain": [
       "[Pipeline] Preprocessing steps:   0%|          | 0/3 [00:00<?, ?step/s]"
      ]
     },
     "metadata": {},
     "output_type": "display_data"
    },
    {
     "data": {
      "application/vnd.jupyter.widget-view+json": {
       "model_id": "f9137c25c013451d948fa7f79cd25591",
       "version_major": 2,
       "version_minor": 0
      },
      "text/plain": [
       "[Pipeline] Preprocessing steps:   0%|          | 0/3 [00:00<?, ?step/s]"
      ]
     },
     "metadata": {},
     "output_type": "display_data"
    },
    {
     "data": {
      "application/vnd.jupyter.widget-view+json": {
       "model_id": "eb1c90fa4a80492d93cbe19f58483441",
       "version_major": 2,
       "version_minor": 0
      },
      "text/plain": [
       "[Pipeline] Preprocessing steps:   0%|          | 0/3 [00:00<?, ?step/s]"
      ]
     },
     "metadata": {},
     "output_type": "display_data"
    },
    {
     "data": {
      "application/vnd.jupyter.widget-view+json": {
       "model_id": "be266ca6b1214215b60eee670ad73dc2",
       "version_major": 2,
       "version_minor": 0
      },
      "text/plain": [
       "[Pipeline] Preprocessing steps:   0%|          | 0/3 [00:00<?, ?step/s]"
      ]
     },
     "metadata": {},
     "output_type": "display_data"
    },
    {
     "data": {
      "application/vnd.jupyter.widget-view+json": {
       "model_id": "c6ad4f966f6145e1a18302227e322844",
       "version_major": 2,
       "version_minor": 0
      },
      "text/plain": [
       "[Pipeline] Preprocessing steps:   0%|          | 0/3 [00:00<?, ?step/s]"
      ]
     },
     "metadata": {},
     "output_type": "display_data"
    },
    {
     "data": {
      "application/vnd.jupyter.widget-view+json": {
       "model_id": "dba64a29b26649a7b69054e1f1ca6023",
       "version_major": 2,
       "version_minor": 0
      },
      "text/plain": [
       "[Pipeline] Preprocessing steps:   0%|          | 0/3 [00:00<?, ?step/s]"
      ]
     },
     "metadata": {},
     "output_type": "display_data"
    },
    {
     "data": {
      "application/vnd.jupyter.widget-view+json": {
       "model_id": "514cbaea59c142beaae9daba2c584523",
       "version_major": 2,
       "version_minor": 0
      },
      "text/plain": [
       "[Pipeline] Preprocessing steps:   0%|          | 0/3 [00:00<?, ?step/s]"
      ]
     },
     "metadata": {},
     "output_type": "display_data"
    },
    {
     "data": {
      "application/vnd.jupyter.widget-view+json": {
       "model_id": "1423687996b14a57bef0d07fdd84fbfe",
       "version_major": 2,
       "version_minor": 0
      },
      "text/plain": [
       "[Pipeline] Preprocessing steps:   0%|          | 0/3 [00:00<?, ?step/s]"
      ]
     },
     "metadata": {},
     "output_type": "display_data"
    },
    {
     "data": {
      "application/vnd.jupyter.widget-view+json": {
       "model_id": "4f2aa838702342d68b23b3b5a8c73e73",
       "version_major": 2,
       "version_minor": 0
      },
      "text/plain": [
       "[Pipeline] Preprocessing steps:   0%|          | 0/3 [00:00<?, ?step/s]"
      ]
     },
     "metadata": {},
     "output_type": "display_data"
    },
    {
     "data": {
      "application/vnd.jupyter.widget-view+json": {
       "model_id": "6f7f0d973b24428fab4e6a2aeabfba7f",
       "version_major": 2,
       "version_minor": 0
      },
      "text/plain": [
       "[Pipeline] Preprocessing steps:   0%|          | 0/3 [00:00<?, ?step/s]"
      ]
     },
     "metadata": {},
     "output_type": "display_data"
    },
    {
     "data": {
      "application/vnd.jupyter.widget-view+json": {
       "model_id": "50b0aaf4f93a4d288902568e083cb985",
       "version_major": 2,
       "version_minor": 0
      },
      "text/plain": [
       "[Pipeline] Preprocessing steps:   0%|          | 0/3 [00:00<?, ?step/s]"
      ]
     },
     "metadata": {},
     "output_type": "display_data"
    },
    {
     "data": {
      "application/vnd.jupyter.widget-view+json": {
       "model_id": "7f8bdd51a7e94fffb668478314803690",
       "version_major": 2,
       "version_minor": 0
      },
      "text/plain": [
       "[Pipeline] Preprocessing steps:   0%|          | 0/3 [00:00<?, ?step/s]"
      ]
     },
     "metadata": {},
     "output_type": "display_data"
    },
    {
     "data": {
      "application/vnd.jupyter.widget-view+json": {
       "model_id": "34289c57a8814ca389f3e233ef4064a9",
       "version_major": 2,
       "version_minor": 0
      },
      "text/plain": [
       "[Pipeline] Preprocessing steps:   0%|          | 0/3 [00:00<?, ?step/s]"
      ]
     },
     "metadata": {},
     "output_type": "display_data"
    },
    {
     "data": {
      "application/vnd.jupyter.widget-view+json": {
       "model_id": "4b0282354ac341779f08345240dc4bee",
       "version_major": 2,
       "version_minor": 0
      },
      "text/plain": [
       "[Pipeline] Preprocessing steps:   0%|          | 0/3 [00:00<?, ?step/s]"
      ]
     },
     "metadata": {},
     "output_type": "display_data"
    },
    {
     "data": {
      "application/vnd.jupyter.widget-view+json": {
       "model_id": "0eca1fdb1526487c9ad1ea03cacc3492",
       "version_major": 2,
       "version_minor": 0
      },
      "text/plain": [
       "[Pipeline] Preprocessing steps:   0%|          | 0/3 [00:00<?, ?step/s]"
      ]
     },
     "metadata": {},
     "output_type": "display_data"
    },
    {
     "data": {
      "application/vnd.jupyter.widget-view+json": {
       "model_id": "39d0c3da10b341aaa0783f7041a22087",
       "version_major": 2,
       "version_minor": 0
      },
      "text/plain": [
       "[Pipeline] Preprocessing steps:   0%|          | 0/3 [00:00<?, ?step/s]"
      ]
     },
     "metadata": {},
     "output_type": "display_data"
    },
    {
     "data": {
      "application/vnd.jupyter.widget-view+json": {
       "model_id": "36d7ee1698af4f45add561aa6adc4c01",
       "version_major": 2,
       "version_minor": 0
      },
      "text/plain": [
       "[Pipeline] Preprocessing steps:   0%|          | 0/3 [00:00<?, ?step/s]"
      ]
     },
     "metadata": {},
     "output_type": "display_data"
    },
    {
     "data": {
      "application/vnd.jupyter.widget-view+json": {
       "model_id": "debdd78849ba46f98280e600f5754cf8",
       "version_major": 2,
       "version_minor": 0
      },
      "text/plain": [
       "[Pipeline] Preprocessing steps:   0%|          | 0/3 [00:00<?, ?step/s]"
      ]
     },
     "metadata": {},
     "output_type": "display_data"
    },
    {
     "data": {
      "application/vnd.jupyter.widget-view+json": {
       "model_id": "39a68dbf18544447a7c6e53f588f3aa7",
       "version_major": 2,
       "version_minor": 0
      },
      "text/plain": [
       "[Pipeline] Preprocessing steps:   0%|          | 0/3 [00:00<?, ?step/s]"
      ]
     },
     "metadata": {},
     "output_type": "display_data"
    },
    {
     "data": {
      "application/vnd.jupyter.widget-view+json": {
       "model_id": "f8d76a44f74d4504beb95d96f7e403ac",
       "version_major": 2,
       "version_minor": 0
      },
      "text/plain": [
       "[Pipeline] Preprocessing steps:   0%|          | 0/3 [00:00<?, ?step/s]"
      ]
     },
     "metadata": {},
     "output_type": "display_data"
    },
    {
     "data": {
      "application/vnd.jupyter.widget-view+json": {
       "model_id": "f64cee99c3684d298ee1695b45bd4abb",
       "version_major": 2,
       "version_minor": 0
      },
      "text/plain": [
       "[Pipeline] Preprocessing steps:   0%|          | 0/3 [00:00<?, ?step/s]"
      ]
     },
     "metadata": {},
     "output_type": "display_data"
    },
    {
     "data": {
      "application/vnd.jupyter.widget-view+json": {
       "model_id": "62f3dad420034dff9935b6c46ca0dff0",
       "version_major": 2,
       "version_minor": 0
      },
      "text/plain": [
       "[Pipeline] Preprocessing steps:   0%|          | 0/3 [00:00<?, ?step/s]"
      ]
     },
     "metadata": {},
     "output_type": "display_data"
    },
    {
     "data": {
      "application/vnd.jupyter.widget-view+json": {
       "model_id": "e5a739075ed14aff82e21241d6afed7d",
       "version_major": 2,
       "version_minor": 0
      },
      "text/plain": [
       "[Pipeline] Preprocessing steps:   0%|          | 0/3 [00:00<?, ?step/s]"
      ]
     },
     "metadata": {},
     "output_type": "display_data"
    },
    {
     "data": {
      "application/vnd.jupyter.widget-view+json": {
       "model_id": "9734373e59d9450cb36ad8c39a2694b4",
       "version_major": 2,
       "version_minor": 0
      },
      "text/plain": [
       "[Pipeline] Preprocessing steps:   0%|          | 0/3 [00:00<?, ?step/s]"
      ]
     },
     "metadata": {},
     "output_type": "display_data"
    },
    {
     "data": {
      "application/vnd.jupyter.widget-view+json": {
       "model_id": "86a91364cfcf4fbcafe34fea1bfe36ed",
       "version_major": 2,
       "version_minor": 0
      },
      "text/plain": [
       "[Pipeline] Preprocessing steps:   0%|          | 0/3 [00:00<?, ?step/s]"
      ]
     },
     "metadata": {},
     "output_type": "display_data"
    },
    {
     "data": {
      "application/vnd.jupyter.widget-view+json": {
       "model_id": "bf4ca825036542799eef0e8b7549a071",
       "version_major": 2,
       "version_minor": 0
      },
      "text/plain": [
       "[Pipeline] Preprocessing steps:   0%|          | 0/3 [00:00<?, ?step/s]"
      ]
     },
     "metadata": {},
     "output_type": "display_data"
    },
    {
     "data": {
      "application/vnd.jupyter.widget-view+json": {
       "model_id": "dde0505f82b6432c96a3743a797b95fc",
       "version_major": 2,
       "version_minor": 0
      },
      "text/plain": [
       "[Pipeline] Preprocessing steps:   0%|          | 0/3 [00:00<?, ?step/s]"
      ]
     },
     "metadata": {},
     "output_type": "display_data"
    },
    {
     "data": {
      "application/vnd.jupyter.widget-view+json": {
       "model_id": "243edda96d474043b2d19804da2438ba",
       "version_major": 2,
       "version_minor": 0
      },
      "text/plain": [
       "[Pipeline] Preprocessing steps:   0%|          | 0/3 [00:00<?, ?step/s]"
      ]
     },
     "metadata": {},
     "output_type": "display_data"
    },
    {
     "data": {
      "application/vnd.jupyter.widget-view+json": {
       "model_id": "9f3def2f3d6f483aaf7867a2d99b740b",
       "version_major": 2,
       "version_minor": 0
      },
      "text/plain": [
       "[Pipeline] Preprocessing steps:   0%|          | 0/3 [00:00<?, ?step/s]"
      ]
     },
     "metadata": {},
     "output_type": "display_data"
    },
    {
     "data": {
      "application/vnd.jupyter.widget-view+json": {
       "model_id": "e39bf5848c1f4c46bae1db36ee9183c0",
       "version_major": 2,
       "version_minor": 0
      },
      "text/plain": [
       "[Pipeline] Preprocessing steps:   0%|          | 0/3 [00:00<?, ?step/s]"
      ]
     },
     "metadata": {},
     "output_type": "display_data"
    },
    {
     "data": {
      "application/vnd.jupyter.widget-view+json": {
       "model_id": "cc907f5d0f4c4323af76078ad1329d15",
       "version_major": 2,
       "version_minor": 0
      },
      "text/plain": [
       "[Pipeline] Training:   0%|          | 0/10 [00:00<?, ?epoch/s]"
      ]
     },
     "metadata": {},
     "output_type": "display_data"
    },
    {
     "name": "stdout",
     "output_type": "stream",
     "text": [
      "Reports will be saved to directory: 'D:\\Git\\3W\\toolkit\\output\\report-Model Assessment Report - MLP'\n",
      "Generating HTML report from template: 'report_template.html'...\n",
      "Markdown report generated successfully.\n",
      "Saving HTML report to 'D:\\Git\\3W\\toolkit\\output\\report-Model Assessment Report - MLP\\html\\report-Model Assessment Report - MLP.html'...\n",
      "HTML report saved successfully to 'D:\\Git\\3W\\toolkit\\output\\report-Model Assessment Report - MLP\\html\\report-Model Assessment Report - MLP.html'\n",
      "Results exported to D:\\Git\\3W\\toolkit\\output\n",
      "Model Assessment Summary\n",
      "========================\n",
      "Model: MLP\n",
      "Task Type: classification\n",
      "Timestamp: 2025-10-22T17:08:55.325777\n",
      "\n",
      "Metrics:\n",
      "  balanced_accuracy: 0.8518\n",
      "  precision: 0.8561\n",
      "  recall: 0.8403\n",
      "  f1: 0.8423\n"
     ]
    }
   ],
   "source": [
    "# Execute the entire pipeline\n",
    "pipeline.run()"
   ]
  },
  {
   "cell_type": "markdown",
   "id": "87e85ec3",
   "metadata": {},
   "source": [
    "After training, it's possible to view the training loss curve by accessing the history:"
   ]
  },
  {
   "cell_type": "code",
   "execution_count": 6,
   "id": "b39caa21",
   "metadata": {},
   "outputs": [
    {
     "data": {
      "image/png": "[encoded data removed]",
      "text/plain": [
       "<Figure size 1000x500 with 1 Axes>"
      ]
     },
     "metadata": {},
     "output_type": "display_data"
    }
   ],
   "source": [
    "# Visualize training history\n",
    "hist = pipeline.step_model_training.history[0]\n",
    "\n",
    "plt.figure(figsize=(10, 5))\n",
    "plt.plot(hist[\"val_loss\"], label=\"Val Loss\")\n",
    "plt.plot(hist[\"train_loss\"], label=\"Train Loss\")\n",
    "plt.title(\"Training and Validation Loss\")\n",
    "plt.xlabel(\"Epoch\")\n",
    "plt.ylabel(\"Loss\")\n",
    "plt.legend()\n",
    "plt.show()\n"
   ]
  },
  {
   "cell_type": "markdown",
   "id": "8d169a99",
   "metadata": {},
   "source": [
    "---"
   ]
  },
  {
   "cell_type": "markdown",
   "id": "f6d858d7",
   "metadata": {},
   "source": [
    "## Pipeline Modules Overview\n",
    "\n",
    "Let's explore each component of the pipeline in detail to understand how they work together.\n"
   ]
  },
  {
   "cell_type": "markdown",
   "id": "635bfcf4",
   "metadata": {},
   "source": [
    "#### 📂 Dataset Configuration\n"
   ]
  },
  {
   "cell_type": "markdown",
   "id": "2a936960",
   "metadata": {},
   "source": [
    "\n",
    "The `ParquetDatasetConfig` is always the first step in your pipeline. It defines how to load and filter your data:\n"
   ]
  },
  {
   "cell_type": "markdown",
   "id": "7a381bbe",
   "metadata": {},
   "source": [
    "```python\n",
    "# Dataset Configuration Example\n",
    "dataset_config = ParquetDatasetConfig(\n",
    "    path=\"../../dataset\",                   # Path to your parquet files\n",
    "    split=None,                             # Train/test split ratio (e.g., 0.8 for 80/20)\n",
    "    force_download=False,                   # Whether to download the dataset\n",
    "    columns=[\"T-JUS-CKP\", \"T-MON-CKP\"],     # Features to use\n",
    "    target_column=\"class\",                  # Target variable column name\n",
    "    target_class=[0, 1],                    # Classes to include (for binary classification)\n",
    ")\n",
    "\n",
    "print(\"Dataset Configuration:\")\n",
    "print(f\"Path: {dataset_config.path}\")\n",
    "print(f\"Columns: {dataset_config.columns}\")\n",
    "print(f\"Target classes: {dataset_config.target_class}\")\n",
    "```\n"
   ]
  },
  {
   "cell_type": "markdown",
   "id": "e20de99f",
   "metadata": {},
   "source": [
    "#### ⚙️ Preprocessing Steps\n",
    "\n",
    "You can chain multiple preprocessing steps. They will be executed in the order they appear:\n"
   ]
  },
  {
   "cell_type": "markdown",
   "id": "a6607aad",
   "metadata": {},
   "source": [
    "```python\n",
    "# Handle missing values\n",
    "impute_config = ImputeMissingConfig(\n",
    "    strategy=\"median\",  # Options: \"mean\", \"median\", \"forward\", \"backward\"\n",
    "    columns=[\"T-JUS-CKP\"],  # Specific columns to impute\n",
    ")\n",
    "\n",
    "# Normalize the data\n",
    "normalize_config = NormalizeConfig(\n",
    "    norm=\"l2\"  # Options: \"l1\", \"l2\", \"max\", \"standard\"\n",
    ")\n",
    "\n",
    "# Create time windows\n",
    "windowing_config = WindowingConfig(\n",
    "    window_size=100  # Number of time steps per window\n",
    ")\n",
    "\n",
    "print(\"Preprocessing Configuration:\")\n",
    "print(f\"Imputation strategy: {impute_config.strategy}\")\n",
    "print(f\"Normalization norm: {normalize_config.norm}\")\n",
    "print(f\"Window size: {windowing_config.window_size}\")\n",
    "```"
   ]
  },
  {
   "cell_type": "markdown",
   "id": "73506663",
   "metadata": {},
   "source": [
    "#### 🔎 Feature Extraction (Optional)\n",
    "\n",
    "**Important:** Only one feature extraction method can be used at a time. Choose the one that best fits your problem:\n"
   ]
  },
  {
   "cell_type": "markdown",
   "id": "20abce07",
   "metadata": {},
   "source": [
    "```python\n",
    "from ThreeWToolkit.core.base_feature_extractor import (\n",
    "    StatisticalConfig,\n",
    "    EWStatisticalConfig,\n",
    "    WaveletConfig,\n",
    ")\n",
    "\n",
    "# Option A: Statistical Features\n",
    "# Extracts basic statistical features like mean, standard deviation, min, max, etc.\n",
    "statistical_config = StatisticalConfig()\n",
    "\n",
    "# Option B: Exponentially Weighted Statistical Features\n",
    "# Extracts statistical features with exponential weighting, giving more importance to recent values\n",
    "ew_config = EWStatisticalConfig(\n",
    "    selected_features=[\"ew_mean\", \"ew_std\", \"ew_skew\"],         # Features to extract\n",
    "    overlap=0.5,                                                # Window overlap (0.5 = 50% overlap)\n",
    "    offset=0,                                                   # Starting offset\n",
    "    decay=0.9,                                                  # Exponential decay factor (higher = more weight on recent values)\n",
    "    eps=1e-8,                                                   # Small constant for numerical stability\n",
    ")\n",
    "\n",
    "# Option C: Wavelet Features\n",
    "# Extracts features using wavelet decomposition\n",
    "wavelet_config = WaveletConfig(\n",
    "    level=3,                # Decomposition level\n",
    "    overlap=0.5,            # Window overlap\n",
    "    offset=0,               # Starting offset\n",
    "    wavelet=\"haar\",         # Wavelet type: \"haar\", \"db4\", \"sym4\", etc.\n",
    ")\n",
    "\n",
    "print(\"Feature Extraction Options:\")\n",
    "print(\"1. Statistical Features: Basic statistical properties\")\n",
    "print(\"2. EW Statistical Features: Exponentially weighted statistics\")\n",
    "print(\"3. Wavelet Features: Frequency domain decomposition\")\n",
    "```"
   ]
  },
  {
   "cell_type": "markdown",
   "id": "b6ac5aec",
   "metadata": {},
   "source": [
    "#### 🤖 Model Training\n",
    "\n",
    "Configure how your model will be trained:\n"
   ]
  },
  {
   "cell_type": "markdown",
   "id": "b7926d94",
   "metadata": {},
   "source": [
    "```python\n",
    "# Model configuration\n",
    "model_config = MLPConfig(\n",
    "    hidden_sizes=(64, 32),\n",
    "    output_size=2,\n",
    "    random_seed=42,\n",
    "    activation_function=\"relu\",\n",
    "    regularization=None,\n",
    ")\n",
    "\n",
    "# Training configuration\n",
    "trainer_config = TrainerConfig(\n",
    "    optimizer=\"adam\",                       # Options: \"adam\", \"sgd\", \"rmsprop\"\n",
    "    criterion=\"cross_entropy\",              # Loss function\n",
    "    batch_size=32,                          # Number of samples per batch\n",
    "    epochs=20,                              # Number of training epochs\n",
    "    seed=42,                                # Random seed for reproducibility\n",
    "    config_model=model_config,              # Model architecture configuration\n",
    "    learning_rate=0.001,                    # Learning rate\n",
    "    cross_validation=False,                 # Whether to use cross-validation\n",
    "    shuffle_train=True,                     # Whether to shuffle training data\n",
    ")\n",
    "\n",
    "print(\"Model Configuration:\")\n",
    "print(f\"Hidden sizes: {model_config.hidden_sizes}\")\n",
    "print(f\"Output size: {model_config.output_size}\")\n",
    "print(f\"Activation: {model_config.activation_function}\")\n",
    "\n",
    "print(\"\\nTraining Configuration:\")\n",
    "print(f\"Optimizer: {trainer_config.optimizer}\")\n",
    "print(f\"Batch size: {trainer_config.batch_size}\")\n",
    "print(f\"Epochs: {trainer_config.epochs}\")\n",
    "print(f\"Learning rate: {trainer_config.learning_rate}\")\n",
    "```"
   ]
  },
  {
   "cell_type": "markdown",
   "id": "914e02fe",
   "metadata": {},
   "source": [
    "#### 📈 Model Assessment\n",
    "\n",
    "Define how to evaluate your model:\n"
   ]
  },
  {
   "cell_type": "markdown",
   "id": "3ca69f76",
   "metadata": {},
   "source": [
    "```python\n",
    "# Model assessment configuration\n",
    "assessment_config = ModelAssessmentConfig(\n",
    "    metrics=[\"balanced_accuracy\", \"precision\", \"recall\", \"f1\"],\n",
    "    task_type=TaskType.CLASSIFICATION,                                  # Or TaskType.REGRESSION\n",
    "    export_results=True,                                                # Save results to file\n",
    "    generate_report=True ,                                              # Generate detailed HTML report\n",
    ")\n",
    "\n",
    "print(\"Assessment Configuration:\")\n",
    "print(f\"Metrics: {assessment_config.metrics}\")\n",
    "print(f\"Task type: {assessment_config.task_type}\")\n",
    "print(f\"Export results: {assessment_config.export_results}\")\n",
    "print(f\"Generate report: {assessment_config.generate_report}\")\n",
    "```"
   ]
  },
  {
   "cell_type": "markdown",
   "id": "caaff2c4",
   "metadata": {},
   "source": [
    "#### Complete Pipeline Examples\n",
    "\n",
    "Let's see some complete pipeline examples with different configurations:\n"
   ]
  },
  {
   "cell_type": "markdown",
   "id": "2ff95a59",
   "metadata": {},
   "source": [
    "**Example 1: Pipeline with Statistical Features**\n"
   ]
  },
  {
   "cell_type": "markdown",
   "id": "463fc6a7",
   "metadata": {},
   "source": [
    "```python\n",
    "# Example 1: Pipeline with Statistical Features\n",
    "config_model_stats = MLPConfig(\n",
    "    hidden_sizes=(128, 64, 32),\n",
    "    output_size=3,\n",
    "    random_seed=42,\n",
    "    activation_function=\"relu\",\n",
    "    regularization=None,\n",
    ")\n",
    "\n",
    "pipeline_stats = Pipeline(\n",
    "    [\n",
    "        ParquetDatasetConfig(\n",
    "            path=dataset_path,\n",
    "            split=0.8,\n",
    "            force_download=False,\n",
    "            columns=[\"T-JUS-CKP\", \"T-MON-CKP\", \"P-PDG\"],\n",
    "            target_column=\"class\",\n",
    "            target_class=[0, 1, 2],\n",
    "        ),\n",
    "        ImputeMissingConfig(strategy=\"mean\", columns=None),  # Impute all columns\n",
    "        NormalizeConfig(norm=\"standard\"),\n",
    "        WindowingConfig(window_size=150),\n",
    "        StatisticalConfig(),  # Extract statistical features\n",
    "        TrainerConfig(\n",
    "            optimizer=\"adam\",\n",
    "            criterion=\"cross_entropy\",\n",
    "            batch_size=64,\n",
    "            epochs=50,\n",
    "            seed=42,\n",
    "            config_model=config_model_stats,\n",
    "            learning_rate=0.0005,\n",
    "            cross_validation=True,\n",
    "            shuffle_train=True,\n",
    "        ),\n",
    "        ModelAssessmentConfig(\n",
    "            metrics=[\"balanced_accuracy\", \"precision\", \"recall\", \"f1\"],\n",
    "            task_type=TaskType.CLASSIFICATION,\n",
    "            export_results=True,\n",
    "            generate_report=True,\n",
    "        ),\n",
    "    ]\n",
    ")\n",
    "\n",
    "print(\"Pipeline with Statistical Features created successfully!\")\n",
    "print(\"This pipeline will:\")\n",
    "print(\"1. Load dataset with 3 classes\")\n",
    "print(\"2. Apply mean imputation to all columns\")\n",
    "print(\"3. Standardize the data\")\n",
    "print(\"4. Create windows of size 150\")\n",
    "print(\"5. Extract statistical features\")\n",
    "print(\"6. Train MLP with cross-validation\")\n",
    "print(\"7. Generate comprehensive assessment report\")\n",
    "```"
   ]
  },
  {
   "cell_type": "markdown",
   "id": "b67fa122",
   "metadata": {},
   "source": [
    "**Example 2: Pipeline with Wavelet Features**\n"
   ]
  },
  {
   "cell_type": "markdown",
   "id": "ecc3d8d4",
   "metadata": {},
   "source": [
    "```python\n",
    "# Example 2: Pipeline with Wavelet Features\n",
    "config_model_wavelet = MLPConfig(\n",
    "    hidden_sizes=(64, 32),\n",
    "    output_size=2,\n",
    "    random_seed=11,\n",
    "    activation_function=\"tanh\",\n",
    "    regularization=\"l2\",\n",
    ")\n",
    "\n",
    "pipeline_wavelet = Pipeline(\n",
    "    [\n",
    "        ParquetDatasetConfig(\n",
    "            path=dataset_path,\n",
    "            split=0.7,\n",
    "            columns=[\"T-JUS-CKP\", \"T-MON-CKP\"],\n",
    "            target_column=\"class\",\n",
    "            target_class=[0, 1],\n",
    "        ),\n",
    "        ImputeMissingConfig(strategy=\"forward\", columns=[\"T-JUS-CKP\", \"T-MON-CKP\"]),\n",
    "        NormalizeConfig(norm=\"l2\"),\n",
    "        WindowingConfig(window_size=200),\n",
    "        WaveletConfig(\n",
    "            level=4,\n",
    "            overlap=0.5,\n",
    "            offset=0,\n",
    "            wavelet=\"db4\",  # Daubechies wavelet\n",
    "        ),\n",
    "        TrainerConfig(\n",
    "            optimizer=\"sgd\",\n",
    "            criterion=\"cross_entropy\",\n",
    "            batch_size=16,\n",
    "            epochs=30,\n",
    "            seed=11,\n",
    "            config_model=config_model_wavelet,\n",
    "            learning_rate=0.01,\n",
    "            cross_validation=False,\n",
    "            shuffle_train=True,\n",
    "        ),\n",
    "        ModelAssessmentConfig(\n",
    "            metrics=[\"balanced_accuracy\", \"f1\"],\n",
    "            task_type=TaskType.CLASSIFICATION,\n",
    "            export_results=True,\n",
    "            generate_report=True,\n",
    "        ),\n",
    "    ]\n",
    ")\n",
    "\n",
    "print(\"Pipeline with Wavelet Features created successfully!\")\n",
    "print(\"This pipeline will:\")\n",
    "print(\"1. Load dataset with 2 classes\")\n",
    "print(\"2. Apply forward imputation to specific columns\")\n",
    "print(\"3. Apply L2 normalization\")\n",
    "print(\"4. Create windows of size 200\")\n",
    "print(\"5. Extract wavelet features using Daubechies wavelet\")\n",
    "print(\"6. Train MLP with SGD optimizer\")\n",
    "print(\"7. Generate assessment with balanced accuracy and F1 metrics\")\n",
    "```"
   ]
  },
  {
   "cell_type": "markdown",
   "id": "56b4fe9b",
   "metadata": {},
   "source": [
    "**Example 3: Minimal Pipeline**\n"
   ]
  },
  {
   "cell_type": "markdown",
   "id": "dd28137c",
   "metadata": {},
   "source": [
    "```python\n",
    "# Example 3: Minimal Pipeline\n",
    "config_model_minimal = MLPConfig(\n",
    "    hidden_sizes=(32, 16),\n",
    "    output_size=3,\n",
    "    random_seed=42,\n",
    "    activation_function=\"relu\",\n",
    "    regularization=None,\n",
    ")\n",
    "\n",
    "pipeline_minimal = Pipeline(\n",
    "    [\n",
    "        ParquetDatasetConfig(\n",
    "            path=dataset_path,\n",
    "            split=None,\n",
    "            columns=[\"T-JUS-CKP\", \"T-MON-CKP\"],\n",
    "            target_column=\"class\",\n",
    "            target_class=[0, 1, 2],\n",
    "        ),\n",
    "        WindowingConfig(window_size=200),\n",
    "        TrainerConfig(\n",
    "            optimizer=\"adam\",\n",
    "            criterion=\"cross_entropy\",\n",
    "            batch_size=32,\n",
    "            epochs=20,\n",
    "            seed=42,\n",
    "            config_model=config_model_minimal,\n",
    "            learning_rate=0.001,\n",
    "            cross_validation=False,\n",
    "            shuffle_train=True,\n",
    "        ),\n",
    "        ModelAssessmentConfig(\n",
    "            metrics=[\"balanced_accuracy\", \"precision\", \"recall\", \"f1\"],\n",
    "            task_type=TaskType.CLASSIFICATION,\n",
    "            export_results=True,\n",
    "            generate_report=False,\n",
    "        ),\n",
    "    ]\n",
    ")\n",
    "\n",
    "print(\"Minimal Pipeline created successfully!\")\n",
    "print(\"This pipeline will:\")\n",
    "print(\"1. Load dataset with 3 classes\")\n",
    "print(\"2. Create windows of size 200\")\n",
    "print(\"3. Train MLP directly on windowed data\")\n",
    "print(\"4. Generate basic assessment\")\n",
    "```"
   ]
  },
  {
   "cell_type": "markdown",
   "id": "ae716fab",
   "metadata": {},
   "source": [
    "---"
   ]
  },
  {
   "cell_type": "markdown",
   "id": "515c4c8b",
   "metadata": {},
   "source": [
    "## Report Generation\n",
    "\n",
    "The `3WToolkit` provides a `ReportGeneration` module to automatically create comprehensive HTML or LaTeX reports from model evaluation results. This feature simplifies the process of documenting, sharing, and communicating model performance in a standardized format.\n",
    "\n",
    "The `ReportGeneration` class takes the results from the `ModelAssessment` step and compiles them into a structured report that includes:\n",
    "\n",
    "- **Model and Dataset Information**: Details about the model, its configuration, and the dataset used.\n",
    "- **Performance Metrics**: A summary of key metrics like accuracy, precision, recall, and F1-score.\n",
    "- **Custom Plots**: The ability to include additional plots, such as feature importance or prediction visualizations.\n",
    "\n",
    "Reports can be generated in two formats: LaTeX (Beamer) for presentations and HTML for web viewing."
   ]
  },
  {
   "cell_type": "markdown",
   "id": "e8cec580",
   "metadata": {},
   "source": [
    "#### **Initialization - Main Parameters**"
   ]
  },
  {
   "cell_type": "markdown",
   "id": "216235ea",
   "metadata": {},
   "source": [
    "```python\n",
    "report = ReportGeneration(\n",
    "    model=your_model,                    # Trained model\n",
    "    X_train=X_train,                     # Training data (pd.Series)\n",
    "    y_train=y_train,                     # Training labels (pd.Series)\n",
    "    X_test=X_test,                       # Test data (pd.Series)\n",
    "    y_test=y_test,                       # Test labels (pd.Series)\n",
    "    predictions=predictions,             # Model predictions (pd.Series)\n",
    "    calculated_metrics=metrics_dict,     # Dictionary with calculated metrics\n",
    "    plot_config=plot_config,             # Visualization configuration\n",
    "    title=\"My Report\",                   # Report title\n",
    "    author=\"Author Name\",                # Author (default: \"3W Toolkit Report\")\n",
    "    export_report_after_generate=False   # If True, automatically saves\n",
    ")\n",
    "```"
   ]
  },
  {
   "cell_type": "markdown",
   "id": "48d4d221",
   "metadata": {},
   "source": [
    "#### **Metrics Structure**\n",
    "\n",
    "The ``calculated_metrics`` dictionary should contain pre-calculated metrics:"
   ]
  },
  {
   "cell_type": "markdown",
   "id": "c9bbe279",
   "metadata": {},
   "source": [
    "```python\n",
    "calculated_metrics = {\n",
    "    \"accuracy\": 0.95,\n",
    "    \"precision\": 0.93,\n",
    "    \"recall\": 0.94,\n",
    "    \"f1\": 0.93,\n",
    "    \"get_roc_auc\": 0.96\n",
    "}\n",
    "```"
   ]
  },
  {
   "cell_type": "markdown",
   "id": "7defd027",
   "metadata": {},
   "source": [
    "#### **Visualization Configuration**\n",
    "\n",
    "The class supports 6 types of charts through the plot_config parameter:"
   ]
  },
  {
   "cell_type": "markdown",
   "id": "13be26d5",
   "metadata": {},
   "source": [
    "```Python\n",
    "plot_config = {\n",
    "    \"PlotSeries\": {\n",
    "        \"series\": your_series,\n",
    "        \"title\": \"Time Series\"\n",
    "    },\n",
    "    \"PlotMultipleSeries\": {\n",
    "        \"series_list\": [series1, series2],\n",
    "        \"title\": \"Series Comparison\"\n",
    "    },\n",
    "    \"PlotCorrelationHeatmap\": {\n",
    "        \"df_of_series\": dataframe,\n",
    "        \"title\": \"Feature Correlation\"\n",
    "    },\n",
    "    \"PlotFFT\": {\n",
    "        \"series\": your_series,\n",
    "        \"title\": \"Frequency Analysis\"\n",
    "    },\n",
    "    \"SeasonalDecompose\": {\n",
    "        \"series\": your_series,\n",
    "        \"title\": \"Seasonal Decomposition\"\n",
    "    },\n",
    "    \"PlotWaveletSpectrogram\": {\n",
    "        \"series\": your_series,\n",
    "        \"title\": \"Wavelet Spectrogram\"\n",
    "    }\n",
    "}\n",
    "```"
   ]
  },
  {
   "cell_type": "markdown",
   "id": "7afbed20",
   "metadata": {},
   "source": [
    "#### **Report Generation**\n",
    "\n",
    "**I. LaTeX (Beamer) Format**\n",
    "\n",
    "Generates a professional Beamer presentation with:\n",
    "\n",
    "Slide 1 - Title: Uses the \"petro\" theme with custom background\n",
    "\n",
    "Slide 2 - Performance Evaluation: Table with all calculated metrics\n",
    "\n",
    "Slide 3 - Model Overview:\n",
    "\n",
    "* Model type and parameter configuration\n",
    "* Dataset statistics (number of training/test samples)\n",
    "\n",
    "Slides 4+ - Visualizations: One slide for each configured plot"
   ]
  },
  {
   "cell_type": "markdown",
   "id": "81ee0dad",
   "metadata": {},
   "source": [
    "```python\n",
    "# Generate (without auto-saving)\n",
    "doc = report.generate_summary_report(format=\"latex\")\n",
    "\n",
    "# Save manually later\n",
    "report.save_report(doc, filename=\"my_report\", format=\"latex\")\n",
    "```"
   ]
  },
  {
   "cell_type": "markdown",
   "id": "78426635",
   "metadata": {},
   "source": [
    "**Note:** *To save automatically after generation, set* `export_report_after_generate=True` *during initialization.*"
   ]
  },
  {
   "cell_type": "markdown",
   "id": "07393c9e",
   "metadata": {},
   "source": [
    "**II. HTML Format**\n",
    "\n",
    "Generates a web report using Jinja2 templates with the same information as the LaTeX version"
   ]
  },
  {
   "cell_type": "markdown",
   "id": "d42afafd",
   "metadata": {},
   "source": [
    "```python\n",
    "# Using default template (report_template.html)\n",
    "html_content = report.generate_summary_report(format=\"html\")\n",
    "\n",
    "# Using custom template\n",
    "html_content = report.generate_summary_report(\n",
    "    format=\"html\",\n",
    "    template_name=\"my_custom_template.html\"\n",
    ")\n",
    "```"
   ]
  },
  {
   "cell_type": "markdown",
   "id": "f48a46fd",
   "metadata": {},
   "source": [
    "#### **Usage Tips**"
   ]
  },
  {
   "cell_type": "markdown",
   "id": "a5dd4caf",
   "metadata": {},
   "source": [
    "##### 1 - Integration with ``ModelAssessment``\n",
    "\n",
    "The class is designed to receive results from ``ModelAssessment``. Use the already calculated metrics:\n",
    "\n",
    "```python\n",
    "# After running ModelAssessment\n",
    "assessment = ModelAssessment(...)\n",
    "metrics = assessment.calculate_metrics()\n",
    "\n",
    "# Pass directly to ReportGeneration\n",
    "report = ReportGeneration(\n",
    "    ...,\n",
    "    calculated_metrics=metrics,\n",
    "    ...\n",
    ")\n",
    "```\n",
    "\n",
    "##### 2 - Automatic Plot Validation\n",
    "\n",
    "The class automatically validates plot configuration:\n",
    "\n",
    "* Checks if plot names are valid\n",
    "* Ensures required parameters are present\n",
    "* Raises descriptive errors if there are issues\n",
    "\n",
    "##### 3 - Relative Paths for Portability\n",
    "\n",
    "All images use relative paths, allowing you to:\n",
    "\n",
    "* Share the complete reports folder\n",
    "* Compile LaTeX on different machines\n",
    "* View HTML in any browser without configuration\n",
    "\n",
    "##### 4 - Automatic Name Formatting\n",
    "\n",
    "* Metric names are automatically converted: \"get_roc_auc\" → \"ROC AUC\"\n",
    "* Model parameters are formatted: \"learning_rate\" → \"Learning Rate\"\n",
    "* Long values are truncated to avoid layout issues\n",
    "\n",
    "##### 5 - Model Requirements\n",
    "\n",
    "The model must have a config attribute that can be iterated. The class accesses model.config to display parameters in the report."
   ]
  },
  {
   "cell_type": "markdown",
   "id": "6acea373",
   "metadata": {},
   "source": [
    "____"
   ]
  },
  {
   "cell_type": "markdown",
   "id": "9a1cd4ad",
   "metadata": {},
   "source": [
    "## Next Steps\n",
    "\n",
    "🎉 **Congratulations!** You’ve completed the full walkthrough of the **3W Toolkit** — from data preprocessing to model evaluation and report generation.\n",
    "\n",
    "### What's Next?\n",
    "\n",
    "1. **Join the Community** 🤝\n",
    "   Contribute to the 3W Toolkit by reporting issues, suggesting new features, or submitting pull requests. Your feedback helps make the toolkit even better!\n",
    "\n",
    "2. **Extend the Toolkit** 🚀\n",
    "   Try building your own modules — new preprocessors, feature extractors, or models — and integrate them into the pipeline.\n",
    "\n",
    "3. **Share Your Work** 🌍\n",
    "   Showcase how you used the toolkit for your own time series analysis projects!\n",
    "\n",
    "> 💡 *Let’s keep building open, transparent, and reproducible workflows together.*"
   ]
  },
  {
   "cell_type": "markdown",
   "id": "ecd142cd",
   "metadata": {},
   "source": [
    "---\n",
    "\n",
    "**📚 Tutorial Navigation:**\n",
    "- **Previous**: [7. Model Training and Evaluation](7_model_training_and_evaluation.ipynb)\n",
    "\n",
    "**🔗 Additional Resources:**\n",
    "- [3W Project Repository](https://github.com/petrobras/3W)\n",
    "- [3W Dataset on Figshare](https://figshare.com/projects/3W_Dataset/251195)\n"
   ]
  }
 ],
 "metadata": {
  "kernelspec": {
   "display_name": "Python 3",
   "language": "python",
   "name": "python3"
  },
  "language_info": {
   "codemirror_mode": {
    "name": "ipython",
    "version": 3
   },
   "file_extension": ".py",
   "mimetype": "text/x-python",
   "name": "python",
   "nbconvert_exporter": "python",
   "pygments_lexer": "ipython3",
   "version": "3.10.11"
  }
 },
 "nbformat": 4,
 "nbformat_minor": 5
}
