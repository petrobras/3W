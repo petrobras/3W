{
 "cells": [
  {
   "cell_type": "markdown",
   "id": "a3e5eb97",
   "metadata": {},
   "source": [
    "# Pipeline Integration"
   ]
  },
  {
   "cell_type": "markdown",
   "id": "89356d8c",
   "metadata": {},
   "source": [
    "## 🔗 Introduction to Pipeline Integration"
   ]
  },
  {
   "cell_type": "markdown",
   "id": "af92f106",
   "metadata": {},
   "source": [
    "\n",
    "\n",
    "The `Pipeline` class provides a powerful way to chain together all the steps of your machine learning workflow in a single, cohesive structure. This approach ensures reproducibility, reduces boilerplate code, and makes it easier to experiment with different configurations.\n",
    "\n",
    "The Pipeline in 3WToolkit v2.0.0 follows a sequential execution model where each step processes the data and passes it to the next stage. The pipeline automatically handles data transformations between steps, ensuring compatibility and proper data flow.\n",
    "\n",
    "**Pipeline Execution Flow:**\n",
    "```\n",
    "Dataset Loading → Preprocessing → Feature Extraction → Model Training → Model Assessment\n",
    "```\n",
    "\n",
    "Each component in the pipeline is configured using its respective configuration class, which encapsulates all the parameters needed for that specific step.\n"
   ]
  },
  {
   "cell_type": "markdown",
   "id": "4fa96261",
   "metadata": {},
   "source": [
    "### 1. Creating a Basic Pipeline\n"
   ]
  },
  {
   "cell_type": "markdown",
   "id": "0a954751",
   "metadata": {},
   "source": [
    "\n",
    "\n",
    "To create a pipeline, you'll need to import the necessary configuration classes and the `Pipeline` class itself:\n"
   ]
  },
  {
   "cell_type": "code",
   "execution_count": 1,
   "id": "5ae34330",
   "metadata": {},
   "outputs": [],
   "source": [
    "import matplotlib.pyplot as plt\n",
    "\n",
    "from ThreeWToolkit.pipeline import Pipeline\n",
    "from ThreeWToolkit.core.base_dataset import ParquetDatasetConfig\n",
    "from ThreeWToolkit.core.base_preprocessing import (\n",
    "    ImputeMissingConfig,\n",
    "    NormalizeConfig,\n",
    "    WindowingConfig,\n",
    ")\n",
    "from ThreeWToolkit.core.base_assessment import ModelAssessmentConfig\n",
    "from ThreeWToolkit.core.enums import TaskType\n",
    "from ThreeWToolkit.models.mlp import MLPConfig\n",
    "from ThreeWToolkit.trainer.trainer import TrainerConfig\n"
   ]
  },
  {
   "cell_type": "code",
   "execution_count": 2,
   "id": "16b734d3",
   "metadata": {},
   "outputs": [],
   "source": [
    "\n",
    "# Define dataset path\n",
    "dataset_path = \"../../dataset\"\n"
   ]
  },
  {
   "cell_type": "markdown",
   "id": "c9e144ef",
   "metadata": {},
   "source": [
    "Now let's create a simple pipeline:\n"
   ]
  },
  {
   "cell_type": "code",
   "execution_count": null,
   "id": "183102a1",
   "metadata": {},
   "outputs": [
    {
     "name": "stdout",
     "output_type": "stream",
     "text": [
      "[ParquetDataset] Dataset found at ../../dataset\n",
      "[ParquetDataset] Validating dataset integrity...\n",
      "[ParquetDataset] Dataset integrity check passed!\n",
      ">> ['T-JUS-CKP', 'T-MON-CKP']\n"
     ]
    }
   ],
   "source": [
    "# Define the model configuration\n",
    "config_model = MLPConfig(\n",
    "    hidden_sizes=(64, 32),\n",
    "    output_size=2, \n",
    "    random_seed=42,\n",
    "    activation_function=\"relu\",\n",
    "    regularization=None,\n",
    ")\n",
    "\n",
    "# Create the pipeline with sequential steps\n",
    "pipeline = Pipeline(\n",
    "    [\n",
    "        # Step 1: Load Dataset\n",
    "        ParquetDatasetConfig(\n",
    "            path=dataset_path,\n",
    "            split=None,\n",
    "            columns=[\"T-JUS-CKP\", \"T-MON-CKP\"],\n",
    "            target_column=\"class\",\n",
    "            target_class=[0, 1],\n",
    "        ),\n",
    "        # Step 2: Preprocessing\n",
    "        ImputeMissingConfig(strategy=\"median\", columns=[\"T-JUS-CKP\"]),\n",
    "        NormalizeConfig(norm=\"l2\"),\n",
    "        WindowingConfig(window_size=100),\n",
    "        # Step 3: Model Training\n",
    "        TrainerConfig(\n",
    "            optimizer=\"adam\",\n",
    "            criterion=\"cross_entropy\",\n",
    "            batch_size=32,\n",
    "            epochs=20,\n",
    "            seed=42,\n",
    "            config_model=config_model,\n",
    "            learning_rate=0.001,\n",
    "            cross_validation=False,\n",
    "            shuffle_train=True,\n",
    "        ),\n",
    "        # Step 4: Model Assessment\n",
    "        ModelAssessmentConfig(\n",
    "            metrics=[\"balanced_accuracy\", \"precision\", \"recall\", \"f1\"],\n",
    "            task_type=TaskType.CLASSIFICATION,\n",
    "            export_results=True,\n",
    "            generate_report=False,\n",
    "        ),\n",
    "    ]\n",
    ")\n"
   ]
  },
  {
   "cell_type": "code",
   "execution_count": 6,
   "id": "b8569138",
   "metadata": {},
   "outputs": [
    {
     "data": {
      "application/vnd.jupyter.widget-view+json": {
       "model_id": "73420018897847cdad516b164ffc9445",
       "version_major": 2,
       "version_minor": 0
      },
      "text/plain": [
       "[Pipeline] Processing batches:   0%|          | 0/722 [00:00<?, ?file/s]"
      ]
     },
     "metadata": {},
     "output_type": "display_data"
    },
    {
     "data": {
      "application/vnd.jupyter.widget-view+json": {
       "model_id": "84f3dd1802724f29b1cecb54d9440a2a",
       "version_major": 2,
       "version_minor": 0
      },
      "text/plain": [
       "[Pipeline] Preprocessing steps:   0%|          | 0/3 [00:00<?, ?step/s]"
      ]
     },
     "metadata": {},
     "output_type": "display_data"
    },
    {
     "data": {
      "application/vnd.jupyter.widget-view+json": {
       "model_id": "7cc12e68fac643b6a16eae425f0d38e8",
       "version_major": 2,
       "version_minor": 0
      },
      "text/plain": [
       "[Pipeline] Preprocessing steps:   0%|          | 0/3 [00:00<?, ?step/s]"
      ]
     },
     "metadata": {},
     "output_type": "display_data"
    },
    {
     "data": {
      "application/vnd.jupyter.widget-view+json": {
       "model_id": "90b9f648280b48aca9dbb8866d86d108",
       "version_major": 2,
       "version_minor": 0
      },
      "text/plain": [
       "[Pipeline] Preprocessing steps:   0%|          | 0/3 [00:00<?, ?step/s]"
      ]
     },
     "metadata": {},
     "output_type": "display_data"
    },
    {
     "data": {
      "application/vnd.jupyter.widget-view+json": {
       "model_id": "3443af0dad954e23a1bdee9577b6579e",
       "version_major": 2,
       "version_minor": 0
      },
      "text/plain": [
       "[Pipeline] Preprocessing steps:   0%|          | 0/3 [00:00<?, ?step/s]"
      ]
     },
     "metadata": {},
     "output_type": "display_data"
    },
    {
     "data": {
      "application/vnd.jupyter.widget-view+json": {
       "model_id": "69941aaba21d46358517dff78fb24553",
       "version_major": 2,
       "version_minor": 0
      },
      "text/plain": [
       "[Pipeline] Preprocessing steps:   0%|          | 0/3 [00:00<?, ?step/s]"
      ]
     },
     "metadata": {},
     "output_type": "display_data"
    },
    {
     "data": {
      "application/vnd.jupyter.widget-view+json": {
       "model_id": "9a4bbdf3edf74b3eb18aa5f3caf10646",
       "version_major": 2,
       "version_minor": 0
      },
      "text/plain": [
       "[Pipeline] Preprocessing steps:   0%|          | 0/3 [00:00<?, ?step/s]"
      ]
     },
     "metadata": {},
     "output_type": "display_data"
    },
    {
     "data": {
      "application/vnd.jupyter.widget-view+json": {
       "model_id": "670bbbce4bb74baaa049797f5cff6058",
       "version_major": 2,
       "version_minor": 0
      },
      "text/plain": [
       "[Pipeline] Preprocessing steps:   0%|          | 0/3 [00:00<?, ?step/s]"
      ]
     },
     "metadata": {},
     "output_type": "display_data"
    },
    {
     "data": {
      "application/vnd.jupyter.widget-view+json": {
       "model_id": "ba50a33d63e24c03bbebf64f13dbfb20",
       "version_major": 2,
       "version_minor": 0
      },
      "text/plain": [
       "[Pipeline] Preprocessing steps:   0%|          | 0/3 [00:00<?, ?step/s]"
      ]
     },
     "metadata": {},
     "output_type": "display_data"
    },
    {
     "data": {
      "application/vnd.jupyter.widget-view+json": {
       "model_id": "ee2146a72dac409ebf8cef65ea373bd3",
       "version_major": 2,
       "version_minor": 0
      },
      "text/plain": [
       "[Pipeline] Preprocessing steps:   0%|          | 0/3 [00:00<?, ?step/s]"
      ]
     },
     "metadata": {},
     "output_type": "display_data"
    },
    {
     "data": {
      "application/vnd.jupyter.widget-view+json": {
       "model_id": "2082a84983e64de8be7eb7320373eed9",
       "version_major": 2,
       "version_minor": 0
      },
      "text/plain": [
       "[Pipeline] Preprocessing steps:   0%|          | 0/3 [00:00<?, ?step/s]"
      ]
     },
     "metadata": {},
     "output_type": "display_data"
    },
    {
     "data": {
      "application/vnd.jupyter.widget-view+json": {
       "model_id": "cc4bcc1d96c64aee9dc07af3b3fdbb88",
       "version_major": 2,
       "version_minor": 0
      },
      "text/plain": [
       "[Pipeline] Preprocessing steps:   0%|          | 0/3 [00:00<?, ?step/s]"
      ]
     },
     "metadata": {},
     "output_type": "display_data"
    },
    {
     "data": {
      "application/vnd.jupyter.widget-view+json": {
       "model_id": "7c8e367e729d4135bfc0322640d70693",
       "version_major": 2,
       "version_minor": 0
      },
      "text/plain": [
       "[Pipeline] Preprocessing steps:   0%|          | 0/3 [00:00<?, ?step/s]"
      ]
     },
     "metadata": {},
     "output_type": "display_data"
    },
    {
     "data": {
      "application/vnd.jupyter.widget-view+json": {
       "model_id": "a0bd3ddb041c43bcb130d6757b63fb0f",
       "version_major": 2,
       "version_minor": 0
      },
      "text/plain": [
       "[Pipeline] Preprocessing steps:   0%|          | 0/3 [00:00<?, ?step/s]"
      ]
     },
     "metadata": {},
     "output_type": "display_data"
    },
    {
     "data": {
      "application/vnd.jupyter.widget-view+json": {
       "model_id": "a0274445e79b454fb139b386ea02d5e6",
       "version_major": 2,
       "version_minor": 0
      },
      "text/plain": [
       "[Pipeline] Preprocessing steps:   0%|          | 0/3 [00:00<?, ?step/s]"
      ]
     },
     "metadata": {},
     "output_type": "display_data"
    },
    {
     "data": {
      "application/vnd.jupyter.widget-view+json": {
       "model_id": "50a1a2edb3d346cbadaae6a225890411",
       "version_major": 2,
       "version_minor": 0
      },
      "text/plain": [
       "[Pipeline] Preprocessing steps:   0%|          | 0/3 [00:00<?, ?step/s]"
      ]
     },
     "metadata": {},
     "output_type": "display_data"
    },
    {
     "data": {
      "application/vnd.jupyter.widget-view+json": {
       "model_id": "dee1cf975a0449d6a2fd261832475288",
       "version_major": 2,
       "version_minor": 0
      },
      "text/plain": [
       "[Pipeline] Preprocessing steps:   0%|          | 0/3 [00:00<?, ?step/s]"
      ]
     },
     "metadata": {},
     "output_type": "display_data"
    },
    {
     "data": {
      "application/vnd.jupyter.widget-view+json": {
       "model_id": "3661aee118154288a31e5ed98367b57c",
       "version_major": 2,
       "version_minor": 0
      },
      "text/plain": [
       "[Pipeline] Preprocessing steps:   0%|          | 0/3 [00:00<?, ?step/s]"
      ]
     },
     "metadata": {},
     "output_type": "display_data"
    },
    {
     "data": {
      "application/vnd.jupyter.widget-view+json": {
       "model_id": "ad0f28b86b5445abb327699963353d5b",
       "version_major": 2,
       "version_minor": 0
      },
      "text/plain": [
       "[Pipeline] Preprocessing steps:   0%|          | 0/3 [00:00<?, ?step/s]"
      ]
     },
     "metadata": {},
     "output_type": "display_data"
    },
    {
     "data": {
      "application/vnd.jupyter.widget-view+json": {
       "model_id": "a35cf5ee532d4de583b3c711499063ca",
       "version_major": 2,
       "version_minor": 0
      },
      "text/plain": [
       "[Pipeline] Preprocessing steps:   0%|          | 0/3 [00:00<?, ?step/s]"
      ]
     },
     "metadata": {},
     "output_type": "display_data"
    },
    {
     "data": {
      "application/vnd.jupyter.widget-view+json": {
       "model_id": "fbac360e0df94da694d925342911ba50",
       "version_major": 2,
       "version_minor": 0
      },
      "text/plain": [
       "[Pipeline] Preprocessing steps:   0%|          | 0/3 [00:00<?, ?step/s]"
      ]
     },
     "metadata": {},
     "output_type": "display_data"
    },
    {
     "data": {
      "application/vnd.jupyter.widget-view+json": {
       "model_id": "25931aebf4b24444bf94c43de5541dc5",
       "version_major": 2,
       "version_minor": 0
      },
      "text/plain": [
       "[Pipeline] Preprocessing steps:   0%|          | 0/3 [00:00<?, ?step/s]"
      ]
     },
     "metadata": {},
     "output_type": "display_data"
    },
    {
     "data": {
      "application/vnd.jupyter.widget-view+json": {
       "model_id": "2c948030276b4e8883dac52a235e1afb",
       "version_major": 2,
       "version_minor": 0
      },
      "text/plain": [
       "[Pipeline] Preprocessing steps:   0%|          | 0/3 [00:00<?, ?step/s]"
      ]
     },
     "metadata": {},
     "output_type": "display_data"
    },
    {
     "data": {
      "application/vnd.jupyter.widget-view+json": {
       "model_id": "e4a22de36710462a9583e15abdac89ca",
       "version_major": 2,
       "version_minor": 0
      },
      "text/plain": [
       "[Pipeline] Preprocessing steps:   0%|          | 0/3 [00:00<?, ?step/s]"
      ]
     },
     "metadata": {},
     "output_type": "display_data"
    },
    {
     "data": {
      "application/vnd.jupyter.widget-view+json": {
       "model_id": "0838bb57631346b08c6c61f8ab68a19e",
       "version_major": 2,
       "version_minor": 0
      },
      "text/plain": [
       "[Pipeline] Preprocessing steps:   0%|          | 0/3 [00:00<?, ?step/s]"
      ]
     },
     "metadata": {},
     "output_type": "display_data"
    },
    {
     "data": {
      "application/vnd.jupyter.widget-view+json": {
       "model_id": "d06a1eee2694402d8f61038fd67268f6",
       "version_major": 2,
       "version_minor": 0
      },
      "text/plain": [
       "[Pipeline] Preprocessing steps:   0%|          | 0/3 [00:00<?, ?step/s]"
      ]
     },
     "metadata": {},
     "output_type": "display_data"
    },
    {
     "data": {
      "application/vnd.jupyter.widget-view+json": {
       "model_id": "3833c806a6204619aba715e081f0b29d",
       "version_major": 2,
       "version_minor": 0
      },
      "text/plain": [
       "[Pipeline] Preprocessing steps:   0%|          | 0/3 [00:00<?, ?step/s]"
      ]
     },
     "metadata": {},
     "output_type": "display_data"
    },
    {
     "data": {
      "application/vnd.jupyter.widget-view+json": {
       "model_id": "8cba4ebd1c3e401db6eb83b1831d92ed",
       "version_major": 2,
       "version_minor": 0
      },
      "text/plain": [
       "[Pipeline] Preprocessing steps:   0%|          | 0/3 [00:00<?, ?step/s]"
      ]
     },
     "metadata": {},
     "output_type": "display_data"
    },
    {
     "data": {
      "application/vnd.jupyter.widget-view+json": {
       "model_id": "0deaf3ea873d4afda08fcda08537b536",
       "version_major": 2,
       "version_minor": 0
      },
      "text/plain": [
       "[Pipeline] Preprocessing steps:   0%|          | 0/3 [00:00<?, ?step/s]"
      ]
     },
     "metadata": {},
     "output_type": "display_data"
    },
    {
     "data": {
      "application/vnd.jupyter.widget-view+json": {
       "model_id": "7e59d361120440cea7b8cdebc58c2fcd",
       "version_major": 2,
       "version_minor": 0
      },
      "text/plain": [
       "[Pipeline] Preprocessing steps:   0%|          | 0/3 [00:00<?, ?step/s]"
      ]
     },
     "metadata": {},
     "output_type": "display_data"
    },
    {
     "data": {
      "application/vnd.jupyter.widget-view+json": {
       "model_id": "c2d3148e3a0f490285d1ec37c59e21da",
       "version_major": 2,
       "version_minor": 0
      },
      "text/plain": [
       "[Pipeline] Preprocessing steps:   0%|          | 0/3 [00:00<?, ?step/s]"
      ]
     },
     "metadata": {},
     "output_type": "display_data"
    },
    {
     "data": {
      "application/vnd.jupyter.widget-view+json": {
       "model_id": "82ec5be12a694e869a7507a5a66427f1",
       "version_major": 2,
       "version_minor": 0
      },
      "text/plain": [
       "[Pipeline] Preprocessing steps:   0%|          | 0/3 [00:00<?, ?step/s]"
      ]
     },
     "metadata": {},
     "output_type": "display_data"
    },
    {
     "data": {
      "application/vnd.jupyter.widget-view+json": {
       "model_id": "5f7f5ad0ac694264b2b869f7360703e7",
       "version_major": 2,
       "version_minor": 0
      },
      "text/plain": [
       "[Pipeline] Preprocessing steps:   0%|          | 0/3 [00:00<?, ?step/s]"
      ]
     },
     "metadata": {},
     "output_type": "display_data"
    },
    {
     "data": {
      "application/vnd.jupyter.widget-view+json": {
       "model_id": "7ed359729967488088dde6b38ecc80dd",
       "version_major": 2,
       "version_minor": 0
      },
      "text/plain": [
       "[Pipeline] Preprocessing steps:   0%|          | 0/3 [00:00<?, ?step/s]"
      ]
     },
     "metadata": {},
     "output_type": "display_data"
    },
    {
     "data": {
      "application/vnd.jupyter.widget-view+json": {
       "model_id": "1f3c801e146f4d64a5dbb0892641f254",
       "version_major": 2,
       "version_minor": 0
      },
      "text/plain": [
       "[Pipeline] Preprocessing steps:   0%|          | 0/3 [00:00<?, ?step/s]"
      ]
     },
     "metadata": {},
     "output_type": "display_data"
    },
    {
     "data": {
      "application/vnd.jupyter.widget-view+json": {
       "model_id": "b44812200bf244a99a9e179b02a9f531",
       "version_major": 2,
       "version_minor": 0
      },
      "text/plain": [
       "[Pipeline] Preprocessing steps:   0%|          | 0/3 [00:00<?, ?step/s]"
      ]
     },
     "metadata": {},
     "output_type": "display_data"
    },
    {
     "data": {
      "application/vnd.jupyter.widget-view+json": {
       "model_id": "e3896368d1eb4104b2b517c9ea7432cb",
       "version_major": 2,
       "version_minor": 0
      },
      "text/plain": [
       "[Pipeline] Preprocessing steps:   0%|          | 0/3 [00:00<?, ?step/s]"
      ]
     },
     "metadata": {},
     "output_type": "display_data"
    },
    {
     "data": {
      "application/vnd.jupyter.widget-view+json": {
       "model_id": "bd00d1a7c09d407ca9cd316f39ae7be4",
       "version_major": 2,
       "version_minor": 0
      },
      "text/plain": [
       "[Pipeline] Preprocessing steps:   0%|          | 0/3 [00:00<?, ?step/s]"
      ]
     },
     "metadata": {},
     "output_type": "display_data"
    },
    {
     "data": {
      "application/vnd.jupyter.widget-view+json": {
       "model_id": "4135ba9dbcb34cba8b9902537baa21bb",
       "version_major": 2,
       "version_minor": 0
      },
      "text/plain": [
       "[Pipeline] Preprocessing steps:   0%|          | 0/3 [00:00<?, ?step/s]"
      ]
     },
     "metadata": {},
     "output_type": "display_data"
    },
    {
     "data": {
      "application/vnd.jupyter.widget-view+json": {
       "model_id": "d33431bb4e1a4535bb8e3c9100387d05",
       "version_major": 2,
       "version_minor": 0
      },
      "text/plain": [
       "[Pipeline] Preprocessing steps:   0%|          | 0/3 [00:00<?, ?step/s]"
      ]
     },
     "metadata": {},
     "output_type": "display_data"
    },
    {
     "data": {
      "application/vnd.jupyter.widget-view+json": {
       "model_id": "a2c9e2d294d0455387024442e4f4f2ae",
       "version_major": 2,
       "version_minor": 0
      },
      "text/plain": [
       "[Pipeline] Preprocessing steps:   0%|          | 0/3 [00:00<?, ?step/s]"
      ]
     },
     "metadata": {},
     "output_type": "display_data"
    },
    {
     "data": {
      "application/vnd.jupyter.widget-view+json": {
       "model_id": "177ba57006244f74b0841c1d4041cfda",
       "version_major": 2,
       "version_minor": 0
      },
      "text/plain": [
       "[Pipeline] Preprocessing steps:   0%|          | 0/3 [00:00<?, ?step/s]"
      ]
     },
     "metadata": {},
     "output_type": "display_data"
    },
    {
     "data": {
      "application/vnd.jupyter.widget-view+json": {
       "model_id": "478299bb27dd4f5fb1c620c1645bfffc",
       "version_major": 2,
       "version_minor": 0
      },
      "text/plain": [
       "[Pipeline] Preprocessing steps:   0%|          | 0/3 [00:00<?, ?step/s]"
      ]
     },
     "metadata": {},
     "output_type": "display_data"
    },
    {
     "data": {
      "application/vnd.jupyter.widget-view+json": {
       "model_id": "adc85e715bd94447b0bb5b076ca88ee9",
       "version_major": 2,
       "version_minor": 0
      },
      "text/plain": [
       "[Pipeline] Preprocessing steps:   0%|          | 0/3 [00:00<?, ?step/s]"
      ]
     },
     "metadata": {},
     "output_type": "display_data"
    },
    {
     "data": {
      "application/vnd.jupyter.widget-view+json": {
       "model_id": "4447132d6b3341c5ace1069debea798e",
       "version_major": 2,
       "version_minor": 0
      },
      "text/plain": [
       "[Pipeline] Preprocessing steps:   0%|          | 0/3 [00:00<?, ?step/s]"
      ]
     },
     "metadata": {},
     "output_type": "display_data"
    },
    {
     "data": {
      "application/vnd.jupyter.widget-view+json": {
       "model_id": "cdc2fd1a929f45c58c50eb351ca1f8ad",
       "version_major": 2,
       "version_minor": 0
      },
      "text/plain": [
       "[Pipeline] Preprocessing steps:   0%|          | 0/3 [00:00<?, ?step/s]"
      ]
     },
     "metadata": {},
     "output_type": "display_data"
    },
    {
     "data": {
      "application/vnd.jupyter.widget-view+json": {
       "model_id": "e975bffdd8ae45b38543a64214331289",
       "version_major": 2,
       "version_minor": 0
      },
      "text/plain": [
       "[Pipeline] Preprocessing steps:   0%|          | 0/3 [00:00<?, ?step/s]"
      ]
     },
     "metadata": {},
     "output_type": "display_data"
    },
    {
     "data": {
      "application/vnd.jupyter.widget-view+json": {
       "model_id": "cdbaad73592e41b89232a97096a26e09",
       "version_major": 2,
       "version_minor": 0
      },
      "text/plain": [
       "[Pipeline] Preprocessing steps:   0%|          | 0/3 [00:00<?, ?step/s]"
      ]
     },
     "metadata": {},
     "output_type": "display_data"
    },
    {
     "data": {
      "application/vnd.jupyter.widget-view+json": {
       "model_id": "07bf34e4580d4f10bf02d2a0c3728ea2",
       "version_major": 2,
       "version_minor": 0
      },
      "text/plain": [
       "[Pipeline] Preprocessing steps:   0%|          | 0/3 [00:00<?, ?step/s]"
      ]
     },
     "metadata": {},
     "output_type": "display_data"
    },
    {
     "data": {
      "application/vnd.jupyter.widget-view+json": {
       "model_id": "afc77e5a64a949b4888c567f15ca8c22",
       "version_major": 2,
       "version_minor": 0
      },
      "text/plain": [
       "[Pipeline] Preprocessing steps:   0%|          | 0/3 [00:00<?, ?step/s]"
      ]
     },
     "metadata": {},
     "output_type": "display_data"
    },
    {
     "data": {
      "application/vnd.jupyter.widget-view+json": {
       "model_id": "03d1830ea6614e95922e5a12a82ca575",
       "version_major": 2,
       "version_minor": 0
      },
      "text/plain": [
       "[Pipeline] Preprocessing steps:   0%|          | 0/3 [00:00<?, ?step/s]"
      ]
     },
     "metadata": {},
     "output_type": "display_data"
    },
    {
     "data": {
      "application/vnd.jupyter.widget-view+json": {
       "model_id": "f4903bbba5514403a3b8bbd2a4728a99",
       "version_major": 2,
       "version_minor": 0
      },
      "text/plain": [
       "[Pipeline] Preprocessing steps:   0%|          | 0/3 [00:00<?, ?step/s]"
      ]
     },
     "metadata": {},
     "output_type": "display_data"
    },
    {
     "data": {
      "application/vnd.jupyter.widget-view+json": {
       "model_id": "d305fed760bd4d32b7d497025f64f92b",
       "version_major": 2,
       "version_minor": 0
      },
      "text/plain": [
       "[Pipeline] Preprocessing steps:   0%|          | 0/3 [00:00<?, ?step/s]"
      ]
     },
     "metadata": {},
     "output_type": "display_data"
    },
    {
     "data": {
      "application/vnd.jupyter.widget-view+json": {
       "model_id": "3c23bc6e9c9e43b789a0efd0f5b13c3c",
       "version_major": 2,
       "version_minor": 0
      },
      "text/plain": [
       "[Pipeline] Preprocessing steps:   0%|          | 0/3 [00:00<?, ?step/s]"
      ]
     },
     "metadata": {},
     "output_type": "display_data"
    },
    {
     "data": {
      "application/vnd.jupyter.widget-view+json": {
       "model_id": "978911d616f34468b8d8d0975f3f4976",
       "version_major": 2,
       "version_minor": 0
      },
      "text/plain": [
       "[Pipeline] Preprocessing steps:   0%|          | 0/3 [00:00<?, ?step/s]"
      ]
     },
     "metadata": {},
     "output_type": "display_data"
    },
    {
     "data": {
      "application/vnd.jupyter.widget-view+json": {
       "model_id": "e21e0622994b49b1b2508f0e4a842ff4",
       "version_major": 2,
       "version_minor": 0
      },
      "text/plain": [
       "[Pipeline] Preprocessing steps:   0%|          | 0/3 [00:00<?, ?step/s]"
      ]
     },
     "metadata": {},
     "output_type": "display_data"
    },
    {
     "data": {
      "application/vnd.jupyter.widget-view+json": {
       "model_id": "bb3ef70ba2b04676ab8fa41696b7f88c",
       "version_major": 2,
       "version_minor": 0
      },
      "text/plain": [
       "[Pipeline] Preprocessing steps:   0%|          | 0/3 [00:00<?, ?step/s]"
      ]
     },
     "metadata": {},
     "output_type": "display_data"
    },
    {
     "data": {
      "application/vnd.jupyter.widget-view+json": {
       "model_id": "468cd119967240d9ac2f50d261de1ed4",
       "version_major": 2,
       "version_minor": 0
      },
      "text/plain": [
       "[Pipeline] Preprocessing steps:   0%|          | 0/3 [00:00<?, ?step/s]"
      ]
     },
     "metadata": {},
     "output_type": "display_data"
    },
    {
     "data": {
      "application/vnd.jupyter.widget-view+json": {
       "model_id": "e6896783de41458197f6cea0379e623a",
       "version_major": 2,
       "version_minor": 0
      },
      "text/plain": [
       "[Pipeline] Preprocessing steps:   0%|          | 0/3 [00:00<?, ?step/s]"
      ]
     },
     "metadata": {},
     "output_type": "display_data"
    },
    {
     "data": {
      "application/vnd.jupyter.widget-view+json": {
       "model_id": "e0df55aa80034ceba4cbb9c2137e022e",
       "version_major": 2,
       "version_minor": 0
      },
      "text/plain": [
       "[Pipeline] Preprocessing steps:   0%|          | 0/3 [00:00<?, ?step/s]"
      ]
     },
     "metadata": {},
     "output_type": "display_data"
    },
    {
     "data": {
      "application/vnd.jupyter.widget-view+json": {
       "model_id": "f4c79e5f9e85429ca5446ea08c783ca7",
       "version_major": 2,
       "version_minor": 0
      },
      "text/plain": [
       "[Pipeline] Preprocessing steps:   0%|          | 0/3 [00:00<?, ?step/s]"
      ]
     },
     "metadata": {},
     "output_type": "display_data"
    },
    {
     "data": {
      "application/vnd.jupyter.widget-view+json": {
       "model_id": "924bf16e0663457bb860e4f1a3e2e423",
       "version_major": 2,
       "version_minor": 0
      },
      "text/plain": [
       "[Pipeline] Preprocessing steps:   0%|          | 0/3 [00:00<?, ?step/s]"
      ]
     },
     "metadata": {},
     "output_type": "display_data"
    },
    {
     "data": {
      "application/vnd.jupyter.widget-view+json": {
       "model_id": "d3200b1245a5461285396869e8151d4c",
       "version_major": 2,
       "version_minor": 0
      },
      "text/plain": [
       "[Pipeline] Preprocessing steps:   0%|          | 0/3 [00:00<?, ?step/s]"
      ]
     },
     "metadata": {},
     "output_type": "display_data"
    },
    {
     "data": {
      "application/vnd.jupyter.widget-view+json": {
       "model_id": "4a5a776a8ff04dea848fc94e48cb2259",
       "version_major": 2,
       "version_minor": 0
      },
      "text/plain": [
       "[Pipeline] Preprocessing steps:   0%|          | 0/3 [00:00<?, ?step/s]"
      ]
     },
     "metadata": {},
     "output_type": "display_data"
    },
    {
     "data": {
      "application/vnd.jupyter.widget-view+json": {
       "model_id": "c45b0fc40d2946ae99d431a4ce447d01",
       "version_major": 2,
       "version_minor": 0
      },
      "text/plain": [
       "[Pipeline] Preprocessing steps:   0%|          | 0/3 [00:00<?, ?step/s]"
      ]
     },
     "metadata": {},
     "output_type": "display_data"
    },
    {
     "data": {
      "application/vnd.jupyter.widget-view+json": {
       "model_id": "7c6afe501da54bf2a57d3bd0d8b8046c",
       "version_major": 2,
       "version_minor": 0
      },
      "text/plain": [
       "[Pipeline] Preprocessing steps:   0%|          | 0/3 [00:00<?, ?step/s]"
      ]
     },
     "metadata": {},
     "output_type": "display_data"
    },
    {
     "data": {
      "application/vnd.jupyter.widget-view+json": {
       "model_id": "c5dc497948c945139a974d3ed09969a2",
       "version_major": 2,
       "version_minor": 0
      },
      "text/plain": [
       "[Pipeline] Preprocessing steps:   0%|          | 0/3 [00:00<?, ?step/s]"
      ]
     },
     "metadata": {},
     "output_type": "display_data"
    },
    {
     "data": {
      "application/vnd.jupyter.widget-view+json": {
       "model_id": "b6d438bc765c45bea873c6e426f188a5",
       "version_major": 2,
       "version_minor": 0
      },
      "text/plain": [
       "[Pipeline] Preprocessing steps:   0%|          | 0/3 [00:00<?, ?step/s]"
      ]
     },
     "metadata": {},
     "output_type": "display_data"
    },
    {
     "data": {
      "application/vnd.jupyter.widget-view+json": {
       "model_id": "7fd15592ed3649e5b9d8cdf305f13e75",
       "version_major": 2,
       "version_minor": 0
      },
      "text/plain": [
       "[Pipeline] Preprocessing steps:   0%|          | 0/3 [00:00<?, ?step/s]"
      ]
     },
     "metadata": {},
     "output_type": "display_data"
    },
    {
     "data": {
      "application/vnd.jupyter.widget-view+json": {
       "model_id": "9334feb774324283896933cb41d2966a",
       "version_major": 2,
       "version_minor": 0
      },
      "text/plain": [
       "[Pipeline] Preprocessing steps:   0%|          | 0/3 [00:00<?, ?step/s]"
      ]
     },
     "metadata": {},
     "output_type": "display_data"
    },
    {
     "data": {
      "application/vnd.jupyter.widget-view+json": {
       "model_id": "b603d58a1ec5487eb4861d7791aedfb9",
       "version_major": 2,
       "version_minor": 0
      },
      "text/plain": [
       "[Pipeline] Preprocessing steps:   0%|          | 0/3 [00:00<?, ?step/s]"
      ]
     },
     "metadata": {},
     "output_type": "display_data"
    },
    {
     "data": {
      "application/vnd.jupyter.widget-view+json": {
       "model_id": "0958ac33096c4bcb87b0ce22f760b8dc",
       "version_major": 2,
       "version_minor": 0
      },
      "text/plain": [
       "[Pipeline] Preprocessing steps:   0%|          | 0/3 [00:00<?, ?step/s]"
      ]
     },
     "metadata": {},
     "output_type": "display_data"
    },
    {
     "data": {
      "application/vnd.jupyter.widget-view+json": {
       "model_id": "4044be976d634389beb10b62436a3faa",
       "version_major": 2,
       "version_minor": 0
      },
      "text/plain": [
       "[Pipeline] Preprocessing steps:   0%|          | 0/3 [00:00<?, ?step/s]"
      ]
     },
     "metadata": {},
     "output_type": "display_data"
    },
    {
     "data": {
      "application/vnd.jupyter.widget-view+json": {
       "model_id": "1b593deb56d542799e753083ceabbe42",
       "version_major": 2,
       "version_minor": 0
      },
      "text/plain": [
       "[Pipeline] Preprocessing steps:   0%|          | 0/3 [00:00<?, ?step/s]"
      ]
     },
     "metadata": {},
     "output_type": "display_data"
    },
    {
     "data": {
      "application/vnd.jupyter.widget-view+json": {
       "model_id": "24a8c8ffbaf24d9aa3c7a0902bc6cef6",
       "version_major": 2,
       "version_minor": 0
      },
      "text/plain": [
       "[Pipeline] Training:   0%|          | 0/20 [00:00<?, ?epoch/s]"
      ]
     },
     "metadata": {},
     "output_type": "display_data"
    },
    {
     "name": "stdout",
     "output_type": "stream",
     "text": [
      "Results exported to /home/rafael/pos-doc/repos/3W/toolkit/output\n",
      "Model Assessment Summary\n",
      "========================\n",
      "Model: MLP\n",
      "Task Type: TaskType.CLASSIFICATION\n",
      "Timestamp: 2025-10-15T20:26:22.290243\n",
      "\n",
      "Metrics:\n",
      "  balanced_accuracy: 0.8705\n",
      "  precision: 0.8724\n",
      "  recall: 0.8639\n",
      "  f1: 0.8646\n"
     ]
    }
   ],
   "source": [
    "\n",
    "# Execute the entire pipeline\n",
    "pipeline.run()"
   ]
  },
  {
   "cell_type": "code",
   "execution_count": 7,
   "id": "b39caa21",
   "metadata": {},
   "outputs": [
    {
     "data": {
      "image/png": "[encoded data removed]",
      "text/plain": [
       "<Figure size 1000x500 with 1 Axes>"
      ]
     },
     "metadata": {},
     "output_type": "display_data"
    }
   ],
   "source": [
    "# Visualize training history\n",
    "hist = pipeline.step_model_training.history[0]\n",
    "\n",
    "plt.figure(figsize=(10, 5))\n",
    "plt.plot(hist[\"val_loss\"], label=\"Val Loss\")\n",
    "plt.plot(hist[\"train_loss\"], label=\"Train Loss\")\n",
    "plt.title(\"Training and Validation Loss\")\n",
    "plt.xlabel(\"Epoch\")\n",
    "plt.ylabel(\"Loss\")\n",
    "plt.legend()\n",
    "plt.show()\n"
   ]
  },
  {
   "cell_type": "markdown",
   "id": "f6d858d7",
   "metadata": {},
   "source": [
    "---\n",
    "\n",
    "## 🧩 Pipeline Modules Overview\n",
    "\n",
    "Let's explore each component of the pipeline in detail to understand how they work together.\n"
   ]
  },
  {
   "cell_type": "markdown",
   "id": "635bfcf4",
   "metadata": {},
   "source": [
    "#### 📂 Dataset Configuration\n"
   ]
  },
  {
   "cell_type": "markdown",
   "id": "2a936960",
   "metadata": {},
   "source": [
    "\n",
    "The `ParquetDatasetConfig` is always the first step in your pipeline. It defines how to load and filter your data:\n"
   ]
  },
  {
   "cell_type": "markdown",
   "id": "7a381bbe",
   "metadata": {},
   "source": [
    "```python\n",
    "# Dataset Configuration Example\n",
    "dataset_config = ParquetDatasetConfig(\n",
    "    path=\"../../dataset\",                   # Path to your parquet files\n",
    "    split=None,                             # Train/test split ratio (e.g., 0.8 for 80/20)\n",
    "    columns=[\"T-JUS-CKP\", \"T-MON-CKP\"],     # Features to use\n",
    "    target_column=\"class\",                  # Target variable column name\n",
    "    target_class=[0, 1],                    # Classes to include (for binary classification)\n",
    ")\n",
    "\n",
    "print(\"Dataset Configuration:\")\n",
    "print(f\"Path: {dataset_config.path}\")\n",
    "print(f\"Columns: {dataset_config.columns}\")\n",
    "print(f\"Target classes: {dataset_config.target_class}\")\n",
    "```\n"
   ]
  },
  {
   "cell_type": "markdown",
   "id": "e20de99f",
   "metadata": {},
   "source": [
    "#### ⚙️ Preprocessing Steps\n",
    "\n",
    "You can chain multiple preprocessing steps. They will be executed in the order they appear:\n"
   ]
  },
  {
   "cell_type": "markdown",
   "id": "a6607aad",
   "metadata": {},
   "source": [
    "```python\n",
    "# Handle missing values\n",
    "impute_config = ImputeMissingConfig(\n",
    "    strategy=\"median\",  # Options: \"mean\", \"median\", \"forward\", \"backward\"\n",
    "    columns=[\"T-JUS-CKP\"],  # Specific columns to impute\n",
    ")\n",
    "\n",
    "# Normalize the data\n",
    "normalize_config = NormalizeConfig(\n",
    "    norm=\"l2\"  # Options: \"l1\", \"l2\", \"max\", \"standard\"\n",
    ")\n",
    "\n",
    "# Create time windows\n",
    "windowing_config = WindowingConfig(\n",
    "    window_size=100  # Number of time steps per window\n",
    ")\n",
    "\n",
    "print(\"Preprocessing Configuration:\")\n",
    "print(f\"Imputation strategy: {impute_config.strategy}\")\n",
    "print(f\"Normalization norm: {normalize_config.norm}\")\n",
    "print(f\"Window size: {windowing_config.window_size}\")\n",
    "```"
   ]
  },
  {
   "cell_type": "markdown",
   "id": "73506663",
   "metadata": {},
   "source": [
    "#### 🔎 Feature Extraction (Optional)\n",
    "\n",
    "**Important:** Only one feature extraction method can be used at a time. Choose the one that best fits your problem:\n"
   ]
  },
  {
   "cell_type": "markdown",
   "id": "20abce07",
   "metadata": {},
   "source": [
    "```python\n",
    "from ThreeWToolkit.core.base_feature_extractor import (\n",
    "    StatisticalConfig,\n",
    "    EWStatisticalConfig,\n",
    "    WaveletConfig,\n",
    ")\n",
    "\n",
    "# Option A: Statistical Features\n",
    "# Extracts basic statistical features like mean, standard deviation, min, max, etc.\n",
    "statistical_config = StatisticalConfig()\n",
    "\n",
    "# Option B: Exponentially Weighted Statistical Features\n",
    "# Extracts statistical features with exponential weighting, giving more importance to recent values\n",
    "ew_config = EWStatisticalConfig(\n",
    "    selected_features=[\"ew_mean\", \"ew_std\", \"ew_skew\"],         # Features to extract\n",
    "    overlap=0.5,                                                # Window overlap (0.5 = 50% overlap)\n",
    "    offset=0,                                                   # Starting offset\n",
    "    decay=0.9,                                                  # Exponential decay factor (higher = more weight on recent values)\n",
    "    eps=1e-8,                                                   # Small constant for numerical stability\n",
    ")\n",
    "\n",
    "# Option C: Wavelet Features\n",
    "# Extracts features using wavelet decomposition\n",
    "wavelet_config = WaveletConfig(\n",
    "    level=3,                # Decomposition level\n",
    "    overlap=0.5,            # Window overlap\n",
    "    offset=0,               # Starting offset\n",
    "    wavelet=\"haar\",         # Wavelet type: \"haar\", \"db4\", \"sym4\", etc.\n",
    ")\n",
    "\n",
    "print(\"Feature Extraction Options:\")\n",
    "print(\"1. Statistical Features: Basic statistical properties\")\n",
    "print(\"2. EW Statistical Features: Exponentially weighted statistics\")\n",
    "print(\"3. Wavelet Features: Frequency domain decomposition\")\n",
    "```"
   ]
  },
  {
   "cell_type": "markdown",
   "id": "b6ac5aec",
   "metadata": {},
   "source": [
    "#### 🤖 Model Training\n",
    "\n",
    "Configure how your model will be trained:\n"
   ]
  },
  {
   "cell_type": "markdown",
   "id": "b7926d94",
   "metadata": {},
   "source": [
    "```python\n",
    "# Model configuration\n",
    "model_config = MLPConfig(\n",
    "    hidden_sizes=(64, 32),\n",
    "    output_size=2,\n",
    "    random_seed=42,\n",
    "    activation_function=\"relu\",\n",
    "    regularization=None,\n",
    ")\n",
    "\n",
    "# Training configuration\n",
    "trainer_config = TrainerConfig(\n",
    "    optimizer=\"adam\",                       # Options: \"adam\", \"sgd\", \"rmsprop\"\n",
    "    criterion=\"cross_entropy\",              # Loss function\n",
    "    batch_size=32,                          # Number of samples per batch\n",
    "    epochs=20,                              # Number of training epochs\n",
    "    seed=42,                                # Random seed for reproducibility\n",
    "    config_model=model_config,              # Model architecture configuration\n",
    "    learning_rate=0.001,                    # Learning rate\n",
    "    cross_validation=False,                 # Whether to use cross-validation\n",
    "    shuffle_train=True,                     # Whether to shuffle training data\n",
    ")\n",
    "\n",
    "print(\"Model Configuration:\")\n",
    "print(f\"Hidden sizes: {model_config.hidden_sizes}\")\n",
    "print(f\"Output size: {model_config.output_size}\")\n",
    "print(f\"Activation: {model_config.activation_function}\")\n",
    "\n",
    "print(\"\\nTraining Configuration:\")\n",
    "print(f\"Optimizer: {trainer_config.optimizer}\")\n",
    "print(f\"Batch size: {trainer_config.batch_size}\")\n",
    "print(f\"Epochs: {trainer_config.epochs}\")\n",
    "print(f\"Learning rate: {trainer_config.learning_rate}\")\n",
    "```"
   ]
  },
  {
   "cell_type": "markdown",
   "id": "914e02fe",
   "metadata": {},
   "source": [
    "#### 📈 Model Assessment\n",
    "\n",
    "Define how to evaluate your model:\n"
   ]
  },
  {
   "cell_type": "markdown",
   "id": "3ca69f76",
   "metadata": {},
   "source": [
    "```python\n",
    "# Model assessment configuration\n",
    "assessment_config = ModelAssessmentConfig(\n",
    "    metrics=[\"balanced_accuracy\", \"precision\", \"recall\", \"f1\"],\n",
    "    task_type=TaskType.CLASSIFICATION,                                  # Or TaskType.REGRESSION\n",
    "    export_results=True,                                                # Save results to file\n",
    "    generate_report=False,                                              # Generate detailed HTML report\n",
    ")\n",
    "\n",
    "print(\"Assessment Configuration:\")\n",
    "print(f\"Metrics: {assessment_config.metrics}\")\n",
    "print(f\"Task type: {assessment_config.task_type}\")\n",
    "print(f\"Export results: {assessment_config.export_results}\")\n",
    "print(f\"Generate report: {assessment_config.generate_report}\")\n",
    "```"
   ]
  },
  {
   "cell_type": "markdown",
   "id": "caaff2c4",
   "metadata": {},
   "source": [
    "#### 🔧 Complete Pipeline Examples\n",
    "\n",
    "Let's see some complete pipeline examples with different configurations:\n"
   ]
  },
  {
   "cell_type": "markdown",
   "id": "2ff95a59",
   "metadata": {},
   "source": [
    "**Example 1: Pipeline with Statistical Features**\n"
   ]
  },
  {
   "cell_type": "markdown",
   "id": "463fc6a7",
   "metadata": {},
   "source": [
    "```python\n",
    "# Example 1: Pipeline with Statistical Features\n",
    "config_model_stats = MLPConfig(\n",
    "    hidden_sizes=(128, 64, 32),\n",
    "    output_size=3,\n",
    "    random_seed=42,\n",
    "    activation_function=\"relu\",\n",
    "    regularization=None,\n",
    ")\n",
    "\n",
    "pipeline_stats = Pipeline(\n",
    "    [\n",
    "        ParquetDatasetConfig(\n",
    "            path=dataset_path,\n",
    "            split=0.8,\n",
    "            columns=[\"T-JUS-CKP\", \"T-MON-CKP\", \"P-PDG\"],\n",
    "            target_column=\"class\",\n",
    "            target_class=[0, 1, 2],\n",
    "        ),\n",
    "        ImputeMissingConfig(strategy=\"mean\", columns=None),  # Impute all columns\n",
    "        NormalizeConfig(norm=\"standard\"),\n",
    "        WindowingConfig(window_size=150),\n",
    "        StatisticalConfig(),  # Extract statistical features\n",
    "        TrainerConfig(\n",
    "            optimizer=\"adam\",\n",
    "            criterion=\"cross_entropy\",\n",
    "            batch_size=64,\n",
    "            epochs=50,\n",
    "            seed=42,\n",
    "            config_model=config_model_stats,\n",
    "            learning_rate=0.0005,\n",
    "            cross_validation=True,\n",
    "            shuffle_train=True,\n",
    "        ),\n",
    "        ModelAssessmentConfig(\n",
    "            metrics=[\"balanced_accuracy\", \"precision\", \"recall\", \"f1\"],\n",
    "            task_type=TaskType.CLASSIFICATION,\n",
    "            export_results=True,\n",
    "            generate_report=True,\n",
    "        ),\n",
    "    ]\n",
    ")\n",
    "\n",
    "print(\"Pipeline with Statistical Features created successfully!\")\n",
    "print(\"This pipeline will:\")\n",
    "print(\"1. Load dataset with 3 classes\")\n",
    "print(\"2. Apply mean imputation to all columns\")\n",
    "print(\"3. Standardize the data\")\n",
    "print(\"4. Create windows of size 150\")\n",
    "print(\"5. Extract statistical features\")\n",
    "print(\"6. Train MLP with cross-validation\")\n",
    "print(\"7. Generate comprehensive assessment report\")\n",
    "```"
   ]
  },
  {
   "cell_type": "markdown",
   "id": "b67fa122",
   "metadata": {},
   "source": [
    "**Example 2: Pipeline with Wavelet Features**\n"
   ]
  },
  {
   "cell_type": "markdown",
   "id": "ecc3d8d4",
   "metadata": {},
   "source": [
    "```python\n",
    "# Example 2: Pipeline with Wavelet Features\n",
    "config_model_wavelet = MLPConfig(\n",
    "    hidden_sizes=(64, 32),\n",
    "    output_size=2,\n",
    "    random_seed=11,\n",
    "    activation_function=\"tanh\",\n",
    "    regularization=\"l2\",\n",
    ")\n",
    "\n",
    "pipeline_wavelet = Pipeline(\n",
    "    [\n",
    "        ParquetDatasetConfig(\n",
    "            path=dataset_path,\n",
    "            split=0.7,\n",
    "            columns=[\"T-JUS-CKP\", \"T-MON-CKP\"],\n",
    "            target_column=\"class\",\n",
    "            target_class=[0, 1],\n",
    "        ),\n",
    "        ImputeMissingConfig(strategy=\"forward\", columns=[\"T-JUS-CKP\", \"T-MON-CKP\"]),\n",
    "        NormalizeConfig(norm=\"l2\"),\n",
    "        WindowingConfig(window_size=200),\n",
    "        WaveletConfig(\n",
    "            level=4,\n",
    "            overlap=0.5,\n",
    "            offset=0,\n",
    "            wavelet=\"db4\",  # Daubechies wavelet\n",
    "        ),\n",
    "        TrainerConfig(\n",
    "            optimizer=\"sgd\",\n",
    "            criterion=\"cross_entropy\",\n",
    "            batch_size=16,\n",
    "            epochs=30,\n",
    "            seed=11,\n",
    "            config_model=config_model_wavelet,\n",
    "            learning_rate=0.01,\n",
    "            cross_validation=False,\n",
    "            shuffle_train=True,\n",
    "        ),\n",
    "        ModelAssessmentConfig(\n",
    "            metrics=[\"balanced_accuracy\", \"f1\"],\n",
    "            task_type=TaskType.CLASSIFICATION,\n",
    "            export_results=True,\n",
    "            generate_report=False,\n",
    "        ),\n",
    "    ]\n",
    ")\n",
    "\n",
    "print(\"Pipeline with Wavelet Features created successfully!\")\n",
    "print(\"This pipeline will:\")\n",
    "print(\"1. Load dataset with 2 classes\")\n",
    "print(\"2. Apply forward imputation to specific columns\")\n",
    "print(\"3. Apply L2 normalization\")\n",
    "print(\"4. Create windows of size 200\")\n",
    "print(\"5. Extract wavelet features using Daubechies wavelet\")\n",
    "print(\"6. Train MLP with SGD optimizer\")\n",
    "print(\"7. Generate assessment with balanced accuracy and F1 metrics\")\n",
    "```"
   ]
  },
  {
   "cell_type": "markdown",
   "id": "56b4fe9b",
   "metadata": {},
   "source": [
    "**Example 3: Minimal Pipeline**\n"
   ]
  },
  {
   "cell_type": "markdown",
   "id": "dd28137c",
   "metadata": {},
   "source": [
    "```python\n",
    "# Example 3: Minimal Pipeline\n",
    "config_model_minimal = MLPConfig(\n",
    "    hidden_sizes=(32, 16),\n",
    "    output_size=3,\n",
    "    random_seed=42,\n",
    "    activation_function=\"relu\",\n",
    "    regularization=None,\n",
    ")\n",
    "\n",
    "pipeline_minimal = Pipeline(\n",
    "    [\n",
    "        ParquetDatasetConfig(\n",
    "            path=dataset_path,\n",
    "            split=None,\n",
    "            columns=[\"T-JUS-CKP\", \"T-MON-CKP\"],\n",
    "            target_column=\"class\",\n",
    "            target_class=[0, 1, 2],\n",
    "        ),\n",
    "        TrainerConfig(\n",
    "            optimizer=\"adam\",\n",
    "            criterion=\"cross_entropy\",\n",
    "            batch_size=32,\n",
    "            epochs=20,\n",
    "            seed=42,\n",
    "            config_model=config_model_minimal,\n",
    "            learning_rate=0.001,\n",
    "            cross_validation=False,\n",
    "            shuffle_train=True,\n",
    "        ),\n",
    "        ModelAssessmentConfig(\n",
    "            metrics=[\"balanced_accuracy\", \"precision\", \"recall\", \"f1\"],\n",
    "            task_type=TaskType.CLASSIFICATION,\n",
    "            export_results=True,\n",
    "            generate_report=False,\n",
    "        ),\n",
    "    ]\n",
    ")\n",
    "\n",
    "print(\"Minimal Pipeline created successfully!\")\n",
    "print(\"This pipeline will:\")\n",
    "print(\"1. Load dataset with 3 classes\")\n",
    "print(\"2. Skip preprocessing (use raw data)\")\n",
    "print(\"3. Train MLP directly on raw windowed data\")\n",
    "print(\"4. Generate basic assessment\")\n",
    "```"
   ]
  },
  {
   "cell_type": "markdown",
   "id": "515c4c8b",
   "metadata": {},
   "source": [
    "---\n",
    "\n",
    "## 📊 Report Generation\n",
    "\n",
    "The `3WToolkit` provides a `ReportGeneration` module to automatically create comprehensive HTML or LaTeX reports from model evaluation results. This feature simplifies the process of documenting, sharing, and communicating model performance in a standardized format.\n",
    "\n",
    "The `ReportGeneration` class takes the results from the `ModelAssessment` step and compiles them into a structured report that includes:\n",
    "\n",
    "- **Model and Dataset Information**: Details about the model, its configuration, and the dataset used.\n",
    "- **Performance Metrics**: A summary of key metrics like accuracy, precision, recall, and F1-score.\n",
    "- **Confusion Matrix**: A visualization of the model's performance for each class.\n",
    "- **Classification Report**: A detailed breakdown of metrics per class.\n",
    "- **Custom Plots**: The ability to include additional plots, such as feature importance or prediction visualizations.\n"
   ]
  },
  {
   "cell_type": "markdown",
   "id": "c50ac5a5",
   "metadata": {},
   "source": []
  }
 ],
 "metadata": {
  "kernelspec": {
   "display_name": ".venv",
   "language": "python",
   "name": "python3"
  },
  "language_info": {
   "codemirror_mode": {
    "name": "ipython",
    "version": 3
   },
   "file_extension": ".py",
   "mimetype": "text/x-python",
   "name": "python",
   "nbconvert_exporter": "python",
   "pygments_lexer": "ipython3",
   "version": "3.13.3"
  }
 },
 "nbformat": 4,
 "nbformat_minor": 5
}
