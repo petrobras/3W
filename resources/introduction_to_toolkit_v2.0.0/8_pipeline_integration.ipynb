{
 "cells": [
  {
   "cell_type": "markdown",
   "id": "fe3d91fd",
   "metadata": {},
   "source": [
    "# 8. Pipeline Integration and Report Generation\n",
    "\n",
    "**Quick overview of the Pipeline integration and report generation**\n",
    "\n",
    "This notebook provides instructions to use the pipeline and report generation tools of the **3WToolkit v2.0.0**.\n",
    "\n",
    "The `Pipeline` class provides a powerful way to chain together all the steps of your machine learning workflow in a single, cohesive structure. This approach ensures reproducibility, reduces boilerplate code, and makes it easier to experiment with different configurations.\n",
    "\n",
    "The Pipeline in 3WToolkit v2.0.0 follows a sequential execution model where each step processes the data and passes it to the next stage. The pipeline automatically handles data transformations between steps, ensuring compatibility and proper data flow.\n",
    "\n",
    "**Pipeline Execution Flow:**\n",
    "```\n",
    "Dataset Loading → Preprocessing → Feature Extraction → Model Training → Model Assessment\n",
    "```\n",
    "\n",
    "Each component in the pipeline is configured using its respective configuration class, which encapsulates all the parameters needed for that specific step.\n",
    "\n",
    "\n",
    "## 📋 Table of Contents\n",
    "\n",
    "1. [Creating a basic Pipeline](#creating-a-basic-pipeline)\n",
    "2. [Pipeline Modules Overview](#pipeline-modules-overview)\n",
    "    1. [Complete Pipeline Examples](#complete-pipeline-examples)\n",
    "3. [Report Generation](#report-generation)\n",
    "8. [Next Steps](#Next-Steps)\n",
    "---"
   ]
  },
  {
   "cell_type": "markdown",
   "id": "4fa96261",
   "metadata": {},
   "source": [
    "## Creating a basic Pipeline\n"
   ]
  },
  {
   "cell_type": "markdown",
   "id": "0a954751",
   "metadata": {},
   "source": [
    "\n",
    "\n",
    "To create a pipeline, you'll need to import the necessary configuration classes and the `Pipeline` class itself:\n"
   ]
  },
  {
   "cell_type": "code",
   "execution_count": 1,
   "id": "5ae34330",
   "metadata": {},
   "outputs": [],
   "source": [
    "import matplotlib.pyplot as plt\n",
    "\n",
    "from ThreeWToolkit.pipeline import Pipeline\n",
    "from ThreeWToolkit.core.base_dataset import ParquetDatasetConfig\n",
    "from ThreeWToolkit.core.base_preprocessing import (\n",
    "    ImputeMissingConfig,\n",
    "    NormalizeConfig,\n",
    "    WindowingConfig,\n",
    ")\n",
    "from ThreeWToolkit.core.base_assessment import ModelAssessmentConfig\n",
    "from ThreeWToolkit.core.enums import TaskType\n",
    "from ThreeWToolkit.models.mlp import MLPConfig\n",
    "from ThreeWToolkit.trainer.trainer import TrainerConfig\n"
   ]
  },
  {
   "cell_type": "code",
   "execution_count": 2,
   "id": "16b734d3",
   "metadata": {},
   "outputs": [],
   "source": [
    "# Define dataset path\n",
    "dataset_path = \"../../dataset\""
   ]
  },
  {
   "cell_type": "markdown",
   "id": "c9e144ef",
   "metadata": {},
   "source": [
    "Now let's create a simple pipeline:\n"
   ]
  },
  {
   "cell_type": "code",
   "execution_count": 3,
   "id": "183102a1",
   "metadata": {},
   "outputs": [
    {
     "name": "stdout",
     "output_type": "stream",
     "text": [
      "[ParquetDataset] Dataset found at ../../dataset\n",
      "[ParquetDataset] Validating dataset integrity...\n",
      "[ParquetDataset] Dataset integrity check passed!\n",
      ">> ['T-JUS-CKP', 'T-MON-CKP']\n"
     ]
    }
   ],
   "source": [
    "# Define the model configuration\n",
    "config_model = MLPConfig(\n",
    "    hidden_sizes=(64, 32),\n",
    "    output_size=2, \n",
    "    random_seed=42,\n",
    "    activation_function=\"relu\",\n",
    "    regularization=None,\n",
    ")\n",
    "\n",
    "# Create the pipeline with sequential steps\n",
    "pipeline = Pipeline(\n",
    "    [\n",
    "        # Step 1: Load Dataset\n",
    "        ParquetDatasetConfig(\n",
    "            path=dataset_path,\n",
    "            split=None,\n",
    "            force_download=False,\n",
    "            columns=[\"T-JUS-CKP\", \"T-MON-CKP\"],\n",
    "            target_column=\"class\",\n",
    "            target_class=[0, 1],\n",
    "        ),\n",
    "        # Step 2: Preprocessing\n",
    "        ImputeMissingConfig(strategy=\"median\", columns=[\"T-JUS-CKP\"]),\n",
    "        NormalizeConfig(norm=\"l2\"),\n",
    "        WindowingConfig(window_size=100),\n",
    "        # Step 3: Model Training\n",
    "        TrainerConfig(\n",
    "            optimizer=\"adam\",\n",
    "            criterion=\"cross_entropy\",\n",
    "            batch_size=32,\n",
    "            epochs=20,\n",
    "            seed=42,\n",
    "            config_model=config_model,\n",
    "            learning_rate=0.001,\n",
    "            cross_validation=False,\n",
    "            shuffle_train=True,\n",
    "        ),\n",
    "        # Step 4: Model Assessment\n",
    "        ModelAssessmentConfig(\n",
    "            metrics=[\"balanced_accuracy\", \"precision\", \"recall\", \"f1\"],\n",
    "            task_type=TaskType.CLASSIFICATION,\n",
    "            export_results=True,\n",
    "            generate_report=True,           # Important option to enable report generation through the Pipeline class\n",
    "        ),\n",
    "    ]\n",
    ")\n"
   ]
  },
  {
   "cell_type": "code",
   "execution_count": 4,
   "id": "b8569138",
   "metadata": {},
   "outputs": [
    {
     "data": {
      "application/vnd.jupyter.widget-view+json": {
       "model_id": "967e04e1b08d4a8cadccff263e9d3603",
       "version_major": 2,
       "version_minor": 0
      },
      "text/plain": [
       "[Pipeline] Processing batches:   0%|          | 0/722 [00:00<?, ?file/s]"
      ]
     },
     "metadata": {},
     "output_type": "display_data"
    },
    {
     "data": {
      "application/vnd.jupyter.widget-view+json": {
       "model_id": "9e5ba09c0cd24bd3ab24dc6d78ab6c8e",
       "version_major": 2,
       "version_minor": 0
      },
      "text/plain": [
       "[Pipeline] Preprocessing steps:   0%|          | 0/3 [00:00<?, ?step/s]"
      ]
     },
     "metadata": {},
     "output_type": "display_data"
    },
    {
     "data": {
      "application/vnd.jupyter.widget-view+json": {
       "model_id": "df7006129c5e49eca5adfd857d32e25d",
       "version_major": 2,
       "version_minor": 0
      },
      "text/plain": [
       "[Pipeline] Preprocessing steps:   0%|          | 0/3 [00:00<?, ?step/s]"
      ]
     },
     "metadata": {},
     "output_type": "display_data"
    },
    {
     "data": {
      "application/vnd.jupyter.widget-view+json": {
       "model_id": "3869aed27c6146a68db93cd29d8cbb86",
       "version_major": 2,
       "version_minor": 0
      },
      "text/plain": [
       "[Pipeline] Preprocessing steps:   0%|          | 0/3 [00:00<?, ?step/s]"
      ]
     },
     "metadata": {},
     "output_type": "display_data"
    },
    {
     "data": {
      "application/vnd.jupyter.widget-view+json": {
       "model_id": "50855562f9c344c88a6ed8be68e21ae7",
       "version_major": 2,
       "version_minor": 0
      },
      "text/plain": [
       "[Pipeline] Preprocessing steps:   0%|          | 0/3 [00:00<?, ?step/s]"
      ]
     },
     "metadata": {},
     "output_type": "display_data"
    },
    {
     "data": {
      "application/vnd.jupyter.widget-view+json": {
       "model_id": "537279197ce04cf382b9e4ee72d9682e",
       "version_major": 2,
       "version_minor": 0
      },
      "text/plain": [
       "[Pipeline] Preprocessing steps:   0%|          | 0/3 [00:00<?, ?step/s]"
      ]
     },
     "metadata": {},
     "output_type": "display_data"
    },
    {
     "data": {
      "application/vnd.jupyter.widget-view+json": {
       "model_id": "6d0694f7027c4887996d00bdb6b8c8fb",
       "version_major": 2,
       "version_minor": 0
      },
      "text/plain": [
       "[Pipeline] Preprocessing steps:   0%|          | 0/3 [00:00<?, ?step/s]"
      ]
     },
     "metadata": {},
     "output_type": "display_data"
    },
    {
     "data": {
      "application/vnd.jupyter.widget-view+json": {
       "model_id": "a7a394a5171a436b9333f516bd2955a9",
       "version_major": 2,
       "version_minor": 0
      },
      "text/plain": [
       "[Pipeline] Preprocessing steps:   0%|          | 0/3 [00:00<?, ?step/s]"
      ]
     },
     "metadata": {},
     "output_type": "display_data"
    },
    {
     "data": {
      "application/vnd.jupyter.widget-view+json": {
       "model_id": "3860699774574cde979f6e896473f38c",
       "version_major": 2,
       "version_minor": 0
      },
      "text/plain": [
       "[Pipeline] Preprocessing steps:   0%|          | 0/3 [00:00<?, ?step/s]"
      ]
     },
     "metadata": {},
     "output_type": "display_data"
    },
    {
     "data": {
      "application/vnd.jupyter.widget-view+json": {
       "model_id": "b8d8ee0b96b645148d98c73a3bd1d13d",
       "version_major": 2,
       "version_minor": 0
      },
      "text/plain": [
       "[Pipeline] Preprocessing steps:   0%|          | 0/3 [00:00<?, ?step/s]"
      ]
     },
     "metadata": {},
     "output_type": "display_data"
    },
    {
     "data": {
      "application/vnd.jupyter.widget-view+json": {
       "model_id": "727fc43f36f04abcb25fba11189d485e",
       "version_major": 2,
       "version_minor": 0
      },
      "text/plain": [
       "[Pipeline] Preprocessing steps:   0%|          | 0/3 [00:00<?, ?step/s]"
      ]
     },
     "metadata": {},
     "output_type": "display_data"
    },
    {
     "data": {
      "application/vnd.jupyter.widget-view+json": {
       "model_id": "54bfec186dd84c9bb7fe29df39cfac5f",
       "version_major": 2,
       "version_minor": 0
      },
      "text/plain": [
       "[Pipeline] Preprocessing steps:   0%|          | 0/3 [00:00<?, ?step/s]"
      ]
     },
     "metadata": {},
     "output_type": "display_data"
    },
    {
     "data": {
      "application/vnd.jupyter.widget-view+json": {
       "model_id": "4403175b55ab474b863da1249611a32a",
       "version_major": 2,
       "version_minor": 0
      },
      "text/plain": [
       "[Pipeline] Preprocessing steps:   0%|          | 0/3 [00:00<?, ?step/s]"
      ]
     },
     "metadata": {},
     "output_type": "display_data"
    },
    {
     "data": {
      "application/vnd.jupyter.widget-view+json": {
       "model_id": "0983bec48e1440d0a8a3bf6ca531b18e",
       "version_major": 2,
       "version_minor": 0
      },
      "text/plain": [
       "[Pipeline] Preprocessing steps:   0%|          | 0/3 [00:00<?, ?step/s]"
      ]
     },
     "metadata": {},
     "output_type": "display_data"
    },
    {
     "data": {
      "application/vnd.jupyter.widget-view+json": {
       "model_id": "45f3734403914736aa32acaa2fa92683",
       "version_major": 2,
       "version_minor": 0
      },
      "text/plain": [
       "[Pipeline] Preprocessing steps:   0%|          | 0/3 [00:00<?, ?step/s]"
      ]
     },
     "metadata": {},
     "output_type": "display_data"
    },
    {
     "data": {
      "application/vnd.jupyter.widget-view+json": {
       "model_id": "1179c4446f1546f4a752cb00258dc957",
       "version_major": 2,
       "version_minor": 0
      },
      "text/plain": [
       "[Pipeline] Preprocessing steps:   0%|          | 0/3 [00:00<?, ?step/s]"
      ]
     },
     "metadata": {},
     "output_type": "display_data"
    },
    {
     "data": {
      "application/vnd.jupyter.widget-view+json": {
       "model_id": "04b9f819752049e6bf1ebb776aeb52e1",
       "version_major": 2,
       "version_minor": 0
      },
      "text/plain": [
       "[Pipeline] Preprocessing steps:   0%|          | 0/3 [00:00<?, ?step/s]"
      ]
     },
     "metadata": {},
     "output_type": "display_data"
    },
    {
     "data": {
      "application/vnd.jupyter.widget-view+json": {
       "model_id": "5fd927a6c12a4a55bea678f183a5f8bb",
       "version_major": 2,
       "version_minor": 0
      },
      "text/plain": [
       "[Pipeline] Preprocessing steps:   0%|          | 0/3 [00:00<?, ?step/s]"
      ]
     },
     "metadata": {},
     "output_type": "display_data"
    },
    {
     "data": {
      "application/vnd.jupyter.widget-view+json": {
       "model_id": "e2e882d9b1ca465ca8a10b0739bc57f7",
       "version_major": 2,
       "version_minor": 0
      },
      "text/plain": [
       "[Pipeline] Preprocessing steps:   0%|          | 0/3 [00:00<?, ?step/s]"
      ]
     },
     "metadata": {},
     "output_type": "display_data"
    },
    {
     "data": {
      "application/vnd.jupyter.widget-view+json": {
       "model_id": "8426bbb548de4cb78b87398f8856798b",
       "version_major": 2,
       "version_minor": 0
      },
      "text/plain": [
       "[Pipeline] Preprocessing steps:   0%|          | 0/3 [00:00<?, ?step/s]"
      ]
     },
     "metadata": {},
     "output_type": "display_data"
    },
    {
     "data": {
      "application/vnd.jupyter.widget-view+json": {
       "model_id": "8c239acffbdf42cc8d26017eba67c1a9",
       "version_major": 2,
       "version_minor": 0
      },
      "text/plain": [
       "[Pipeline] Preprocessing steps:   0%|          | 0/3 [00:00<?, ?step/s]"
      ]
     },
     "metadata": {},
     "output_type": "display_data"
    },
    {
     "data": {
      "application/vnd.jupyter.widget-view+json": {
       "model_id": "f38f9943e11349ffa4f0d970f8ae2728",
       "version_major": 2,
       "version_minor": 0
      },
      "text/plain": [
       "[Pipeline] Preprocessing steps:   0%|          | 0/3 [00:00<?, ?step/s]"
      ]
     },
     "metadata": {},
     "output_type": "display_data"
    },
    {
     "data": {
      "application/vnd.jupyter.widget-view+json": {
       "model_id": "88c7670ae6824a0990b784b0cd597007",
       "version_major": 2,
       "version_minor": 0
      },
      "text/plain": [
       "[Pipeline] Preprocessing steps:   0%|          | 0/3 [00:00<?, ?step/s]"
      ]
     },
     "metadata": {},
     "output_type": "display_data"
    },
    {
     "data": {
      "application/vnd.jupyter.widget-view+json": {
       "model_id": "4a51a4ca0351462c897fb545e552c2b1",
       "version_major": 2,
       "version_minor": 0
      },
      "text/plain": [
       "[Pipeline] Preprocessing steps:   0%|          | 0/3 [00:00<?, ?step/s]"
      ]
     },
     "metadata": {},
     "output_type": "display_data"
    },
    {
     "data": {
      "application/vnd.jupyter.widget-view+json": {
       "model_id": "a9977a3222394accbccb49a099fdcc95",
       "version_major": 2,
       "version_minor": 0
      },
      "text/plain": [
       "[Pipeline] Preprocessing steps:   0%|          | 0/3 [00:00<?, ?step/s]"
      ]
     },
     "metadata": {},
     "output_type": "display_data"
    },
    {
     "data": {
      "application/vnd.jupyter.widget-view+json": {
       "model_id": "142041316102459ead0fd5e6e3eb5e08",
       "version_major": 2,
       "version_minor": 0
      },
      "text/plain": [
       "[Pipeline] Preprocessing steps:   0%|          | 0/3 [00:00<?, ?step/s]"
      ]
     },
     "metadata": {},
     "output_type": "display_data"
    },
    {
     "data": {
      "application/vnd.jupyter.widget-view+json": {
       "model_id": "c4aa886a14dd4601a24db3e91290a887",
       "version_major": 2,
       "version_minor": 0
      },
      "text/plain": [
       "[Pipeline] Preprocessing steps:   0%|          | 0/3 [00:00<?, ?step/s]"
      ]
     },
     "metadata": {},
     "output_type": "display_data"
    },
    {
     "data": {
      "application/vnd.jupyter.widget-view+json": {
       "model_id": "e8833ade1be048109d3ee13c539ecd5f",
       "version_major": 2,
       "version_minor": 0
      },
      "text/plain": [
       "[Pipeline] Preprocessing steps:   0%|          | 0/3 [00:00<?, ?step/s]"
      ]
     },
     "metadata": {},
     "output_type": "display_data"
    },
    {
     "data": {
      "application/vnd.jupyter.widget-view+json": {
       "model_id": "530ab4515b154ec09dc569856f4c9d7e",
       "version_major": 2,
       "version_minor": 0
      },
      "text/plain": [
       "[Pipeline] Preprocessing steps:   0%|          | 0/3 [00:00<?, ?step/s]"
      ]
     },
     "metadata": {},
     "output_type": "display_data"
    },
    {
     "data": {
      "application/vnd.jupyter.widget-view+json": {
       "model_id": "c3cd730bdcd944b08c8c919d31599a6f",
       "version_major": 2,
       "version_minor": 0
      },
      "text/plain": [
       "[Pipeline] Preprocessing steps:   0%|          | 0/3 [00:00<?, ?step/s]"
      ]
     },
     "metadata": {},
     "output_type": "display_data"
    },
    {
     "data": {
      "application/vnd.jupyter.widget-view+json": {
       "model_id": "d286ad0e3b19485c99e58a7a279292c9",
       "version_major": 2,
       "version_minor": 0
      },
      "text/plain": [
       "[Pipeline] Preprocessing steps:   0%|          | 0/3 [00:00<?, ?step/s]"
      ]
     },
     "metadata": {},
     "output_type": "display_data"
    },
    {
     "data": {
      "application/vnd.jupyter.widget-view+json": {
       "model_id": "d364d20670e74032ab1b76b759f4ac67",
       "version_major": 2,
       "version_minor": 0
      },
      "text/plain": [
       "[Pipeline] Preprocessing steps:   0%|          | 0/3 [00:00<?, ?step/s]"
      ]
     },
     "metadata": {},
     "output_type": "display_data"
    },
    {
     "data": {
      "application/vnd.jupyter.widget-view+json": {
       "model_id": "3d6a7298b53a4ff2bebb1a79530f7300",
       "version_major": 2,
       "version_minor": 0
      },
      "text/plain": [
       "[Pipeline] Preprocessing steps:   0%|          | 0/3 [00:00<?, ?step/s]"
      ]
     },
     "metadata": {},
     "output_type": "display_data"
    },
    {
     "data": {
      "application/vnd.jupyter.widget-view+json": {
       "model_id": "c9295547b1b74cb687f1a518ccce1852",
       "version_major": 2,
       "version_minor": 0
      },
      "text/plain": [
       "[Pipeline] Preprocessing steps:   0%|          | 0/3 [00:00<?, ?step/s]"
      ]
     },
     "metadata": {},
     "output_type": "display_data"
    },
    {
     "data": {
      "application/vnd.jupyter.widget-view+json": {
       "model_id": "c70acca8d1d7454bb7ef7f84dbc3371d",
       "version_major": 2,
       "version_minor": 0
      },
      "text/plain": [
       "[Pipeline] Preprocessing steps:   0%|          | 0/3 [00:00<?, ?step/s]"
      ]
     },
     "metadata": {},
     "output_type": "display_data"
    },
    {
     "data": {
      "application/vnd.jupyter.widget-view+json": {
       "model_id": "00cc51231c694e3b9a3351e9f56791f1",
       "version_major": 2,
       "version_minor": 0
      },
      "text/plain": [
       "[Pipeline] Preprocessing steps:   0%|          | 0/3 [00:00<?, ?step/s]"
      ]
     },
     "metadata": {},
     "output_type": "display_data"
    },
    {
     "data": {
      "application/vnd.jupyter.widget-view+json": {
       "model_id": "c84a416552e7432fa269e362300657c6",
       "version_major": 2,
       "version_minor": 0
      },
      "text/plain": [
       "[Pipeline] Preprocessing steps:   0%|          | 0/3 [00:00<?, ?step/s]"
      ]
     },
     "metadata": {},
     "output_type": "display_data"
    },
    {
     "data": {
      "application/vnd.jupyter.widget-view+json": {
       "model_id": "c9ddf94e836e4a68bcface9d9427dcd6",
       "version_major": 2,
       "version_minor": 0
      },
      "text/plain": [
       "[Pipeline] Preprocessing steps:   0%|          | 0/3 [00:00<?, ?step/s]"
      ]
     },
     "metadata": {},
     "output_type": "display_data"
    },
    {
     "data": {
      "application/vnd.jupyter.widget-view+json": {
       "model_id": "1f7063247d374f21ba534607676ab212",
       "version_major": 2,
       "version_minor": 0
      },
      "text/plain": [
       "[Pipeline] Preprocessing steps:   0%|          | 0/3 [00:00<?, ?step/s]"
      ]
     },
     "metadata": {},
     "output_type": "display_data"
    },
    {
     "data": {
      "application/vnd.jupyter.widget-view+json": {
       "model_id": "2574b6bee61847d380b2d7b19bfb9052",
       "version_major": 2,
       "version_minor": 0
      },
      "text/plain": [
       "[Pipeline] Preprocessing steps:   0%|          | 0/3 [00:00<?, ?step/s]"
      ]
     },
     "metadata": {},
     "output_type": "display_data"
    },
    {
     "data": {
      "application/vnd.jupyter.widget-view+json": {
       "model_id": "e5d0d5949f224111a29035a181e4d2d8",
       "version_major": 2,
       "version_minor": 0
      },
      "text/plain": [
       "[Pipeline] Preprocessing steps:   0%|          | 0/3 [00:00<?, ?step/s]"
      ]
     },
     "metadata": {},
     "output_type": "display_data"
    },
    {
     "data": {
      "application/vnd.jupyter.widget-view+json": {
       "model_id": "1bb18eb5ecea4ab78929a12b1836dc2f",
       "version_major": 2,
       "version_minor": 0
      },
      "text/plain": [
       "[Pipeline] Preprocessing steps:   0%|          | 0/3 [00:00<?, ?step/s]"
      ]
     },
     "metadata": {},
     "output_type": "display_data"
    },
    {
     "data": {
      "application/vnd.jupyter.widget-view+json": {
       "model_id": "ac91a8f02001462dbdcea32d3c6c03bb",
       "version_major": 2,
       "version_minor": 0
      },
      "text/plain": [
       "[Pipeline] Preprocessing steps:   0%|          | 0/3 [00:00<?, ?step/s]"
      ]
     },
     "metadata": {},
     "output_type": "display_data"
    },
    {
     "data": {
      "application/vnd.jupyter.widget-view+json": {
       "model_id": "87a32ae071b14fae8a2980280cc9e348",
       "version_major": 2,
       "version_minor": 0
      },
      "text/plain": [
       "[Pipeline] Preprocessing steps:   0%|          | 0/3 [00:00<?, ?step/s]"
      ]
     },
     "metadata": {},
     "output_type": "display_data"
    },
    {
     "data": {
      "application/vnd.jupyter.widget-view+json": {
       "model_id": "dd7ce9324a034547af30c0d95786f34a",
       "version_major": 2,
       "version_minor": 0
      },
      "text/plain": [
       "[Pipeline] Preprocessing steps:   0%|          | 0/3 [00:00<?, ?step/s]"
      ]
     },
     "metadata": {},
     "output_type": "display_data"
    },
    {
     "data": {
      "application/vnd.jupyter.widget-view+json": {
       "model_id": "f4c679132cdc4768b636f74f538a9c77",
       "version_major": 2,
       "version_minor": 0
      },
      "text/plain": [
       "[Pipeline] Preprocessing steps:   0%|          | 0/3 [00:00<?, ?step/s]"
      ]
     },
     "metadata": {},
     "output_type": "display_data"
    },
    {
     "data": {
      "application/vnd.jupyter.widget-view+json": {
       "model_id": "dd817a9e149f46b4aa00a15c2c02f091",
       "version_major": 2,
       "version_minor": 0
      },
      "text/plain": [
       "[Pipeline] Preprocessing steps:   0%|          | 0/3 [00:00<?, ?step/s]"
      ]
     },
     "metadata": {},
     "output_type": "display_data"
    },
    {
     "data": {
      "application/vnd.jupyter.widget-view+json": {
       "model_id": "527d99ae5313405ea58b4d090feb7c32",
       "version_major": 2,
       "version_minor": 0
      },
      "text/plain": [
       "[Pipeline] Preprocessing steps:   0%|          | 0/3 [00:00<?, ?step/s]"
      ]
     },
     "metadata": {},
     "output_type": "display_data"
    },
    {
     "data": {
      "application/vnd.jupyter.widget-view+json": {
       "model_id": "d9d50de0e16f4348b579bc260b45e85b",
       "version_major": 2,
       "version_minor": 0
      },
      "text/plain": [
       "[Pipeline] Preprocessing steps:   0%|          | 0/3 [00:00<?, ?step/s]"
      ]
     },
     "metadata": {},
     "output_type": "display_data"
    },
    {
     "data": {
      "application/vnd.jupyter.widget-view+json": {
       "model_id": "07b616fcf38e4571818f62664e2524ce",
       "version_major": 2,
       "version_minor": 0
      },
      "text/plain": [
       "[Pipeline] Preprocessing steps:   0%|          | 0/3 [00:00<?, ?step/s]"
      ]
     },
     "metadata": {},
     "output_type": "display_data"
    },
    {
     "data": {
      "application/vnd.jupyter.widget-view+json": {
       "model_id": "3117eb907b3e4c5ebe8d1bd540727f7d",
       "version_major": 2,
       "version_minor": 0
      },
      "text/plain": [
       "[Pipeline] Preprocessing steps:   0%|          | 0/3 [00:00<?, ?step/s]"
      ]
     },
     "metadata": {},
     "output_type": "display_data"
    },
    {
     "data": {
      "application/vnd.jupyter.widget-view+json": {
       "model_id": "6b1f616173bb41018cd2c53ee1f23fe5",
       "version_major": 2,
       "version_minor": 0
      },
      "text/plain": [
       "[Pipeline] Preprocessing steps:   0%|          | 0/3 [00:00<?, ?step/s]"
      ]
     },
     "metadata": {},
     "output_type": "display_data"
    },
    {
     "data": {
      "application/vnd.jupyter.widget-view+json": {
       "model_id": "2f5033f0b93d4ac981ee88c8d9fa8764",
       "version_major": 2,
       "version_minor": 0
      },
      "text/plain": [
       "[Pipeline] Preprocessing steps:   0%|          | 0/3 [00:00<?, ?step/s]"
      ]
     },
     "metadata": {},
     "output_type": "display_data"
    },
    {
     "data": {
      "application/vnd.jupyter.widget-view+json": {
       "model_id": "5bfc490428834aa4a9ae4c61bf5cbef0",
       "version_major": 2,
       "version_minor": 0
      },
      "text/plain": [
       "[Pipeline] Preprocessing steps:   0%|          | 0/3 [00:00<?, ?step/s]"
      ]
     },
     "metadata": {},
     "output_type": "display_data"
    },
    {
     "data": {
      "application/vnd.jupyter.widget-view+json": {
       "model_id": "4e7b0f94b19b4aa9ad80c4d7b1c2cbe0",
       "version_major": 2,
       "version_minor": 0
      },
      "text/plain": [
       "[Pipeline] Preprocessing steps:   0%|          | 0/3 [00:00<?, ?step/s]"
      ]
     },
     "metadata": {},
     "output_type": "display_data"
    },
    {
     "data": {
      "application/vnd.jupyter.widget-view+json": {
       "model_id": "7cfb4f07471b40d088b866397e084f17",
       "version_major": 2,
       "version_minor": 0
      },
      "text/plain": [
       "[Pipeline] Preprocessing steps:   0%|          | 0/3 [00:00<?, ?step/s]"
      ]
     },
     "metadata": {},
     "output_type": "display_data"
    },
    {
     "data": {
      "application/vnd.jupyter.widget-view+json": {
       "model_id": "93c2be4f5f33445e883b3034e4a56011",
       "version_major": 2,
       "version_minor": 0
      },
      "text/plain": [
       "[Pipeline] Preprocessing steps:   0%|          | 0/3 [00:00<?, ?step/s]"
      ]
     },
     "metadata": {},
     "output_type": "display_data"
    },
    {
     "data": {
      "application/vnd.jupyter.widget-view+json": {
       "model_id": "9915259b5d62412b916144bfbec0fa68",
       "version_major": 2,
       "version_minor": 0
      },
      "text/plain": [
       "[Pipeline] Preprocessing steps:   0%|          | 0/3 [00:00<?, ?step/s]"
      ]
     },
     "metadata": {},
     "output_type": "display_data"
    },
    {
     "data": {
      "application/vnd.jupyter.widget-view+json": {
       "model_id": "8210f4b9b2de4513a025d0708211022a",
       "version_major": 2,
       "version_minor": 0
      },
      "text/plain": [
       "[Pipeline] Preprocessing steps:   0%|          | 0/3 [00:00<?, ?step/s]"
      ]
     },
     "metadata": {},
     "output_type": "display_data"
    },
    {
     "data": {
      "application/vnd.jupyter.widget-view+json": {
       "model_id": "1b88cb314dc74812b0c9808b084fe97a",
       "version_major": 2,
       "version_minor": 0
      },
      "text/plain": [
       "[Pipeline] Preprocessing steps:   0%|          | 0/3 [00:00<?, ?step/s]"
      ]
     },
     "metadata": {},
     "output_type": "display_data"
    },
    {
     "data": {
      "application/vnd.jupyter.widget-view+json": {
       "model_id": "db46217338384b018d27b5564d0b0070",
       "version_major": 2,
       "version_minor": 0
      },
      "text/plain": [
       "[Pipeline] Preprocessing steps:   0%|          | 0/3 [00:00<?, ?step/s]"
      ]
     },
     "metadata": {},
     "output_type": "display_data"
    },
    {
     "data": {
      "application/vnd.jupyter.widget-view+json": {
       "model_id": "214f042630cb447085783f60f173d4de",
       "version_major": 2,
       "version_minor": 0
      },
      "text/plain": [
       "[Pipeline] Preprocessing steps:   0%|          | 0/3 [00:00<?, ?step/s]"
      ]
     },
     "metadata": {},
     "output_type": "display_data"
    },
    {
     "data": {
      "application/vnd.jupyter.widget-view+json": {
       "model_id": "e2e6548b7e464a4b92a083657624abaf",
       "version_major": 2,
       "version_minor": 0
      },
      "text/plain": [
       "[Pipeline] Preprocessing steps:   0%|          | 0/3 [00:00<?, ?step/s]"
      ]
     },
     "metadata": {},
     "output_type": "display_data"
    },
    {
     "data": {
      "application/vnd.jupyter.widget-view+json": {
       "model_id": "5c3e1601289542bab7d34e9134f20048",
       "version_major": 2,
       "version_minor": 0
      },
      "text/plain": [
       "[Pipeline] Preprocessing steps:   0%|          | 0/3 [00:00<?, ?step/s]"
      ]
     },
     "metadata": {},
     "output_type": "display_data"
    },
    {
     "data": {
      "application/vnd.jupyter.widget-view+json": {
       "model_id": "fe0822482f5e43ad900b60640d317cef",
       "version_major": 2,
       "version_minor": 0
      },
      "text/plain": [
       "[Pipeline] Preprocessing steps:   0%|          | 0/3 [00:00<?, ?step/s]"
      ]
     },
     "metadata": {},
     "output_type": "display_data"
    },
    {
     "data": {
      "application/vnd.jupyter.widget-view+json": {
       "model_id": "edc106fb5dc845918888055a50ba1844",
       "version_major": 2,
       "version_minor": 0
      },
      "text/plain": [
       "[Pipeline] Preprocessing steps:   0%|          | 0/3 [00:00<?, ?step/s]"
      ]
     },
     "metadata": {},
     "output_type": "display_data"
    },
    {
     "data": {
      "application/vnd.jupyter.widget-view+json": {
       "model_id": "4de90b6e1ac547faae8f10a707235c10",
       "version_major": 2,
       "version_minor": 0
      },
      "text/plain": [
       "[Pipeline] Preprocessing steps:   0%|          | 0/3 [00:00<?, ?step/s]"
      ]
     },
     "metadata": {},
     "output_type": "display_data"
    },
    {
     "data": {
      "application/vnd.jupyter.widget-view+json": {
       "model_id": "764358bed7ba4e93b7faaceb373d9068",
       "version_major": 2,
       "version_minor": 0
      },
      "text/plain": [
       "[Pipeline] Preprocessing steps:   0%|          | 0/3 [00:00<?, ?step/s]"
      ]
     },
     "metadata": {},
     "output_type": "display_data"
    },
    {
     "data": {
      "application/vnd.jupyter.widget-view+json": {
       "model_id": "529ff3d0d8b34ed2a1b508eb093e8c46",
       "version_major": 2,
       "version_minor": 0
      },
      "text/plain": [
       "[Pipeline] Preprocessing steps:   0%|          | 0/3 [00:00<?, ?step/s]"
      ]
     },
     "metadata": {},
     "output_type": "display_data"
    },
    {
     "data": {
      "application/vnd.jupyter.widget-view+json": {
       "model_id": "42244a8da61e4a659f1104a2bc163ee7",
       "version_major": 2,
       "version_minor": 0
      },
      "text/plain": [
       "[Pipeline] Preprocessing steps:   0%|          | 0/3 [00:00<?, ?step/s]"
      ]
     },
     "metadata": {},
     "output_type": "display_data"
    },
    {
     "data": {
      "application/vnd.jupyter.widget-view+json": {
       "model_id": "6f5238fc4c0e42ccaedf335e4d548fad",
       "version_major": 2,
       "version_minor": 0
      },
      "text/plain": [
       "[Pipeline] Preprocessing steps:   0%|          | 0/3 [00:00<?, ?step/s]"
      ]
     },
     "metadata": {},
     "output_type": "display_data"
    },
    {
     "data": {
      "application/vnd.jupyter.widget-view+json": {
       "model_id": "15e80b921a7241e7a0e975a1248396ce",
       "version_major": 2,
       "version_minor": 0
      },
      "text/plain": [
       "[Pipeline] Preprocessing steps:   0%|          | 0/3 [00:00<?, ?step/s]"
      ]
     },
     "metadata": {},
     "output_type": "display_data"
    },
    {
     "data": {
      "application/vnd.jupyter.widget-view+json": {
       "model_id": "fffd2d99f2c2416cb1c814ed0e6d9eac",
       "version_major": 2,
       "version_minor": 0
      },
      "text/plain": [
       "[Pipeline] Preprocessing steps:   0%|          | 0/3 [00:00<?, ?step/s]"
      ]
     },
     "metadata": {},
     "output_type": "display_data"
    },
    {
     "data": {
      "application/vnd.jupyter.widget-view+json": {
       "model_id": "a515cf814307465a8dd82b25a5c86f7b",
       "version_major": 2,
       "version_minor": 0
      },
      "text/plain": [
       "[Pipeline] Preprocessing steps:   0%|          | 0/3 [00:00<?, ?step/s]"
      ]
     },
     "metadata": {},
     "output_type": "display_data"
    },
    {
     "data": {
      "application/vnd.jupyter.widget-view+json": {
       "model_id": "0af4338c3edb4bda8be11dfcc61cd7b2",
       "version_major": 2,
       "version_minor": 0
      },
      "text/plain": [
       "[Pipeline] Training:   0%|          | 0/20 [00:00<?, ?epoch/s]"
      ]
     },
     "metadata": {},
     "output_type": "display_data"
    },
    {
     "name": "stdout",
     "output_type": "stream",
     "text": [
      "Reports will be saved to directory: 'D:\\Git\\3W\\toolkit\\output\\report-Model Assessment Report - MLP'\n",
      "Generating HTML report from template: 'report_template.html'...\n",
      "Markdown report generated successfully.\n",
      "Saving HTML report to 'D:\\Git\\3W\\toolkit\\output\\report-Model Assessment Report - MLP\\html\\report-Model Assessment Report - MLP.html'...\n",
      "HTML report saved successfully to 'D:\\Git\\3W\\toolkit\\output\\report-Model Assessment Report - MLP\\html\\report-Model Assessment Report - MLP.html'\n",
      "Results exported to D:\\Git\\3W\\toolkit\\output\n",
      "Model Assessment Summary\n",
      "========================\n",
      "Model: MLP\n",
      "Task Type: classification\n",
      "Timestamp: 2025-10-20T19:54:35.503066\n",
      "\n",
      "Metrics:\n",
      "  balanced_accuracy: 0.8832\n",
      "  precision: 0.8840\n",
      "  recall: 0.8784\n",
      "  f1: 0.8790\n"
     ]
    }
   ],
   "source": [
    "# Execute the entire pipeline\n",
    "pipeline.run()"
   ]
  },
  {
   "cell_type": "markdown",
   "id": "87e85ec3",
   "metadata": {},
   "source": [
    "After training, it's possible to view the training loss curve by accessing the history:"
   ]
  },
  {
   "cell_type": "code",
   "execution_count": 6,
   "id": "b39caa21",
   "metadata": {},
   "outputs": [
    {
     "data": {
      "image/png": "[encoded data removed]",
      "text/plain": [
       "<Figure size 1000x500 with 1 Axes>"
      ]
     },
     "metadata": {},
     "output_type": "display_data"
    }
   ],
   "source": [
    "# Visualize training history\n",
    "hist = pipeline.step_model_training.history[0]\n",
    "\n",
    "plt.figure(figsize=(10, 5))\n",
    "plt.plot(hist[\"val_loss\"], label=\"Val Loss\")\n",
    "plt.plot(hist[\"train_loss\"], label=\"Train Loss\")\n",
    "plt.title(\"Training and Validation Loss\")\n",
    "plt.xlabel(\"Epoch\")\n",
    "plt.ylabel(\"Loss\")\n",
    "plt.legend()\n",
    "plt.show()\n"
   ]
  },
  {
   "cell_type": "markdown",
   "id": "8d169a99",
   "metadata": {},
   "source": [
    "---"
   ]
  },
  {
   "cell_type": "markdown",
   "id": "f6d858d7",
   "metadata": {},
   "source": [
    "## Pipeline Modules Overview\n",
    "\n",
    "Let's explore each component of the pipeline in detail to understand how they work together.\n"
   ]
  },
  {
   "cell_type": "markdown",
   "id": "635bfcf4",
   "metadata": {},
   "source": [
    "#### 📂 Dataset Configuration\n"
   ]
  },
  {
   "cell_type": "markdown",
   "id": "2a936960",
   "metadata": {},
   "source": [
    "\n",
    "The `ParquetDatasetConfig` is always the first step in your pipeline. It defines how to load and filter your data:\n"
   ]
  },
  {
   "cell_type": "markdown",
   "id": "7a381bbe",
   "metadata": {},
   "source": [
    "```python\n",
    "# Dataset Configuration Example\n",
    "dataset_config = ParquetDatasetConfig(\n",
    "    path=\"../../dataset\",                   # Path to your parquet files\n",
    "    split=None,                             # Train/test split ratio (e.g., 0.8 for 80/20)\n",
    "    force_download=False,                   # Whether to download the dataset\n",
    "    columns=[\"T-JUS-CKP\", \"T-MON-CKP\"],     # Features to use\n",
    "    target_column=\"class\",                  # Target variable column name\n",
    "    target_class=[0, 1],                    # Classes to include (for binary classification)\n",
    ")\n",
    "\n",
    "print(\"Dataset Configuration:\")\n",
    "print(f\"Path: {dataset_config.path}\")\n",
    "print(f\"Columns: {dataset_config.columns}\")\n",
    "print(f\"Target classes: {dataset_config.target_class}\")\n",
    "```\n"
   ]
  },
  {
   "cell_type": "markdown",
   "id": "e20de99f",
   "metadata": {},
   "source": [
    "#### ⚙️ Preprocessing Steps\n",
    "\n",
    "You can chain multiple preprocessing steps. They will be executed in the order they appear:\n"
   ]
  },
  {
   "cell_type": "markdown",
   "id": "a6607aad",
   "metadata": {},
   "source": [
    "```python\n",
    "# Handle missing values\n",
    "impute_config = ImputeMissingConfig(\n",
    "    strategy=\"median\",  # Options: \"mean\", \"median\", \"forward\", \"backward\"\n",
    "    columns=[\"T-JUS-CKP\"],  # Specific columns to impute\n",
    ")\n",
    "\n",
    "# Normalize the data\n",
    "normalize_config = NormalizeConfig(\n",
    "    norm=\"l2\"  # Options: \"l1\", \"l2\", \"max\", \"standard\"\n",
    ")\n",
    "\n",
    "# Create time windows\n",
    "windowing_config = WindowingConfig(\n",
    "    window_size=100  # Number of time steps per window\n",
    ")\n",
    "\n",
    "print(\"Preprocessing Configuration:\")\n",
    "print(f\"Imputation strategy: {impute_config.strategy}\")\n",
    "print(f\"Normalization norm: {normalize_config.norm}\")\n",
    "print(f\"Window size: {windowing_config.window_size}\")\n",
    "```"
   ]
  },
  {
   "cell_type": "markdown",
   "id": "73506663",
   "metadata": {},
   "source": [
    "#### 🔎 Feature Extraction (Optional)\n",
    "\n",
    "**Important:** Only one feature extraction method can be used at a time. Choose the one that best fits your problem:\n"
   ]
  },
  {
   "cell_type": "markdown",
   "id": "20abce07",
   "metadata": {},
   "source": [
    "```python\n",
    "from ThreeWToolkit.core.base_feature_extractor import (\n",
    "    StatisticalConfig,\n",
    "    EWStatisticalConfig,\n",
    "    WaveletConfig,\n",
    ")\n",
    "\n",
    "# Option A: Statistical Features\n",
    "# Extracts basic statistical features like mean, standard deviation, min, max, etc.\n",
    "statistical_config = StatisticalConfig()\n",
    "\n",
    "# Option B: Exponentially Weighted Statistical Features\n",
    "# Extracts statistical features with exponential weighting, giving more importance to recent values\n",
    "ew_config = EWStatisticalConfig(\n",
    "    selected_features=[\"ew_mean\", \"ew_std\", \"ew_skew\"],         # Features to extract\n",
    "    overlap=0.5,                                                # Window overlap (0.5 = 50% overlap)\n",
    "    offset=0,                                                   # Starting offset\n",
    "    decay=0.9,                                                  # Exponential decay factor (higher = more weight on recent values)\n",
    "    eps=1e-8,                                                   # Small constant for numerical stability\n",
    ")\n",
    "\n",
    "# Option C: Wavelet Features\n",
    "# Extracts features using wavelet decomposition\n",
    "wavelet_config = WaveletConfig(\n",
    "    level=3,                # Decomposition level\n",
    "    overlap=0.5,            # Window overlap\n",
    "    offset=0,               # Starting offset\n",
    "    wavelet=\"haar\",         # Wavelet type: \"haar\", \"db4\", \"sym4\", etc.\n",
    ")\n",
    "\n",
    "print(\"Feature Extraction Options:\")\n",
    "print(\"1. Statistical Features: Basic statistical properties\")\n",
    "print(\"2. EW Statistical Features: Exponentially weighted statistics\")\n",
    "print(\"3. Wavelet Features: Frequency domain decomposition\")\n",
    "```"
   ]
  },
  {
   "cell_type": "markdown",
   "id": "b6ac5aec",
   "metadata": {},
   "source": [
    "#### 🤖 Model Training\n",
    "\n",
    "Configure how your model will be trained:\n"
   ]
  },
  {
   "cell_type": "markdown",
   "id": "b7926d94",
   "metadata": {},
   "source": [
    "```python\n",
    "# Model configuration\n",
    "model_config = MLPConfig(\n",
    "    hidden_sizes=(64, 32),\n",
    "    output_size=2,\n",
    "    random_seed=42,\n",
    "    activation_function=\"relu\",\n",
    "    regularization=None,\n",
    ")\n",
    "\n",
    "# Training configuration\n",
    "trainer_config = TrainerConfig(\n",
    "    optimizer=\"adam\",                       # Options: \"adam\", \"sgd\", \"rmsprop\"\n",
    "    criterion=\"cross_entropy\",              # Loss function\n",
    "    batch_size=32,                          # Number of samples per batch\n",
    "    epochs=20,                              # Number of training epochs\n",
    "    seed=42,                                # Random seed for reproducibility\n",
    "    config_model=model_config,              # Model architecture configuration\n",
    "    learning_rate=0.001,                    # Learning rate\n",
    "    cross_validation=False,                 # Whether to use cross-validation\n",
    "    shuffle_train=True,                     # Whether to shuffle training data\n",
    ")\n",
    "\n",
    "print(\"Model Configuration:\")\n",
    "print(f\"Hidden sizes: {model_config.hidden_sizes}\")\n",
    "print(f\"Output size: {model_config.output_size}\")\n",
    "print(f\"Activation: {model_config.activation_function}\")\n",
    "\n",
    "print(\"\\nTraining Configuration:\")\n",
    "print(f\"Optimizer: {trainer_config.optimizer}\")\n",
    "print(f\"Batch size: {trainer_config.batch_size}\")\n",
    "print(f\"Epochs: {trainer_config.epochs}\")\n",
    "print(f\"Learning rate: {trainer_config.learning_rate}\")\n",
    "```"
   ]
  },
  {
   "cell_type": "markdown",
   "id": "914e02fe",
   "metadata": {},
   "source": [
    "#### 📈 Model Assessment\n",
    "\n",
    "Define how to evaluate your model:\n"
   ]
  },
  {
   "cell_type": "markdown",
   "id": "3ca69f76",
   "metadata": {},
   "source": [
    "```python\n",
    "# Model assessment configuration\n",
    "assessment_config = ModelAssessmentConfig(\n",
    "    metrics=[\"balanced_accuracy\", \"precision\", \"recall\", \"f1\"],\n",
    "    task_type=TaskType.CLASSIFICATION,                                  # Or TaskType.REGRESSION\n",
    "    export_results=True,                                                # Save results to file\n",
    "    generate_report=True ,                                              # Generate detailed HTML report\n",
    ")\n",
    "\n",
    "print(\"Assessment Configuration:\")\n",
    "print(f\"Metrics: {assessment_config.metrics}\")\n",
    "print(f\"Task type: {assessment_config.task_type}\")\n",
    "print(f\"Export results: {assessment_config.export_results}\")\n",
    "print(f\"Generate report: {assessment_config.generate_report}\")\n",
    "```"
   ]
  },
  {
   "cell_type": "markdown",
   "id": "caaff2c4",
   "metadata": {},
   "source": [
    "#### Complete Pipeline Examples\n",
    "\n",
    "Let's see some complete pipeline examples with different configurations:\n"
   ]
  },
  {
   "cell_type": "markdown",
   "id": "2ff95a59",
   "metadata": {},
   "source": [
    "**Example 1: Pipeline with Statistical Features**\n"
   ]
  },
  {
   "cell_type": "markdown",
   "id": "463fc6a7",
   "metadata": {},
   "source": [
    "```python\n",
    "# Example 1: Pipeline with Statistical Features\n",
    "config_model_stats = MLPConfig(\n",
    "    hidden_sizes=(128, 64, 32),\n",
    "    output_size=3,\n",
    "    random_seed=42,\n",
    "    activation_function=\"relu\",\n",
    "    regularization=None,\n",
    ")\n",
    "\n",
    "pipeline_stats = Pipeline(\n",
    "    [\n",
    "        ParquetDatasetConfig(\n",
    "            path=dataset_path,\n",
    "            split=0.8,\n",
    "            force_download=False,\n",
    "            columns=[\"T-JUS-CKP\", \"T-MON-CKP\", \"P-PDG\"],\n",
    "            target_column=\"class\",\n",
    "            target_class=[0, 1, 2],\n",
    "        ),\n",
    "        ImputeMissingConfig(strategy=\"mean\", columns=None),  # Impute all columns\n",
    "        NormalizeConfig(norm=\"standard\"),\n",
    "        WindowingConfig(window_size=150),\n",
    "        StatisticalConfig(),  # Extract statistical features\n",
    "        TrainerConfig(\n",
    "            optimizer=\"adam\",\n",
    "            criterion=\"cross_entropy\",\n",
    "            batch_size=64,\n",
    "            epochs=50,\n",
    "            seed=42,\n",
    "            config_model=config_model_stats,\n",
    "            learning_rate=0.0005,\n",
    "            cross_validation=True,\n",
    "            shuffle_train=True,\n",
    "        ),\n",
    "        ModelAssessmentConfig(\n",
    "            metrics=[\"balanced_accuracy\", \"precision\", \"recall\", \"f1\"],\n",
    "            task_type=TaskType.CLASSIFICATION,\n",
    "            export_results=True,\n",
    "            generate_report=True,\n",
    "        ),\n",
    "    ]\n",
    ")\n",
    "\n",
    "print(\"Pipeline with Statistical Features created successfully!\")\n",
    "print(\"This pipeline will:\")\n",
    "print(\"1. Load dataset with 3 classes\")\n",
    "print(\"2. Apply mean imputation to all columns\")\n",
    "print(\"3. Standardize the data\")\n",
    "print(\"4. Create windows of size 150\")\n",
    "print(\"5. Extract statistical features\")\n",
    "print(\"6. Train MLP with cross-validation\")\n",
    "print(\"7. Generate comprehensive assessment report\")\n",
    "```"
   ]
  },
  {
   "cell_type": "markdown",
   "id": "b67fa122",
   "metadata": {},
   "source": [
    "**Example 2: Pipeline with Wavelet Features**\n"
   ]
  },
  {
   "cell_type": "markdown",
   "id": "ecc3d8d4",
   "metadata": {},
   "source": [
    "```python\n",
    "# Example 2: Pipeline with Wavelet Features\n",
    "config_model_wavelet = MLPConfig(\n",
    "    hidden_sizes=(64, 32),\n",
    "    output_size=2,\n",
    "    random_seed=11,\n",
    "    activation_function=\"tanh\",\n",
    "    regularization=\"l2\",\n",
    ")\n",
    "\n",
    "pipeline_wavelet = Pipeline(\n",
    "    [\n",
    "        ParquetDatasetConfig(\n",
    "            path=dataset_path,\n",
    "            split=0.7,\n",
    "            columns=[\"T-JUS-CKP\", \"T-MON-CKP\"],\n",
    "            target_column=\"class\",\n",
    "            target_class=[0, 1],\n",
    "        ),\n",
    "        ImputeMissingConfig(strategy=\"forward\", columns=[\"T-JUS-CKP\", \"T-MON-CKP\"]),\n",
    "        NormalizeConfig(norm=\"l2\"),\n",
    "        WindowingConfig(window_size=200),\n",
    "        WaveletConfig(\n",
    "            level=4,\n",
    "            overlap=0.5,\n",
    "            offset=0,\n",
    "            wavelet=\"db4\",  # Daubechies wavelet\n",
    "        ),\n",
    "        TrainerConfig(\n",
    "            optimizer=\"sgd\",\n",
    "            criterion=\"cross_entropy\",\n",
    "            batch_size=16,\n",
    "            epochs=30,\n",
    "            seed=11,\n",
    "            config_model=config_model_wavelet,\n",
    "            learning_rate=0.01,\n",
    "            cross_validation=False,\n",
    "            shuffle_train=True,\n",
    "        ),\n",
    "        ModelAssessmentConfig(\n",
    "            metrics=[\"balanced_accuracy\", \"f1\"],\n",
    "            task_type=TaskType.CLASSIFICATION,\n",
    "            export_results=True,\n",
    "            generate_report=True,\n",
    "        ),\n",
    "    ]\n",
    ")\n",
    "\n",
    "print(\"Pipeline with Wavelet Features created successfully!\")\n",
    "print(\"This pipeline will:\")\n",
    "print(\"1. Load dataset with 2 classes\")\n",
    "print(\"2. Apply forward imputation to specific columns\")\n",
    "print(\"3. Apply L2 normalization\")\n",
    "print(\"4. Create windows of size 200\")\n",
    "print(\"5. Extract wavelet features using Daubechies wavelet\")\n",
    "print(\"6. Train MLP with SGD optimizer\")\n",
    "print(\"7. Generate assessment with balanced accuracy and F1 metrics\")\n",
    "```"
   ]
  },
  {
   "cell_type": "markdown",
   "id": "56b4fe9b",
   "metadata": {},
   "source": [
    "**Example 3: Minimal Pipeline**\n"
   ]
  },
  {
   "cell_type": "markdown",
   "id": "dd28137c",
   "metadata": {},
   "source": [
    "```python\n",
    "# Example 3: Minimal Pipeline\n",
    "config_model_minimal = MLPConfig(\n",
    "    hidden_sizes=(32, 16),\n",
    "    output_size=3,\n",
    "    random_seed=42,\n",
    "    activation_function=\"relu\",\n",
    "    regularization=None,\n",
    ")\n",
    "\n",
    "pipeline_minimal = Pipeline(\n",
    "    [\n",
    "        ParquetDatasetConfig(\n",
    "            path=dataset_path,\n",
    "            split=None,\n",
    "            columns=[\"T-JUS-CKP\", \"T-MON-CKP\"],\n",
    "            target_column=\"class\",\n",
    "            target_class=[0, 1, 2],\n",
    "        ),\n",
    "        WindowingConfig(window_size=200),\n",
    "        TrainerConfig(\n",
    "            optimizer=\"adam\",\n",
    "            criterion=\"cross_entropy\",\n",
    "            batch_size=32,\n",
    "            epochs=20,\n",
    "            seed=42,\n",
    "            config_model=config_model_minimal,\n",
    "            learning_rate=0.001,\n",
    "            cross_validation=False,\n",
    "            shuffle_train=True,\n",
    "        ),\n",
    "        ModelAssessmentConfig(\n",
    "            metrics=[\"balanced_accuracy\", \"precision\", \"recall\", \"f1\"],\n",
    "            task_type=TaskType.CLASSIFICATION,\n",
    "            export_results=True,\n",
    "            generate_report=False,\n",
    "        ),\n",
    "    ]\n",
    ")\n",
    "\n",
    "print(\"Minimal Pipeline created successfully!\")\n",
    "print(\"This pipeline will:\")\n",
    "print(\"1. Load dataset with 3 classes\")\n",
    "print(\"2. Create windows of size 200\")\n",
    "print(\"3. Train MLP directly on windowed data\")\n",
    "print(\"4. Generate basic assessment\")\n",
    "```"
   ]
  },
  {
   "cell_type": "markdown",
   "id": "ae716fab",
   "metadata": {},
   "source": [
    "---"
   ]
  },
  {
   "cell_type": "markdown",
   "id": "515c4c8b",
   "metadata": {},
   "source": [
    "## Report Generation\n",
    "\n",
    "The `3WToolkit` provides a `ReportGeneration` module to automatically create comprehensive HTML or LaTeX reports from model evaluation results. This feature simplifies the process of documenting, sharing, and communicating model performance in a standardized format.\n",
    "\n",
    "The `ReportGeneration` class takes the results from the `ModelAssessment` step and compiles them into a structured report that includes:\n",
    "\n",
    "- **Model and Dataset Information**: Details about the model, its configuration, and the dataset used.\n",
    "- **Performance Metrics**: A summary of key metrics like accuracy, precision, recall, and F1-score.\n",
    "- **Custom Plots**: The ability to include additional plots, such as feature importance or prediction visualizations.\n",
    "\n",
    "Reports can be generated in two formats: LaTeX (Beamer) for presentations and HTML for web viewing."
   ]
  },
  {
   "cell_type": "markdown",
   "id": "e8cec580",
   "metadata": {},
   "source": [
    "#### **Initialization - Main Parameters**"
   ]
  },
  {
   "cell_type": "markdown",
   "id": "216235ea",
   "metadata": {},
   "source": [
    "```python\n",
    "report = ReportGeneration(\n",
    "    model=your_model,                    # Trained model\n",
    "    X_train=X_train,                     # Training data (pd.Series)\n",
    "    y_train=y_train,                     # Training labels (pd.Series)\n",
    "    X_test=X_test,                       # Test data (pd.Series)\n",
    "    y_test=y_test,                       # Test labels (pd.Series)\n",
    "    predictions=predictions,             # Model predictions (pd.Series)\n",
    "    calculated_metrics=metrics_dict,     # Dictionary with calculated metrics\n",
    "    plot_config=plot_config,             # Visualization configuration\n",
    "    title=\"My Report\",                   # Report title\n",
    "    author=\"Author Name\",                # Author (default: \"3W Toolkit Report\")\n",
    "    export_report_after_generate=False   # If True, automatically saves\n",
    ")\n",
    "```"
   ]
  },
  {
   "cell_type": "markdown",
   "id": "48d4d221",
   "metadata": {},
   "source": [
    "#### **Metrics Structure**\n",
    "\n",
    "The ``calculated_metrics`` dictionary should contain pre-calculated metrics:"
   ]
  },
  {
   "cell_type": "markdown",
   "id": "c9bbe279",
   "metadata": {},
   "source": [
    "```python\n",
    "calculated_metrics = {\n",
    "    \"accuracy\": 0.95,\n",
    "    \"precision\": 0.93,\n",
    "    \"recall\": 0.94,\n",
    "    \"f1\": 0.93,\n",
    "    \"get_roc_auc\": 0.96\n",
    "}\n",
    "```"
   ]
  },
  {
   "cell_type": "markdown",
   "id": "7defd027",
   "metadata": {},
   "source": [
    "#### **Visualization Configuration**\n",
    "\n",
    "The class supports 6 types of charts through the plot_config parameter:"
   ]
  },
  {
   "cell_type": "markdown",
   "id": "13be26d5",
   "metadata": {},
   "source": [
    "```Python\n",
    "plot_config = {\n",
    "    \"PlotSeries\": {\n",
    "        \"series\": your_series,\n",
    "        \"title\": \"Time Series\"\n",
    "    },\n",
    "    \"PlotMultipleSeries\": {\n",
    "        \"series_list\": [series1, series2],\n",
    "        \"title\": \"Series Comparison\"\n",
    "    },\n",
    "    \"PlotCorrelationHeatmap\": {\n",
    "        \"df_of_series\": dataframe,\n",
    "        \"title\": \"Feature Correlation\"\n",
    "    },\n",
    "    \"PlotFFT\": {\n",
    "        \"series\": your_series,\n",
    "        \"title\": \"Frequency Analysis\"\n",
    "    },\n",
    "    \"SeasonalDecompose\": {\n",
    "        \"series\": your_series,\n",
    "        \"title\": \"Seasonal Decomposition\"\n",
    "    },\n",
    "    \"PlotWaveletSpectrogram\": {\n",
    "        \"series\": your_series,\n",
    "        \"title\": \"Wavelet Spectrogram\"\n",
    "    }\n",
    "}\n",
    "```"
   ]
  },
  {
   "cell_type": "markdown",
   "id": "7afbed20",
   "metadata": {},
   "source": [
    "#### **Report Generation**\n",
    "\n",
    "**I. LaTeX (Beamer) Format**\n",
    "\n",
    "Generates a professional Beamer presentation with:\n",
    "\n",
    "Slide 1 - Title: Uses the \"petro\" theme with custom background\n",
    "\n",
    "Slide 2 - Performance Evaluation: Table with all calculated metrics\n",
    "\n",
    "Slide 3 - Model Overview:\n",
    "\n",
    "* Model type and parameter configuration\n",
    "* Dataset statistics (number of training/test samples)\n",
    "\n",
    "Slides 4+ - Visualizations: One slide for each configured plot"
   ]
  },
  {
   "cell_type": "markdown",
   "id": "81ee0dad",
   "metadata": {},
   "source": [
    "```python\n",
    "# Generate (without auto-saving)\n",
    "doc = report.generate_summary_report(format=\"latex\")\n",
    "\n",
    "# Save manually later\n",
    "report.save_report(doc, filename=\"my_report\", format=\"latex\")\n",
    "```"
   ]
  },
  {
   "cell_type": "markdown",
   "id": "78426635",
   "metadata": {},
   "source": [
    "**Note:** *To save automatically after generation, set* `export_report_after_generate=True` *during initialization.*"
   ]
  },
  {
   "cell_type": "markdown",
   "id": "07393c9e",
   "metadata": {},
   "source": [
    "**II. HTML Format**\n",
    "\n",
    "Generates a web report using Jinja2 templates with the same information as the LaTeX version"
   ]
  },
  {
   "cell_type": "markdown",
   "id": "d42afafd",
   "metadata": {},
   "source": [
    "```python\n",
    "# Using default template (report_template.html)\n",
    "html_content = report.generate_summary_report(format=\"html\")\n",
    "\n",
    "# Using custom template\n",
    "html_content = report.generate_summary_report(\n",
    "    format=\"html\",\n",
    "    template_name=\"my_custom_template.html\"\n",
    ")\n",
    "```"
   ]
  },
  {
   "cell_type": "markdown",
   "id": "f48a46fd",
   "metadata": {},
   "source": [
    "#### **Usage Tips**"
   ]
  },
  {
   "cell_type": "markdown",
   "id": "a5dd4caf",
   "metadata": {},
   "source": [
    "##### 1 - Integration with ``ModelAssessment``\n",
    "\n",
    "The class is designed to receive results from ``ModelAssessment``. Use the already calculated metrics:\n",
    "\n",
    "```python\n",
    "# After running ModelAssessment\n",
    "assessment = ModelAssessment(...)\n",
    "metrics = assessment.calculate_metrics()\n",
    "\n",
    "# Pass directly to ReportGeneration\n",
    "report = ReportGeneration(\n",
    "    ...,\n",
    "    calculated_metrics=metrics,\n",
    "    ...\n",
    ")\n",
    "```\n",
    "\n",
    "##### 2 - Automatic Plot Validation\n",
    "\n",
    "The class automatically validates plot configuration:\n",
    "\n",
    "* Checks if plot names are valid\n",
    "* Ensures required parameters are present\n",
    "* Raises descriptive errors if there are issues\n",
    "\n",
    "##### 3 - Relative Paths for Portability\n",
    "\n",
    "All images use relative paths, allowing you to:\n",
    "\n",
    "* Share the complete reports folder\n",
    "* Compile LaTeX on different machines\n",
    "* View HTML in any browser without configuration\n",
    "\n",
    "##### 4 - Automatic Name Formatting\n",
    "\n",
    "* Metric names are automatically converted: \"get_roc_auc\" → \"ROC AUC\"\n",
    "* Model parameters are formatted: \"learning_rate\" → \"Learning Rate\"\n",
    "* Long values are truncated to avoid layout issues\n",
    "\n",
    "##### 5 - Model Requirements\n",
    "\n",
    "The model must have a config attribute that can be iterated. The class accesses model.config to display parameters in the report."
   ]
  },
  {
   "cell_type": "markdown",
   "id": "6acea373",
   "metadata": {},
   "source": [
    "____"
   ]
  },
  {
   "cell_type": "markdown",
   "id": "9a1cd4ad",
   "metadata": {},
   "source": [
    "## Next Steps\n",
    "\n",
    "🎉 **Congratulations!** You’ve completed the full walkthrough of the **3W Toolkit** — from data preprocessing to model evaluation and report generation.\n",
    "\n",
    "### What's Next?\n",
    "\n",
    "1. **Join the Community** 🤝\n",
    "   Contribute to the 3W Toolkit by reporting issues, suggesting new features, or submitting pull requests. Your feedback helps make the toolkit even better!\n",
    "\n",
    "2. **Extend the Toolkit** 🚀\n",
    "   Try building your own modules — new preprocessors, feature extractors, or models — and integrate them into the pipeline.\n",
    "\n",
    "3. **Share Your Work** 🌍\n",
    "   Showcase how you used the toolkit for your own time series analysis projects!\n",
    "\n",
    "> 💡 *Let’s keep building open, transparent, and reproducible workflows together.*"
   ]
  },
  {
   "cell_type": "markdown",
   "id": "ecd142cd",
   "metadata": {},
   "source": [
    "---\n",
    "\n",
    "**📚 Tutorial Navigation:**\n",
    "- **Previous**: [7. Model Training and Evaluation](7_model_training_and_evaluation.ipynb)\n",
    "\n",
    "**🔗 Additional Resources:**\n",
    "- [3W Project Repository](https://github.com/petrobras/3W)\n",
    "- [3W Dataset on Figshare](https://figshare.com/projects/3W_Dataset/251195)\n"
   ]
  }
 ],
 "metadata": {
  "kernelspec": {
   "display_name": "Python 3",
   "language": "python",
   "name": "python3"
  },
  "language_info": {
   "codemirror_mode": {
    "name": "ipython",
    "version": 3
   },
   "file_extension": ".py",
   "mimetype": "text/x-python",
   "name": "python",
   "nbconvert_exporter": "python",
   "pygments_lexer": "ipython3",
   "version": "3.10.11"
  }
 },
 "nbformat": 4,
 "nbformat_minor": 5
}
