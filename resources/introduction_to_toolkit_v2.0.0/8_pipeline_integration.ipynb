{
 "cells": [
  {
   "cell_type": "markdown",
   "id": "a3e5eb97",
   "metadata": {},
   "source": [
    "# Pipeline Integration"
   ]
  },
  {
   "cell_type": "markdown",
   "id": "89356d8c",
   "metadata": {},
   "source": [
    "## 🔗 Introduction to Pipeline Integration"
   ]
  },
  {
   "cell_type": "markdown",
   "id": "af92f106",
   "metadata": {},
   "source": [
    "\n",
    "\n",
    "The `Pipeline` class provides a powerful way to chain together all the steps of your machine learning workflow in a single, cohesive structure. This approach ensures reproducibility, reduces boilerplate code, and makes it easier to experiment with different configurations.\n",
    "\n",
    "The Pipeline in 3WToolkit v2.0.0 follows a sequential execution model where each step processes the data and passes it to the next stage. The pipeline automatically handles data transformations between steps, ensuring compatibility and proper data flow.\n",
    "\n",
    "**Pipeline Execution Flow:**\n",
    "```\n",
    "Dataset Loading → Preprocessing → Feature Extraction → Model Training → Model Assessment\n",
    "```\n",
    "\n",
    "Each component in the pipeline is configured using its respective configuration class, which encapsulates all the parameters needed for that specific step.\n"
   ]
  },
  {
   "cell_type": "markdown",
   "id": "4fa96261",
   "metadata": {},
   "source": [
    "### 1. Creating a Basic Pipeline\n"
   ]
  },
  {
   "cell_type": "markdown",
   "id": "0a954751",
   "metadata": {},
   "source": [
    "\n",
    "\n",
    "To create a pipeline, you'll need to import the necessary configuration classes and the `Pipeline` class itself:\n"
   ]
  },
  {
   "cell_type": "code",
   "execution_count": 2,
   "id": "5ae34330",
   "metadata": {},
   "outputs": [],
   "source": [
    "import matplotlib.pyplot as plt\n",
    "\n",
    "from ThreeWToolkit.pipeline import Pipeline\n",
    "from ThreeWToolkit.core.base_dataset import ParquetDatasetConfig\n",
    "from ThreeWToolkit.core.base_preprocessing import (\n",
    "    ImputeMissingConfig,\n",
    "    NormalizeConfig,\n",
    "    WindowingConfig,\n",
    ")\n",
    "from ThreeWToolkit.core.base_assessment import ModelAssessmentConfig\n",
    "from ThreeWToolkit.core.enums import TaskType\n",
    "from ThreeWToolkit.models.mlp import MLPConfig\n",
    "from ThreeWToolkit.trainer.trainer import TrainerConfig\n"
   ]
  },
  {
   "cell_type": "code",
   "execution_count": 3,
   "id": "16b734d3",
   "metadata": {},
   "outputs": [],
   "source": [
    "# Define dataset path\n",
    "dataset_path = \"../../dataset\""
   ]
  },
  {
   "cell_type": "markdown",
   "id": "c9e144ef",
   "metadata": {},
   "source": [
    "Now let's create a simple pipeline:\n"
   ]
  },
  {
   "cell_type": "code",
   "execution_count": null,
   "id": "183102a1",
   "metadata": {},
   "outputs": [
    {
     "name": "stdout",
     "output_type": "stream",
     "text": [
      "[ParquetDataset] Dataset found at ../../dataset\n",
      "[ParquetDataset] Validating dataset integrity...\n",
      "[ParquetDataset] Dataset integrity check passed!\n",
      ">> ['T-JUS-CKP', 'T-MON-CKP']\n"
     ]
    }
   ],
   "source": [
    "# Define the model configuration\n",
    "config_model = MLPConfig(\n",
    "    hidden_sizes=(64, 32),\n",
    "    output_size=2, \n",
    "    random_seed=42,\n",
    "    activation_function=\"relu\",\n",
    "    regularization=None,\n",
    ")\n",
    "\n",
    "# Create the pipeline with sequential steps\n",
    "pipeline = Pipeline(\n",
    "    [\n",
    "        # Step 1: Load Dataset\n",
    "        ParquetDatasetConfig(\n",
    "            path=dataset_path,\n",
    "            split=None,\n",
    "            force_download=False,\n",
    "            columns=[\"T-JUS-CKP\", \"T-MON-CKP\"],\n",
    "            target_column=\"class\",\n",
    "            target_class=[0, 1],\n",
    "        ),\n",
    "        # Step 2: Preprocessing\n",
    "        ImputeMissingConfig(strategy=\"median\", columns=[\"T-JUS-CKP\"]),\n",
    "        NormalizeConfig(norm=\"l2\"),\n",
    "        WindowingConfig(window_size=100),\n",
    "        # Step 3: Model Training\n",
    "        TrainerConfig(\n",
    "            optimizer=\"adam\",\n",
    "            criterion=\"cross_entropy\",\n",
    "            batch_size=32,\n",
    "            epochs=20,\n",
    "            seed=42,\n",
    "            config_model=config_model,\n",
    "            learning_rate=0.001,\n",
    "            cross_validation=False,\n",
    "            shuffle_train=True,\n",
    "        ),\n",
    "        # Step 4: Model Assessment\n",
    "        ModelAssessmentConfig(\n",
    "            metrics=[\"balanced_accuracy\", \"precision\", \"recall\", \"f1\"],\n",
    "            task_type=TaskType.CLASSIFICATION,\n",
    "            export_results=True,\n",
    "            generate_report=True,           # Important option to enable report generation through the Pipeline class\n",
    "        ),\n",
    "    ]\n",
    ")\n"
   ]
  },
  {
   "cell_type": "code",
   "execution_count": 5,
   "id": "b8569138",
   "metadata": {},
   "outputs": [
    {
     "data": {
      "application/vnd.jupyter.widget-view+json": {
       "model_id": "c8712614d1244f18a71f5c876e388b78",
       "version_major": 2,
       "version_minor": 0
      },
      "text/plain": [
       "[Pipeline] Processing batches:   0%|          | 0/722 [00:00<?, ?file/s]"
      ]
     },
     "metadata": {},
     "output_type": "display_data"
    },
    {
     "data": {
      "application/vnd.jupyter.widget-view+json": {
       "model_id": "d4358c7808034c819085aaad33988db6",
       "version_major": 2,
       "version_minor": 0
      },
      "text/plain": [
       "[Pipeline] Preprocessing steps:   0%|          | 0/3 [00:00<?, ?step/s]"
      ]
     },
     "metadata": {},
     "output_type": "display_data"
    },
    {
     "data": {
      "application/vnd.jupyter.widget-view+json": {
       "model_id": "3e3790be49e64703b7c482e06df96684",
       "version_major": 2,
       "version_minor": 0
      },
      "text/plain": [
       "[Pipeline] Preprocessing steps:   0%|          | 0/3 [00:00<?, ?step/s]"
      ]
     },
     "metadata": {},
     "output_type": "display_data"
    },
    {
     "data": {
      "application/vnd.jupyter.widget-view+json": {
       "model_id": "d5dbb53ef6144489ae65190936abc716",
       "version_major": 2,
       "version_minor": 0
      },
      "text/plain": [
       "[Pipeline] Preprocessing steps:   0%|          | 0/3 [00:00<?, ?step/s]"
      ]
     },
     "metadata": {},
     "output_type": "display_data"
    },
    {
     "data": {
      "application/vnd.jupyter.widget-view+json": {
       "model_id": "91e28178a1ef42758b2a6c17b13f3427",
       "version_major": 2,
       "version_minor": 0
      },
      "text/plain": [
       "[Pipeline] Preprocessing steps:   0%|          | 0/3 [00:00<?, ?step/s]"
      ]
     },
     "metadata": {},
     "output_type": "display_data"
    },
    {
     "data": {
      "application/vnd.jupyter.widget-view+json": {
       "model_id": "0f4e00aca2264a79a8e179d3f8fa9ae5",
       "version_major": 2,
       "version_minor": 0
      },
      "text/plain": [
       "[Pipeline] Preprocessing steps:   0%|          | 0/3 [00:00<?, ?step/s]"
      ]
     },
     "metadata": {},
     "output_type": "display_data"
    },
    {
     "data": {
      "application/vnd.jupyter.widget-view+json": {
       "model_id": "727f69854782453282af11984b29f385",
       "version_major": 2,
       "version_minor": 0
      },
      "text/plain": [
       "[Pipeline] Preprocessing steps:   0%|          | 0/3 [00:00<?, ?step/s]"
      ]
     },
     "metadata": {},
     "output_type": "display_data"
    },
    {
     "data": {
      "application/vnd.jupyter.widget-view+json": {
       "model_id": "9a20e57ae7e64de2b3268993aeb4ca4d",
       "version_major": 2,
       "version_minor": 0
      },
      "text/plain": [
       "[Pipeline] Preprocessing steps:   0%|          | 0/3 [00:00<?, ?step/s]"
      ]
     },
     "metadata": {},
     "output_type": "display_data"
    },
    {
     "data": {
      "application/vnd.jupyter.widget-view+json": {
       "model_id": "b0ba2563d7bb40abb9878dfff450db95",
       "version_major": 2,
       "version_minor": 0
      },
      "text/plain": [
       "[Pipeline] Preprocessing steps:   0%|          | 0/3 [00:00<?, ?step/s]"
      ]
     },
     "metadata": {},
     "output_type": "display_data"
    },
    {
     "data": {
      "application/vnd.jupyter.widget-view+json": {
       "model_id": "a24bc8a912574d05b3b08e898664cca0",
       "version_major": 2,
       "version_minor": 0
      },
      "text/plain": [
       "[Pipeline] Preprocessing steps:   0%|          | 0/3 [00:00<?, ?step/s]"
      ]
     },
     "metadata": {},
     "output_type": "display_data"
    },
    {
     "data": {
      "application/vnd.jupyter.widget-view+json": {
       "model_id": "591f98efc23f4dd0873c05632f265170",
       "version_major": 2,
       "version_minor": 0
      },
      "text/plain": [
       "[Pipeline] Preprocessing steps:   0%|          | 0/3 [00:00<?, ?step/s]"
      ]
     },
     "metadata": {},
     "output_type": "display_data"
    },
    {
     "data": {
      "application/vnd.jupyter.widget-view+json": {
       "model_id": "2e206582cc864ccc9ca989327e129c12",
       "version_major": 2,
       "version_minor": 0
      },
      "text/plain": [
       "[Pipeline] Preprocessing steps:   0%|          | 0/3 [00:00<?, ?step/s]"
      ]
     },
     "metadata": {},
     "output_type": "display_data"
    },
    {
     "data": {
      "application/vnd.jupyter.widget-view+json": {
       "model_id": "2a29477acfc1413f8fd2c58be385207b",
       "version_major": 2,
       "version_minor": 0
      },
      "text/plain": [
       "[Pipeline] Preprocessing steps:   0%|          | 0/3 [00:00<?, ?step/s]"
      ]
     },
     "metadata": {},
     "output_type": "display_data"
    },
    {
     "data": {
      "application/vnd.jupyter.widget-view+json": {
       "model_id": "fbb1a9a717724d25992c0b5ffdec86fd",
       "version_major": 2,
       "version_minor": 0
      },
      "text/plain": [
       "[Pipeline] Preprocessing steps:   0%|          | 0/3 [00:00<?, ?step/s]"
      ]
     },
     "metadata": {},
     "output_type": "display_data"
    },
    {
     "data": {
      "application/vnd.jupyter.widget-view+json": {
       "model_id": "f4d9c402aba64de8bf46f8ee915dffdd",
       "version_major": 2,
       "version_minor": 0
      },
      "text/plain": [
       "[Pipeline] Preprocessing steps:   0%|          | 0/3 [00:00<?, ?step/s]"
      ]
     },
     "metadata": {},
     "output_type": "display_data"
    },
    {
     "data": {
      "application/vnd.jupyter.widget-view+json": {
       "model_id": "a2996aec40814d928d93a51c57918bb6",
       "version_major": 2,
       "version_minor": 0
      },
      "text/plain": [
       "[Pipeline] Preprocessing steps:   0%|          | 0/3 [00:00<?, ?step/s]"
      ]
     },
     "metadata": {},
     "output_type": "display_data"
    },
    {
     "data": {
      "application/vnd.jupyter.widget-view+json": {
       "model_id": "c71ed3d5af6d4b48b66b3b18693b6f45",
       "version_major": 2,
       "version_minor": 0
      },
      "text/plain": [
       "[Pipeline] Preprocessing steps:   0%|          | 0/3 [00:00<?, ?step/s]"
      ]
     },
     "metadata": {},
     "output_type": "display_data"
    },
    {
     "data": {
      "application/vnd.jupyter.widget-view+json": {
       "model_id": "16092338c8794c23a8cc9825b06c5459",
       "version_major": 2,
       "version_minor": 0
      },
      "text/plain": [
       "[Pipeline] Preprocessing steps:   0%|          | 0/3 [00:00<?, ?step/s]"
      ]
     },
     "metadata": {},
     "output_type": "display_data"
    },
    {
     "data": {
      "application/vnd.jupyter.widget-view+json": {
       "model_id": "4ad88637fd684c858f0bfd923f7187fd",
       "version_major": 2,
       "version_minor": 0
      },
      "text/plain": [
       "[Pipeline] Preprocessing steps:   0%|          | 0/3 [00:00<?, ?step/s]"
      ]
     },
     "metadata": {},
     "output_type": "display_data"
    },
    {
     "data": {
      "application/vnd.jupyter.widget-view+json": {
       "model_id": "334b135451454aafaa193f7c3f182727",
       "version_major": 2,
       "version_minor": 0
      },
      "text/plain": [
       "[Pipeline] Preprocessing steps:   0%|          | 0/3 [00:00<?, ?step/s]"
      ]
     },
     "metadata": {},
     "output_type": "display_data"
    },
    {
     "data": {
      "application/vnd.jupyter.widget-view+json": {
       "model_id": "b8d03e3ec66b47cdb1cbe55b8ce13b87",
       "version_major": 2,
       "version_minor": 0
      },
      "text/plain": [
       "[Pipeline] Preprocessing steps:   0%|          | 0/3 [00:00<?, ?step/s]"
      ]
     },
     "metadata": {},
     "output_type": "display_data"
    },
    {
     "data": {
      "application/vnd.jupyter.widget-view+json": {
       "model_id": "33ef296cc2aa46269a0059a0243a6557",
       "version_major": 2,
       "version_minor": 0
      },
      "text/plain": [
       "[Pipeline] Preprocessing steps:   0%|          | 0/3 [00:00<?, ?step/s]"
      ]
     },
     "metadata": {},
     "output_type": "display_data"
    },
    {
     "data": {
      "application/vnd.jupyter.widget-view+json": {
       "model_id": "25b881936b78414e8cb4da1e59b35524",
       "version_major": 2,
       "version_minor": 0
      },
      "text/plain": [
       "[Pipeline] Preprocessing steps:   0%|          | 0/3 [00:00<?, ?step/s]"
      ]
     },
     "metadata": {},
     "output_type": "display_data"
    },
    {
     "data": {
      "application/vnd.jupyter.widget-view+json": {
       "model_id": "0f4263294dcc4c02b93f3f971e8450c7",
       "version_major": 2,
       "version_minor": 0
      },
      "text/plain": [
       "[Pipeline] Preprocessing steps:   0%|          | 0/3 [00:00<?, ?step/s]"
      ]
     },
     "metadata": {},
     "output_type": "display_data"
    },
    {
     "data": {
      "application/vnd.jupyter.widget-view+json": {
       "model_id": "cf66bb1243184b2a8386d7e00e41c852",
       "version_major": 2,
       "version_minor": 0
      },
      "text/plain": [
       "[Pipeline] Preprocessing steps:   0%|          | 0/3 [00:00<?, ?step/s]"
      ]
     },
     "metadata": {},
     "output_type": "display_data"
    },
    {
     "data": {
      "application/vnd.jupyter.widget-view+json": {
       "model_id": "777f0072ffa34315ba9b77a63c681564",
       "version_major": 2,
       "version_minor": 0
      },
      "text/plain": [
       "[Pipeline] Preprocessing steps:   0%|          | 0/3 [00:00<?, ?step/s]"
      ]
     },
     "metadata": {},
     "output_type": "display_data"
    },
    {
     "data": {
      "application/vnd.jupyter.widget-view+json": {
       "model_id": "e9f688ed52ac470fa1c7c34ab9c3b454",
       "version_major": 2,
       "version_minor": 0
      },
      "text/plain": [
       "[Pipeline] Preprocessing steps:   0%|          | 0/3 [00:00<?, ?step/s]"
      ]
     },
     "metadata": {},
     "output_type": "display_data"
    },
    {
     "data": {
      "application/vnd.jupyter.widget-view+json": {
       "model_id": "f53b5aa338994da58469df26ebe46716",
       "version_major": 2,
       "version_minor": 0
      },
      "text/plain": [
       "[Pipeline] Preprocessing steps:   0%|          | 0/3 [00:00<?, ?step/s]"
      ]
     },
     "metadata": {},
     "output_type": "display_data"
    },
    {
     "data": {
      "application/vnd.jupyter.widget-view+json": {
       "model_id": "75fbe37fd5fa45819b65508481fa6547",
       "version_major": 2,
       "version_minor": 0
      },
      "text/plain": [
       "[Pipeline] Preprocessing steps:   0%|          | 0/3 [00:00<?, ?step/s]"
      ]
     },
     "metadata": {},
     "output_type": "display_data"
    },
    {
     "data": {
      "application/vnd.jupyter.widget-view+json": {
       "model_id": "cac90bc72e234f0b8e5f4a13cd6fbd30",
       "version_major": 2,
       "version_minor": 0
      },
      "text/plain": [
       "[Pipeline] Preprocessing steps:   0%|          | 0/3 [00:00<?, ?step/s]"
      ]
     },
     "metadata": {},
     "output_type": "display_data"
    },
    {
     "data": {
      "application/vnd.jupyter.widget-view+json": {
       "model_id": "32d2cbcdb6a9401eb438717a4f1cc2d9",
       "version_major": 2,
       "version_minor": 0
      },
      "text/plain": [
       "[Pipeline] Preprocessing steps:   0%|          | 0/3 [00:00<?, ?step/s]"
      ]
     },
     "metadata": {},
     "output_type": "display_data"
    },
    {
     "data": {
      "application/vnd.jupyter.widget-view+json": {
       "model_id": "37fd2cb7a66f453599d8252d93e8dffb",
       "version_major": 2,
       "version_minor": 0
      },
      "text/plain": [
       "[Pipeline] Preprocessing steps:   0%|          | 0/3 [00:00<?, ?step/s]"
      ]
     },
     "metadata": {},
     "output_type": "display_data"
    },
    {
     "data": {
      "application/vnd.jupyter.widget-view+json": {
       "model_id": "1e92799c75234cc2841840ea35491879",
       "version_major": 2,
       "version_minor": 0
      },
      "text/plain": [
       "[Pipeline] Preprocessing steps:   0%|          | 0/3 [00:00<?, ?step/s]"
      ]
     },
     "metadata": {},
     "output_type": "display_data"
    },
    {
     "data": {
      "application/vnd.jupyter.widget-view+json": {
       "model_id": "9fd3993892da477993ae409cbea6915d",
       "version_major": 2,
       "version_minor": 0
      },
      "text/plain": [
       "[Pipeline] Preprocessing steps:   0%|          | 0/3 [00:00<?, ?step/s]"
      ]
     },
     "metadata": {},
     "output_type": "display_data"
    },
    {
     "data": {
      "application/vnd.jupyter.widget-view+json": {
       "model_id": "7d01509e707648d7bcb92bb447c878b5",
       "version_major": 2,
       "version_minor": 0
      },
      "text/plain": [
       "[Pipeline] Preprocessing steps:   0%|          | 0/3 [00:00<?, ?step/s]"
      ]
     },
     "metadata": {},
     "output_type": "display_data"
    },
    {
     "data": {
      "application/vnd.jupyter.widget-view+json": {
       "model_id": "ee169071a5174e6aa243237a334a5564",
       "version_major": 2,
       "version_minor": 0
      },
      "text/plain": [
       "[Pipeline] Preprocessing steps:   0%|          | 0/3 [00:00<?, ?step/s]"
      ]
     },
     "metadata": {},
     "output_type": "display_data"
    },
    {
     "data": {
      "application/vnd.jupyter.widget-view+json": {
       "model_id": "b73e1011c96b4f1c8cd5f7987fb15ecc",
       "version_major": 2,
       "version_minor": 0
      },
      "text/plain": [
       "[Pipeline] Preprocessing steps:   0%|          | 0/3 [00:00<?, ?step/s]"
      ]
     },
     "metadata": {},
     "output_type": "display_data"
    },
    {
     "data": {
      "application/vnd.jupyter.widget-view+json": {
       "model_id": "4a6e74ba98214f9d82aead77ac9be7cf",
       "version_major": 2,
       "version_minor": 0
      },
      "text/plain": [
       "[Pipeline] Preprocessing steps:   0%|          | 0/3 [00:00<?, ?step/s]"
      ]
     },
     "metadata": {},
     "output_type": "display_data"
    },
    {
     "data": {
      "application/vnd.jupyter.widget-view+json": {
       "model_id": "695abcbc3ad34cec93ace4adb2a00980",
       "version_major": 2,
       "version_minor": 0
      },
      "text/plain": [
       "[Pipeline] Preprocessing steps:   0%|          | 0/3 [00:00<?, ?step/s]"
      ]
     },
     "metadata": {},
     "output_type": "display_data"
    },
    {
     "data": {
      "application/vnd.jupyter.widget-view+json": {
       "model_id": "0b3e54d12da74788897d81508be6ec91",
       "version_major": 2,
       "version_minor": 0
      },
      "text/plain": [
       "[Pipeline] Preprocessing steps:   0%|          | 0/3 [00:00<?, ?step/s]"
      ]
     },
     "metadata": {},
     "output_type": "display_data"
    },
    {
     "data": {
      "application/vnd.jupyter.widget-view+json": {
       "model_id": "3406bc71cfb248c39031cc1750bc941a",
       "version_major": 2,
       "version_minor": 0
      },
      "text/plain": [
       "[Pipeline] Preprocessing steps:   0%|          | 0/3 [00:00<?, ?step/s]"
      ]
     },
     "metadata": {},
     "output_type": "display_data"
    },
    {
     "data": {
      "application/vnd.jupyter.widget-view+json": {
       "model_id": "351f31b6030a4007b0200cccb5165585",
       "version_major": 2,
       "version_minor": 0
      },
      "text/plain": [
       "[Pipeline] Preprocessing steps:   0%|          | 0/3 [00:00<?, ?step/s]"
      ]
     },
     "metadata": {},
     "output_type": "display_data"
    },
    {
     "data": {
      "application/vnd.jupyter.widget-view+json": {
       "model_id": "5d067f6a7a944300b8d004e14ff29572",
       "version_major": 2,
       "version_minor": 0
      },
      "text/plain": [
       "[Pipeline] Preprocessing steps:   0%|          | 0/3 [00:00<?, ?step/s]"
      ]
     },
     "metadata": {},
     "output_type": "display_data"
    },
    {
     "data": {
      "application/vnd.jupyter.widget-view+json": {
       "model_id": "7f6b4b67e0864f168e0eeed8a4c4e321",
       "version_major": 2,
       "version_minor": 0
      },
      "text/plain": [
       "[Pipeline] Preprocessing steps:   0%|          | 0/3 [00:00<?, ?step/s]"
      ]
     },
     "metadata": {},
     "output_type": "display_data"
    },
    {
     "data": {
      "application/vnd.jupyter.widget-view+json": {
       "model_id": "c97b4ec0f90646439202df0f67f678e5",
       "version_major": 2,
       "version_minor": 0
      },
      "text/plain": [
       "[Pipeline] Preprocessing steps:   0%|          | 0/3 [00:00<?, ?step/s]"
      ]
     },
     "metadata": {},
     "output_type": "display_data"
    },
    {
     "data": {
      "application/vnd.jupyter.widget-view+json": {
       "model_id": "8d1eb56bcc9542a38a17cfd47ab496d5",
       "version_major": 2,
       "version_minor": 0
      },
      "text/plain": [
       "[Pipeline] Preprocessing steps:   0%|          | 0/3 [00:00<?, ?step/s]"
      ]
     },
     "metadata": {},
     "output_type": "display_data"
    },
    {
     "data": {
      "application/vnd.jupyter.widget-view+json": {
       "model_id": "fba26c7618a14f1bb0f79531b180dd2d",
       "version_major": 2,
       "version_minor": 0
      },
      "text/plain": [
       "[Pipeline] Preprocessing steps:   0%|          | 0/3 [00:00<?, ?step/s]"
      ]
     },
     "metadata": {},
     "output_type": "display_data"
    },
    {
     "data": {
      "application/vnd.jupyter.widget-view+json": {
       "model_id": "b3dcd177bd1748399b51f889ca39c9f7",
       "version_major": 2,
       "version_minor": 0
      },
      "text/plain": [
       "[Pipeline] Preprocessing steps:   0%|          | 0/3 [00:00<?, ?step/s]"
      ]
     },
     "metadata": {},
     "output_type": "display_data"
    },
    {
     "data": {
      "application/vnd.jupyter.widget-view+json": {
       "model_id": "d34593800bee431f85373669ace41796",
       "version_major": 2,
       "version_minor": 0
      },
      "text/plain": [
       "[Pipeline] Preprocessing steps:   0%|          | 0/3 [00:00<?, ?step/s]"
      ]
     },
     "metadata": {},
     "output_type": "display_data"
    },
    {
     "data": {
      "application/vnd.jupyter.widget-view+json": {
       "model_id": "461dd2fba3a14980808614029691e034",
       "version_major": 2,
       "version_minor": 0
      },
      "text/plain": [
       "[Pipeline] Preprocessing steps:   0%|          | 0/3 [00:00<?, ?step/s]"
      ]
     },
     "metadata": {},
     "output_type": "display_data"
    },
    {
     "data": {
      "application/vnd.jupyter.widget-view+json": {
       "model_id": "fd25815733ce482e8e6820e071922d84",
       "version_major": 2,
       "version_minor": 0
      },
      "text/plain": [
       "[Pipeline] Preprocessing steps:   0%|          | 0/3 [00:00<?, ?step/s]"
      ]
     },
     "metadata": {},
     "output_type": "display_data"
    },
    {
     "data": {
      "application/vnd.jupyter.widget-view+json": {
       "model_id": "862340340e9e490f82d3454ed8b07de7",
       "version_major": 2,
       "version_minor": 0
      },
      "text/plain": [
       "[Pipeline] Preprocessing steps:   0%|          | 0/3 [00:00<?, ?step/s]"
      ]
     },
     "metadata": {},
     "output_type": "display_data"
    },
    {
     "data": {
      "application/vnd.jupyter.widget-view+json": {
       "model_id": "6430ac855c0d4ac0a2265de07280eb55",
       "version_major": 2,
       "version_minor": 0
      },
      "text/plain": [
       "[Pipeline] Preprocessing steps:   0%|          | 0/3 [00:00<?, ?step/s]"
      ]
     },
     "metadata": {},
     "output_type": "display_data"
    },
    {
     "data": {
      "application/vnd.jupyter.widget-view+json": {
       "model_id": "3eba7bf1b2364a37ab4ca3f8b004b346",
       "version_major": 2,
       "version_minor": 0
      },
      "text/plain": [
       "[Pipeline] Preprocessing steps:   0%|          | 0/3 [00:00<?, ?step/s]"
      ]
     },
     "metadata": {},
     "output_type": "display_data"
    },
    {
     "data": {
      "application/vnd.jupyter.widget-view+json": {
       "model_id": "9f56d3de2b56491ca8b59a2c366fc0ed",
       "version_major": 2,
       "version_minor": 0
      },
      "text/plain": [
       "[Pipeline] Preprocessing steps:   0%|          | 0/3 [00:00<?, ?step/s]"
      ]
     },
     "metadata": {},
     "output_type": "display_data"
    },
    {
     "data": {
      "application/vnd.jupyter.widget-view+json": {
       "model_id": "0a24f10c00ca44d2a0829b9948bc8580",
       "version_major": 2,
       "version_minor": 0
      },
      "text/plain": [
       "[Pipeline] Preprocessing steps:   0%|          | 0/3 [00:00<?, ?step/s]"
      ]
     },
     "metadata": {},
     "output_type": "display_data"
    },
    {
     "data": {
      "application/vnd.jupyter.widget-view+json": {
       "model_id": "50d429ddb60249959703748fbc1cba6b",
       "version_major": 2,
       "version_minor": 0
      },
      "text/plain": [
       "[Pipeline] Preprocessing steps:   0%|          | 0/3 [00:00<?, ?step/s]"
      ]
     },
     "metadata": {},
     "output_type": "display_data"
    },
    {
     "data": {
      "application/vnd.jupyter.widget-view+json": {
       "model_id": "28a5a7f810f04c339a1f7fe37471b66a",
       "version_major": 2,
       "version_minor": 0
      },
      "text/plain": [
       "[Pipeline] Preprocessing steps:   0%|          | 0/3 [00:00<?, ?step/s]"
      ]
     },
     "metadata": {},
     "output_type": "display_data"
    },
    {
     "data": {
      "application/vnd.jupyter.widget-view+json": {
       "model_id": "03f56f2330914e9da55f7df5f16f2b0b",
       "version_major": 2,
       "version_minor": 0
      },
      "text/plain": [
       "[Pipeline] Preprocessing steps:   0%|          | 0/3 [00:00<?, ?step/s]"
      ]
     },
     "metadata": {},
     "output_type": "display_data"
    },
    {
     "data": {
      "application/vnd.jupyter.widget-view+json": {
       "model_id": "ed1027a3482942caa4ad6fffe9dacaa4",
       "version_major": 2,
       "version_minor": 0
      },
      "text/plain": [
       "[Pipeline] Preprocessing steps:   0%|          | 0/3 [00:00<?, ?step/s]"
      ]
     },
     "metadata": {},
     "output_type": "display_data"
    },
    {
     "data": {
      "application/vnd.jupyter.widget-view+json": {
       "model_id": "2d9f8f039c274cc895ca2f453dfa3963",
       "version_major": 2,
       "version_minor": 0
      },
      "text/plain": [
       "[Pipeline] Preprocessing steps:   0%|          | 0/3 [00:00<?, ?step/s]"
      ]
     },
     "metadata": {},
     "output_type": "display_data"
    },
    {
     "data": {
      "application/vnd.jupyter.widget-view+json": {
       "model_id": "139c8fded44c48b2b3ac092d7b5132dc",
       "version_major": 2,
       "version_minor": 0
      },
      "text/plain": [
       "[Pipeline] Preprocessing steps:   0%|          | 0/3 [00:00<?, ?step/s]"
      ]
     },
     "metadata": {},
     "output_type": "display_data"
    },
    {
     "data": {
      "application/vnd.jupyter.widget-view+json": {
       "model_id": "d34ddce421c140408194aa465edb020d",
       "version_major": 2,
       "version_minor": 0
      },
      "text/plain": [
       "[Pipeline] Preprocessing steps:   0%|          | 0/3 [00:00<?, ?step/s]"
      ]
     },
     "metadata": {},
     "output_type": "display_data"
    },
    {
     "data": {
      "application/vnd.jupyter.widget-view+json": {
       "model_id": "e6abaaa55fb74d91810ebadf0ad41263",
       "version_major": 2,
       "version_minor": 0
      },
      "text/plain": [
       "[Pipeline] Preprocessing steps:   0%|          | 0/3 [00:00<?, ?step/s]"
      ]
     },
     "metadata": {},
     "output_type": "display_data"
    },
    {
     "data": {
      "application/vnd.jupyter.widget-view+json": {
       "model_id": "84a07ac8f049440f962f6ca1fd8b0730",
       "version_major": 2,
       "version_minor": 0
      },
      "text/plain": [
       "[Pipeline] Preprocessing steps:   0%|          | 0/3 [00:00<?, ?step/s]"
      ]
     },
     "metadata": {},
     "output_type": "display_data"
    },
    {
     "data": {
      "application/vnd.jupyter.widget-view+json": {
       "model_id": "1302ec4a6e684969b6ef10194973933c",
       "version_major": 2,
       "version_minor": 0
      },
      "text/plain": [
       "[Pipeline] Preprocessing steps:   0%|          | 0/3 [00:00<?, ?step/s]"
      ]
     },
     "metadata": {},
     "output_type": "display_data"
    },
    {
     "data": {
      "application/vnd.jupyter.widget-view+json": {
       "model_id": "06481bf45f7a495692f6d2fdd7f21085",
       "version_major": 2,
       "version_minor": 0
      },
      "text/plain": [
       "[Pipeline] Preprocessing steps:   0%|          | 0/3 [00:00<?, ?step/s]"
      ]
     },
     "metadata": {},
     "output_type": "display_data"
    },
    {
     "data": {
      "application/vnd.jupyter.widget-view+json": {
       "model_id": "17b6a0f4ca6c4cb5874b87daba9fd2b2",
       "version_major": 2,
       "version_minor": 0
      },
      "text/plain": [
       "[Pipeline] Preprocessing steps:   0%|          | 0/3 [00:00<?, ?step/s]"
      ]
     },
     "metadata": {},
     "output_type": "display_data"
    },
    {
     "data": {
      "application/vnd.jupyter.widget-view+json": {
       "model_id": "f033be96292642c5a1289e44df832be0",
       "version_major": 2,
       "version_minor": 0
      },
      "text/plain": [
       "[Pipeline] Preprocessing steps:   0%|          | 0/3 [00:00<?, ?step/s]"
      ]
     },
     "metadata": {},
     "output_type": "display_data"
    },
    {
     "data": {
      "application/vnd.jupyter.widget-view+json": {
       "model_id": "173185c607ce493f842530b6ff3e0118",
       "version_major": 2,
       "version_minor": 0
      },
      "text/plain": [
       "[Pipeline] Preprocessing steps:   0%|          | 0/3 [00:00<?, ?step/s]"
      ]
     },
     "metadata": {},
     "output_type": "display_data"
    },
    {
     "data": {
      "application/vnd.jupyter.widget-view+json": {
       "model_id": "9190a7637c7c4b59ae2e9fcc42373ff6",
       "version_major": 2,
       "version_minor": 0
      },
      "text/plain": [
       "[Pipeline] Preprocessing steps:   0%|          | 0/3 [00:00<?, ?step/s]"
      ]
     },
     "metadata": {},
     "output_type": "display_data"
    },
    {
     "data": {
      "application/vnd.jupyter.widget-view+json": {
       "model_id": "60bd1b6300d0438096869f8da3839052",
       "version_major": 2,
       "version_minor": 0
      },
      "text/plain": [
       "[Pipeline] Preprocessing steps:   0%|          | 0/3 [00:00<?, ?step/s]"
      ]
     },
     "metadata": {},
     "output_type": "display_data"
    },
    {
     "data": {
      "application/vnd.jupyter.widget-view+json": {
       "model_id": "cfcc5d98ea424dc3a60654414c0785a7",
       "version_major": 2,
       "version_minor": 0
      },
      "text/plain": [
       "[Pipeline] Preprocessing steps:   0%|          | 0/3 [00:00<?, ?step/s]"
      ]
     },
     "metadata": {},
     "output_type": "display_data"
    },
    {
     "data": {
      "application/vnd.jupyter.widget-view+json": {
       "model_id": "da100c7c6f3541b690330e7668872ea9",
       "version_major": 2,
       "version_minor": 0
      },
      "text/plain": [
       "[Pipeline] Preprocessing steps:   0%|          | 0/3 [00:00<?, ?step/s]"
      ]
     },
     "metadata": {},
     "output_type": "display_data"
    },
    {
     "data": {
      "application/vnd.jupyter.widget-view+json": {
       "model_id": "3cc13ad77c07409ca2ad5470fc170e01",
       "version_major": 2,
       "version_minor": 0
      },
      "text/plain": [
       "[Pipeline] Training:   0%|          | 0/20 [00:00<?, ?epoch/s]"
      ]
     },
     "metadata": {},
     "output_type": "display_data"
    },
    {
     "name": "stdout",
     "output_type": "stream",
     "text": [
      "Reports will be saved to directory: 'd:\\Git\\3W\\toolkit\\output\\report-Model Assessment Report - MLP'\n",
      "Generating Markdown report from template: 'report_template.html'...\n",
      "Markdown report generated successfully.\n",
      "Saving HTML report to 'd:\\Git\\3W\\toolkit\\output\\report-Model Assessment Report - MLP\\html\\report-Model Assessment Report - MLP.html'...\n",
      "HTML report saved successfully to 'd:\\Git\\3W\\toolkit\\output\\report-Model Assessment Report - MLP\\html\\report-Model Assessment Report - MLP.html'\n",
      "Results exported to d:\\Git\\3W\\toolkit\\output\n",
      "Model Assessment Summary\n",
      "========================\n",
      "Model: MLP\n",
      "Task Type: classification\n",
      "Timestamp: 2025-10-16T16:11:52.491665\n",
      "\n",
      "Metrics:\n",
      "  balanced_accuracy: 0.8667\n",
      "  precision: 0.8696\n",
      "  recall: 0.8697\n",
      "  f1: 0.8696\n"
     ]
    }
   ],
   "source": [
    "# Execute the entire pipeline\n",
    "pipeline.run()"
   ]
  },
  {
   "cell_type": "markdown",
   "id": "87e85ec3",
   "metadata": {},
   "source": [
    "After training, it's possible to view the training loss curve by accessing the history:"
   ]
  },
  {
   "cell_type": "code",
   "execution_count": 6,
   "id": "b39caa21",
   "metadata": {},
   "outputs": [
    {
     "data": {
      "image/png": "[encoded data removed]",
      "text/plain": [
       "<Figure size 1000x500 with 1 Axes>"
      ]
     },
     "metadata": {},
     "output_type": "display_data"
    }
   ],
   "source": [
    "# Visualize training history\n",
    "hist = pipeline.step_model_training.history[0]\n",
    "\n",
    "plt.figure(figsize=(10, 5))\n",
    "plt.plot(hist[\"val_loss\"], label=\"Val Loss\")\n",
    "plt.plot(hist[\"train_loss\"], label=\"Train Loss\")\n",
    "plt.title(\"Training and Validation Loss\")\n",
    "plt.xlabel(\"Epoch\")\n",
    "plt.ylabel(\"Loss\")\n",
    "plt.legend()\n",
    "plt.show()\n"
   ]
  },
  {
   "cell_type": "markdown",
   "id": "f6d858d7",
   "metadata": {},
   "source": [
    "---\n",
    "\n",
    "## 🧩 Pipeline Modules Overview\n",
    "\n",
    "Let's explore each component of the pipeline in detail to understand how they work together.\n"
   ]
  },
  {
   "cell_type": "markdown",
   "id": "635bfcf4",
   "metadata": {},
   "source": [
    "#### 📂 Dataset Configuration\n"
   ]
  },
  {
   "cell_type": "markdown",
   "id": "2a936960",
   "metadata": {},
   "source": [
    "\n",
    "The `ParquetDatasetConfig` is always the first step in your pipeline. It defines how to load and filter your data:\n"
   ]
  },
  {
   "cell_type": "markdown",
   "id": "7a381bbe",
   "metadata": {},
   "source": [
    "```python\n",
    "# Dataset Configuration Example\n",
    "dataset_config = ParquetDatasetConfig(\n",
    "    path=\"../../dataset\",                   # Path to your parquet files\n",
    "    split=None,                             # Train/test split ratio (e.g., 0.8 for 80/20)\n",
    "    force_download=False,                   # Whether to download the dataset\n",
    "    columns=[\"T-JUS-CKP\", \"T-MON-CKP\"],     # Features to use\n",
    "    target_column=\"class\",                  # Target variable column name\n",
    "    target_class=[0, 1],                    # Classes to include (for binary classification)\n",
    ")\n",
    "\n",
    "print(\"Dataset Configuration:\")\n",
    "print(f\"Path: {dataset_config.path}\")\n",
    "print(f\"Columns: {dataset_config.columns}\")\n",
    "print(f\"Target classes: {dataset_config.target_class}\")\n",
    "```\n"
   ]
  },
  {
   "cell_type": "markdown",
   "id": "e20de99f",
   "metadata": {},
   "source": [
    "#### ⚙️ Preprocessing Steps\n",
    "\n",
    "You can chain multiple preprocessing steps. They will be executed in the order they appear:\n"
   ]
  },
  {
   "cell_type": "markdown",
   "id": "a6607aad",
   "metadata": {},
   "source": [
    "```python\n",
    "# Handle missing values\n",
    "impute_config = ImputeMissingConfig(\n",
    "    strategy=\"median\",  # Options: \"mean\", \"median\", \"forward\", \"backward\"\n",
    "    columns=[\"T-JUS-CKP\"],  # Specific columns to impute\n",
    ")\n",
    "\n",
    "# Normalize the data\n",
    "normalize_config = NormalizeConfig(\n",
    "    norm=\"l2\"  # Options: \"l1\", \"l2\", \"max\", \"standard\"\n",
    ")\n",
    "\n",
    "# Create time windows\n",
    "windowing_config = WindowingConfig(\n",
    "    window_size=100  # Number of time steps per window\n",
    ")\n",
    "\n",
    "print(\"Preprocessing Configuration:\")\n",
    "print(f\"Imputation strategy: {impute_config.strategy}\")\n",
    "print(f\"Normalization norm: {normalize_config.norm}\")\n",
    "print(f\"Window size: {windowing_config.window_size}\")\n",
    "```"
   ]
  },
  {
   "cell_type": "markdown",
   "id": "73506663",
   "metadata": {},
   "source": [
    "#### 🔎 Feature Extraction (Optional)\n",
    "\n",
    "**Important:** Only one feature extraction method can be used at a time. Choose the one that best fits your problem:\n"
   ]
  },
  {
   "cell_type": "markdown",
   "id": "20abce07",
   "metadata": {},
   "source": [
    "```python\n",
    "from ThreeWToolkit.core.base_feature_extractor import (\n",
    "    StatisticalConfig,\n",
    "    EWStatisticalConfig,\n",
    "    WaveletConfig,\n",
    ")\n",
    "\n",
    "# Option A: Statistical Features\n",
    "# Extracts basic statistical features like mean, standard deviation, min, max, etc.\n",
    "statistical_config = StatisticalConfig()\n",
    "\n",
    "# Option B: Exponentially Weighted Statistical Features\n",
    "# Extracts statistical features with exponential weighting, giving more importance to recent values\n",
    "ew_config = EWStatisticalConfig(\n",
    "    selected_features=[\"ew_mean\", \"ew_std\", \"ew_skew\"],         # Features to extract\n",
    "    overlap=0.5,                                                # Window overlap (0.5 = 50% overlap)\n",
    "    offset=0,                                                   # Starting offset\n",
    "    decay=0.9,                                                  # Exponential decay factor (higher = more weight on recent values)\n",
    "    eps=1e-8,                                                   # Small constant for numerical stability\n",
    ")\n",
    "\n",
    "# Option C: Wavelet Features\n",
    "# Extracts features using wavelet decomposition\n",
    "wavelet_config = WaveletConfig(\n",
    "    level=3,                # Decomposition level\n",
    "    overlap=0.5,            # Window overlap\n",
    "    offset=0,               # Starting offset\n",
    "    wavelet=\"haar\",         # Wavelet type: \"haar\", \"db4\", \"sym4\", etc.\n",
    ")\n",
    "\n",
    "print(\"Feature Extraction Options:\")\n",
    "print(\"1. Statistical Features: Basic statistical properties\")\n",
    "print(\"2. EW Statistical Features: Exponentially weighted statistics\")\n",
    "print(\"3. Wavelet Features: Frequency domain decomposition\")\n",
    "```"
   ]
  },
  {
   "cell_type": "markdown",
   "id": "b6ac5aec",
   "metadata": {},
   "source": [
    "#### 🤖 Model Training\n",
    "\n",
    "Configure how your model will be trained:\n"
   ]
  },
  {
   "cell_type": "markdown",
   "id": "b7926d94",
   "metadata": {},
   "source": [
    "```python\n",
    "# Model configuration\n",
    "model_config = MLPConfig(\n",
    "    hidden_sizes=(64, 32),\n",
    "    output_size=2,\n",
    "    random_seed=42,\n",
    "    activation_function=\"relu\",\n",
    "    regularization=None,\n",
    ")\n",
    "\n",
    "# Training configuration\n",
    "trainer_config = TrainerConfig(\n",
    "    optimizer=\"adam\",                       # Options: \"adam\", \"sgd\", \"rmsprop\"\n",
    "    criterion=\"cross_entropy\",              # Loss function\n",
    "    batch_size=32,                          # Number of samples per batch\n",
    "    epochs=20,                              # Number of training epochs\n",
    "    seed=42,                                # Random seed for reproducibility\n",
    "    config_model=model_config,              # Model architecture configuration\n",
    "    learning_rate=0.001,                    # Learning rate\n",
    "    cross_validation=False,                 # Whether to use cross-validation\n",
    "    shuffle_train=True,                     # Whether to shuffle training data\n",
    ")\n",
    "\n",
    "print(\"Model Configuration:\")\n",
    "print(f\"Hidden sizes: {model_config.hidden_sizes}\")\n",
    "print(f\"Output size: {model_config.output_size}\")\n",
    "print(f\"Activation: {model_config.activation_function}\")\n",
    "\n",
    "print(\"\\nTraining Configuration:\")\n",
    "print(f\"Optimizer: {trainer_config.optimizer}\")\n",
    "print(f\"Batch size: {trainer_config.batch_size}\")\n",
    "print(f\"Epochs: {trainer_config.epochs}\")\n",
    "print(f\"Learning rate: {trainer_config.learning_rate}\")\n",
    "```"
   ]
  },
  {
   "cell_type": "markdown",
   "id": "914e02fe",
   "metadata": {},
   "source": [
    "#### 📈 Model Assessment\n",
    "\n",
    "Define how to evaluate your model:\n"
   ]
  },
  {
   "cell_type": "markdown",
   "id": "3ca69f76",
   "metadata": {},
   "source": [
    "```python\n",
    "# Model assessment configuration\n",
    "assessment_config = ModelAssessmentConfig(\n",
    "    metrics=[\"balanced_accuracy\", \"precision\", \"recall\", \"f1\"],\n",
    "    task_type=TaskType.CLASSIFICATION,                                  # Or TaskType.REGRESSION\n",
    "    export_results=True,                                                # Save results to file\n",
    "    generate_report=True ,                                              # Generate detailed HTML report\n",
    ")\n",
    "\n",
    "print(\"Assessment Configuration:\")\n",
    "print(f\"Metrics: {assessment_config.metrics}\")\n",
    "print(f\"Task type: {assessment_config.task_type}\")\n",
    "print(f\"Export results: {assessment_config.export_results}\")\n",
    "print(f\"Generate report: {assessment_config.generate_report}\")\n",
    "```"
   ]
  },
  {
   "cell_type": "markdown",
   "id": "caaff2c4",
   "metadata": {},
   "source": [
    "#### 🔧 Complete Pipeline Examples\n",
    "\n",
    "Let's see some complete pipeline examples with different configurations:\n"
   ]
  },
  {
   "cell_type": "markdown",
   "id": "2ff95a59",
   "metadata": {},
   "source": [
    "**Example 1: Pipeline with Statistical Features**\n"
   ]
  },
  {
   "cell_type": "markdown",
   "id": "463fc6a7",
   "metadata": {},
   "source": [
    "```python\n",
    "# Example 1: Pipeline with Statistical Features\n",
    "config_model_stats = MLPConfig(\n",
    "    hidden_sizes=(128, 64, 32),\n",
    "    output_size=3,\n",
    "    random_seed=42,\n",
    "    activation_function=\"relu\",\n",
    "    regularization=None,\n",
    ")\n",
    "\n",
    "pipeline_stats = Pipeline(\n",
    "    [\n",
    "        ParquetDatasetConfig(\n",
    "            path=dataset_path,\n",
    "            split=0.8,\n",
    "            force_download=False,\n",
    "            columns=[\"T-JUS-CKP\", \"T-MON-CKP\", \"P-PDG\"],\n",
    "            target_column=\"class\",\n",
    "            target_class=[0, 1, 2],\n",
    "        ),\n",
    "        ImputeMissingConfig(strategy=\"mean\", columns=None),  # Impute all columns\n",
    "        NormalizeConfig(norm=\"standard\"),\n",
    "        WindowingConfig(window_size=150),\n",
    "        StatisticalConfig(),  # Extract statistical features\n",
    "        TrainerConfig(\n",
    "            optimizer=\"adam\",\n",
    "            criterion=\"cross_entropy\",\n",
    "            batch_size=64,\n",
    "            epochs=50,\n",
    "            seed=42,\n",
    "            config_model=config_model_stats,\n",
    "            learning_rate=0.0005,\n",
    "            cross_validation=True,\n",
    "            shuffle_train=True,\n",
    "        ),\n",
    "        ModelAssessmentConfig(\n",
    "            metrics=[\"balanced_accuracy\", \"precision\", \"recall\", \"f1\"],\n",
    "            task_type=TaskType.CLASSIFICATION,\n",
    "            export_results=True,\n",
    "            generate_report=True,\n",
    "        ),\n",
    "    ]\n",
    ")\n",
    "\n",
    "print(\"Pipeline with Statistical Features created successfully!\")\n",
    "print(\"This pipeline will:\")\n",
    "print(\"1. Load dataset with 3 classes\")\n",
    "print(\"2. Apply mean imputation to all columns\")\n",
    "print(\"3. Standardize the data\")\n",
    "print(\"4. Create windows of size 150\")\n",
    "print(\"5. Extract statistical features\")\n",
    "print(\"6. Train MLP with cross-validation\")\n",
    "print(\"7. Generate comprehensive assessment report\")\n",
    "```"
   ]
  },
  {
   "cell_type": "markdown",
   "id": "b67fa122",
   "metadata": {},
   "source": [
    "**Example 2: Pipeline with Wavelet Features**\n"
   ]
  },
  {
   "cell_type": "markdown",
   "id": "ecc3d8d4",
   "metadata": {},
   "source": [
    "```python\n",
    "# Example 2: Pipeline with Wavelet Features\n",
    "config_model_wavelet = MLPConfig(\n",
    "    hidden_sizes=(64, 32),\n",
    "    output_size=2,\n",
    "    random_seed=11,\n",
    "    activation_function=\"tanh\",\n",
    "    regularization=\"l2\",\n",
    ")\n",
    "\n",
    "pipeline_wavelet = Pipeline(\n",
    "    [\n",
    "        ParquetDatasetConfig(\n",
    "            path=dataset_path,\n",
    "            split=0.7,\n",
    "            columns=[\"T-JUS-CKP\", \"T-MON-CKP\"],\n",
    "            target_column=\"class\",\n",
    "            target_class=[0, 1],\n",
    "        ),\n",
    "        ImputeMissingConfig(strategy=\"forward\", columns=[\"T-JUS-CKP\", \"T-MON-CKP\"]),\n",
    "        NormalizeConfig(norm=\"l2\"),\n",
    "        WindowingConfig(window_size=200),\n",
    "        WaveletConfig(\n",
    "            level=4,\n",
    "            overlap=0.5,\n",
    "            offset=0,\n",
    "            wavelet=\"db4\",  # Daubechies wavelet\n",
    "        ),\n",
    "        TrainerConfig(\n",
    "            optimizer=\"sgd\",\n",
    "            criterion=\"cross_entropy\",\n",
    "            batch_size=16,\n",
    "            epochs=30,\n",
    "            seed=11,\n",
    "            config_model=config_model_wavelet,\n",
    "            learning_rate=0.01,\n",
    "            cross_validation=False,\n",
    "            shuffle_train=True,\n",
    "        ),\n",
    "        ModelAssessmentConfig(\n",
    "            metrics=[\"balanced_accuracy\", \"f1\"],\n",
    "            task_type=TaskType.CLASSIFICATION,\n",
    "            export_results=True,\n",
    "            generate_report=True,\n",
    "        ),\n",
    "    ]\n",
    ")\n",
    "\n",
    "print(\"Pipeline with Wavelet Features created successfully!\")\n",
    "print(\"This pipeline will:\")\n",
    "print(\"1. Load dataset with 2 classes\")\n",
    "print(\"2. Apply forward imputation to specific columns\")\n",
    "print(\"3. Apply L2 normalization\")\n",
    "print(\"4. Create windows of size 200\")\n",
    "print(\"5. Extract wavelet features using Daubechies wavelet\")\n",
    "print(\"6. Train MLP with SGD optimizer\")\n",
    "print(\"7. Generate assessment with balanced accuracy and F1 metrics\")\n",
    "```"
   ]
  },
  {
   "cell_type": "markdown",
   "id": "56b4fe9b",
   "metadata": {},
   "source": [
    "**Example 3: Minimal Pipeline**\n"
   ]
  },
  {
   "cell_type": "markdown",
   "id": "dd28137c",
   "metadata": {},
   "source": [
    "```python\n",
    "# Example 3: Minimal Pipeline\n",
    "config_model_minimal = MLPConfig(\n",
    "    hidden_sizes=(32, 16),\n",
    "    output_size=3,\n",
    "    random_seed=42,\n",
    "    activation_function=\"relu\",\n",
    "    regularization=None,\n",
    ")\n",
    "\n",
    "pipeline_minimal = Pipeline(\n",
    "    [\n",
    "        ParquetDatasetConfig(\n",
    "            path=dataset_path,\n",
    "            split=None,\n",
    "            columns=[\"T-JUS-CKP\", \"T-MON-CKP\"],\n",
    "            target_column=\"class\",\n",
    "            target_class=[0, 1, 2],\n",
    "        ),\n",
    "        WindowingConfig(window_size=200),\n",
    "        TrainerConfig(\n",
    "            optimizer=\"adam\",\n",
    "            criterion=\"cross_entropy\",\n",
    "            batch_size=32,\n",
    "            epochs=20,\n",
    "            seed=42,\n",
    "            config_model=config_model_minimal,\n",
    "            learning_rate=0.001,\n",
    "            cross_validation=False,\n",
    "            shuffle_train=True,\n",
    "        ),\n",
    "        ModelAssessmentConfig(\n",
    "            metrics=[\"balanced_accuracy\", \"precision\", \"recall\", \"f1\"],\n",
    "            task_type=TaskType.CLASSIFICATION,\n",
    "            export_results=True,\n",
    "            generate_report=False,\n",
    "        ),\n",
    "    ]\n",
    ")\n",
    "\n",
    "print(\"Minimal Pipeline created successfully!\")\n",
    "print(\"This pipeline will:\")\n",
    "print(\"1. Load dataset with 3 classes\")\n",
    "print(\"2. Create windows of size 200\")\n",
    "print(\"3. Train MLP directly on windowed data\")\n",
    "print(\"4. Generate basic assessment\")\n",
    "```"
   ]
  },
  {
   "cell_type": "markdown",
   "id": "515c4c8b",
   "metadata": {},
   "source": [
    "---\n",
    "\n",
    "## 📊 Report Generation\n",
    "\n",
    "The `3WToolkit` provides a `ReportGeneration` module to automatically create comprehensive HTML or LaTeX reports from model evaluation results. This feature simplifies the process of documenting, sharing, and communicating model performance in a standardized format.\n",
    "\n",
    "The `ReportGeneration` class takes the results from the `ModelAssessment` step and compiles them into a structured report that includes:\n",
    "\n",
    "- **Model and Dataset Information**: Details about the model, its configuration, and the dataset used.\n",
    "- **Performance Metrics**: A summary of key metrics like accuracy, precision, recall, and F1-score.\n",
    "- **Custom Plots**: The ability to include additional plots, such as feature importance or prediction visualizations.\n",
    "\n",
    "Reports can be generated in two formats: LaTeX (Beamer) for presentations and HTML for web viewing."
   ]
  },
  {
   "cell_type": "markdown",
   "id": "e8cec580",
   "metadata": {},
   "source": [
    "#### **Initialization - Main Parameters**"
   ]
  },
  {
   "cell_type": "markdown",
   "id": "216235ea",
   "metadata": {},
   "source": [
    "```python\n",
    "report = ReportGeneration(\n",
    "    model=your_model,                    # Trained model\n",
    "    X_train=X_train,                     # Training data (pd.Series)\n",
    "    y_train=y_train,                     # Training labels (pd.Series)\n",
    "    X_test=X_test,                       # Test data (pd.Series)\n",
    "    y_test=y_test,                       # Test labels (pd.Series)\n",
    "    predictions=predictions,             # Model predictions (pd.Series)\n",
    "    calculated_metrics=metrics_dict,     # Dictionary with calculated metrics\n",
    "    plot_config=plot_config,             # Visualization configuration\n",
    "    title=\"My Report\",                   # Report title\n",
    "    author=\"Author Name\",                # Author (default: \"3W Toolkit Report\")\n",
    "    export_report_after_generate=False   # If True, automatically saves\n",
    ")\n",
    "```"
   ]
  },
  {
   "cell_type": "markdown",
   "id": "48d4d221",
   "metadata": {},
   "source": [
    "#### **Metrics Structure**\n",
    "\n",
    "The ``calculated_metrics`` dictionary should contain pre-calculated metrics:"
   ]
  },
  {
   "cell_type": "markdown",
   "id": "c9bbe279",
   "metadata": {},
   "source": [
    "```python\n",
    "calculated_metrics = {\n",
    "    \"accuracy\": 0.95,\n",
    "    \"precision\": 0.93,\n",
    "    \"recall\": 0.94,\n",
    "    \"f1\": 0.93,\n",
    "    \"get_roc_auc\": 0.96\n",
    "}\n",
    "```"
   ]
  },
  {
   "cell_type": "markdown",
   "id": "7defd027",
   "metadata": {},
   "source": [
    "#### **Visualization Configuration**\n",
    "\n",
    "The class supports 6 types of charts through the plot_config parameter:"
   ]
  },
  {
   "cell_type": "markdown",
   "id": "13be26d5",
   "metadata": {},
   "source": [
    "```Python\n",
    "plot_config = {\n",
    "    \"PlotSeries\": {\n",
    "        \"series\": your_series,\n",
    "        \"title\": \"Time Series\"\n",
    "    },\n",
    "    \"PlotMultipleSeries\": {\n",
    "        \"series_list\": [series1, series2],\n",
    "        \"title\": \"Series Comparison\"\n",
    "    },\n",
    "    \"PlotCorrelationHeatmap\": {\n",
    "        \"df_of_series\": dataframe,\n",
    "        \"title\": \"Feature Correlation\"\n",
    "    },\n",
    "    \"PlotFFT\": {\n",
    "        \"series\": your_series,\n",
    "        \"title\": \"Frequency Analysis\"\n",
    "    },\n",
    "    \"SeasonalDecompose\": {\n",
    "        \"series\": your_series,\n",
    "        \"title\": \"Seasonal Decomposition\"\n",
    "    },\n",
    "    \"PlotWaveletSpectrogram\": {\n",
    "        \"series\": your_series,\n",
    "        \"title\": \"Wavelet Spectrogram\"\n",
    "    }\n",
    "}\n",
    "```"
   ]
  },
  {
   "cell_type": "markdown",
   "id": "7afbed20",
   "metadata": {},
   "source": [
    "#### **Report Generation**\n",
    "\n",
    "**I. LaTeX (Beamer) Format**\n",
    "\n",
    "Generates a professional Beamer presentation with:\n",
    "\n",
    "Slide 1 - Title: Uses the \"petro\" theme with custom background\n",
    "\n",
    "Slide 2 - Performance Evaluation: Table with all calculated metrics\n",
    "\n",
    "Slide 3 - Model Overview:\n",
    "\n",
    "* Model type and parameter configuration\n",
    "* Dataset statistics (number of training/test samples)\n",
    "\n",
    "Slides 4+ - Visualizations: One slide for each configured plot"
   ]
  },
  {
   "cell_type": "markdown",
   "id": "81ee0dad",
   "metadata": {},
   "source": [
    "```python\n",
    "# Generate (without auto-saving)\n",
    "doc = report.generate_summary_report(format=\"latex\")\n",
    "\n",
    "# Save manually later\n",
    "report.save_report(doc, filename=\"my_report\", format=\"latex\")\n",
    "```"
   ]
  },
  {
   "cell_type": "markdown",
   "id": "78426635",
   "metadata": {},
   "source": [
    "**Note:** *To save automatically after generation, set* `export_report_after_generate=True` *during initialization.*"
   ]
  },
  {
   "cell_type": "markdown",
   "id": "07393c9e",
   "metadata": {},
   "source": [
    "**II. HTML Format**\n",
    "\n",
    "Generates a web report using Jinja2 templates with the same information as the LaTeX version"
   ]
  },
  {
   "cell_type": "markdown",
   "id": "d42afafd",
   "metadata": {},
   "source": [
    "```python\n",
    "# Using default template (report_template.html)\n",
    "html_content = report.generate_summary_report(format=\"html\")\n",
    "\n",
    "# Using custom template\n",
    "html_content = report.generate_summary_report(\n",
    "    format=\"html\",\n",
    "    template_name=\"my_custom_template.html\"\n",
    ")\n",
    "```"
   ]
  },
  {
   "cell_type": "markdown",
   "id": "f48a46fd",
   "metadata": {},
   "source": [
    "#### **Usage Tips**"
   ]
  },
  {
   "cell_type": "markdown",
   "id": "a5dd4caf",
   "metadata": {},
   "source": [
    "##### 1 - Integration with ``ModelAssessment``\n",
    "\n",
    "The class is designed to receive results from ``ModelAssessment``. Use the already calculated metrics:\n",
    "\n",
    "```python\n",
    "# After running ModelAssessment\n",
    "assessment = ModelAssessment(...)\n",
    "metrics = assessment.calculate_metrics()\n",
    "\n",
    "# Pass directly to ReportGeneration\n",
    "report = ReportGeneration(\n",
    "    ...,\n",
    "    calculated_metrics=metrics,\n",
    "    ...\n",
    ")\n",
    "```\n",
    "\n",
    "##### 2 - Automatic Plot Validation\n",
    "\n",
    "The class automatically validates plot configuration:\n",
    "\n",
    "* Checks if plot names are valid\n",
    "* Ensures required parameters are present\n",
    "* Raises descriptive errors if there are issues\n",
    "\n",
    "##### 3 - Relative Paths for Portability\n",
    "\n",
    "All images use relative paths, allowing you to:\n",
    "\n",
    "* Share the complete reports folder\n",
    "* Compile LaTeX on different machines\n",
    "* View HTML in any browser without configuration\n",
    "\n",
    "##### 4 - Automatic Name Formatting\n",
    "\n",
    "* Metric names are automatically converted: \"get_roc_auc\" → \"ROC AUC\"\n",
    "* Model parameters are formatted: \"learning_rate\" → \"Learning Rate\"\n",
    "* Long values are truncated to avoid layout issues\n",
    "\n",
    "##### 5 - Model Requirements\n",
    "\n",
    "The model must have a config attribute that can be iterated. The class accesses model.config to display parameters in the report."
   ]
  }
 ],
 "metadata": {
  "kernelspec": {
   "display_name": "Python 3",
   "language": "python",
   "name": "python3"
  },
  "language_info": {
   "codemirror_mode": {
    "name": "ipython",
    "version": 3
   },
   "file_extension": ".py",
   "mimetype": "text/x-python",
   "name": "python",
   "nbconvert_exporter": "python",
   "pygments_lexer": "ipython3",
   "version": "3.10.11"
  }
 },
 "nbformat": 4,
 "nbformat_minor": 5
}
