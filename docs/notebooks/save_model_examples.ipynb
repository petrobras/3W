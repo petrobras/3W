{
 "cells": [
  {
   "cell_type": "markdown",
   "id": "cb6cd100",
   "metadata": {},
   "source": [
    "# SaveModel Example – Using `ModelRecorder`\n",
    "This notebook demonstrates how to use the `save_best_model` function to persist **PyTorch** and **scikit-learn** models to disk.\n",
    "\n",
    "It covers:\n",
    "- Training a small PyTorch model\n",
    "- Training a scikit-learn model\n",
    "- Saving both models using `ModelRecorder`\n",
    "- Verifying the saved files"
   ]
  },
  {
   "cell_type": "code",
   "execution_count": 1,
   "id": "fcd1a770",
   "metadata": {},
   "outputs": [],
   "source": [
    "import os\n",
    "import pickle\n",
    "import torch\n",
    "import torch.nn as nn\n",
    "import torch.optim as optim\n",
    "from sklearn.linear_model import LogisticRegression\n",
    "from sklearn.datasets import make_classification\n",
    "from sklearn.model_selection import train_test_split\n",
    "\n",
    "from ThreeWToolkit.utils import ModelRecorder"
   ]
  },
  {
   "cell_type": "code",
   "execution_count": 2,
   "id": "033e3458",
   "metadata": {},
   "outputs": [],
   "source": [
    "from pathlib import Path\n",
    "\n",
    "dir_to_save = Path(\"output/\")\n",
    "dir_to_save.mkdir(parents=True, exist_ok=True)"
   ]
  },
  {
   "cell_type": "markdown",
   "id": "622e1916",
   "metadata": {},
   "source": [
    "## Part 1 – Saving a PyTorch model"
   ]
  },
  {
   "cell_type": "code",
   "execution_count": 3,
   "id": "d9c05d88",
   "metadata": {},
   "outputs": [
    {
     "name": "stdout",
     "output_type": "stream",
     "text": [
      "✅ PyTorch model saved to output/torch_model.pt\n"
     ]
    }
   ],
   "source": [
    "class SimpleNet(nn.Module):\n",
    "    def __init__(self):\n",
    "        super().__init__()\n",
    "        self.fc = nn.Linear(10, 2)\n",
    "\n",
    "    def forward(self, x):\n",
    "        return self.fc(x)\n",
    "\n",
    "\n",
    "# Create random data\n",
    "X = torch.randn(100, 10)\n",
    "y = torch.randint(0, 2, (100,))\n",
    "\n",
    "model = SimpleNet()\n",
    "criterion = nn.CrossEntropyLoss()\n",
    "optimizer = optim.Adam(model.parameters(), lr=0.01)\n",
    "\n",
    "# Train for a few epochs\n",
    "for epoch in range(5):\n",
    "    outputs = model(X)\n",
    "    loss = criterion(outputs, y)\n",
    "    optimizer.zero_grad()\n",
    "    loss.backward()\n",
    "    optimizer.step()\n",
    "\n",
    "# Save the model\n",
    "torch_model_path = dir_to_save / \"torch_model.pt\"\n",
    "ModelRecorder.save_best_model(model, torch_model_path)\n",
    "\n",
    "print(f\"✅ PyTorch model saved to {torch_model_path}\")"
   ]
  },
  {
   "cell_type": "markdown",
   "id": "1ec57aab",
   "metadata": {},
   "source": [
    "## Part 2 – Saving a scikit-learn model"
   ]
  },
  {
   "cell_type": "code",
   "execution_count": 4,
   "id": "fcead1e8",
   "metadata": {},
   "outputs": [
    {
     "name": "stdout",
     "output_type": "stream",
     "text": [
      "✅ scikit-learn model saved to output/sklearn_model.pkl\n"
     ]
    }
   ],
   "source": [
    "X, y = make_classification(n_samples=100, n_features=10, random_state=42)\n",
    "X_train, X_test, y_train, y_test = train_test_split(X, y, test_size=0.2)\n",
    "\n",
    "sk_model = LogisticRegression()\n",
    "sk_model.fit(X_train, y_train)\n",
    "\n",
    "# Save the model\n",
    "sk_model_path = dir_to_save / \"sklearn_model.pkl\"\n",
    "ModelRecorder.save_best_model(sk_model, sk_model_path)\n",
    "\n",
    "print(f\"✅ scikit-learn model saved to {sk_model_path}\")"
   ]
  },
  {
   "cell_type": "markdown",
   "id": "d54b29a9",
   "metadata": {},
   "source": [
    "## Part 3 – Verifying the saved files"
   ]
  },
  {
   "cell_type": "code",
   "execution_count": 5,
   "id": "f3c85abc",
   "metadata": {},
   "outputs": [
    {
     "name": "stdout",
     "output_type": "stream",
     "text": [
      "✅ Loaded scikit-learn model type: <class 'sklearn.linear_model._logistic.LogisticRegression'>\n"
     ]
    }
   ],
   "source": [
    "assert os.path.exists(torch_model_path), \"❌ Torch model file not found!\"\n",
    "assert os.path.exists(sk_model_path), \"❌ scikit-learn model file not found!\"\n",
    "\n",
    "# Load back the scikit-learn model\n",
    "with open(sk_model_path, \"rb\") as f:\n",
    "    loaded_model = pickle.load(f)\n",
    "\n",
    "print(\"✅ Loaded scikit-learn model type:\", type(loaded_model))"
   ]
  },
  {
   "cell_type": "code",
   "execution_count": null,
   "id": "e660d271",
   "metadata": {},
   "outputs": [],
   "source": []
  }
 ],
 "metadata": {
  "kernelspec": {
   "display_name": ".venv",
   "language": "python",
   "name": "python3"
  },
  "language_info": {
   "codemirror_mode": {
    "name": "ipython",
    "version": 3
   },
   "file_extension": ".py",
   "mimetype": "text/x-python",
   "name": "python",
   "nbconvert_exporter": "python",
   "pygments_lexer": "ipython3",
   "version": "3.13.3"
  }
 },
 "nbformat": 4,
 "nbformat_minor": 5
}
