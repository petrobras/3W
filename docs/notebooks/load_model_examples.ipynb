{
 "cells": [
  {
   "cell_type": "markdown",
   "id": "463cbf57",
   "metadata": {},
   "source": [
    "\n",
    "# `ModelRecorder.load_model` — Usage Examples\n",
    "\n",
    "This notebook shows practical, **runnable** examples for loading models with `ModelRecorder.load_model`, mirroring the style of the `save_model_examples.ipynb` notebook.\n",
    "\n",
    "We cover:\n",
    "1. Loading a scikit-learn model from a `.pkl` file.\n",
    "2. Loading a PyTorch model from a `.pt`/`.pth` file **into an instantiated model**.\n",
    "3. Loading only the **state_dict** (when you don't have/instantiate a model).\n",
    "4. Common error handling patterns (unsupported extension, file-like object, corrupted file).\n"
   ]
  },
  {
   "cell_type": "code",
   "execution_count": 5,
   "id": "b18d305e",
   "metadata": {},
   "outputs": [],
   "source": [
    "import os\n",
    "import tempfile\n",
    "import pickle\n",
    "import torch\n",
    "import torch.nn as nn\n",
    "from ThreeWToolkit.utils import ModelRecorder\n",
    "from sklearn import linear_model"
   ]
  },
  {
   "cell_type": "code",
   "execution_count": 2,
   "id": "dfe53405",
   "metadata": {},
   "outputs": [],
   "source": [
    "class SimpleTorchModel(nn.Module):\n",
    "    def __init__(self):\n",
    "        super().__init__()\n",
    "        self.linear = nn.Linear(10, 1)\n",
    "\n",
    "    def forward(self, x):\n",
    "        return self.linear(x)"
   ]
  },
  {
   "cell_type": "markdown",
   "id": "44dc0952",
   "metadata": {},
   "source": [
    "\n",
    "## 1) Load a scikit-learn model (`.pkl`)\n",
    "\n",
    "We'll create and save a simple `LogisticRegression` model, then load it back using `ModelRecorder.load_model`.\n"
   ]
  },
  {
   "cell_type": "code",
   "execution_count": 7,
   "id": "7e46d3cd",
   "metadata": {},
   "outputs": [
    {
     "name": "stdout",
     "output_type": "stream",
     "text": [
      "Saved sklearn model to: /tmp/tmpxp2jtidw.pkl\n",
      "Loaded type: <class 'sklearn.linear_model._logistic.LogisticRegression'>\n"
     ]
    }
   ],
   "source": [
    "# --- Save a sklearn model ---\n",
    "sk_model = linear_model.LogisticRegression()\n",
    "tmp_pkl = tempfile.NamedTemporaryFile(suffix=\".pkl\", delete=False)\n",
    "tmp_pkl.close()\n",
    "with open(tmp_pkl.name, \"wb\") as f:\n",
    "    pickle.dump(sk_model, f)\n",
    "\n",
    "print(\"Saved sklearn model to:\", tmp_pkl.name)\n",
    "\n",
    "# --- Load it back ---\n",
    "loaded_sk_model = ModelRecorder.load_model(tmp_pkl.name)\n",
    "print(\"Loaded type:\", type(loaded_sk_model))\n",
    "assert isinstance(loaded_sk_model, linear_model.LogisticRegression)\n",
    "\n",
    "os.remove(tmp_pkl.name)\n"
   ]
  },
  {
   "cell_type": "markdown",
   "id": "1955df37",
   "metadata": {},
   "source": [
    "\n",
    "## 2) Load a PyTorch model into an instantiated module (`.pt`/`.pth`)\n",
    "\n",
    "We'll create a simple `nn.Module`, save its `state_dict`, then **instantiate a new model** and load weights into it.\n"
   ]
  },
  {
   "cell_type": "code",
   "execution_count": 8,
   "id": "8cd8ad47",
   "metadata": {},
   "outputs": [
    {
     "name": "stdout",
     "output_type": "stream",
     "text": [
      "Saved torch state_dict to: /tmp/tmprf9sjp2w.pt\n",
      "Restored model successfully, parameters match.\n"
     ]
    }
   ],
   "source": [
    "\n",
    "# --- Create & save a torch state_dict ---\n",
    "torch_model = SimpleTorchModel()\n",
    "tmp_pt = tempfile.NamedTemporaryFile(suffix=\".pt\", delete=False)\n",
    "tmp_pt.close()\n",
    "torch.save(torch_model.state_dict(), tmp_pt.name)\n",
    "print(\"Saved torch state_dict to:\", tmp_pt.name)\n",
    "\n",
    "# --- Load into a fresh instance ---\n",
    "fresh_model = SimpleTorchModel()\n",
    "restored_model = ModelRecorder.load_model(tmp_pt.name, model=fresh_model)\n",
    "\n",
    "# Verify parameters match\n",
    "for k, v in torch_model.state_dict().items():\n",
    "    assert torch.allclose(restored_model.state_dict()[k], v)\n",
    "\n",
    "print(\"Restored model successfully, parameters match.\")\n"
   ]
  },
  {
   "cell_type": "markdown",
   "id": "ca5609ed",
   "metadata": {},
   "source": [
    "\n",
    "## 3) Load only the `state_dict` (no instantiated model)\n",
    "\n",
    "If you don't pass a model instance, `load_model` returns the raw `state_dict`. This is useful when you only need the parameters, or you want to reconstruct the architecture later.\n"
   ]
  },
  {
   "cell_type": "code",
   "execution_count": 9,
   "id": "b5abef86",
   "metadata": {},
   "outputs": [
    {
     "name": "stdout",
     "output_type": "stream",
     "text": [
      "Type of returned object: <class 'collections.OrderedDict'>\n",
      "Keys in state_dict: ['linear.weight', 'linear.bias'] ...\n"
     ]
    }
   ],
   "source": [
    "# Reuse the same .pt path created above (tmp_pt)\n",
    "state = ModelRecorder.load_model(tmp_pt.name)\n",
    "print(\"Type of returned object:\", type(state))\n",
    "print(\"Keys in state_dict:\", list(state.keys())[:5], \"...\")\n",
    "assert isinstance(state, dict)  # OrderedDict or dict depending on PyTorch version\n",
    "\n",
    "os.remove(tmp_pt.name)"
   ]
  },
  {
   "cell_type": "markdown",
   "id": "c33ebfad",
   "metadata": {},
   "source": [
    "\n",
    "## 4) Error handling patterns\n",
    "\n",
    "Below are examples demonstrating how to **catch and diagnose** common errors:\n",
    "- Unsupported extension\n",
    "- File-like object not accepted\n",
    "- Corrupted or non-pickle `.pkl`\n",
    "- Corrupted or non-torch `.pt`\n"
   ]
  },
  {
   "cell_type": "code",
   "execution_count": 10,
   "id": "d3778f3c",
   "metadata": {},
   "outputs": [
    {
     "name": "stdout",
     "output_type": "stream",
     "text": [
      "Caught expected error (unsupported ext): Unsupported file extension: .xyz\n",
      "Caught expected error (file-like not supported): Loading from file-like object '<_io.BytesIO object at 0x79fcee134e00>' is not supported. Please provide a valid file path.\n",
      "Caught expected error (pickle load): Error loading Pickle model: invalid load key, 'n'.\n",
      "Caught expected error (torch load): Error loading PyTorch model: Weights only load failed. In PyTorch 2.6, we changed the default value of the `weights_only` argument in `torch.load` from `False` to `True`. Re-running `torch.load` with `weights_only` set to `False` will likely succeed, but it can result in arbitrary code execution. Do it only if you got the file from a trusted source.\n",
      "Please file an issue with the following so that we can make `weights_only=True` compatible with your use case: WeightsUnpickler error: Unsupported operand 110\n",
      "\n",
      "Check the documentation of torch.load to learn more about types accepted by default with weights_only https://pytorch.org/docs/stable/generated/torch.load.html.\n"
     ]
    }
   ],
   "source": [
    "from io import BytesIO\n",
    "\n",
    "# 4.1 Unsupported extension\n",
    "try:\n",
    "    with tempfile.NamedTemporaryFile(suffix=\".xyz\", delete=True) as fake:\n",
    "        ModelRecorder.load_model(fake.name)\n",
    "except ValueError as e:\n",
    "    print(\"Caught expected error (unsupported ext):\", e)\n",
    "\n",
    "# 4.2 File-like object not accepted\n",
    "try:\n",
    "    fake_file = BytesIO(b\"dummy\")\n",
    "    ModelRecorder.load_model(fake_file)\n",
    "except ValueError as e:\n",
    "    print(\"Caught expected error (file-like not supported):\", e)\n",
    "\n",
    "# 4.3 Non-pickle content in .pkl\n",
    "try:\n",
    "    with tempfile.NamedTemporaryFile(suffix=\".pkl\", delete=False) as bad_pkl:\n",
    "        bad_pkl.write(b\"not a real pickle payload\")\n",
    "        bad_pkl.flush()\n",
    "        bad_pkl_path = bad_pkl.name\n",
    "\n",
    "    ModelRecorder.load_model(bad_pkl_path)\n",
    "except RuntimeError as e:\n",
    "    print(\"Caught expected error (pickle load):\", e)\n",
    "finally:\n",
    "    if os.path.exists(bad_pkl_path):\n",
    "        os.remove(bad_pkl_path)\n",
    "\n",
    "# 4.4 Non-torch content in .pt\n",
    "try:\n",
    "    with tempfile.NamedTemporaryFile(suffix=\".pt\", delete=False) as bad_pt:\n",
    "        bad_pt.write(b\"not a real torch payload\")\n",
    "        bad_pt.flush()\n",
    "        bad_pt_path = bad_pt.name\n",
    "\n",
    "    ModelRecorder.load_model(bad_pt_path, model=SimpleTorchModel())\n",
    "except RuntimeError as e:\n",
    "    print(\"Caught expected error (torch load):\", e)\n",
    "finally:\n",
    "    if os.path.exists(bad_pt_path):\n",
    "        os.remove(bad_pt_path)\n"
   ]
  }
 ],
 "metadata": {
  "kernelspec": {
   "display_name": ".venv",
   "language": "python",
   "name": "python3"
  },
  "language_info": {
   "codemirror_mode": {
    "name": "ipython",
    "version": 3
   },
   "file_extension": ".py",
   "mimetype": "text/x-python",
   "name": "python",
   "nbconvert_exporter": "python",
   "pygments_lexer": "ipython3",
   "version": "3.10.11"
  }
 },
 "nbformat": 4,
 "nbformat_minor": 5
}
