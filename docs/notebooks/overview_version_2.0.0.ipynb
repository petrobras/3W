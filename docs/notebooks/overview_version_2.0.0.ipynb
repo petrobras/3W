{
 "cells": [
  {
   "cell_type": "markdown",
   "metadata": {},
   "source": [
    "# 3W Toolkit"
   ]
  },
  {
   "cell_type": "markdown",
   "metadata": {},
   "source": [
    "**Version:** 2.0.0  \n",
    "**Authors:** Bruno Coelho Martins, Carla Pagliari, Eduardo A. B. Silva, Eduardo Henrique, Fernanda Duarte Vilela Reis de Oliveira, Gabriel Henrique Braga Lisboa, Luiza Helena de Andrade Leite, Marcello Campos, Matheus Ferreira Espirito Santo, Matheus Ramos Parracho, Natanael Moura Junior, Pedro Braga Lisboa, Rafael Padilla, Sergio Lima Netto, Thadeu Luiz Barbosa Dias, Umberto Augusto.  \n",
    "**Description:** Demonstrative notebook with the main functions of *3W Toolkit*.\n"
   ]
  },
  {
   "cell_type": "markdown",
   "metadata": {},
   "source": [
    "----"
   ]
  },
  {
   "cell_type": "markdown",
   "metadata": {},
   "source": [
    "## Table of Contents 📑\n",
    "\n",
    "1. 🚀 Introduction to 3WToolkit v2.0.0  \n",
    "   1.1. Installing with `pip install`  \n",
    "   1.2. Cloning & Installing  \n",
    "   1.3. Forking & Installing  \n",
    "\n",
    "2. 📂 Dataset 3W   \n",
    "   2.1. Downloading the Dataset    \n",
    "   2.2. Filtering & Exploring the Data   \n",
    "   2.3 Cleaning the dataset   \n",
    "\n",
    "3. ⚙️ Preprocessing   \n",
    "   3.1 Handling missing values (Imputation)  \n",
    "   3.2 Normalization  \n",
    "   3.3 Windowing  \n",
    "   3.4 Renaming columns  \n",
    "\n",
    "4. 🔎 Feature Extraction  \n",
    "   4.1 Statistical Feature Extraction  \n",
    "   4.2 Wavelet Feature Extraction  \n",
    "   4.3 Exponentially Weighted Statistical Feature Extraction  \n",
    "\n",
    "5. 📊 Exploratory Analysis  \n",
    "   5.1. Visualizing Time Series  \n",
    "\n",
    "6. 🤖 Model Training and Evaluation\n",
    "7. 🔗 Pipeline Integration\n"
   ]
  },
  {
   "cell_type": "markdown",
   "metadata": {},
   "source": [
    "----"
   ]
  },
  {
   "cell_type": "markdown",
   "metadata": {},
   "source": [
    "## 🚀 1. Introduction to 3WToolkit Version 2.0.0\n",
    "\n",
    "The **3WToolkit version 2.0.0** is a **modular** and **open-source Artificial Intelligence (AI) toolkit** for **time series processing**, designed for **fault detection and classification** in the operation of **oil wells**.\n",
    "\n",
    "Based on the experience with the original **3W Toolkit** system and using the [**3W dataset from Petrobras**](https://github.com/petrobras/3W/), the 3W Toolkit version 2.0.0 offers enhanced features such as:\n",
    "\n",
    "- **Advanced data imputation**\n",
    "- **Deep feature extraction**\n",
    "- **Synthetic data augmentation**\n",
    "- **High-performance computing capabilities** for model training"
   ]
  },
  {
   "cell_type": "markdown",
   "metadata": {},
   "source": [
    "Please find bellow different ways to install the **3WToolkit** project hosted on GitHub: https://github.com/petrobras/3W."
   ]
  },
  {
   "cell_type": "markdown",
   "metadata": {},
   "source": [
    "------"
   ]
  },
  {
   "cell_type": "markdown",
   "metadata": {},
   "source": [
    "### 1.1 Installation with `pip install`\n",
    "\n",
    "```bash\n",
    "pip install git+https://github.com/petrobras/3W.git\n",
    "```"
   ]
  },
  {
   "cell_type": "markdown",
   "metadata": {},
   "source": [
    "------"
   ]
  },
  {
   "cell_type": "markdown",
   "metadata": {},
   "source": [
    "### 1.2. Cloning and installing\n",
    "\n",
    "\n",
    "```bash\n",
    "git clone https://github.com/petrobras/3W.git\n",
    "cd 3W\n",
    "pip install .\n",
    "```\n",
    "\n",
    "For editable/development install (`-e` installs it in editable/development mode, useful for contributing back to the original project via pull requests)"
   ]
  },
  {
   "cell_type": "markdown",
   "metadata": {},
   "source": [
    "------"
   ]
  },
  {
   "cell_type": "markdown",
   "metadata": {},
   "source": [
    "### 1.3. Forking and installing \n",
    "\n",
    "\n",
    "1. Fork the repository on GitHub https://github.com/petrobras/3W (button **Fork**).\n",
    "\n",
    "![Forking the repo](../../images/forking_the_repo.jpg)\n",
    "\n",
    "\n",
    "2. Clone **your forked project**:\n",
    "\n",
    "After forking, your github account will have a copy of the 3W project.  \n",
    "\n",
    "Run the commands below, replacing `<YOUR-USERNAME>` with your github username:\n",
    "```bash\n",
    "git clone https://github.com/<YOUR-USERNAME>/3W.git\n",
    "cd 3W\n",
    "pip install -e .\n",
    "```\n"
   ]
  },
  {
   "cell_type": "markdown",
   "metadata": {},
   "source": [
    "------"
   ]
  },
  {
   "cell_type": "markdown",
   "metadata": {},
   "source": [
    "### Imports"
   ]
  },
  {
   "cell_type": "code",
   "execution_count": 4,
   "metadata": {},
   "outputs": [],
   "source": [
    "import numpy as np\n",
    "import pandas as pd\n",
    "import matplotlib.pyplot as plt\n",
    "\n",
    "# Importing ParquetDataset to download and load dataset\n",
    "from ThreeWToolkit.core.base_dataset import ParquetDatasetConfig\n",
    "from ThreeWToolkit.dataset import ParquetDataset\n",
    "from ThreeWToolkit.core.enums import EventPrefixEnum\n",
    "\n",
    "# Apply mean imputation\n",
    "from ThreeWToolkit.core.base_preprocessing import (\n",
    "    ImputeMissingConfig,\n",
    "    NormalizeConfig,\n",
    "    WindowingConfig,\n",
    "    RenameColumnsConfig,\n",
    ")\n",
    "from ThreeWToolkit.preprocessing import (\n",
    "    ImputeMissing,\n",
    "    Normalize,\n",
    "    Windowing,\n",
    "    RenameColumns,\n",
    ")\n",
    "from ThreeWToolkit.core.base_feature_extractor import (\n",
    "    StatisticalConfig,\n",
    "    EWStatisticalConfig,\n",
    "    WaveletConfig,\n",
    ")\n",
    "from ThreeWToolkit.feature_extraction import (\n",
    "    ExtractStatisticalFeatures,\n",
    "    ExtractEWStatisticalFeatures,\n",
    "    ExtractWaveletFeatures,\n",
    ")\n",
    "from ThreeWToolkit.data_visualization import DataVisualization\n"
   ]
  },
  {
   "cell_type": "markdown",
   "metadata": {},
   "source": [
    "-----"
   ]
  },
  {
   "cell_type": "markdown",
   "metadata": {},
   "source": [
    "## 📂 2. Dataset 3W\n",
    "\n",
    "* **Format**: Tabular, split into files in parquet format\n",
    "* **Hosted** on: 3W Dataset 2.0.0 - Figshare\n",
    "* **Size**: 1.67 GB\n",
    "* **Splits**: 10 folders with parquet files, one folder for each event.\n",
    "* **License** & Usage: Apache 2.0"
   ]
  },
  {
   "cell_type": "markdown",
   "metadata": {},
   "source": [
    "**Define path**"
   ]
  },
  {
   "cell_type": "code",
   "execution_count": 5,
   "metadata": {},
   "outputs": [],
   "source": [
    "dataset_path = \"../../dataset\""
   ]
  },
  {
   "cell_type": "markdown",
   "metadata": {},
   "source": [
    "### 2.1 Downloading the Dataset"
   ]
  },
  {
   "cell_type": "markdown",
   "metadata": {},
   "source": [
    "Let’s download the dataset using the 3W library:"
   ]
  },
  {
   "cell_type": "code",
   "execution_count": 6,
   "metadata": {},
   "outputs": [
    {
     "name": "stdout",
     "output_type": "stream",
     "text": [
      "[ParquetDataset] Dataset found at ../../dataset\n",
      "[ParquetDataset] Validating dataset integrity...\n",
      "[ParquetDataset] Dataset integrity check passed!\n"
     ]
    },
    {
     "data": {
      "text/plain": [
       "2228"
      ]
     },
     "execution_count": 6,
     "metadata": {},
     "output_type": "execute_result"
    }
   ],
   "source": [
    "# Create and load\n",
    "ds_config = ParquetDatasetConfig(path=dataset_path, clean_data=False)\n",
    "ds = ParquetDataset(ds_config)\n",
    "len(ds)"
   ]
  },
  {
   "cell_type": "markdown",
   "metadata": {},
   "source": [
    "### 2.2 Filtering & Exploring the Data"
   ]
  },
  {
   "cell_type": "code",
   "execution_count": 7,
   "metadata": {},
   "outputs": [
    {
     "data": {
      "text/plain": [
       "2228"
      ]
     },
     "execution_count": 7,
     "metadata": {},
     "output_type": "execute_result"
    }
   ],
   "source": [
    "# Count events\n",
    "total_events = len(ds)\n",
    "total_events"
   ]
  },
  {
   "cell_type": "markdown",
   "metadata": {},
   "source": [
    "Each event is a dict containing: \"signal\" and \"label\""
   ]
  },
  {
   "cell_type": "code",
   "execution_count": 8,
   "metadata": {},
   "outputs": [
    {
     "data": {
      "text/plain": [
       "dict"
      ]
     },
     "execution_count": 8,
     "metadata": {},
     "output_type": "execute_result"
    }
   ],
   "source": [
    "event_id = 0\n",
    "type(ds[event_id])"
   ]
  },
  {
   "cell_type": "code",
   "execution_count": 9,
   "metadata": {},
   "outputs": [
    {
     "data": {
      "text/plain": [
       "dict_keys(['signal', 'label', 'file_name'])"
      ]
     },
     "execution_count": 9,
     "metadata": {},
     "output_type": "execute_result"
    }
   ],
   "source": [
    "ds[event_id].keys()"
   ]
  },
  {
   "cell_type": "markdown",
   "metadata": {},
   "source": [
    "Lets check the \"signal\":"
   ]
  },
  {
   "cell_type": "code",
   "execution_count": 10,
   "metadata": {},
   "outputs": [
    {
     "data": {
      "text/html": [
       "<div>\n",
       "<style scoped>\n",
       "    .dataframe tbody tr th:only-of-type {\n",
       "        vertical-align: middle;\n",
       "    }\n",
       "\n",
       "    .dataframe tbody tr th {\n",
       "        vertical-align: top;\n",
       "    }\n",
       "\n",
       "    .dataframe thead th {\n",
       "        text-align: right;\n",
       "    }\n",
       "</style>\n",
       "<table border=\"1\" class=\"dataframe\">\n",
       "  <thead>\n",
       "    <tr style=\"text-align: right;\">\n",
       "      <th></th>\n",
       "      <th>ABER-CKGL</th>\n",
       "      <th>ABER-CKP</th>\n",
       "      <th>ESTADO-DHSV</th>\n",
       "      <th>ESTADO-M1</th>\n",
       "      <th>ESTADO-M2</th>\n",
       "      <th>ESTADO-PXO</th>\n",
       "      <th>ESTADO-SDV-GL</th>\n",
       "      <th>ESTADO-SDV-P</th>\n",
       "      <th>ESTADO-W1</th>\n",
       "      <th>ESTADO-W2</th>\n",
       "      <th>...</th>\n",
       "      <th>P-PDG</th>\n",
       "      <th>PT-P</th>\n",
       "      <th>P-TPT</th>\n",
       "      <th>QBS</th>\n",
       "      <th>QGL</th>\n",
       "      <th>T-JUS-CKP</th>\n",
       "      <th>T-MON-CKP</th>\n",
       "      <th>T-PDG</th>\n",
       "      <th>T-TPT</th>\n",
       "      <th>state</th>\n",
       "    </tr>\n",
       "    <tr>\n",
       "      <th>timestamp</th>\n",
       "      <th></th>\n",
       "      <th></th>\n",
       "      <th></th>\n",
       "      <th></th>\n",
       "      <th></th>\n",
       "      <th></th>\n",
       "      <th></th>\n",
       "      <th></th>\n",
       "      <th></th>\n",
       "      <th></th>\n",
       "      <th></th>\n",
       "      <th></th>\n",
       "      <th></th>\n",
       "      <th></th>\n",
       "      <th></th>\n",
       "      <th></th>\n",
       "      <th></th>\n",
       "      <th></th>\n",
       "      <th></th>\n",
       "      <th></th>\n",
       "      <th></th>\n",
       "    </tr>\n",
       "  </thead>\n",
       "  <tbody>\n",
       "    <tr>\n",
       "      <th>2016-07-04 18:00:00</th>\n",
       "      <td>NaN</td>\n",
       "      <td>NaN</td>\n",
       "      <td>NaN</td>\n",
       "      <td>NaN</td>\n",
       "      <td>NaN</td>\n",
       "      <td>NaN</td>\n",
       "      <td>1.0</td>\n",
       "      <td>1.0</td>\n",
       "      <td>NaN</td>\n",
       "      <td>NaN</td>\n",
       "      <td>...</td>\n",
       "      <td>0.0</td>\n",
       "      <td>NaN</td>\n",
       "      <td>-17129300.0</td>\n",
       "      <td>NaN</td>\n",
       "      <td>2.030010</td>\n",
       "      <td>55.14078</td>\n",
       "      <td>NaN</td>\n",
       "      <td>0.0</td>\n",
       "      <td>95.97056</td>\n",
       "      <td>&lt;NA&gt;</td>\n",
       "    </tr>\n",
       "    <tr>\n",
       "      <th>2016-07-04 18:00:01</th>\n",
       "      <td>NaN</td>\n",
       "      <td>NaN</td>\n",
       "      <td>NaN</td>\n",
       "      <td>NaN</td>\n",
       "      <td>NaN</td>\n",
       "      <td>NaN</td>\n",
       "      <td>1.0</td>\n",
       "      <td>1.0</td>\n",
       "      <td>NaN</td>\n",
       "      <td>NaN</td>\n",
       "      <td>...</td>\n",
       "      <td>0.0</td>\n",
       "      <td>NaN</td>\n",
       "      <td>-17129300.0</td>\n",
       "      <td>NaN</td>\n",
       "      <td>2.028295</td>\n",
       "      <td>55.14299</td>\n",
       "      <td>NaN</td>\n",
       "      <td>0.0</td>\n",
       "      <td>95.96629</td>\n",
       "      <td>&lt;NA&gt;</td>\n",
       "    </tr>\n",
       "    <tr>\n",
       "      <th>2016-07-04 18:00:02</th>\n",
       "      <td>NaN</td>\n",
       "      <td>NaN</td>\n",
       "      <td>NaN</td>\n",
       "      <td>NaN</td>\n",
       "      <td>NaN</td>\n",
       "      <td>NaN</td>\n",
       "      <td>1.0</td>\n",
       "      <td>1.0</td>\n",
       "      <td>NaN</td>\n",
       "      <td>NaN</td>\n",
       "      <td>...</td>\n",
       "      <td>0.0</td>\n",
       "      <td>NaN</td>\n",
       "      <td>-17129300.0</td>\n",
       "      <td>NaN</td>\n",
       "      <td>2.026579</td>\n",
       "      <td>55.14520</td>\n",
       "      <td>NaN</td>\n",
       "      <td>0.0</td>\n",
       "      <td>95.96203</td>\n",
       "      <td>&lt;NA&gt;</td>\n",
       "    </tr>\n",
       "    <tr>\n",
       "      <th>2016-07-04 18:00:03</th>\n",
       "      <td>NaN</td>\n",
       "      <td>NaN</td>\n",
       "      <td>NaN</td>\n",
       "      <td>NaN</td>\n",
       "      <td>NaN</td>\n",
       "      <td>NaN</td>\n",
       "      <td>1.0</td>\n",
       "      <td>1.0</td>\n",
       "      <td>NaN</td>\n",
       "      <td>NaN</td>\n",
       "      <td>...</td>\n",
       "      <td>0.0</td>\n",
       "      <td>NaN</td>\n",
       "      <td>-17129300.0</td>\n",
       "      <td>NaN</td>\n",
       "      <td>2.024863</td>\n",
       "      <td>55.14741</td>\n",
       "      <td>NaN</td>\n",
       "      <td>0.0</td>\n",
       "      <td>95.95777</td>\n",
       "      <td>&lt;NA&gt;</td>\n",
       "    </tr>\n",
       "    <tr>\n",
       "      <th>2016-07-04 18:00:04</th>\n",
       "      <td>NaN</td>\n",
       "      <td>NaN</td>\n",
       "      <td>NaN</td>\n",
       "      <td>NaN</td>\n",
       "      <td>NaN</td>\n",
       "      <td>NaN</td>\n",
       "      <td>1.0</td>\n",
       "      <td>1.0</td>\n",
       "      <td>NaN</td>\n",
       "      <td>NaN</td>\n",
       "      <td>...</td>\n",
       "      <td>0.0</td>\n",
       "      <td>NaN</td>\n",
       "      <td>-17129300.0</td>\n",
       "      <td>NaN</td>\n",
       "      <td>2.024550</td>\n",
       "      <td>55.14962</td>\n",
       "      <td>NaN</td>\n",
       "      <td>0.0</td>\n",
       "      <td>95.95351</td>\n",
       "      <td>&lt;NA&gt;</td>\n",
       "    </tr>\n",
       "    <tr>\n",
       "      <th>...</th>\n",
       "      <td>...</td>\n",
       "      <td>...</td>\n",
       "      <td>...</td>\n",
       "      <td>...</td>\n",
       "      <td>...</td>\n",
       "      <td>...</td>\n",
       "      <td>...</td>\n",
       "      <td>...</td>\n",
       "      <td>...</td>\n",
       "      <td>...</td>\n",
       "      <td>...</td>\n",
       "      <td>...</td>\n",
       "      <td>...</td>\n",
       "      <td>...</td>\n",
       "      <td>...</td>\n",
       "      <td>...</td>\n",
       "      <td>...</td>\n",
       "      <td>...</td>\n",
       "      <td>...</td>\n",
       "      <td>...</td>\n",
       "      <td>...</td>\n",
       "    </tr>\n",
       "    <tr>\n",
       "      <th>2016-07-06 12:59:56</th>\n",
       "      <td>NaN</td>\n",
       "      <td>NaN</td>\n",
       "      <td>NaN</td>\n",
       "      <td>NaN</td>\n",
       "      <td>NaN</td>\n",
       "      <td>NaN</td>\n",
       "      <td>1.0</td>\n",
       "      <td>1.0</td>\n",
       "      <td>NaN</td>\n",
       "      <td>NaN</td>\n",
       "      <td>...</td>\n",
       "      <td>0.0</td>\n",
       "      <td>NaN</td>\n",
       "      <td>-17129300.0</td>\n",
       "      <td>NaN</td>\n",
       "      <td>2.017727</td>\n",
       "      <td>52.31438</td>\n",
       "      <td>NaN</td>\n",
       "      <td>0.0</td>\n",
       "      <td>96.69060</td>\n",
       "      <td>0</td>\n",
       "    </tr>\n",
       "    <tr>\n",
       "      <th>2016-07-06 12:59:57</th>\n",
       "      <td>NaN</td>\n",
       "      <td>NaN</td>\n",
       "      <td>NaN</td>\n",
       "      <td>NaN</td>\n",
       "      <td>NaN</td>\n",
       "      <td>NaN</td>\n",
       "      <td>1.0</td>\n",
       "      <td>1.0</td>\n",
       "      <td>NaN</td>\n",
       "      <td>NaN</td>\n",
       "      <td>...</td>\n",
       "      <td>0.0</td>\n",
       "      <td>NaN</td>\n",
       "      <td>-17129300.0</td>\n",
       "      <td>NaN</td>\n",
       "      <td>2.017647</td>\n",
       "      <td>52.31354</td>\n",
       "      <td>NaN</td>\n",
       "      <td>0.0</td>\n",
       "      <td>96.68634</td>\n",
       "      <td>0</td>\n",
       "    </tr>\n",
       "    <tr>\n",
       "      <th>2016-07-06 12:59:58</th>\n",
       "      <td>NaN</td>\n",
       "      <td>NaN</td>\n",
       "      <td>NaN</td>\n",
       "      <td>NaN</td>\n",
       "      <td>NaN</td>\n",
       "      <td>NaN</td>\n",
       "      <td>1.0</td>\n",
       "      <td>1.0</td>\n",
       "      <td>NaN</td>\n",
       "      <td>NaN</td>\n",
       "      <td>...</td>\n",
       "      <td>0.0</td>\n",
       "      <td>NaN</td>\n",
       "      <td>-17129300.0</td>\n",
       "      <td>NaN</td>\n",
       "      <td>2.017568</td>\n",
       "      <td>52.31269</td>\n",
       "      <td>NaN</td>\n",
       "      <td>0.0</td>\n",
       "      <td>96.68634</td>\n",
       "      <td>0</td>\n",
       "    </tr>\n",
       "    <tr>\n",
       "      <th>2016-07-06 12:59:59</th>\n",
       "      <td>NaN</td>\n",
       "      <td>NaN</td>\n",
       "      <td>NaN</td>\n",
       "      <td>NaN</td>\n",
       "      <td>NaN</td>\n",
       "      <td>NaN</td>\n",
       "      <td>1.0</td>\n",
       "      <td>1.0</td>\n",
       "      <td>NaN</td>\n",
       "      <td>NaN</td>\n",
       "      <td>...</td>\n",
       "      <td>0.0</td>\n",
       "      <td>NaN</td>\n",
       "      <td>-17129300.0</td>\n",
       "      <td>NaN</td>\n",
       "      <td>2.017489</td>\n",
       "      <td>52.31185</td>\n",
       "      <td>NaN</td>\n",
       "      <td>0.0</td>\n",
       "      <td>96.68634</td>\n",
       "      <td>0</td>\n",
       "    </tr>\n",
       "    <tr>\n",
       "      <th>2016-07-06 13:00:00</th>\n",
       "      <td>NaN</td>\n",
       "      <td>NaN</td>\n",
       "      <td>NaN</td>\n",
       "      <td>NaN</td>\n",
       "      <td>NaN</td>\n",
       "      <td>NaN</td>\n",
       "      <td>1.0</td>\n",
       "      <td>1.0</td>\n",
       "      <td>NaN</td>\n",
       "      <td>NaN</td>\n",
       "      <td>...</td>\n",
       "      <td>0.0</td>\n",
       "      <td>NaN</td>\n",
       "      <td>-17129300.0</td>\n",
       "      <td>NaN</td>\n",
       "      <td>2.017409</td>\n",
       "      <td>52.31100</td>\n",
       "      <td>NaN</td>\n",
       "      <td>0.0</td>\n",
       "      <td>96.68634</td>\n",
       "      <td>0</td>\n",
       "    </tr>\n",
       "  </tbody>\n",
       "</table>\n",
       "<p>154801 rows × 28 columns</p>\n",
       "</div>"
      ],
      "text/plain": [
       "                     ABER-CKGL  ABER-CKP  ESTADO-DHSV  ESTADO-M1  ESTADO-M2  \\\n",
       "timestamp                                                                     \n",
       "2016-07-04 18:00:00        NaN       NaN          NaN        NaN        NaN   \n",
       "2016-07-04 18:00:01        NaN       NaN          NaN        NaN        NaN   \n",
       "2016-07-04 18:00:02        NaN       NaN          NaN        NaN        NaN   \n",
       "2016-07-04 18:00:03        NaN       NaN          NaN        NaN        NaN   \n",
       "2016-07-04 18:00:04        NaN       NaN          NaN        NaN        NaN   \n",
       "...                        ...       ...          ...        ...        ...   \n",
       "2016-07-06 12:59:56        NaN       NaN          NaN        NaN        NaN   \n",
       "2016-07-06 12:59:57        NaN       NaN          NaN        NaN        NaN   \n",
       "2016-07-06 12:59:58        NaN       NaN          NaN        NaN        NaN   \n",
       "2016-07-06 12:59:59        NaN       NaN          NaN        NaN        NaN   \n",
       "2016-07-06 13:00:00        NaN       NaN          NaN        NaN        NaN   \n",
       "\n",
       "                     ESTADO-PXO  ESTADO-SDV-GL  ESTADO-SDV-P  ESTADO-W1  \\\n",
       "timestamp                                                                 \n",
       "2016-07-04 18:00:00         NaN            1.0           1.0        NaN   \n",
       "2016-07-04 18:00:01         NaN            1.0           1.0        NaN   \n",
       "2016-07-04 18:00:02         NaN            1.0           1.0        NaN   \n",
       "2016-07-04 18:00:03         NaN            1.0           1.0        NaN   \n",
       "2016-07-04 18:00:04         NaN            1.0           1.0        NaN   \n",
       "...                         ...            ...           ...        ...   \n",
       "2016-07-06 12:59:56         NaN            1.0           1.0        NaN   \n",
       "2016-07-06 12:59:57         NaN            1.0           1.0        NaN   \n",
       "2016-07-06 12:59:58         NaN            1.0           1.0        NaN   \n",
       "2016-07-06 12:59:59         NaN            1.0           1.0        NaN   \n",
       "2016-07-06 13:00:00         NaN            1.0           1.0        NaN   \n",
       "\n",
       "                     ESTADO-W2  ...  P-PDG  PT-P       P-TPT  QBS       QGL  \\\n",
       "timestamp                       ...                                           \n",
       "2016-07-04 18:00:00        NaN  ...    0.0   NaN -17129300.0  NaN  2.030010   \n",
       "2016-07-04 18:00:01        NaN  ...    0.0   NaN -17129300.0  NaN  2.028295   \n",
       "2016-07-04 18:00:02        NaN  ...    0.0   NaN -17129300.0  NaN  2.026579   \n",
       "2016-07-04 18:00:03        NaN  ...    0.0   NaN -17129300.0  NaN  2.024863   \n",
       "2016-07-04 18:00:04        NaN  ...    0.0   NaN -17129300.0  NaN  2.024550   \n",
       "...                        ...  ...    ...   ...         ...  ...       ...   \n",
       "2016-07-06 12:59:56        NaN  ...    0.0   NaN -17129300.0  NaN  2.017727   \n",
       "2016-07-06 12:59:57        NaN  ...    0.0   NaN -17129300.0  NaN  2.017647   \n",
       "2016-07-06 12:59:58        NaN  ...    0.0   NaN -17129300.0  NaN  2.017568   \n",
       "2016-07-06 12:59:59        NaN  ...    0.0   NaN -17129300.0  NaN  2.017489   \n",
       "2016-07-06 13:00:00        NaN  ...    0.0   NaN -17129300.0  NaN  2.017409   \n",
       "\n",
       "                     T-JUS-CKP  T-MON-CKP  T-PDG     T-TPT  state  \n",
       "timestamp                                                          \n",
       "2016-07-04 18:00:00   55.14078        NaN    0.0  95.97056   <NA>  \n",
       "2016-07-04 18:00:01   55.14299        NaN    0.0  95.96629   <NA>  \n",
       "2016-07-04 18:00:02   55.14520        NaN    0.0  95.96203   <NA>  \n",
       "2016-07-04 18:00:03   55.14741        NaN    0.0  95.95777   <NA>  \n",
       "2016-07-04 18:00:04   55.14962        NaN    0.0  95.95351   <NA>  \n",
       "...                        ...        ...    ...       ...    ...  \n",
       "2016-07-06 12:59:56   52.31438        NaN    0.0  96.69060      0  \n",
       "2016-07-06 12:59:57   52.31354        NaN    0.0  96.68634      0  \n",
       "2016-07-06 12:59:58   52.31269        NaN    0.0  96.68634      0  \n",
       "2016-07-06 12:59:59   52.31185        NaN    0.0  96.68634      0  \n",
       "2016-07-06 13:00:00   52.31100        NaN    0.0  96.68634      0  \n",
       "\n",
       "[154801 rows x 28 columns]"
      ]
     },
     "execution_count": 10,
     "metadata": {},
     "output_type": "execute_result"
    }
   ],
   "source": [
    "ds[event_id][\"signal\"]"
   ]
  },
  {
   "cell_type": "markdown",
   "metadata": {},
   "source": [
    "Let's also check the unique values in \"label\" "
   ]
  },
  {
   "cell_type": "code",
   "execution_count": 11,
   "metadata": {},
   "outputs": [
    {
     "data": {
      "text/plain": [
       "array([  0., 107.,  nan])"
      ]
     },
     "execution_count": 11,
     "metadata": {},
     "output_type": "execute_result"
    }
   ],
   "source": [
    "np.unique(ds[0][\"label\"])"
   ]
  },
  {
   "cell_type": "code",
   "execution_count": 12,
   "metadata": {},
   "outputs": [
    {
     "data": {
      "text/html": [
       "<div>\n",
       "<style scoped>\n",
       "    .dataframe tbody tr th:only-of-type {\n",
       "        vertical-align: middle;\n",
       "    }\n",
       "\n",
       "    .dataframe tbody tr th {\n",
       "        vertical-align: top;\n",
       "    }\n",
       "\n",
       "    .dataframe thead th {\n",
       "        text-align: right;\n",
       "    }\n",
       "</style>\n",
       "<table border=\"1\" class=\"dataframe\">\n",
       "  <thead>\n",
       "    <tr style=\"text-align: right;\">\n",
       "      <th></th>\n",
       "      <th>class</th>\n",
       "    </tr>\n",
       "    <tr>\n",
       "      <th>timestamp</th>\n",
       "      <th></th>\n",
       "    </tr>\n",
       "  </thead>\n",
       "  <tbody>\n",
       "    <tr>\n",
       "      <th>2016-07-04 18:00:00</th>\n",
       "      <td>&lt;NA&gt;</td>\n",
       "    </tr>\n",
       "    <tr>\n",
       "      <th>2016-07-04 18:00:01</th>\n",
       "      <td>&lt;NA&gt;</td>\n",
       "    </tr>\n",
       "    <tr>\n",
       "      <th>2016-07-04 18:00:02</th>\n",
       "      <td>&lt;NA&gt;</td>\n",
       "    </tr>\n",
       "    <tr>\n",
       "      <th>2016-07-04 18:00:03</th>\n",
       "      <td>&lt;NA&gt;</td>\n",
       "    </tr>\n",
       "    <tr>\n",
       "      <th>2016-07-04 18:00:04</th>\n",
       "      <td>&lt;NA&gt;</td>\n",
       "    </tr>\n",
       "    <tr>\n",
       "      <th>...</th>\n",
       "      <td>...</td>\n",
       "    </tr>\n",
       "    <tr>\n",
       "      <th>2016-07-06 12:59:56</th>\n",
       "      <td>107</td>\n",
       "    </tr>\n",
       "    <tr>\n",
       "      <th>2016-07-06 12:59:57</th>\n",
       "      <td>107</td>\n",
       "    </tr>\n",
       "    <tr>\n",
       "      <th>2016-07-06 12:59:58</th>\n",
       "      <td>107</td>\n",
       "    </tr>\n",
       "    <tr>\n",
       "      <th>2016-07-06 12:59:59</th>\n",
       "      <td>107</td>\n",
       "    </tr>\n",
       "    <tr>\n",
       "      <th>2016-07-06 13:00:00</th>\n",
       "      <td>107</td>\n",
       "    </tr>\n",
       "  </tbody>\n",
       "</table>\n",
       "<p>154801 rows × 1 columns</p>\n",
       "</div>"
      ],
      "text/plain": [
       "                     class\n",
       "timestamp                 \n",
       "2016-07-04 18:00:00   <NA>\n",
       "2016-07-04 18:00:01   <NA>\n",
       "2016-07-04 18:00:02   <NA>\n",
       "2016-07-04 18:00:03   <NA>\n",
       "2016-07-04 18:00:04   <NA>\n",
       "...                    ...\n",
       "2016-07-06 12:59:56    107\n",
       "2016-07-06 12:59:57    107\n",
       "2016-07-06 12:59:58    107\n",
       "2016-07-06 12:59:59    107\n",
       "2016-07-06 13:00:00    107\n",
       "\n",
       "[154801 rows x 1 columns]"
      ]
     },
     "execution_count": 12,
     "metadata": {},
     "output_type": "execute_result"
    }
   ],
   "source": [
    "ds[0][\"label\"]"
   ]
  },
  {
   "cell_type": "markdown",
   "metadata": {},
   "source": [
    "Its also possible to filter/split the dataset using different methods:"
   ]
  },
  {
   "cell_type": "markdown",
   "metadata": {},
   "source": [
    "#### Split by event type:"
   ]
  },
  {
   "cell_type": "markdown",
   "metadata": {},
   "source": [
    "Lets, as an example select only DRAWN and SIMULATED event types:"
   ]
  },
  {
   "cell_type": "code",
   "execution_count": 13,
   "metadata": {},
   "outputs": [
    {
     "name": "stdout",
     "output_type": "stream",
     "text": [
      "[ParquetDataset] Dataset found at ../../dataset\n",
      "[ParquetDataset] Validating dataset integrity...\n",
      "[ParquetDataset] Dataset integrity check passed!\n"
     ]
    },
    {
     "data": {
      "text/plain": [
       "1109"
      ]
     },
     "execution_count": 13,
     "metadata": {},
     "output_type": "execute_result"
    }
   ],
   "source": [
    "event_types = [EventPrefixEnum.DRAWN, EventPrefixEnum.SIMULATED]\n",
    "ds_config = ParquetDatasetConfig(\n",
    "    path=dataset_path, event_type=event_types\n",
    ")  # get drawn and simulated\n",
    "ds = ParquetDataset(ds_config)\n",
    "len(ds)  # should be much smaller"
   ]
  },
  {
   "cell_type": "markdown",
   "metadata": {},
   "source": [
    "And of REAL only:"
   ]
  },
  {
   "cell_type": "code",
   "execution_count": 14,
   "metadata": {},
   "outputs": [
    {
     "name": "stdout",
     "output_type": "stream",
     "text": [
      "[ParquetDataset] Dataset found at ../../dataset\n",
      "[ParquetDataset] Validating dataset integrity...\n",
      "[ParquetDataset] Dataset integrity check passed!\n"
     ]
    },
    {
     "data": {
      "text/plain": [
       "1119"
      ]
     },
     "execution_count": 14,
     "metadata": {},
     "output_type": "execute_result"
    }
   ],
   "source": [
    "event_types = [EventPrefixEnum.REAL]\n",
    "ds_config = ParquetDatasetConfig(path=dataset_path, event_type=event_types)\n",
    "ds = ParquetDataset(ds_config)\n",
    "len(ds)"
   ]
  },
  {
   "cell_type": "markdown",
   "metadata": {},
   "source": [
    "Any combination of REAL, DRAWN and SIMULATED is also supported."
   ]
  },
  {
   "cell_type": "markdown",
   "metadata": {},
   "source": [
    "#### Split by event class"
   ]
  },
  {
   "cell_type": "markdown",
   "metadata": {},
   "source": [
    "We may also filter by event classes. To select only events from class 0 we would do:"
   ]
  },
  {
   "cell_type": "code",
   "execution_count": 15,
   "metadata": {},
   "outputs": [
    {
     "name": "stdout",
     "output_type": "stream",
     "text": [
      "[ParquetDataset] Dataset found at ../../dataset\n",
      "[ParquetDataset] Validating dataset integrity...\n",
      "[ParquetDataset] Dataset integrity check passed!\n"
     ]
    },
    {
     "data": {
      "text/plain": [
       "594"
      ]
     },
     "execution_count": 15,
     "metadata": {},
     "output_type": "execute_result"
    }
   ],
   "source": [
    "target_class = [0]\n",
    "ds_config = ParquetDatasetConfig(path=dataset_path, target_class=target_class)\n",
    "ds = ParquetDataset(ds_config)\n",
    "len(ds)"
   ]
  },
  {
   "cell_type": "code",
   "execution_count": 16,
   "metadata": {},
   "outputs": [
    {
     "data": {
      "text/plain": [
       "array([0])"
      ]
     },
     "execution_count": 16,
     "metadata": {},
     "output_type": "execute_result"
    }
   ],
   "source": [
    "np.unique(ds[event_id][\"label\"])"
   ]
  },
  {
   "cell_type": "markdown",
   "metadata": {},
   "source": [
    "And only for class 2:"
   ]
  },
  {
   "cell_type": "code",
   "execution_count": 17,
   "metadata": {},
   "outputs": [
    {
     "name": "stdout",
     "output_type": "stream",
     "text": [
      "[ParquetDataset] Dataset found at ../../dataset\n",
      "[ParquetDataset] Validating dataset integrity...\n",
      "[ParquetDataset] Dataset integrity check passed!\n"
     ]
    },
    {
     "data": {
      "text/plain": [
       "38"
      ]
     },
     "execution_count": 17,
     "metadata": {},
     "output_type": "execute_result"
    }
   ],
   "source": [
    "target_class = [2]\n",
    "ds_config = ParquetDatasetConfig(path=dataset_path, target_class=target_class)\n",
    "ds = ParquetDataset(ds_config)\n",
    "len(ds)"
   ]
  },
  {
   "cell_type": "code",
   "execution_count": 18,
   "metadata": {},
   "outputs": [
    {
     "data": {
      "text/plain": [
       "array([2])"
      ]
     },
     "execution_count": 18,
     "metadata": {},
     "output_type": "execute_result"
    }
   ],
   "source": [
    "np.unique(ds[event_id][\"label\"])"
   ]
  },
  {
   "cell_type": "markdown",
   "metadata": {},
   "source": [
    "And we may select multiple classes:"
   ]
  },
  {
   "cell_type": "code",
   "execution_count": 19,
   "metadata": {},
   "outputs": [
    {
     "name": "stdout",
     "output_type": "stream",
     "text": [
      "[ParquetDataset] Dataset found at ../../dataset\n",
      "[ParquetDataset] Validating dataset integrity...\n",
      "[ParquetDataset] Dataset integrity check passed!\n"
     ]
    },
    {
     "data": {
      "text/plain": [
       "632"
      ]
     },
     "execution_count": 19,
     "metadata": {},
     "output_type": "execute_result"
    }
   ],
   "source": [
    "target_class = [0, 2]\n",
    "ds_config = ParquetDatasetConfig(path=dataset_path, target_class=target_class)\n",
    "ds = ParquetDataset(ds_config)\n",
    "len(ds)"
   ]
  },
  {
   "cell_type": "markdown",
   "metadata": {},
   "source": [
    "We may combine type and class filters as well. For REAL class 2 events:"
   ]
  },
  {
   "cell_type": "code",
   "execution_count": 20,
   "metadata": {},
   "outputs": [
    {
     "name": "stdout",
     "output_type": "stream",
     "text": [
      "[ParquetDataset] Dataset found at ../../dataset\n",
      "[ParquetDataset] Validating dataset integrity...\n",
      "[ParquetDataset] Dataset integrity check passed!\n"
     ]
    },
    {
     "data": {
      "text/plain": [
       "22"
      ]
     },
     "execution_count": 20,
     "metadata": {},
     "output_type": "execute_result"
    }
   ],
   "source": [
    "event_types = [EventPrefixEnum.REAL]\n",
    "target_class = [2]\n",
    "ds_config = ParquetDatasetConfig(path=dataset_path, event_type=event_types, target_class=target_class)\n",
    "ds = ParquetDataset(ds_config)\n",
    "len(ds)"
   ]
  },
  {
   "cell_type": "markdown",
   "metadata": {},
   "source": [
    "### Split through file list"
   ]
  },
  {
   "cell_type": "markdown",
   "metadata": {},
   "source": [
    "It is also possible to filter the desired events through a list of event names.\n",
    "\n",
    "This is particularly useful to define train/test splits as the user may desire.\n",
    "\n",
    "Given a list of event names (relative to the dataset root):"
   ]
  },
  {
   "cell_type": "code",
   "execution_count": 21,
   "metadata": {},
   "outputs": [
    {
     "data": {
      "text/plain": [
       "20"
      ]
     },
     "execution_count": 21,
     "metadata": {},
     "output_type": "execute_result"
    }
   ],
   "source": [
    "my_split = [\n",
    "    \"./0/WELL-00008_20170817140222.parquet\",\n",
    "    \"./3/SIMULATED_00061.parquet\",\n",
    "    \"./4/WELL-00004_20140806090103.parquet\",\n",
    "    \"./6/SIMULATED_00117.parquet\",\n",
    "    \"./0/WELL-00001_20170201110124.parquet\",\n",
    "    \"./5/SIMULATED_00138.parquet\",\n",
    "    \"./4/WELL-00005_20170624070158.parquet\",\n",
    "    \"./8/SIMULATED_00044.parquet\",\n",
    "    \"./5/SIMULATED_00303.parquet\",\n",
    "    \"./9/SIMULATED_00028.parquet\",\n",
    "    \"./8/SIMULATED_00072.parquet\",\n",
    "    \"./7/WELL-00022_20180802233838.parquet\",\n",
    "    \"./0/WELL-00003_20170812110000.parquet\",\n",
    "    \"./9/SIMULATED_00115.parquet\",\n",
    "    \"./1/SIMULATED_00025.parquet\",\n",
    "    \"./9/SIMULATED_00065.parquet\",\n",
    "    \"./6/SIMULATED_00041.parquet\",\n",
    "    \"./5/SIMULATED_00329.parquet\",\n",
    "    \"./4/WELL-00004_20141118160016.parquet\",\n",
    "    \"./6/SIMULATED_00095.parquet\",\n",
    "]  # can be stored in a my_split.txt file, for instance.\n",
    "\n",
    "len(my_split)"
   ]
  },
  {
   "cell_type": "code",
   "execution_count": 22,
   "metadata": {},
   "outputs": [
    {
     "name": "stdout",
     "output_type": "stream",
     "text": [
      "[ParquetDataset] Dataset found at ../../dataset\n",
      "[ParquetDataset] Validating dataset integrity...\n",
      "[ParquetDataset] Dataset integrity check passed!\n"
     ]
    },
    {
     "data": {
      "text/plain": [
       "20"
      ]
     },
     "execution_count": 22,
     "metadata": {},
     "output_type": "execute_result"
    }
   ],
   "source": [
    "# get only files in split\n",
    "ds_config = ParquetDatasetConfig(path=dataset_path, split=\"list\", file_list=my_split)\n",
    "ds = ParquetDataset(ds_config)\n",
    "len(ds)"
   ]
  },
  {
   "cell_type": "code",
   "execution_count": 23,
   "metadata": {},
   "outputs": [
    {
     "data": {
      "text/html": [
       "<div>\n",
       "<style scoped>\n",
       "    .dataframe tbody tr th:only-of-type {\n",
       "        vertical-align: middle;\n",
       "    }\n",
       "\n",
       "    .dataframe tbody tr th {\n",
       "        vertical-align: top;\n",
       "    }\n",
       "\n",
       "    .dataframe thead th {\n",
       "        text-align: right;\n",
       "    }\n",
       "</style>\n",
       "<table border=\"1\" class=\"dataframe\">\n",
       "  <thead>\n",
       "    <tr style=\"text-align: right;\">\n",
       "      <th></th>\n",
       "      <th>class</th>\n",
       "    </tr>\n",
       "    <tr>\n",
       "      <th>timestamp</th>\n",
       "      <th></th>\n",
       "    </tr>\n",
       "  </thead>\n",
       "  <tbody>\n",
       "    <tr>\n",
       "      <th>2014-08-06 09:01:03</th>\n",
       "      <td>4</td>\n",
       "    </tr>\n",
       "    <tr>\n",
       "      <th>2014-08-06 09:01:04</th>\n",
       "      <td>4</td>\n",
       "    </tr>\n",
       "    <tr>\n",
       "      <th>2014-08-06 09:01:05</th>\n",
       "      <td>4</td>\n",
       "    </tr>\n",
       "    <tr>\n",
       "      <th>2014-08-06 09:01:06</th>\n",
       "      <td>4</td>\n",
       "    </tr>\n",
       "    <tr>\n",
       "      <th>2014-08-06 09:01:07</th>\n",
       "      <td>4</td>\n",
       "    </tr>\n",
       "    <tr>\n",
       "      <th>...</th>\n",
       "      <td>...</td>\n",
       "    </tr>\n",
       "    <tr>\n",
       "      <th>2014-08-06 11:59:56</th>\n",
       "      <td>4</td>\n",
       "    </tr>\n",
       "    <tr>\n",
       "      <th>2014-08-06 11:59:57</th>\n",
       "      <td>4</td>\n",
       "    </tr>\n",
       "    <tr>\n",
       "      <th>2014-08-06 11:59:58</th>\n",
       "      <td>4</td>\n",
       "    </tr>\n",
       "    <tr>\n",
       "      <th>2014-08-06 11:59:59</th>\n",
       "      <td>4</td>\n",
       "    </tr>\n",
       "    <tr>\n",
       "      <th>2014-08-06 12:00:00</th>\n",
       "      <td>4</td>\n",
       "    </tr>\n",
       "  </tbody>\n",
       "</table>\n",
       "<p>10738 rows × 1 columns</p>\n",
       "</div>"
      ],
      "text/plain": [
       "                     class\n",
       "timestamp                 \n",
       "2014-08-06 09:01:03      4\n",
       "2014-08-06 09:01:04      4\n",
       "2014-08-06 09:01:05      4\n",
       "2014-08-06 09:01:06      4\n",
       "2014-08-06 09:01:07      4\n",
       "...                    ...\n",
       "2014-08-06 11:59:56      4\n",
       "2014-08-06 11:59:57      4\n",
       "2014-08-06 11:59:58      4\n",
       "2014-08-06 11:59:59      4\n",
       "2014-08-06 12:00:00      4\n",
       "\n",
       "[10738 rows x 1 columns]"
      ]
     },
     "execution_count": 23,
     "metadata": {},
     "output_type": "execute_result"
    }
   ],
   "source": [
    "ds[2][\"label\"]"
   ]
  },
  {
   "cell_type": "markdown",
   "metadata": {},
   "source": [
    "### 2.3 Cleaning the dataset"
   ]
  },
  {
   "cell_type": "markdown",
   "metadata": {},
   "source": [
    "Some dataset tags are mostly absent.\n",
    "\n",
    "We provide functions for data cleaning and normalization tailored to version 2.0.0.\n",
    "\n",
    "The parameter `clean_data` performs the following steps:\n",
    "\n",
    "* Removal of unused tags;\n",
    "* Identification and removal of invalid sensor readings (outside a predefined range);\n",
    "* Identification and removal of frozen sensor readings;\n",
    "* Replacement of faulty sensor readings with `<NA>`;\n",
    "* Normalization, which recenters and rescales valid data using pre-computed values, ensuring valid statistics can be computed afterward."
   ]
  },
  {
   "cell_type": "code",
   "execution_count": 24,
   "metadata": {},
   "outputs": [
    {
     "name": "stdout",
     "output_type": "stream",
     "text": [
      "[ParquetDataset] Dataset found at ../../dataset\n",
      "[ParquetDataset] Validating dataset integrity...\n",
      "[ParquetDataset] Dataset integrity check passed!\n",
      "[ParquetDataset] Dataset found at ../../dataset\n",
      "[ParquetDataset] Validating dataset integrity...\n",
      "[ParquetDataset] Dataset integrity check passed!\n"
     ]
    }
   ],
   "source": [
    "ds_config = ParquetDatasetConfig(path=dataset_path)\n",
    "raw_dataset = ParquetDataset(ds_config)\n",
    "\n",
    "ds_config = ParquetDatasetConfig(path=dataset_path, clean_data=True)\n",
    "cleaned_dataset = ParquetDataset(ds_config)"
   ]
  },
  {
   "cell_type": "code",
   "execution_count": 25,
   "metadata": {},
   "outputs": [
    {
     "data": {
      "text/plain": [
       "['ABER-CKGL',\n",
       " 'ABER-CKP',\n",
       " 'ESTADO-DHSV',\n",
       " 'ESTADO-M1',\n",
       " 'ESTADO-M2',\n",
       " 'ESTADO-PXO',\n",
       " 'ESTADO-SDV-GL',\n",
       " 'ESTADO-SDV-P',\n",
       " 'ESTADO-W1',\n",
       " 'ESTADO-W2',\n",
       " 'ESTADO-XO',\n",
       " 'P-ANULAR',\n",
       " 'P-JUS-CKGL',\n",
       " 'P-JUS-CKP',\n",
       " 'P-MON-CKP',\n",
       " 'P-PDG',\n",
       " 'P-TPT',\n",
       " 'QGL',\n",
       " 'T-JUS-CKP',\n",
       " 'T-MON-CKP',\n",
       " 'T-PDG',\n",
       " 'T-TPT']"
      ]
     },
     "execution_count": 25,
     "metadata": {},
     "output_type": "execute_result"
    }
   ],
   "source": [
    "list(raw_dataset[0][\"signal\"].columns)"
   ]
  },
  {
   "cell_type": "code",
   "execution_count": 26,
   "metadata": {},
   "outputs": [
    {
     "data": {
      "text/plain": [
       "['ABER-CKGL',\n",
       " 'ABER-CKP',\n",
       " 'ESTADO-DHSV',\n",
       " 'ESTADO-M1',\n",
       " 'ESTADO-M2',\n",
       " 'ESTADO-PXO',\n",
       " 'ESTADO-SDV-GL',\n",
       " 'ESTADO-SDV-P',\n",
       " 'ESTADO-W1',\n",
       " 'ESTADO-W2',\n",
       " 'ESTADO-XO',\n",
       " 'P-ANULAR',\n",
       " 'P-JUS-CKGL',\n",
       " 'P-JUS-CKP',\n",
       " 'P-MON-CKP',\n",
       " 'P-PDG',\n",
       " 'P-TPT',\n",
       " 'QGL',\n",
       " 'T-JUS-CKP',\n",
       " 'T-MON-CKP',\n",
       " 'T-PDG',\n",
       " 'T-TPT']"
      ]
     },
     "execution_count": 26,
     "metadata": {},
     "output_type": "execute_result"
    }
   ],
   "source": [
    "list(cleaned_dataset[0][\"signal\"].columns)"
   ]
  },
  {
   "cell_type": "code",
   "execution_count": 27,
   "metadata": {},
   "outputs": [
    {
     "data": {
      "text/plain": [
       "timestamp\n",
       "2016-07-04 18:00:00    0.0\n",
       "2016-07-04 18:00:01    0.0\n",
       "2016-07-04 18:00:02    0.0\n",
       "2016-07-04 18:00:03    0.0\n",
       "2016-07-04 18:00:04    0.0\n",
       "                      ... \n",
       "2016-07-06 12:59:56    0.0\n",
       "2016-07-06 12:59:57    0.0\n",
       "2016-07-06 12:59:58    0.0\n",
       "2016-07-06 12:59:59    0.0\n",
       "2016-07-06 13:00:00    0.0\n",
       "Name: P-TPT, Length: 154801, dtype: float64"
      ]
     },
     "execution_count": 27,
     "metadata": {},
     "output_type": "execute_result"
    }
   ],
   "source": [
    "cleaned_dataset[0][\"signal\"][\"P-TPT\"]  # normalized values"
   ]
  },
  {
   "cell_type": "code",
   "execution_count": 28,
   "metadata": {},
   "outputs": [
    {
     "data": {
      "text/html": [
       "<div>\n",
       "<style scoped>\n",
       "    .dataframe tbody tr th:only-of-type {\n",
       "        vertical-align: middle;\n",
       "    }\n",
       "\n",
       "    .dataframe tbody tr th {\n",
       "        vertical-align: top;\n",
       "    }\n",
       "\n",
       "    .dataframe thead th {\n",
       "        text-align: right;\n",
       "    }\n",
       "</style>\n",
       "<table border=\"1\" class=\"dataframe\">\n",
       "  <thead>\n",
       "    <tr style=\"text-align: right;\">\n",
       "      <th></th>\n",
       "      <th>ABER-CKGL</th>\n",
       "      <th>ABER-CKP</th>\n",
       "      <th>ESTADO-DHSV</th>\n",
       "      <th>ESTADO-M1</th>\n",
       "      <th>ESTADO-M2</th>\n",
       "      <th>ESTADO-PXO</th>\n",
       "      <th>ESTADO-SDV-GL</th>\n",
       "      <th>ESTADO-SDV-P</th>\n",
       "      <th>ESTADO-W1</th>\n",
       "      <th>ESTADO-W2</th>\n",
       "      <th>...</th>\n",
       "      <th>P-JUS-CKGL</th>\n",
       "      <th>P-JUS-CKP</th>\n",
       "      <th>P-MON-CKP</th>\n",
       "      <th>P-PDG</th>\n",
       "      <th>P-TPT</th>\n",
       "      <th>QGL</th>\n",
       "      <th>T-JUS-CKP</th>\n",
       "      <th>T-MON-CKP</th>\n",
       "      <th>T-PDG</th>\n",
       "      <th>T-TPT</th>\n",
       "    </tr>\n",
       "    <tr>\n",
       "      <th>timestamp</th>\n",
       "      <th></th>\n",
       "      <th></th>\n",
       "      <th></th>\n",
       "      <th></th>\n",
       "      <th></th>\n",
       "      <th></th>\n",
       "      <th></th>\n",
       "      <th></th>\n",
       "      <th></th>\n",
       "      <th></th>\n",
       "      <th></th>\n",
       "      <th></th>\n",
       "      <th></th>\n",
       "      <th></th>\n",
       "      <th></th>\n",
       "      <th></th>\n",
       "      <th></th>\n",
       "      <th></th>\n",
       "      <th></th>\n",
       "      <th></th>\n",
       "      <th></th>\n",
       "    </tr>\n",
       "  </thead>\n",
       "  <tbody>\n",
       "    <tr>\n",
       "      <th>2018-10-06 11:10:47</th>\n",
       "      <td>0.0</td>\n",
       "      <td>0.0</td>\n",
       "      <td>0.0</td>\n",
       "      <td>0.0</td>\n",
       "      <td>0.0</td>\n",
       "      <td>0.0</td>\n",
       "      <td>0.0</td>\n",
       "      <td>0.0</td>\n",
       "      <td>0.0</td>\n",
       "      <td>0.0</td>\n",
       "      <td>...</td>\n",
       "      <td>0.0</td>\n",
       "      <td>0.0</td>\n",
       "      <td>-0.089532</td>\n",
       "      <td>-0.137420</td>\n",
       "      <td>-0.168300</td>\n",
       "      <td>0.0</td>\n",
       "      <td>0.277090</td>\n",
       "      <td>0.0</td>\n",
       "      <td>0.0</td>\n",
       "      <td>-0.064378</td>\n",
       "    </tr>\n",
       "    <tr>\n",
       "      <th>2018-10-06 11:10:48</th>\n",
       "      <td>0.0</td>\n",
       "      <td>0.0</td>\n",
       "      <td>0.0</td>\n",
       "      <td>0.0</td>\n",
       "      <td>0.0</td>\n",
       "      <td>0.0</td>\n",
       "      <td>0.0</td>\n",
       "      <td>0.0</td>\n",
       "      <td>0.0</td>\n",
       "      <td>0.0</td>\n",
       "      <td>...</td>\n",
       "      <td>0.0</td>\n",
       "      <td>0.0</td>\n",
       "      <td>-0.089532</td>\n",
       "      <td>-0.137420</td>\n",
       "      <td>-0.168293</td>\n",
       "      <td>0.0</td>\n",
       "      <td>0.277092</td>\n",
       "      <td>0.0</td>\n",
       "      <td>0.0</td>\n",
       "      <td>-0.064377</td>\n",
       "    </tr>\n",
       "    <tr>\n",
       "      <th>2018-10-06 11:10:49</th>\n",
       "      <td>0.0</td>\n",
       "      <td>0.0</td>\n",
       "      <td>0.0</td>\n",
       "      <td>0.0</td>\n",
       "      <td>0.0</td>\n",
       "      <td>0.0</td>\n",
       "      <td>0.0</td>\n",
       "      <td>0.0</td>\n",
       "      <td>0.0</td>\n",
       "      <td>0.0</td>\n",
       "      <td>...</td>\n",
       "      <td>0.0</td>\n",
       "      <td>0.0</td>\n",
       "      <td>-0.089532</td>\n",
       "      <td>-0.137421</td>\n",
       "      <td>-0.168287</td>\n",
       "      <td>0.0</td>\n",
       "      <td>0.277094</td>\n",
       "      <td>0.0</td>\n",
       "      <td>0.0</td>\n",
       "      <td>-0.064375</td>\n",
       "    </tr>\n",
       "    <tr>\n",
       "      <th>2018-10-06 11:10:50</th>\n",
       "      <td>0.0</td>\n",
       "      <td>0.0</td>\n",
       "      <td>0.0</td>\n",
       "      <td>0.0</td>\n",
       "      <td>0.0</td>\n",
       "      <td>0.0</td>\n",
       "      <td>0.0</td>\n",
       "      <td>0.0</td>\n",
       "      <td>0.0</td>\n",
       "      <td>0.0</td>\n",
       "      <td>...</td>\n",
       "      <td>0.0</td>\n",
       "      <td>0.0</td>\n",
       "      <td>-0.089532</td>\n",
       "      <td>-0.137421</td>\n",
       "      <td>-0.168299</td>\n",
       "      <td>0.0</td>\n",
       "      <td>0.277096</td>\n",
       "      <td>0.0</td>\n",
       "      <td>0.0</td>\n",
       "      <td>-0.064377</td>\n",
       "    </tr>\n",
       "    <tr>\n",
       "      <th>2018-10-06 11:10:51</th>\n",
       "      <td>0.0</td>\n",
       "      <td>0.0</td>\n",
       "      <td>0.0</td>\n",
       "      <td>0.0</td>\n",
       "      <td>0.0</td>\n",
       "      <td>0.0</td>\n",
       "      <td>0.0</td>\n",
       "      <td>0.0</td>\n",
       "      <td>0.0</td>\n",
       "      <td>0.0</td>\n",
       "      <td>...</td>\n",
       "      <td>0.0</td>\n",
       "      <td>0.0</td>\n",
       "      <td>-0.089532</td>\n",
       "      <td>-0.137423</td>\n",
       "      <td>-0.168308</td>\n",
       "      <td>0.0</td>\n",
       "      <td>0.277098</td>\n",
       "      <td>0.0</td>\n",
       "      <td>0.0</td>\n",
       "      <td>-0.064378</td>\n",
       "    </tr>\n",
       "    <tr>\n",
       "      <th>...</th>\n",
       "      <td>...</td>\n",
       "      <td>...</td>\n",
       "      <td>...</td>\n",
       "      <td>...</td>\n",
       "      <td>...</td>\n",
       "      <td>...</td>\n",
       "      <td>...</td>\n",
       "      <td>...</td>\n",
       "      <td>...</td>\n",
       "      <td>...</td>\n",
       "      <td>...</td>\n",
       "      <td>...</td>\n",
       "      <td>...</td>\n",
       "      <td>...</td>\n",
       "      <td>...</td>\n",
       "      <td>...</td>\n",
       "      <td>...</td>\n",
       "      <td>...</td>\n",
       "      <td>...</td>\n",
       "      <td>...</td>\n",
       "      <td>...</td>\n",
       "    </tr>\n",
       "    <tr>\n",
       "      <th>2018-10-07 11:50:42</th>\n",
       "      <td>0.0</td>\n",
       "      <td>0.0</td>\n",
       "      <td>0.0</td>\n",
       "      <td>0.0</td>\n",
       "      <td>0.0</td>\n",
       "      <td>0.0</td>\n",
       "      <td>0.0</td>\n",
       "      <td>0.0</td>\n",
       "      <td>0.0</td>\n",
       "      <td>0.0</td>\n",
       "      <td>...</td>\n",
       "      <td>0.0</td>\n",
       "      <td>0.0</td>\n",
       "      <td>-0.102207</td>\n",
       "      <td>0.232046</td>\n",
       "      <td>0.104662</td>\n",
       "      <td>0.0</td>\n",
       "      <td>0.364458</td>\n",
       "      <td>0.0</td>\n",
       "      <td>0.0</td>\n",
       "      <td>-0.005665</td>\n",
       "    </tr>\n",
       "    <tr>\n",
       "      <th>2018-10-07 11:50:43</th>\n",
       "      <td>0.0</td>\n",
       "      <td>0.0</td>\n",
       "      <td>0.0</td>\n",
       "      <td>0.0</td>\n",
       "      <td>0.0</td>\n",
       "      <td>0.0</td>\n",
       "      <td>0.0</td>\n",
       "      <td>0.0</td>\n",
       "      <td>0.0</td>\n",
       "      <td>0.0</td>\n",
       "      <td>...</td>\n",
       "      <td>0.0</td>\n",
       "      <td>0.0</td>\n",
       "      <td>-0.102207</td>\n",
       "      <td>0.232032</td>\n",
       "      <td>0.104637</td>\n",
       "      <td>0.0</td>\n",
       "      <td>0.364457</td>\n",
       "      <td>0.0</td>\n",
       "      <td>0.0</td>\n",
       "      <td>-0.005664</td>\n",
       "    </tr>\n",
       "    <tr>\n",
       "      <th>2018-10-07 11:50:44</th>\n",
       "      <td>0.0</td>\n",
       "      <td>0.0</td>\n",
       "      <td>0.0</td>\n",
       "      <td>0.0</td>\n",
       "      <td>0.0</td>\n",
       "      <td>0.0</td>\n",
       "      <td>0.0</td>\n",
       "      <td>0.0</td>\n",
       "      <td>0.0</td>\n",
       "      <td>0.0</td>\n",
       "      <td>...</td>\n",
       "      <td>0.0</td>\n",
       "      <td>0.0</td>\n",
       "      <td>-0.102208</td>\n",
       "      <td>0.232015</td>\n",
       "      <td>0.104611</td>\n",
       "      <td>0.0</td>\n",
       "      <td>0.364456</td>\n",
       "      <td>0.0</td>\n",
       "      <td>0.0</td>\n",
       "      <td>-0.005663</td>\n",
       "    </tr>\n",
       "    <tr>\n",
       "      <th>2018-10-07 11:50:45</th>\n",
       "      <td>0.0</td>\n",
       "      <td>0.0</td>\n",
       "      <td>0.0</td>\n",
       "      <td>0.0</td>\n",
       "      <td>0.0</td>\n",
       "      <td>0.0</td>\n",
       "      <td>0.0</td>\n",
       "      <td>0.0</td>\n",
       "      <td>0.0</td>\n",
       "      <td>0.0</td>\n",
       "      <td>...</td>\n",
       "      <td>0.0</td>\n",
       "      <td>0.0</td>\n",
       "      <td>-0.102208</td>\n",
       "      <td>0.232000</td>\n",
       "      <td>0.104587</td>\n",
       "      <td>0.0</td>\n",
       "      <td>0.364455</td>\n",
       "      <td>0.0</td>\n",
       "      <td>0.0</td>\n",
       "      <td>-0.005662</td>\n",
       "    </tr>\n",
       "    <tr>\n",
       "      <th>2018-10-07 11:50:46</th>\n",
       "      <td>0.0</td>\n",
       "      <td>0.0</td>\n",
       "      <td>0.0</td>\n",
       "      <td>0.0</td>\n",
       "      <td>0.0</td>\n",
       "      <td>0.0</td>\n",
       "      <td>0.0</td>\n",
       "      <td>0.0</td>\n",
       "      <td>0.0</td>\n",
       "      <td>0.0</td>\n",
       "      <td>...</td>\n",
       "      <td>0.0</td>\n",
       "      <td>0.0</td>\n",
       "      <td>-0.102208</td>\n",
       "      <td>0.231984</td>\n",
       "      <td>0.104562</td>\n",
       "      <td>0.0</td>\n",
       "      <td>0.364454</td>\n",
       "      <td>0.0</td>\n",
       "      <td>0.0</td>\n",
       "      <td>-0.005662</td>\n",
       "    </tr>\n",
       "  </tbody>\n",
       "</table>\n",
       "<p>88800 rows × 22 columns</p>\n",
       "</div>"
      ],
      "text/plain": [
       "                     ABER-CKGL  ABER-CKP  ESTADO-DHSV  ESTADO-M1  ESTADO-M2  \\\n",
       "timestamp                                                                     \n",
       "2018-10-06 11:10:47        0.0       0.0          0.0        0.0        0.0   \n",
       "2018-10-06 11:10:48        0.0       0.0          0.0        0.0        0.0   \n",
       "2018-10-06 11:10:49        0.0       0.0          0.0        0.0        0.0   \n",
       "2018-10-06 11:10:50        0.0       0.0          0.0        0.0        0.0   \n",
       "2018-10-06 11:10:51        0.0       0.0          0.0        0.0        0.0   \n",
       "...                        ...       ...          ...        ...        ...   \n",
       "2018-10-07 11:50:42        0.0       0.0          0.0        0.0        0.0   \n",
       "2018-10-07 11:50:43        0.0       0.0          0.0        0.0        0.0   \n",
       "2018-10-07 11:50:44        0.0       0.0          0.0        0.0        0.0   \n",
       "2018-10-07 11:50:45        0.0       0.0          0.0        0.0        0.0   \n",
       "2018-10-07 11:50:46        0.0       0.0          0.0        0.0        0.0   \n",
       "\n",
       "                     ESTADO-PXO  ESTADO-SDV-GL  ESTADO-SDV-P  ESTADO-W1  \\\n",
       "timestamp                                                                 \n",
       "2018-10-06 11:10:47         0.0            0.0           0.0        0.0   \n",
       "2018-10-06 11:10:48         0.0            0.0           0.0        0.0   \n",
       "2018-10-06 11:10:49         0.0            0.0           0.0        0.0   \n",
       "2018-10-06 11:10:50         0.0            0.0           0.0        0.0   \n",
       "2018-10-06 11:10:51         0.0            0.0           0.0        0.0   \n",
       "...                         ...            ...           ...        ...   \n",
       "2018-10-07 11:50:42         0.0            0.0           0.0        0.0   \n",
       "2018-10-07 11:50:43         0.0            0.0           0.0        0.0   \n",
       "2018-10-07 11:50:44         0.0            0.0           0.0        0.0   \n",
       "2018-10-07 11:50:45         0.0            0.0           0.0        0.0   \n",
       "2018-10-07 11:50:46         0.0            0.0           0.0        0.0   \n",
       "\n",
       "                     ESTADO-W2  ...  P-JUS-CKGL  P-JUS-CKP  P-MON-CKP  \\\n",
       "timestamp                       ...                                     \n",
       "2018-10-06 11:10:47        0.0  ...         0.0        0.0  -0.089532   \n",
       "2018-10-06 11:10:48        0.0  ...         0.0        0.0  -0.089532   \n",
       "2018-10-06 11:10:49        0.0  ...         0.0        0.0  -0.089532   \n",
       "2018-10-06 11:10:50        0.0  ...         0.0        0.0  -0.089532   \n",
       "2018-10-06 11:10:51        0.0  ...         0.0        0.0  -0.089532   \n",
       "...                        ...  ...         ...        ...        ...   \n",
       "2018-10-07 11:50:42        0.0  ...         0.0        0.0  -0.102207   \n",
       "2018-10-07 11:50:43        0.0  ...         0.0        0.0  -0.102207   \n",
       "2018-10-07 11:50:44        0.0  ...         0.0        0.0  -0.102208   \n",
       "2018-10-07 11:50:45        0.0  ...         0.0        0.0  -0.102208   \n",
       "2018-10-07 11:50:46        0.0  ...         0.0        0.0  -0.102208   \n",
       "\n",
       "                        P-PDG     P-TPT  QGL  T-JUS-CKP  T-MON-CKP  T-PDG  \\\n",
       "timestamp                                                                   \n",
       "2018-10-06 11:10:47 -0.137420 -0.168300  0.0   0.277090        0.0    0.0   \n",
       "2018-10-06 11:10:48 -0.137420 -0.168293  0.0   0.277092        0.0    0.0   \n",
       "2018-10-06 11:10:49 -0.137421 -0.168287  0.0   0.277094        0.0    0.0   \n",
       "2018-10-06 11:10:50 -0.137421 -0.168299  0.0   0.277096        0.0    0.0   \n",
       "2018-10-06 11:10:51 -0.137423 -0.168308  0.0   0.277098        0.0    0.0   \n",
       "...                       ...       ...  ...        ...        ...    ...   \n",
       "2018-10-07 11:50:42  0.232046  0.104662  0.0   0.364458        0.0    0.0   \n",
       "2018-10-07 11:50:43  0.232032  0.104637  0.0   0.364457        0.0    0.0   \n",
       "2018-10-07 11:50:44  0.232015  0.104611  0.0   0.364456        0.0    0.0   \n",
       "2018-10-07 11:50:45  0.232000  0.104587  0.0   0.364455        0.0    0.0   \n",
       "2018-10-07 11:50:46  0.231984  0.104562  0.0   0.364454        0.0    0.0   \n",
       "\n",
       "                        T-TPT  \n",
       "timestamp                      \n",
       "2018-10-06 11:10:47 -0.064378  \n",
       "2018-10-06 11:10:48 -0.064377  \n",
       "2018-10-06 11:10:49 -0.064375  \n",
       "2018-10-06 11:10:50 -0.064377  \n",
       "2018-10-06 11:10:51 -0.064378  \n",
       "...                       ...  \n",
       "2018-10-07 11:50:42 -0.005665  \n",
       "2018-10-07 11:50:43 -0.005664  \n",
       "2018-10-07 11:50:44 -0.005663  \n",
       "2018-10-07 11:50:45 -0.005662  \n",
       "2018-10-07 11:50:46 -0.005662  \n",
       "\n",
       "[88800 rows x 22 columns]"
      ]
     },
     "execution_count": 28,
     "metadata": {},
     "output_type": "execute_result"
    }
   ],
   "source": [
    "cleaned_dataset[1000][\"signal\"]  # Cleaned, normalized and imputed."
   ]
  },
  {
   "cell_type": "markdown",
   "metadata": {},
   "source": [
    "--------"
   ]
  },
  {
   "cell_type": "markdown",
   "metadata": {},
   "source": [
    "## 3. ⚙️ Preprocessing"
   ]
  },
  {
   "cell_type": "markdown",
   "metadata": {},
   "source": [
    "Pre-processing is an essential step to prepare the dataset before training or evaluating models.\n",
    "The 3W Toolkit provides utility classes to handle missing values, normalize data, segment time series into windows, and rename columns.\n",
    "\n",
    "In this section, we demonstrate the usage of:\n",
    "\n",
    "- `ImputeMissing` → Fill missing values with mean, median, or constant.\n",
    "- `Normalize` → Apply L1, L2, or max normalization.\n",
    "- `Windowing` → Segment a time series into overlapping windows with a chosen window function.\n",
    "- `RenameColumns` → Rename DataFrame columns using a mapping dictionary.\n"
   ]
  },
  {
   "cell_type": "markdown",
   "metadata": {},
   "source": [
    "First, we select a single event from the dataset and convert its signal to a pandas DataFrame.  \n",
    "Any columns with `Period` dtype are converted to `datetime` to ensure compatibility with subsequent processing steps.  \n",
    "Finally, we display the first rows of the signal to inspect the data.\n",
    "\n"
   ]
  },
  {
   "cell_type": "code",
   "execution_count": 29,
   "metadata": {},
   "outputs": [
    {
     "data": {
      "text/html": [
       "<div>\n",
       "<style scoped>\n",
       "    .dataframe tbody tr th:only-of-type {\n",
       "        vertical-align: middle;\n",
       "    }\n",
       "\n",
       "    .dataframe tbody tr th {\n",
       "        vertical-align: top;\n",
       "    }\n",
       "\n",
       "    .dataframe thead th {\n",
       "        text-align: right;\n",
       "    }\n",
       "</style>\n",
       "<table border=\"1\" class=\"dataframe\">\n",
       "  <thead>\n",
       "    <tr style=\"text-align: right;\">\n",
       "      <th></th>\n",
       "      <th>ABER-CKGL</th>\n",
       "      <th>ABER-CKP</th>\n",
       "      <th>ESTADO-DHSV</th>\n",
       "      <th>ESTADO-M1</th>\n",
       "      <th>ESTADO-M2</th>\n",
       "      <th>ESTADO-PXO</th>\n",
       "      <th>ESTADO-SDV-GL</th>\n",
       "      <th>ESTADO-SDV-P</th>\n",
       "      <th>ESTADO-W1</th>\n",
       "      <th>ESTADO-W2</th>\n",
       "      <th>...</th>\n",
       "      <th>P-JUS-CKGL</th>\n",
       "      <th>P-JUS-CKP</th>\n",
       "      <th>P-MON-CKP</th>\n",
       "      <th>P-PDG</th>\n",
       "      <th>P-TPT</th>\n",
       "      <th>QGL</th>\n",
       "      <th>T-JUS-CKP</th>\n",
       "      <th>T-MON-CKP</th>\n",
       "      <th>T-PDG</th>\n",
       "      <th>T-TPT</th>\n",
       "    </tr>\n",
       "    <tr>\n",
       "      <th>timestamp</th>\n",
       "      <th></th>\n",
       "      <th></th>\n",
       "      <th></th>\n",
       "      <th></th>\n",
       "      <th></th>\n",
       "      <th></th>\n",
       "      <th></th>\n",
       "      <th></th>\n",
       "      <th></th>\n",
       "      <th></th>\n",
       "      <th></th>\n",
       "      <th></th>\n",
       "      <th></th>\n",
       "      <th></th>\n",
       "      <th></th>\n",
       "      <th></th>\n",
       "      <th></th>\n",
       "      <th></th>\n",
       "      <th></th>\n",
       "      <th></th>\n",
       "      <th></th>\n",
       "    </tr>\n",
       "  </thead>\n",
       "  <tbody>\n",
       "    <tr>\n",
       "      <th>2016-07-04 18:00:00</th>\n",
       "      <td>0.0</td>\n",
       "      <td>0.0</td>\n",
       "      <td>0.0</td>\n",
       "      <td>0.0</td>\n",
       "      <td>0.0</td>\n",
       "      <td>0.0</td>\n",
       "      <td>0.914069</td>\n",
       "      <td>0.312558</td>\n",
       "      <td>0.0</td>\n",
       "      <td>0.0</td>\n",
       "      <td>...</td>\n",
       "      <td>-0.402240</td>\n",
       "      <td>0.0</td>\n",
       "      <td>-0.579013</td>\n",
       "      <td>0.0</td>\n",
       "      <td>0.0</td>\n",
       "      <td>0.470780</td>\n",
       "      <td>-0.742003</td>\n",
       "      <td>0.0</td>\n",
       "      <td>0.0</td>\n",
       "      <td>-0.030592</td>\n",
       "    </tr>\n",
       "    <tr>\n",
       "      <th>2016-07-04 18:00:01</th>\n",
       "      <td>0.0</td>\n",
       "      <td>0.0</td>\n",
       "      <td>0.0</td>\n",
       "      <td>0.0</td>\n",
       "      <td>0.0</td>\n",
       "      <td>0.0</td>\n",
       "      <td>0.914069</td>\n",
       "      <td>0.312558</td>\n",
       "      <td>0.0</td>\n",
       "      <td>0.0</td>\n",
       "      <td>...</td>\n",
       "      <td>-0.402240</td>\n",
       "      <td>0.0</td>\n",
       "      <td>-0.594322</td>\n",
       "      <td>0.0</td>\n",
       "      <td>0.0</td>\n",
       "      <td>0.469668</td>\n",
       "      <td>-0.741887</td>\n",
       "      <td>0.0</td>\n",
       "      <td>0.0</td>\n",
       "      <td>-0.030732</td>\n",
       "    </tr>\n",
       "    <tr>\n",
       "      <th>2016-07-04 18:00:02</th>\n",
       "      <td>0.0</td>\n",
       "      <td>0.0</td>\n",
       "      <td>0.0</td>\n",
       "      <td>0.0</td>\n",
       "      <td>0.0</td>\n",
       "      <td>0.0</td>\n",
       "      <td>0.914069</td>\n",
       "      <td>0.312558</td>\n",
       "      <td>0.0</td>\n",
       "      <td>0.0</td>\n",
       "      <td>...</td>\n",
       "      <td>-0.402239</td>\n",
       "      <td>0.0</td>\n",
       "      <td>-0.609631</td>\n",
       "      <td>0.0</td>\n",
       "      <td>0.0</td>\n",
       "      <td>0.468555</td>\n",
       "      <td>-0.741771</td>\n",
       "      <td>0.0</td>\n",
       "      <td>0.0</td>\n",
       "      <td>-0.030871</td>\n",
       "    </tr>\n",
       "    <tr>\n",
       "      <th>2016-07-04 18:00:03</th>\n",
       "      <td>0.0</td>\n",
       "      <td>0.0</td>\n",
       "      <td>0.0</td>\n",
       "      <td>0.0</td>\n",
       "      <td>0.0</td>\n",
       "      <td>0.0</td>\n",
       "      <td>0.914069</td>\n",
       "      <td>0.312558</td>\n",
       "      <td>0.0</td>\n",
       "      <td>0.0</td>\n",
       "      <td>...</td>\n",
       "      <td>-0.402239</td>\n",
       "      <td>0.0</td>\n",
       "      <td>-0.624940</td>\n",
       "      <td>0.0</td>\n",
       "      <td>0.0</td>\n",
       "      <td>0.467442</td>\n",
       "      <td>-0.741654</td>\n",
       "      <td>0.0</td>\n",
       "      <td>0.0</td>\n",
       "      <td>-0.031011</td>\n",
       "    </tr>\n",
       "    <tr>\n",
       "      <th>2016-07-04 18:00:04</th>\n",
       "      <td>0.0</td>\n",
       "      <td>0.0</td>\n",
       "      <td>0.0</td>\n",
       "      <td>0.0</td>\n",
       "      <td>0.0</td>\n",
       "      <td>0.0</td>\n",
       "      <td>0.914069</td>\n",
       "      <td>0.312558</td>\n",
       "      <td>0.0</td>\n",
       "      <td>0.0</td>\n",
       "      <td>...</td>\n",
       "      <td>-0.402238</td>\n",
       "      <td>0.0</td>\n",
       "      <td>-0.597055</td>\n",
       "      <td>0.0</td>\n",
       "      <td>0.0</td>\n",
       "      <td>0.467239</td>\n",
       "      <td>-0.741538</td>\n",
       "      <td>0.0</td>\n",
       "      <td>0.0</td>\n",
       "      <td>-0.031150</td>\n",
       "    </tr>\n",
       "  </tbody>\n",
       "</table>\n",
       "<p>5 rows × 22 columns</p>\n",
       "</div>"
      ],
      "text/plain": [
       "                     ABER-CKGL  ABER-CKP  ESTADO-DHSV  ESTADO-M1  ESTADO-M2  \\\n",
       "timestamp                                                                     \n",
       "2016-07-04 18:00:00        0.0       0.0          0.0        0.0        0.0   \n",
       "2016-07-04 18:00:01        0.0       0.0          0.0        0.0        0.0   \n",
       "2016-07-04 18:00:02        0.0       0.0          0.0        0.0        0.0   \n",
       "2016-07-04 18:00:03        0.0       0.0          0.0        0.0        0.0   \n",
       "2016-07-04 18:00:04        0.0       0.0          0.0        0.0        0.0   \n",
       "\n",
       "                     ESTADO-PXO  ESTADO-SDV-GL  ESTADO-SDV-P  ESTADO-W1  \\\n",
       "timestamp                                                                 \n",
       "2016-07-04 18:00:00         0.0       0.914069      0.312558        0.0   \n",
       "2016-07-04 18:00:01         0.0       0.914069      0.312558        0.0   \n",
       "2016-07-04 18:00:02         0.0       0.914069      0.312558        0.0   \n",
       "2016-07-04 18:00:03         0.0       0.914069      0.312558        0.0   \n",
       "2016-07-04 18:00:04         0.0       0.914069      0.312558        0.0   \n",
       "\n",
       "                     ESTADO-W2  ...  P-JUS-CKGL  P-JUS-CKP  P-MON-CKP  P-PDG  \\\n",
       "timestamp                       ...                                            \n",
       "2016-07-04 18:00:00        0.0  ...   -0.402240        0.0  -0.579013    0.0   \n",
       "2016-07-04 18:00:01        0.0  ...   -0.402240        0.0  -0.594322    0.0   \n",
       "2016-07-04 18:00:02        0.0  ...   -0.402239        0.0  -0.609631    0.0   \n",
       "2016-07-04 18:00:03        0.0  ...   -0.402239        0.0  -0.624940    0.0   \n",
       "2016-07-04 18:00:04        0.0  ...   -0.402238        0.0  -0.597055    0.0   \n",
       "\n",
       "                     P-TPT       QGL  T-JUS-CKP  T-MON-CKP  T-PDG     T-TPT  \n",
       "timestamp                                                                    \n",
       "2016-07-04 18:00:00    0.0  0.470780  -0.742003        0.0    0.0 -0.030592  \n",
       "2016-07-04 18:00:01    0.0  0.469668  -0.741887        0.0    0.0 -0.030732  \n",
       "2016-07-04 18:00:02    0.0  0.468555  -0.741771        0.0    0.0 -0.030871  \n",
       "2016-07-04 18:00:03    0.0  0.467442  -0.741654        0.0    0.0 -0.031011  \n",
       "2016-07-04 18:00:04    0.0  0.467239  -0.741538        0.0    0.0 -0.031150  \n",
       "\n",
       "[5 rows x 22 columns]"
      ]
     },
     "execution_count": 29,
     "metadata": {},
     "output_type": "execute_result"
    }
   ],
   "source": [
    "# Select a single event from the dataset\n",
    "event_id = 0\n",
    "event = raw_dataset[event_id]\n",
    "\n",
    "# Convert the 'signal' to a pandas DataFrame\n",
    "signal = pd.DataFrame(event[\"signal\"])\n",
    "\n",
    "# Convert Period columns to datetime for compatibility\n",
    "for col in signal.columns:\n",
    "    if isinstance(signal[col].dtype, pd.PeriodDtype):\n",
    "        signal[col] = signal[col].dt.to_timestamp()\n",
    "\n",
    "# Display the first rows to inspect the signal\n",
    "signal.head()"
   ]
  },
  {
   "cell_type": "markdown",
   "metadata": {},
   "source": [
    "### 3.1 Handling missing values (Imputation)"
   ]
  },
  {
   "cell_type": "markdown",
   "metadata": {},
   "source": [
    "The class `ImputeMissing` fills `NaN` values in numeric columns.\n",
    "It supports three strategies:\n",
    "\n",
    "- mean → Replace NaN with the column mean.\n",
    "- median → Replace NaN with the column median.\n",
    "- constant → Replace NaN with a fixed value (`fill_value`).\n",
    "\n",
    "The column \"T-TPT\" will be used to demonstrate this functionality.\n",
    "\n"
   ]
  },
  {
   "cell_type": "markdown",
   "metadata": {},
   "source": [
    "First, we'll select 5 index values:\n"
   ]
  },
  {
   "cell_type": "code",
   "execution_count": 30,
   "metadata": {},
   "outputs": [
    {
     "name": "stdout",
     "output_type": "stream",
     "text": [
      "Original values at selected indices:\n",
      "timestamp\n",
      "2016-07-04 18:00:00   -0.030592\n",
      "2016-07-04 18:00:01   -0.030732\n",
      "2016-07-04 18:00:02   -0.030871\n",
      "2016-07-04 18:00:03   -0.031011\n",
      "2016-07-04 18:00:04   -0.031150\n",
      "Name: T-TPT, dtype: float64\n"
     ]
    }
   ],
   "source": [
    "col = \"T-TPT\"\n",
    "indices_to_nan = signal.index[:5]\n",
    "print(\"Original values at selected indices:\")\n",
    "print(signal.loc[indices_to_nan, col])"
   ]
  },
  {
   "cell_type": "markdown",
   "metadata": {},
   "source": [
    "Overriding their values with `NaN`:"
   ]
  },
  {
   "cell_type": "code",
   "execution_count": 31,
   "metadata": {},
   "outputs": [
    {
     "name": "stdout",
     "output_type": "stream",
     "text": [
      "\n",
      "Values after introducing NaN:\n",
      "0   NaN\n",
      "1   NaN\n",
      "2   NaN\n",
      "3   NaN\n",
      "4   NaN\n",
      "5   NaN\n",
      "6   NaN\n",
      "7   NaN\n",
      "8   NaN\n",
      "9   NaN\n",
      "dtype: float64\n"
     ]
    }
   ],
   "source": [
    "s = pd.Series([np.nan] * 10)\n",
    "print(\"\\nValues after introducing NaN:\")\n",
    "print(s)"
   ]
  },
  {
   "cell_type": "markdown",
   "metadata": {},
   "source": [
    "Finally, applying mean imputation and verifying the results:\n"
   ]
  },
  {
   "cell_type": "code",
   "execution_count": 32,
   "metadata": {},
   "outputs": [
    {
     "name": "stdout",
     "output_type": "stream",
     "text": [
      "\n",
      "Values after mean imputation:\n",
      "0    10.0\n",
      "1    10.0\n",
      "2    10.0\n",
      "3    10.0\n",
      "4    10.0\n",
      "5    10.0\n",
      "6    10.0\n",
      "7    10.0\n",
      "8    10.0\n",
      "9    10.0\n",
      "Name: __temp__, dtype: float64\n"
     ]
    }
   ],
   "source": [
    "impute_missing = ImputeMissing(ImputeMissingConfig(strategy=\"constant\", fill_value=10))\n",
    "\n",
    "print(\"\\nValues after mean imputation:\")\n",
    "print(impute_missing(s))"
   ]
  },
  {
   "cell_type": "markdown",
   "metadata": {},
   "source": [
    "### 3.2 Normalization"
   ]
  },
  {
   "cell_type": "markdown",
   "metadata": {},
   "source": [
    "The class normalize rescales data using one of the following norms:\n",
    "\n",
    "- `l1` → Normalize by sum of absolute values.  \n",
    "- `l2` → Normalize by Euclidean norm.  \n",
    "- `max` → Normalize by maximum absolute value.  \n",
    "\n",
    "The column \"P-PDG\" will be used to demonstrate this functionality.  \n",
    "\n"
   ]
  },
  {
   "cell_type": "markdown",
   "metadata": {},
   "source": [
    "Checking column before normalization:"
   ]
  },
  {
   "cell_type": "code",
   "execution_count": 33,
   "metadata": {},
   "outputs": [
    {
     "data": {
      "text/plain": [
       "timestamp\n",
       "2016-07-04 18:00:00   -0.030592\n",
       "2016-07-04 18:00:01   -0.030732\n",
       "2016-07-04 18:00:02   -0.030871\n",
       "2016-07-04 18:00:03   -0.031011\n",
       "2016-07-04 18:00:04   -0.031150\n",
       "2016-07-04 18:00:05   -0.031290\n",
       "2016-07-04 18:00:06   -0.031429\n",
       "2016-07-04 18:00:07   -0.031569\n",
       "2016-07-04 18:00:08   -0.031708\n",
       "2016-07-04 18:00:09   -0.031569\n",
       "Name: T-TPT, dtype: float64"
      ]
     },
     "execution_count": 33,
     "metadata": {},
     "output_type": "execute_result"
    }
   ],
   "source": [
    "col = \"T-TPT\"\n",
    "signal[col].head(10)"
   ]
  },
  {
   "cell_type": "markdown",
   "metadata": {},
   "source": [
    "Applying the normalization and checking results:"
   ]
  },
  {
   "cell_type": "code",
   "execution_count": 34,
   "metadata": {},
   "outputs": [
    {
     "data": {
      "text/plain": [
       "timestamp\n",
       "2016-07-04 18:00:00   -0.002800\n",
       "2016-07-04 18:00:01   -0.002813\n",
       "2016-07-04 18:00:02   -0.002826\n",
       "2016-07-04 18:00:03   -0.002839\n",
       "2016-07-04 18:00:04   -0.002851\n",
       "2016-07-04 18:00:05   -0.002864\n",
       "2016-07-04 18:00:06   -0.002877\n",
       "2016-07-04 18:00:07   -0.002890\n",
       "2016-07-04 18:00:08   -0.002902\n",
       "2016-07-04 18:00:09   -0.002890\n",
       "Name: T-TPT, dtype: float64"
      ]
     },
     "execution_count": 34,
     "metadata": {},
     "output_type": "execute_result"
    }
   ],
   "source": [
    "# Apply L2 normalization row-wise\n",
    "normalize = Normalize(NormalizeConfig(norm=\"l2\", axis=0))\n",
    "signal[col] = normalize(signal[col])\n",
    "signal[col].head(10)"
   ]
  },
  {
   "cell_type": "markdown",
   "metadata": {},
   "source": [
    "### 3.3 Windowing"
   ]
  },
  {
   "cell_type": "markdown",
   "metadata": {},
   "source": [
    "The class `Windowing` divides a 1D time series into overlapping windows.\n",
    "Each window can be weighted with a function (e.g., Hann, Hamming) and optionally padded.\n",
    "\n",
    "The column \"P-TPT\" will be used to demonstrate this functionality."
   ]
  },
  {
   "cell_type": "markdown",
   "metadata": {},
   "source": [
    "Checking column before windowing:"
   ]
  },
  {
   "cell_type": "code",
   "execution_count": 35,
   "metadata": {},
   "outputs": [
    {
     "data": {
      "text/plain": [
       "timestamp\n",
       "2016-07-04 18:00:00    0.0\n",
       "2016-07-04 18:00:01    0.0\n",
       "2016-07-04 18:00:02    0.0\n",
       "2016-07-04 18:00:03    0.0\n",
       "2016-07-04 18:00:04    0.0\n",
       "2016-07-04 18:00:05    0.0\n",
       "2016-07-04 18:00:06    0.0\n",
       "2016-07-04 18:00:07    0.0\n",
       "2016-07-04 18:00:08    0.0\n",
       "2016-07-04 18:00:09    0.0\n",
       "Name: P-TPT, dtype: float64"
      ]
     },
     "execution_count": 35,
     "metadata": {},
     "output_type": "execute_result"
    }
   ],
   "source": [
    "col = \"P-TPT\"\n",
    "signal[col].head(10)"
   ]
  },
  {
   "cell_type": "markdown",
   "metadata": {},
   "source": [
    "Applying windowing (Hann window, window size 4, 50% overlap, and pad the last window) and checking results:\n"
   ]
  },
  {
   "cell_type": "code",
   "execution_count": 36,
   "metadata": {},
   "outputs": [
    {
     "name": "stdout",
     "output_type": "stream",
     "text": [
      "\n",
      "After windowing (first 5 windows):\n"
     ]
    },
    {
     "data": {
      "text/html": [
       "<div>\n",
       "<style scoped>\n",
       "    .dataframe tbody tr th:only-of-type {\n",
       "        vertical-align: middle;\n",
       "    }\n",
       "\n",
       "    .dataframe tbody tr th {\n",
       "        vertical-align: top;\n",
       "    }\n",
       "\n",
       "    .dataframe thead th {\n",
       "        text-align: right;\n",
       "    }\n",
       "</style>\n",
       "<table border=\"1\" class=\"dataframe\">\n",
       "  <thead>\n",
       "    <tr style=\"text-align: right;\">\n",
       "      <th></th>\n",
       "      <th>var1_t0</th>\n",
       "      <th>var1_t1</th>\n",
       "      <th>var1_t2</th>\n",
       "      <th>var1_t3</th>\n",
       "      <th>win</th>\n",
       "    </tr>\n",
       "  </thead>\n",
       "  <tbody>\n",
       "    <tr>\n",
       "      <th>0</th>\n",
       "      <td>0.0</td>\n",
       "      <td>0.0</td>\n",
       "      <td>0.0</td>\n",
       "      <td>0.0</td>\n",
       "      <td>1</td>\n",
       "    </tr>\n",
       "    <tr>\n",
       "      <th>1</th>\n",
       "      <td>0.0</td>\n",
       "      <td>0.0</td>\n",
       "      <td>0.0</td>\n",
       "      <td>0.0</td>\n",
       "      <td>2</td>\n",
       "    </tr>\n",
       "    <tr>\n",
       "      <th>2</th>\n",
       "      <td>0.0</td>\n",
       "      <td>0.0</td>\n",
       "      <td>0.0</td>\n",
       "      <td>0.0</td>\n",
       "      <td>3</td>\n",
       "    </tr>\n",
       "    <tr>\n",
       "      <th>3</th>\n",
       "      <td>0.0</td>\n",
       "      <td>0.0</td>\n",
       "      <td>0.0</td>\n",
       "      <td>0.0</td>\n",
       "      <td>4</td>\n",
       "    </tr>\n",
       "    <tr>\n",
       "      <th>4</th>\n",
       "      <td>0.0</td>\n",
       "      <td>0.0</td>\n",
       "      <td>0.0</td>\n",
       "      <td>0.0</td>\n",
       "      <td>5</td>\n",
       "    </tr>\n",
       "  </tbody>\n",
       "</table>\n",
       "</div>"
      ],
      "text/plain": [
       "   var1_t0  var1_t1  var1_t2  var1_t3  win\n",
       "0      0.0      0.0      0.0      0.0    1\n",
       "1      0.0      0.0      0.0      0.0    2\n",
       "2      0.0      0.0      0.0      0.0    3\n",
       "3      0.0      0.0      0.0      0.0    4\n",
       "4      0.0      0.0      0.0      0.0    5"
      ]
     },
     "metadata": {},
     "output_type": "display_data"
    }
   ],
   "source": [
    "wind = Windowing(\n",
    "    WindowingConfig(window=\"hann\", window_size=4, overlap=0.5, pad_last_window=True)\n",
    ")\n",
    "\n",
    "print(\"\\nAfter windowing (first 5 windows):\")\n",
    "display(wind(signal[col]).head())"
   ]
  },
  {
   "cell_type": "markdown",
   "metadata": {},
   "source": [
    "### 3.4 Renaming columns"
   ]
  },
  {
   "cell_type": "markdown",
   "metadata": {},
   "source": [
    "The class `RenameColumns` allows renaming DataFrame columns using a mapping dictionary.\n",
    "\n",
    "In this example, we rename the columns \"ABER-CKGL\" and \"ABER-CKP\" to \"sensor_A\" and \"sensor_B\", respectively.\n",
    "\n"
   ]
  },
  {
   "cell_type": "markdown",
   "metadata": {},
   "source": [
    "Checking row names before renaming:"
   ]
  },
  {
   "cell_type": "code",
   "execution_count": 37,
   "metadata": {},
   "outputs": [
    {
     "data": {
      "text/html": [
       "<div>\n",
       "<style scoped>\n",
       "    .dataframe tbody tr th:only-of-type {\n",
       "        vertical-align: middle;\n",
       "    }\n",
       "\n",
       "    .dataframe tbody tr th {\n",
       "        vertical-align: top;\n",
       "    }\n",
       "\n",
       "    .dataframe thead th {\n",
       "        text-align: right;\n",
       "    }\n",
       "</style>\n",
       "<table border=\"1\" class=\"dataframe\">\n",
       "  <thead>\n",
       "    <tr style=\"text-align: right;\">\n",
       "      <th></th>\n",
       "      <th>ABER-CKGL</th>\n",
       "      <th>ABER-CKP</th>\n",
       "      <th>ESTADO-DHSV</th>\n",
       "      <th>ESTADO-M1</th>\n",
       "      <th>ESTADO-M2</th>\n",
       "      <th>ESTADO-PXO</th>\n",
       "      <th>ESTADO-SDV-GL</th>\n",
       "      <th>ESTADO-SDV-P</th>\n",
       "      <th>ESTADO-W1</th>\n",
       "      <th>ESTADO-W2</th>\n",
       "      <th>...</th>\n",
       "      <th>P-JUS-CKGL</th>\n",
       "      <th>P-JUS-CKP</th>\n",
       "      <th>P-MON-CKP</th>\n",
       "      <th>P-PDG</th>\n",
       "      <th>P-TPT</th>\n",
       "      <th>QGL</th>\n",
       "      <th>T-JUS-CKP</th>\n",
       "      <th>T-MON-CKP</th>\n",
       "      <th>T-PDG</th>\n",
       "      <th>T-TPT</th>\n",
       "    </tr>\n",
       "    <tr>\n",
       "      <th>timestamp</th>\n",
       "      <th></th>\n",
       "      <th></th>\n",
       "      <th></th>\n",
       "      <th></th>\n",
       "      <th></th>\n",
       "      <th></th>\n",
       "      <th></th>\n",
       "      <th></th>\n",
       "      <th></th>\n",
       "      <th></th>\n",
       "      <th></th>\n",
       "      <th></th>\n",
       "      <th></th>\n",
       "      <th></th>\n",
       "      <th></th>\n",
       "      <th></th>\n",
       "      <th></th>\n",
       "      <th></th>\n",
       "      <th></th>\n",
       "      <th></th>\n",
       "      <th></th>\n",
       "    </tr>\n",
       "  </thead>\n",
       "  <tbody>\n",
       "    <tr>\n",
       "      <th>2016-07-04 18:00:00</th>\n",
       "      <td>0.0</td>\n",
       "      <td>0.0</td>\n",
       "      <td>0.0</td>\n",
       "      <td>0.0</td>\n",
       "      <td>0.0</td>\n",
       "      <td>0.0</td>\n",
       "      <td>0.914069</td>\n",
       "      <td>0.312558</td>\n",
       "      <td>0.0</td>\n",
       "      <td>0.0</td>\n",
       "      <td>...</td>\n",
       "      <td>-0.402240</td>\n",
       "      <td>0.0</td>\n",
       "      <td>-0.579013</td>\n",
       "      <td>0.0</td>\n",
       "      <td>0.0</td>\n",
       "      <td>0.470780</td>\n",
       "      <td>-0.742003</td>\n",
       "      <td>0.0</td>\n",
       "      <td>0.0</td>\n",
       "      <td>-0.002800</td>\n",
       "    </tr>\n",
       "    <tr>\n",
       "      <th>2016-07-04 18:00:01</th>\n",
       "      <td>0.0</td>\n",
       "      <td>0.0</td>\n",
       "      <td>0.0</td>\n",
       "      <td>0.0</td>\n",
       "      <td>0.0</td>\n",
       "      <td>0.0</td>\n",
       "      <td>0.914069</td>\n",
       "      <td>0.312558</td>\n",
       "      <td>0.0</td>\n",
       "      <td>0.0</td>\n",
       "      <td>...</td>\n",
       "      <td>-0.402240</td>\n",
       "      <td>0.0</td>\n",
       "      <td>-0.594322</td>\n",
       "      <td>0.0</td>\n",
       "      <td>0.0</td>\n",
       "      <td>0.469668</td>\n",
       "      <td>-0.741887</td>\n",
       "      <td>0.0</td>\n",
       "      <td>0.0</td>\n",
       "      <td>-0.002813</td>\n",
       "    </tr>\n",
       "    <tr>\n",
       "      <th>2016-07-04 18:00:02</th>\n",
       "      <td>0.0</td>\n",
       "      <td>0.0</td>\n",
       "      <td>0.0</td>\n",
       "      <td>0.0</td>\n",
       "      <td>0.0</td>\n",
       "      <td>0.0</td>\n",
       "      <td>0.914069</td>\n",
       "      <td>0.312558</td>\n",
       "      <td>0.0</td>\n",
       "      <td>0.0</td>\n",
       "      <td>...</td>\n",
       "      <td>-0.402239</td>\n",
       "      <td>0.0</td>\n",
       "      <td>-0.609631</td>\n",
       "      <td>0.0</td>\n",
       "      <td>0.0</td>\n",
       "      <td>0.468555</td>\n",
       "      <td>-0.741771</td>\n",
       "      <td>0.0</td>\n",
       "      <td>0.0</td>\n",
       "      <td>-0.002826</td>\n",
       "    </tr>\n",
       "    <tr>\n",
       "      <th>2016-07-04 18:00:03</th>\n",
       "      <td>0.0</td>\n",
       "      <td>0.0</td>\n",
       "      <td>0.0</td>\n",
       "      <td>0.0</td>\n",
       "      <td>0.0</td>\n",
       "      <td>0.0</td>\n",
       "      <td>0.914069</td>\n",
       "      <td>0.312558</td>\n",
       "      <td>0.0</td>\n",
       "      <td>0.0</td>\n",
       "      <td>...</td>\n",
       "      <td>-0.402239</td>\n",
       "      <td>0.0</td>\n",
       "      <td>-0.624940</td>\n",
       "      <td>0.0</td>\n",
       "      <td>0.0</td>\n",
       "      <td>0.467442</td>\n",
       "      <td>-0.741654</td>\n",
       "      <td>0.0</td>\n",
       "      <td>0.0</td>\n",
       "      <td>-0.002839</td>\n",
       "    </tr>\n",
       "    <tr>\n",
       "      <th>2016-07-04 18:00:04</th>\n",
       "      <td>0.0</td>\n",
       "      <td>0.0</td>\n",
       "      <td>0.0</td>\n",
       "      <td>0.0</td>\n",
       "      <td>0.0</td>\n",
       "      <td>0.0</td>\n",
       "      <td>0.914069</td>\n",
       "      <td>0.312558</td>\n",
       "      <td>0.0</td>\n",
       "      <td>0.0</td>\n",
       "      <td>...</td>\n",
       "      <td>-0.402238</td>\n",
       "      <td>0.0</td>\n",
       "      <td>-0.597055</td>\n",
       "      <td>0.0</td>\n",
       "      <td>0.0</td>\n",
       "      <td>0.467239</td>\n",
       "      <td>-0.741538</td>\n",
       "      <td>0.0</td>\n",
       "      <td>0.0</td>\n",
       "      <td>-0.002851</td>\n",
       "    </tr>\n",
       "  </tbody>\n",
       "</table>\n",
       "<p>5 rows × 22 columns</p>\n",
       "</div>"
      ],
      "text/plain": [
       "                     ABER-CKGL  ABER-CKP  ESTADO-DHSV  ESTADO-M1  ESTADO-M2  \\\n",
       "timestamp                                                                     \n",
       "2016-07-04 18:00:00        0.0       0.0          0.0        0.0        0.0   \n",
       "2016-07-04 18:00:01        0.0       0.0          0.0        0.0        0.0   \n",
       "2016-07-04 18:00:02        0.0       0.0          0.0        0.0        0.0   \n",
       "2016-07-04 18:00:03        0.0       0.0          0.0        0.0        0.0   \n",
       "2016-07-04 18:00:04        0.0       0.0          0.0        0.0        0.0   \n",
       "\n",
       "                     ESTADO-PXO  ESTADO-SDV-GL  ESTADO-SDV-P  ESTADO-W1  \\\n",
       "timestamp                                                                 \n",
       "2016-07-04 18:00:00         0.0       0.914069      0.312558        0.0   \n",
       "2016-07-04 18:00:01         0.0       0.914069      0.312558        0.0   \n",
       "2016-07-04 18:00:02         0.0       0.914069      0.312558        0.0   \n",
       "2016-07-04 18:00:03         0.0       0.914069      0.312558        0.0   \n",
       "2016-07-04 18:00:04         0.0       0.914069      0.312558        0.0   \n",
       "\n",
       "                     ESTADO-W2  ...  P-JUS-CKGL  P-JUS-CKP  P-MON-CKP  P-PDG  \\\n",
       "timestamp                       ...                                            \n",
       "2016-07-04 18:00:00        0.0  ...   -0.402240        0.0  -0.579013    0.0   \n",
       "2016-07-04 18:00:01        0.0  ...   -0.402240        0.0  -0.594322    0.0   \n",
       "2016-07-04 18:00:02        0.0  ...   -0.402239        0.0  -0.609631    0.0   \n",
       "2016-07-04 18:00:03        0.0  ...   -0.402239        0.0  -0.624940    0.0   \n",
       "2016-07-04 18:00:04        0.0  ...   -0.402238        0.0  -0.597055    0.0   \n",
       "\n",
       "                     P-TPT       QGL  T-JUS-CKP  T-MON-CKP  T-PDG     T-TPT  \n",
       "timestamp                                                                    \n",
       "2016-07-04 18:00:00    0.0  0.470780  -0.742003        0.0    0.0 -0.002800  \n",
       "2016-07-04 18:00:01    0.0  0.469668  -0.741887        0.0    0.0 -0.002813  \n",
       "2016-07-04 18:00:02    0.0  0.468555  -0.741771        0.0    0.0 -0.002826  \n",
       "2016-07-04 18:00:03    0.0  0.467442  -0.741654        0.0    0.0 -0.002839  \n",
       "2016-07-04 18:00:04    0.0  0.467239  -0.741538        0.0    0.0 -0.002851  \n",
       "\n",
       "[5 rows x 22 columns]"
      ]
     },
     "execution_count": 37,
     "metadata": {},
     "output_type": "execute_result"
    }
   ],
   "source": [
    "signal.head()"
   ]
  },
  {
   "cell_type": "markdown",
   "metadata": {},
   "source": [
    "Now, renaming and checking the changes:"
   ]
  },
  {
   "cell_type": "code",
   "execution_count": 38,
   "metadata": {},
   "outputs": [
    {
     "data": {
      "text/html": [
       "<div>\n",
       "<style scoped>\n",
       "    .dataframe tbody tr th:only-of-type {\n",
       "        vertical-align: middle;\n",
       "    }\n",
       "\n",
       "    .dataframe tbody tr th {\n",
       "        vertical-align: top;\n",
       "    }\n",
       "\n",
       "    .dataframe thead th {\n",
       "        text-align: right;\n",
       "    }\n",
       "</style>\n",
       "<table border=\"1\" class=\"dataframe\">\n",
       "  <thead>\n",
       "    <tr style=\"text-align: right;\">\n",
       "      <th></th>\n",
       "      <th>sensor_A</th>\n",
       "      <th>sensor_B</th>\n",
       "      <th>ESTADO-DHSV</th>\n",
       "      <th>ESTADO-M1</th>\n",
       "      <th>ESTADO-M2</th>\n",
       "      <th>ESTADO-PXO</th>\n",
       "      <th>ESTADO-SDV-GL</th>\n",
       "      <th>ESTADO-SDV-P</th>\n",
       "      <th>ESTADO-W1</th>\n",
       "      <th>ESTADO-W2</th>\n",
       "      <th>...</th>\n",
       "      <th>P-JUS-CKGL</th>\n",
       "      <th>P-JUS-CKP</th>\n",
       "      <th>P-MON-CKP</th>\n",
       "      <th>P-PDG</th>\n",
       "      <th>P-TPT</th>\n",
       "      <th>QGL</th>\n",
       "      <th>T-JUS-CKP</th>\n",
       "      <th>T-MON-CKP</th>\n",
       "      <th>T-PDG</th>\n",
       "      <th>T-TPT</th>\n",
       "    </tr>\n",
       "    <tr>\n",
       "      <th>timestamp</th>\n",
       "      <th></th>\n",
       "      <th></th>\n",
       "      <th></th>\n",
       "      <th></th>\n",
       "      <th></th>\n",
       "      <th></th>\n",
       "      <th></th>\n",
       "      <th></th>\n",
       "      <th></th>\n",
       "      <th></th>\n",
       "      <th></th>\n",
       "      <th></th>\n",
       "      <th></th>\n",
       "      <th></th>\n",
       "      <th></th>\n",
       "      <th></th>\n",
       "      <th></th>\n",
       "      <th></th>\n",
       "      <th></th>\n",
       "      <th></th>\n",
       "      <th></th>\n",
       "    </tr>\n",
       "  </thead>\n",
       "  <tbody>\n",
       "    <tr>\n",
       "      <th>2016-07-04 18:00:00</th>\n",
       "      <td>0.0</td>\n",
       "      <td>0.0</td>\n",
       "      <td>0.0</td>\n",
       "      <td>0.0</td>\n",
       "      <td>0.0</td>\n",
       "      <td>0.0</td>\n",
       "      <td>0.914069</td>\n",
       "      <td>0.312558</td>\n",
       "      <td>0.0</td>\n",
       "      <td>0.0</td>\n",
       "      <td>...</td>\n",
       "      <td>-0.402240</td>\n",
       "      <td>0.0</td>\n",
       "      <td>-0.579013</td>\n",
       "      <td>0.0</td>\n",
       "      <td>0.0</td>\n",
       "      <td>0.470780</td>\n",
       "      <td>-0.742003</td>\n",
       "      <td>0.0</td>\n",
       "      <td>0.0</td>\n",
       "      <td>-0.002800</td>\n",
       "    </tr>\n",
       "    <tr>\n",
       "      <th>2016-07-04 18:00:01</th>\n",
       "      <td>0.0</td>\n",
       "      <td>0.0</td>\n",
       "      <td>0.0</td>\n",
       "      <td>0.0</td>\n",
       "      <td>0.0</td>\n",
       "      <td>0.0</td>\n",
       "      <td>0.914069</td>\n",
       "      <td>0.312558</td>\n",
       "      <td>0.0</td>\n",
       "      <td>0.0</td>\n",
       "      <td>...</td>\n",
       "      <td>-0.402240</td>\n",
       "      <td>0.0</td>\n",
       "      <td>-0.594322</td>\n",
       "      <td>0.0</td>\n",
       "      <td>0.0</td>\n",
       "      <td>0.469668</td>\n",
       "      <td>-0.741887</td>\n",
       "      <td>0.0</td>\n",
       "      <td>0.0</td>\n",
       "      <td>-0.002813</td>\n",
       "    </tr>\n",
       "    <tr>\n",
       "      <th>2016-07-04 18:00:02</th>\n",
       "      <td>0.0</td>\n",
       "      <td>0.0</td>\n",
       "      <td>0.0</td>\n",
       "      <td>0.0</td>\n",
       "      <td>0.0</td>\n",
       "      <td>0.0</td>\n",
       "      <td>0.914069</td>\n",
       "      <td>0.312558</td>\n",
       "      <td>0.0</td>\n",
       "      <td>0.0</td>\n",
       "      <td>...</td>\n",
       "      <td>-0.402239</td>\n",
       "      <td>0.0</td>\n",
       "      <td>-0.609631</td>\n",
       "      <td>0.0</td>\n",
       "      <td>0.0</td>\n",
       "      <td>0.468555</td>\n",
       "      <td>-0.741771</td>\n",
       "      <td>0.0</td>\n",
       "      <td>0.0</td>\n",
       "      <td>-0.002826</td>\n",
       "    </tr>\n",
       "    <tr>\n",
       "      <th>2016-07-04 18:00:03</th>\n",
       "      <td>0.0</td>\n",
       "      <td>0.0</td>\n",
       "      <td>0.0</td>\n",
       "      <td>0.0</td>\n",
       "      <td>0.0</td>\n",
       "      <td>0.0</td>\n",
       "      <td>0.914069</td>\n",
       "      <td>0.312558</td>\n",
       "      <td>0.0</td>\n",
       "      <td>0.0</td>\n",
       "      <td>...</td>\n",
       "      <td>-0.402239</td>\n",
       "      <td>0.0</td>\n",
       "      <td>-0.624940</td>\n",
       "      <td>0.0</td>\n",
       "      <td>0.0</td>\n",
       "      <td>0.467442</td>\n",
       "      <td>-0.741654</td>\n",
       "      <td>0.0</td>\n",
       "      <td>0.0</td>\n",
       "      <td>-0.002839</td>\n",
       "    </tr>\n",
       "    <tr>\n",
       "      <th>2016-07-04 18:00:04</th>\n",
       "      <td>0.0</td>\n",
       "      <td>0.0</td>\n",
       "      <td>0.0</td>\n",
       "      <td>0.0</td>\n",
       "      <td>0.0</td>\n",
       "      <td>0.0</td>\n",
       "      <td>0.914069</td>\n",
       "      <td>0.312558</td>\n",
       "      <td>0.0</td>\n",
       "      <td>0.0</td>\n",
       "      <td>...</td>\n",
       "      <td>-0.402238</td>\n",
       "      <td>0.0</td>\n",
       "      <td>-0.597055</td>\n",
       "      <td>0.0</td>\n",
       "      <td>0.0</td>\n",
       "      <td>0.467239</td>\n",
       "      <td>-0.741538</td>\n",
       "      <td>0.0</td>\n",
       "      <td>0.0</td>\n",
       "      <td>-0.002851</td>\n",
       "    </tr>\n",
       "  </tbody>\n",
       "</table>\n",
       "<p>5 rows × 22 columns</p>\n",
       "</div>"
      ],
      "text/plain": [
       "                     sensor_A  sensor_B  ESTADO-DHSV  ESTADO-M1  ESTADO-M2  \\\n",
       "timestamp                                                                    \n",
       "2016-07-04 18:00:00       0.0       0.0          0.0        0.0        0.0   \n",
       "2016-07-04 18:00:01       0.0       0.0          0.0        0.0        0.0   \n",
       "2016-07-04 18:00:02       0.0       0.0          0.0        0.0        0.0   \n",
       "2016-07-04 18:00:03       0.0       0.0          0.0        0.0        0.0   \n",
       "2016-07-04 18:00:04       0.0       0.0          0.0        0.0        0.0   \n",
       "\n",
       "                     ESTADO-PXO  ESTADO-SDV-GL  ESTADO-SDV-P  ESTADO-W1  \\\n",
       "timestamp                                                                 \n",
       "2016-07-04 18:00:00         0.0       0.914069      0.312558        0.0   \n",
       "2016-07-04 18:00:01         0.0       0.914069      0.312558        0.0   \n",
       "2016-07-04 18:00:02         0.0       0.914069      0.312558        0.0   \n",
       "2016-07-04 18:00:03         0.0       0.914069      0.312558        0.0   \n",
       "2016-07-04 18:00:04         0.0       0.914069      0.312558        0.0   \n",
       "\n",
       "                     ESTADO-W2  ...  P-JUS-CKGL  P-JUS-CKP  P-MON-CKP  P-PDG  \\\n",
       "timestamp                       ...                                            \n",
       "2016-07-04 18:00:00        0.0  ...   -0.402240        0.0  -0.579013    0.0   \n",
       "2016-07-04 18:00:01        0.0  ...   -0.402240        0.0  -0.594322    0.0   \n",
       "2016-07-04 18:00:02        0.0  ...   -0.402239        0.0  -0.609631    0.0   \n",
       "2016-07-04 18:00:03        0.0  ...   -0.402239        0.0  -0.624940    0.0   \n",
       "2016-07-04 18:00:04        0.0  ...   -0.402238        0.0  -0.597055    0.0   \n",
       "\n",
       "                     P-TPT       QGL  T-JUS-CKP  T-MON-CKP  T-PDG     T-TPT  \n",
       "timestamp                                                                    \n",
       "2016-07-04 18:00:00    0.0  0.470780  -0.742003        0.0    0.0 -0.002800  \n",
       "2016-07-04 18:00:01    0.0  0.469668  -0.741887        0.0    0.0 -0.002813  \n",
       "2016-07-04 18:00:02    0.0  0.468555  -0.741771        0.0    0.0 -0.002826  \n",
       "2016-07-04 18:00:03    0.0  0.467442  -0.741654        0.0    0.0 -0.002839  \n",
       "2016-07-04 18:00:04    0.0  0.467239  -0.741538        0.0    0.0 -0.002851  \n",
       "\n",
       "[5 rows x 22 columns]"
      ]
     },
     "execution_count": 38,
     "metadata": {},
     "output_type": "execute_result"
    }
   ],
   "source": [
    "columns_map = {\"ABER-CKGL\": \"sensor_A\", \"ABER-CKP\": \"sensor_B\"}\n",
    "rename = RenameColumns(RenameColumnsConfig(columns_map=columns_map))\n",
    "signal_renamed = rename(signal)\n",
    "signal_renamed.head()"
   ]
  },
  {
   "cell_type": "markdown",
   "metadata": {},
   "source": [
    "------"
   ]
  },
  {
   "cell_type": "markdown",
   "metadata": {},
   "source": [
    "## 4.  🔎 Feature Extraction\n"
   ]
  },
  {
   "cell_type": "markdown",
   "metadata": {},
   "source": [
    "In most time-series machine learning tasks, raw signal data is not used directly to train models. Instead, we use feature extraction to transform segments, or windows, of the time-series into a set of features that better represent the underlying patterns. This process converts a sequence of data points into a single row of features that a model can learn from.\n",
    "\n",
    "An important part of this process is aligning the extracted features (X) with their corresponding labels (y). Each of our feature extractors is designed to take both X and y as input and return the transformed features and their corectly aligned labels, ready for the modeling stage.\n",
    "\n",
    "In this section, we will demonstrate the three primary feature extraction methods available in the toolkit:\n",
    "\n",
    "* `ExtractStatisticalFeatures`: Captures the statistical properties of the data within each window (e.g. mean, std, skewness, kurtosis).\n",
    "* `ExtractWaveletFeatures`: Decomposes the signal within each window into it's frequency components. It generates approximation (low-frequency representation) and detail coefficients (high-frequency representation).\n",
    "* `ExtractEWStatisticalFeatures`: Exponentially Weighted statistical features. Similar to the standard statistical features, but give progressively more weight to more recent data points within a window. This is particularly useful when the most recent behavior in a window is more important than older behavior.\n"
   ]
  },
  {
   "cell_type": "markdown",
   "metadata": {},
   "source": [
    "First, we select the data for feature extraction using the functionalities presented in section 2"
   ]
  },
  {
   "cell_type": "code",
   "execution_count": 39,
   "metadata": {},
   "outputs": [],
   "source": [
    "x = raw_dataset[0][\"signal\"]\n",
    "y = raw_dataset[0][\"label\"]\n",
    "\n",
    "# Filling NaN values with 0 for demonstration purposes\n",
    "x = x.fillna(0)\n",
    "y = y.fillna(0)"
   ]
  },
  {
   "cell_type": "markdown",
   "metadata": {},
   "source": [
    "### 4.1 Statistical Feature Extraction\n"
   ]
  },
  {
   "cell_type": "markdown",
   "metadata": {},
   "source": [
    "In class `9`, the following statistical features are extracted:\n",
    "\n",
    "* `Mean`, `Standard Deviation`: Describe the central tendency and dispersion (volatility) of the signal in the window.\n",
    "* `Skewness`, `Kurtosis`: Describe the shape of the distribution. Skewness measures its asymmetry, while kurtosis measures how much the data is concentrated on the tail versus the center of the distribution.\n",
    "* `Minimum`, `1st Quartile`, `Median`, `3rd Quartile`, `Maximum`: Provide a summary of the statistical distribution through quartiles.\n",
    "\n"
   ]
  },
  {
   "cell_type": "code",
   "execution_count": 40,
   "metadata": {},
   "outputs": [
    {
     "data": {
      "text/html": [
       "<div>\n",
       "<style scoped>\n",
       "    .dataframe tbody tr th:only-of-type {\n",
       "        vertical-align: middle;\n",
       "    }\n",
       "\n",
       "    .dataframe tbody tr th {\n",
       "        vertical-align: top;\n",
       "    }\n",
       "\n",
       "    .dataframe thead th {\n",
       "        text-align: right;\n",
       "    }\n",
       "</style>\n",
       "<table border=\"1\" class=\"dataframe\">\n",
       "  <thead>\n",
       "    <tr style=\"text-align: right;\">\n",
       "      <th></th>\n",
       "      <th>var1_mean</th>\n",
       "      <th>var1_std</th>\n",
       "      <th>var1_skew</th>\n",
       "      <th>var1_kurt</th>\n",
       "      <th>var1_min</th>\n",
       "      <th>var1_1qrt</th>\n",
       "      <th>var1_med</th>\n",
       "      <th>var1_3qrt</th>\n",
       "      <th>var1_max</th>\n",
       "    </tr>\n",
       "  </thead>\n",
       "  <tbody>\n",
       "    <tr>\n",
       "      <th>0</th>\n",
       "      <td>0.0</td>\n",
       "      <td>0.0</td>\n",
       "      <td>0.0</td>\n",
       "      <td>0.0</td>\n",
       "      <td>0.0</td>\n",
       "      <td>0.0</td>\n",
       "      <td>0.0</td>\n",
       "      <td>0.0</td>\n",
       "      <td>0.0</td>\n",
       "    </tr>\n",
       "    <tr>\n",
       "      <th>1</th>\n",
       "      <td>0.0</td>\n",
       "      <td>0.0</td>\n",
       "      <td>0.0</td>\n",
       "      <td>0.0</td>\n",
       "      <td>0.0</td>\n",
       "      <td>0.0</td>\n",
       "      <td>0.0</td>\n",
       "      <td>0.0</td>\n",
       "      <td>0.0</td>\n",
       "    </tr>\n",
       "    <tr>\n",
       "      <th>2</th>\n",
       "      <td>0.0</td>\n",
       "      <td>0.0</td>\n",
       "      <td>0.0</td>\n",
       "      <td>0.0</td>\n",
       "      <td>0.0</td>\n",
       "      <td>0.0</td>\n",
       "      <td>0.0</td>\n",
       "      <td>0.0</td>\n",
       "      <td>0.0</td>\n",
       "    </tr>\n",
       "    <tr>\n",
       "      <th>3</th>\n",
       "      <td>0.0</td>\n",
       "      <td>0.0</td>\n",
       "      <td>0.0</td>\n",
       "      <td>0.0</td>\n",
       "      <td>0.0</td>\n",
       "      <td>0.0</td>\n",
       "      <td>0.0</td>\n",
       "      <td>0.0</td>\n",
       "      <td>0.0</td>\n",
       "    </tr>\n",
       "    <tr>\n",
       "      <th>4</th>\n",
       "      <td>0.0</td>\n",
       "      <td>0.0</td>\n",
       "      <td>0.0</td>\n",
       "      <td>0.0</td>\n",
       "      <td>0.0</td>\n",
       "      <td>0.0</td>\n",
       "      <td>0.0</td>\n",
       "      <td>0.0</td>\n",
       "      <td>0.0</td>\n",
       "    </tr>\n",
       "    <tr>\n",
       "      <th>...</th>\n",
       "      <td>...</td>\n",
       "      <td>...</td>\n",
       "      <td>...</td>\n",
       "      <td>...</td>\n",
       "      <td>...</td>\n",
       "      <td>...</td>\n",
       "      <td>...</td>\n",
       "      <td>...</td>\n",
       "      <td>...</td>\n",
       "    </tr>\n",
       "    <tr>\n",
       "      <th>77396</th>\n",
       "      <td>0.0</td>\n",
       "      <td>0.0</td>\n",
       "      <td>0.0</td>\n",
       "      <td>0.0</td>\n",
       "      <td>0.0</td>\n",
       "      <td>0.0</td>\n",
       "      <td>0.0</td>\n",
       "      <td>0.0</td>\n",
       "      <td>0.0</td>\n",
       "    </tr>\n",
       "    <tr>\n",
       "      <th>77397</th>\n",
       "      <td>0.0</td>\n",
       "      <td>0.0</td>\n",
       "      <td>0.0</td>\n",
       "      <td>0.0</td>\n",
       "      <td>0.0</td>\n",
       "      <td>0.0</td>\n",
       "      <td>0.0</td>\n",
       "      <td>0.0</td>\n",
       "      <td>0.0</td>\n",
       "    </tr>\n",
       "    <tr>\n",
       "      <th>77398</th>\n",
       "      <td>0.0</td>\n",
       "      <td>0.0</td>\n",
       "      <td>0.0</td>\n",
       "      <td>0.0</td>\n",
       "      <td>0.0</td>\n",
       "      <td>0.0</td>\n",
       "      <td>0.0</td>\n",
       "      <td>0.0</td>\n",
       "      <td>0.0</td>\n",
       "    </tr>\n",
       "    <tr>\n",
       "      <th>77399</th>\n",
       "      <td>0.0</td>\n",
       "      <td>0.0</td>\n",
       "      <td>0.0</td>\n",
       "      <td>0.0</td>\n",
       "      <td>0.0</td>\n",
       "      <td>0.0</td>\n",
       "      <td>0.0</td>\n",
       "      <td>0.0</td>\n",
       "      <td>0.0</td>\n",
       "    </tr>\n",
       "    <tr>\n",
       "      <th>77400</th>\n",
       "      <td>0.0</td>\n",
       "      <td>0.0</td>\n",
       "      <td>0.0</td>\n",
       "      <td>0.0</td>\n",
       "      <td>0.0</td>\n",
       "      <td>0.0</td>\n",
       "      <td>0.0</td>\n",
       "      <td>0.0</td>\n",
       "      <td>0.0</td>\n",
       "    </tr>\n",
       "  </tbody>\n",
       "</table>\n",
       "<p>77401 rows × 9 columns</p>\n",
       "</div>"
      ],
      "text/plain": [
       "       var1_mean  var1_std  var1_skew  var1_kurt  var1_min  var1_1qrt  \\\n",
       "0            0.0       0.0        0.0        0.0       0.0        0.0   \n",
       "1            0.0       0.0        0.0        0.0       0.0        0.0   \n",
       "2            0.0       0.0        0.0        0.0       0.0        0.0   \n",
       "3            0.0       0.0        0.0        0.0       0.0        0.0   \n",
       "4            0.0       0.0        0.0        0.0       0.0        0.0   \n",
       "...          ...       ...        ...        ...       ...        ...   \n",
       "77396        0.0       0.0        0.0        0.0       0.0        0.0   \n",
       "77397        0.0       0.0        0.0        0.0       0.0        0.0   \n",
       "77398        0.0       0.0        0.0        0.0       0.0        0.0   \n",
       "77399        0.0       0.0        0.0        0.0       0.0        0.0   \n",
       "77400        0.0       0.0        0.0        0.0       0.0        0.0   \n",
       "\n",
       "       var1_med  var1_3qrt  var1_max  \n",
       "0           0.0        0.0       0.0  \n",
       "1           0.0        0.0       0.0  \n",
       "2           0.0        0.0       0.0  \n",
       "3           0.0        0.0       0.0  \n",
       "4           0.0        0.0       0.0  \n",
       "...         ...        ...       ...  \n",
       "77396       0.0        0.0       0.0  \n",
       "77397       0.0        0.0       0.0  \n",
       "77398       0.0        0.0       0.0  \n",
       "77399       0.0        0.0       0.0  \n",
       "77400       0.0        0.0       0.0  \n",
       "\n",
       "[77401 rows x 9 columns]"
      ]
     },
     "execution_count": 40,
     "metadata": {},
     "output_type": "execute_result"
    }
   ],
   "source": [
    "# Configure the statistical extractor\n",
    "config_stats = StatisticalConfig(window_size=20, overlap=0.75)\n",
    "\n",
    "# Instantiate the extractor\n",
    "statistical_extractor = ExtractStatisticalFeatures(config_stats)\n",
    "\n",
    "statistical_extractor.is_windowed = True\n",
    "\n",
    "# Apply it to the same sample data\n",
    "df = statistical_extractor(wind(signal[col]))\n",
    "df"
   ]
  },
  {
   "cell_type": "markdown",
   "metadata": {},
   "source": [
    "### 4.2 Wavelet Feature Extraction"
   ]
  },
  {
   "cell_type": "markdown",
   "metadata": {},
   "source": [
    "The Wavelet Feature Extractor uses the Stationary Wavelet Transform (SWT). This method decomposes the signal within each window into different frequency components, which can often capture patterns that are invisible to standard statistical measures.\n",
    "\n",
    "For each level of decomposition, two sets of coefficients are generated:\n",
    "\n",
    "* `Approximation Coefficients (A)`: These capture the low-frequency, underlying trend of the signal. Think of it as a smoothed or downsampled version of the signal within the window.\n",
    "* `Detail Coefficients (D)`: These capture the high-frequency components, representing noise, spikes, and other abrupt changes.\n",
    "\n"
   ]
  },
  {
   "cell_type": "code",
   "execution_count": 41,
   "metadata": {},
   "outputs": [
    {
     "data": {
      "text/html": [
       "<div>\n",
       "<style scoped>\n",
       "    .dataframe tbody tr th:only-of-type {\n",
       "        vertical-align: middle;\n",
       "    }\n",
       "\n",
       "    .dataframe tbody tr th {\n",
       "        vertical-align: top;\n",
       "    }\n",
       "\n",
       "    .dataframe thead th {\n",
       "        text-align: right;\n",
       "    }\n",
       "</style>\n",
       "<table border=\"1\" class=\"dataframe\">\n",
       "  <thead>\n",
       "    <tr style=\"text-align: right;\">\n",
       "      <th></th>\n",
       "      <th>var1_A3</th>\n",
       "      <th>var1_D3</th>\n",
       "      <th>var1_A2</th>\n",
       "      <th>var1_D2</th>\n",
       "      <th>var1_A1</th>\n",
       "      <th>var1_D1</th>\n",
       "      <th>var1_A0</th>\n",
       "    </tr>\n",
       "  </thead>\n",
       "  <tbody>\n",
       "    <tr>\n",
       "      <th>0</th>\n",
       "      <td>0.0</td>\n",
       "      <td>0.0</td>\n",
       "      <td>0.0</td>\n",
       "      <td>0.0</td>\n",
       "      <td>0.0</td>\n",
       "      <td>0.0</td>\n",
       "      <td>0.0</td>\n",
       "    </tr>\n",
       "    <tr>\n",
       "      <th>1</th>\n",
       "      <td>0.0</td>\n",
       "      <td>0.0</td>\n",
       "      <td>0.0</td>\n",
       "      <td>0.0</td>\n",
       "      <td>0.0</td>\n",
       "      <td>0.0</td>\n",
       "      <td>0.0</td>\n",
       "    </tr>\n",
       "    <tr>\n",
       "      <th>2</th>\n",
       "      <td>0.0</td>\n",
       "      <td>0.0</td>\n",
       "      <td>0.0</td>\n",
       "      <td>0.0</td>\n",
       "      <td>0.0</td>\n",
       "      <td>0.0</td>\n",
       "      <td>0.0</td>\n",
       "    </tr>\n",
       "    <tr>\n",
       "      <th>3</th>\n",
       "      <td>0.0</td>\n",
       "      <td>0.0</td>\n",
       "      <td>0.0</td>\n",
       "      <td>0.0</td>\n",
       "      <td>0.0</td>\n",
       "      <td>0.0</td>\n",
       "      <td>0.0</td>\n",
       "    </tr>\n",
       "    <tr>\n",
       "      <th>4</th>\n",
       "      <td>0.0</td>\n",
       "      <td>0.0</td>\n",
       "      <td>0.0</td>\n",
       "      <td>0.0</td>\n",
       "      <td>0.0</td>\n",
       "      <td>0.0</td>\n",
       "      <td>0.0</td>\n",
       "    </tr>\n",
       "    <tr>\n",
       "      <th>...</th>\n",
       "      <td>...</td>\n",
       "      <td>...</td>\n",
       "      <td>...</td>\n",
       "      <td>...</td>\n",
       "      <td>...</td>\n",
       "      <td>...</td>\n",
       "      <td>...</td>\n",
       "    </tr>\n",
       "    <tr>\n",
       "      <th>77396</th>\n",
       "      <td>0.0</td>\n",
       "      <td>0.0</td>\n",
       "      <td>0.0</td>\n",
       "      <td>0.0</td>\n",
       "      <td>0.0</td>\n",
       "      <td>0.0</td>\n",
       "      <td>0.0</td>\n",
       "    </tr>\n",
       "    <tr>\n",
       "      <th>77397</th>\n",
       "      <td>0.0</td>\n",
       "      <td>0.0</td>\n",
       "      <td>0.0</td>\n",
       "      <td>0.0</td>\n",
       "      <td>0.0</td>\n",
       "      <td>0.0</td>\n",
       "      <td>0.0</td>\n",
       "    </tr>\n",
       "    <tr>\n",
       "      <th>77398</th>\n",
       "      <td>0.0</td>\n",
       "      <td>0.0</td>\n",
       "      <td>0.0</td>\n",
       "      <td>0.0</td>\n",
       "      <td>0.0</td>\n",
       "      <td>0.0</td>\n",
       "      <td>0.0</td>\n",
       "    </tr>\n",
       "    <tr>\n",
       "      <th>77399</th>\n",
       "      <td>0.0</td>\n",
       "      <td>0.0</td>\n",
       "      <td>0.0</td>\n",
       "      <td>0.0</td>\n",
       "      <td>0.0</td>\n",
       "      <td>0.0</td>\n",
       "      <td>0.0</td>\n",
       "    </tr>\n",
       "    <tr>\n",
       "      <th>77400</th>\n",
       "      <td>0.0</td>\n",
       "      <td>0.0</td>\n",
       "      <td>0.0</td>\n",
       "      <td>0.0</td>\n",
       "      <td>0.0</td>\n",
       "      <td>0.0</td>\n",
       "      <td>0.0</td>\n",
       "    </tr>\n",
       "  </tbody>\n",
       "</table>\n",
       "<p>77401 rows × 7 columns</p>\n",
       "</div>"
      ],
      "text/plain": [
       "       var1_A3  var1_D3  var1_A2  var1_D2  var1_A1  var1_D1  var1_A0\n",
       "0          0.0      0.0      0.0      0.0      0.0      0.0      0.0\n",
       "1          0.0      0.0      0.0      0.0      0.0      0.0      0.0\n",
       "2          0.0      0.0      0.0      0.0      0.0      0.0      0.0\n",
       "3          0.0      0.0      0.0      0.0      0.0      0.0      0.0\n",
       "4          0.0      0.0      0.0      0.0      0.0      0.0      0.0\n",
       "...        ...      ...      ...      ...      ...      ...      ...\n",
       "77396      0.0      0.0      0.0      0.0      0.0      0.0      0.0\n",
       "77397      0.0      0.0      0.0      0.0      0.0      0.0      0.0\n",
       "77398      0.0      0.0      0.0      0.0      0.0      0.0      0.0\n",
       "77399      0.0      0.0      0.0      0.0      0.0      0.0      0.0\n",
       "77400      0.0      0.0      0.0      0.0      0.0      0.0      0.0\n",
       "\n",
       "[77401 rows x 7 columns]"
      ]
     },
     "execution_count": 41,
     "metadata": {},
     "output_type": "execute_result"
    }
   ],
   "source": [
    "# Configure the extractor\n",
    "config_wavelets = WaveletConfig(level=3, overlap=0.875, offset=0)\n",
    "\n",
    "# Instantiate the extractor\n",
    "wavelet_extractor = ExtractWaveletFeatures(config_wavelets)\n",
    "\n",
    "wavelet_extractor.is_windowed = True\n",
    "\n",
    "# Apply it to our data\n",
    "df = wavelet_extractor(wind(signal[col]))\n",
    "df"
   ]
  },
  {
   "cell_type": "code",
   "execution_count": 42,
   "metadata": {},
   "outputs": [
    {
     "data": {
      "text/html": [
       "<div>\n",
       "<style scoped>\n",
       "    .dataframe tbody tr th:only-of-type {\n",
       "        vertical-align: middle;\n",
       "    }\n",
       "\n",
       "    .dataframe tbody tr th {\n",
       "        vertical-align: top;\n",
       "    }\n",
       "\n",
       "    .dataframe thead th {\n",
       "        text-align: right;\n",
       "    }\n",
       "</style>\n",
       "<table border=\"1\" class=\"dataframe\">\n",
       "  <thead>\n",
       "    <tr style=\"text-align: right;\">\n",
       "      <th></th>\n",
       "      <th>var1_A3</th>\n",
       "      <th>var1_D3</th>\n",
       "      <th>var1_A2</th>\n",
       "      <th>var1_D2</th>\n",
       "      <th>var1_A1</th>\n",
       "      <th>var1_D1</th>\n",
       "      <th>var1_A0</th>\n",
       "    </tr>\n",
       "  </thead>\n",
       "  <tbody>\n",
       "    <tr>\n",
       "      <th>0</th>\n",
       "      <td>0.0</td>\n",
       "      <td>0.0</td>\n",
       "      <td>0.0</td>\n",
       "      <td>0.0</td>\n",
       "      <td>0.0</td>\n",
       "      <td>0.0</td>\n",
       "      <td>0.0</td>\n",
       "    </tr>\n",
       "    <tr>\n",
       "      <th>1</th>\n",
       "      <td>0.0</td>\n",
       "      <td>0.0</td>\n",
       "      <td>0.0</td>\n",
       "      <td>0.0</td>\n",
       "      <td>0.0</td>\n",
       "      <td>0.0</td>\n",
       "      <td>0.0</td>\n",
       "    </tr>\n",
       "    <tr>\n",
       "      <th>2</th>\n",
       "      <td>0.0</td>\n",
       "      <td>0.0</td>\n",
       "      <td>0.0</td>\n",
       "      <td>0.0</td>\n",
       "      <td>0.0</td>\n",
       "      <td>0.0</td>\n",
       "      <td>0.0</td>\n",
       "    </tr>\n",
       "    <tr>\n",
       "      <th>3</th>\n",
       "      <td>0.0</td>\n",
       "      <td>0.0</td>\n",
       "      <td>0.0</td>\n",
       "      <td>0.0</td>\n",
       "      <td>0.0</td>\n",
       "      <td>0.0</td>\n",
       "      <td>0.0</td>\n",
       "    </tr>\n",
       "    <tr>\n",
       "      <th>4</th>\n",
       "      <td>0.0</td>\n",
       "      <td>0.0</td>\n",
       "      <td>0.0</td>\n",
       "      <td>0.0</td>\n",
       "      <td>0.0</td>\n",
       "      <td>0.0</td>\n",
       "      <td>0.0</td>\n",
       "    </tr>\n",
       "    <tr>\n",
       "      <th>...</th>\n",
       "      <td>...</td>\n",
       "      <td>...</td>\n",
       "      <td>...</td>\n",
       "      <td>...</td>\n",
       "      <td>...</td>\n",
       "      <td>...</td>\n",
       "      <td>...</td>\n",
       "    </tr>\n",
       "    <tr>\n",
       "      <th>77376</th>\n",
       "      <td>0.0</td>\n",
       "      <td>0.0</td>\n",
       "      <td>0.0</td>\n",
       "      <td>0.0</td>\n",
       "      <td>0.0</td>\n",
       "      <td>0.0</td>\n",
       "      <td>0.0</td>\n",
       "    </tr>\n",
       "    <tr>\n",
       "      <th>77377</th>\n",
       "      <td>0.0</td>\n",
       "      <td>0.0</td>\n",
       "      <td>0.0</td>\n",
       "      <td>0.0</td>\n",
       "      <td>0.0</td>\n",
       "      <td>0.0</td>\n",
       "      <td>0.0</td>\n",
       "    </tr>\n",
       "    <tr>\n",
       "      <th>77378</th>\n",
       "      <td>0.0</td>\n",
       "      <td>0.0</td>\n",
       "      <td>0.0</td>\n",
       "      <td>0.0</td>\n",
       "      <td>0.0</td>\n",
       "      <td>0.0</td>\n",
       "      <td>0.0</td>\n",
       "    </tr>\n",
       "    <tr>\n",
       "      <th>77379</th>\n",
       "      <td>0.0</td>\n",
       "      <td>0.0</td>\n",
       "      <td>0.0</td>\n",
       "      <td>0.0</td>\n",
       "      <td>0.0</td>\n",
       "      <td>0.0</td>\n",
       "      <td>0.0</td>\n",
       "    </tr>\n",
       "    <tr>\n",
       "      <th>77380</th>\n",
       "      <td>0.0</td>\n",
       "      <td>0.0</td>\n",
       "      <td>0.0</td>\n",
       "      <td>0.0</td>\n",
       "      <td>0.0</td>\n",
       "      <td>0.0</td>\n",
       "      <td>0.0</td>\n",
       "    </tr>\n",
       "  </tbody>\n",
       "</table>\n",
       "<p>77381 rows × 7 columns</p>\n",
       "</div>"
      ],
      "text/plain": [
       "       var1_A3  var1_D3  var1_A2  var1_D2  var1_A1  var1_D1  var1_A0\n",
       "0          0.0      0.0      0.0      0.0      0.0      0.0      0.0\n",
       "1          0.0      0.0      0.0      0.0      0.0      0.0      0.0\n",
       "2          0.0      0.0      0.0      0.0      0.0      0.0      0.0\n",
       "3          0.0      0.0      0.0      0.0      0.0      0.0      0.0\n",
       "4          0.0      0.0      0.0      0.0      0.0      0.0      0.0\n",
       "...        ...      ...      ...      ...      ...      ...      ...\n",
       "77376      0.0      0.0      0.0      0.0      0.0      0.0      0.0\n",
       "77377      0.0      0.0      0.0      0.0      0.0      0.0      0.0\n",
       "77378      0.0      0.0      0.0      0.0      0.0      0.0      0.0\n",
       "77379      0.0      0.0      0.0      0.0      0.0      0.0      0.0\n",
       "77380      0.0      0.0      0.0      0.0      0.0      0.0      0.0\n",
       "\n",
       "[77381 rows x 7 columns]"
      ]
     },
     "execution_count": 42,
     "metadata": {},
     "output_type": "execute_result"
    }
   ],
   "source": [
    "# Configure with an offset\n",
    "config_wavelets = WaveletConfig(level=3, overlap=0.875, offset=20)\n",
    "\n",
    "# Instantiate the extractor\n",
    "wavelet_extractor = ExtractWaveletFeatures(config_wavelets)\n",
    "\n",
    "wavelet_extractor.is_windowed = True\n",
    "\n",
    "# Apply it to our data\n",
    "df_offset = wavelet_extractor(wind(signal[col]))\n",
    "df_offset"
   ]
  },
  {
   "cell_type": "code",
   "execution_count": 43,
   "metadata": {},
   "outputs": [
    {
     "name": "stdout",
     "output_type": "stream",
     "text": [
      "--- No offset ---\n",
      "Start index: 0\n",
      "\n",
      "--- Using offset=20 ---\n",
      "Start index with offset: 0\n",
      "Extraction began 20 points later, so the first timestamp is delayed.\n"
     ]
    }
   ],
   "source": [
    "print(\"--- No offset ---\")\n",
    "print(\"Start index:\", df.index[0])\n",
    "\n",
    "print(\"\\n--- Using offset=20 ---\")\n",
    "print(\"Start index with offset:\", df_offset.index[0])\n",
    "print(\"Extraction began 20 points later, so the first timestamp is delayed.\")"
   ]
  },
  {
   "cell_type": "markdown",
   "metadata": {},
   "source": [
    "### 4.3 Exponentially Weighted Statistical Feature Extraction"
   ]
  },
  {
   "cell_type": "markdown",
   "metadata": {},
   "source": [
    "Provides a specialized version of the standard statistical features. The \"EW\" stands for **Exponentially Weighted**.\n",
    "\n",
    "In this method, not all data points in a window are treated equally. Instead, more recent data points are given progressively higher weight than older points. The rate at which the importance of older data decays is controlled by the decay parameter.\n",
    "\n",
    "This is particularly useful in scenarios where the most recent behavior within a window is more predictive of the outcome than the behavior at the beginning of the window. It creates features that are more sensitive to the latest changes in the signal.\n",
    "\n"
   ]
  },
  {
   "cell_type": "code",
   "execution_count": 44,
   "metadata": {},
   "outputs": [
    {
     "data": {
      "text/html": [
       "<div>\n",
       "<style scoped>\n",
       "    .dataframe tbody tr th:only-of-type {\n",
       "        vertical-align: middle;\n",
       "    }\n",
       "\n",
       "    .dataframe tbody tr th {\n",
       "        vertical-align: top;\n",
       "    }\n",
       "\n",
       "    .dataframe thead th {\n",
       "        text-align: right;\n",
       "    }\n",
       "</style>\n",
       "<table border=\"1\" class=\"dataframe\">\n",
       "  <thead>\n",
       "    <tr style=\"text-align: right;\">\n",
       "      <th></th>\n",
       "      <th>var1_ew_mean</th>\n",
       "      <th>var1_ew_std</th>\n",
       "      <th>var1_ew_skew</th>\n",
       "      <th>var1_ew_kurt</th>\n",
       "      <th>var1_ew_min</th>\n",
       "      <th>var1_ew_1qrt</th>\n",
       "      <th>var1_ew_med</th>\n",
       "      <th>var1_ew_3qrt</th>\n",
       "      <th>var1_ew_max</th>\n",
       "    </tr>\n",
       "  </thead>\n",
       "  <tbody>\n",
       "    <tr>\n",
       "      <th>0</th>\n",
       "      <td>0.0</td>\n",
       "      <td>0.0</td>\n",
       "      <td>0.0</td>\n",
       "      <td>0.0</td>\n",
       "      <td>0.0</td>\n",
       "      <td>0.0</td>\n",
       "      <td>0.0</td>\n",
       "      <td>0.0</td>\n",
       "      <td>0.0</td>\n",
       "    </tr>\n",
       "    <tr>\n",
       "      <th>1</th>\n",
       "      <td>0.0</td>\n",
       "      <td>0.0</td>\n",
       "      <td>0.0</td>\n",
       "      <td>0.0</td>\n",
       "      <td>0.0</td>\n",
       "      <td>0.0</td>\n",
       "      <td>0.0</td>\n",
       "      <td>0.0</td>\n",
       "      <td>0.0</td>\n",
       "    </tr>\n",
       "    <tr>\n",
       "      <th>2</th>\n",
       "      <td>0.0</td>\n",
       "      <td>0.0</td>\n",
       "      <td>0.0</td>\n",
       "      <td>0.0</td>\n",
       "      <td>0.0</td>\n",
       "      <td>0.0</td>\n",
       "      <td>0.0</td>\n",
       "      <td>0.0</td>\n",
       "      <td>0.0</td>\n",
       "    </tr>\n",
       "    <tr>\n",
       "      <th>3</th>\n",
       "      <td>0.0</td>\n",
       "      <td>0.0</td>\n",
       "      <td>0.0</td>\n",
       "      <td>0.0</td>\n",
       "      <td>0.0</td>\n",
       "      <td>0.0</td>\n",
       "      <td>0.0</td>\n",
       "      <td>0.0</td>\n",
       "      <td>0.0</td>\n",
       "    </tr>\n",
       "    <tr>\n",
       "      <th>4</th>\n",
       "      <td>0.0</td>\n",
       "      <td>0.0</td>\n",
       "      <td>0.0</td>\n",
       "      <td>0.0</td>\n",
       "      <td>0.0</td>\n",
       "      <td>0.0</td>\n",
       "      <td>0.0</td>\n",
       "      <td>0.0</td>\n",
       "      <td>0.0</td>\n",
       "    </tr>\n",
       "    <tr>\n",
       "      <th>...</th>\n",
       "      <td>...</td>\n",
       "      <td>...</td>\n",
       "      <td>...</td>\n",
       "      <td>...</td>\n",
       "      <td>...</td>\n",
       "      <td>...</td>\n",
       "      <td>...</td>\n",
       "      <td>...</td>\n",
       "      <td>...</td>\n",
       "    </tr>\n",
       "    <tr>\n",
       "      <th>77396</th>\n",
       "      <td>0.0</td>\n",
       "      <td>0.0</td>\n",
       "      <td>0.0</td>\n",
       "      <td>0.0</td>\n",
       "      <td>0.0</td>\n",
       "      <td>0.0</td>\n",
       "      <td>0.0</td>\n",
       "      <td>0.0</td>\n",
       "      <td>0.0</td>\n",
       "    </tr>\n",
       "    <tr>\n",
       "      <th>77397</th>\n",
       "      <td>0.0</td>\n",
       "      <td>0.0</td>\n",
       "      <td>0.0</td>\n",
       "      <td>0.0</td>\n",
       "      <td>0.0</td>\n",
       "      <td>0.0</td>\n",
       "      <td>0.0</td>\n",
       "      <td>0.0</td>\n",
       "      <td>0.0</td>\n",
       "    </tr>\n",
       "    <tr>\n",
       "      <th>77398</th>\n",
       "      <td>0.0</td>\n",
       "      <td>0.0</td>\n",
       "      <td>0.0</td>\n",
       "      <td>0.0</td>\n",
       "      <td>0.0</td>\n",
       "      <td>0.0</td>\n",
       "      <td>0.0</td>\n",
       "      <td>0.0</td>\n",
       "      <td>0.0</td>\n",
       "    </tr>\n",
       "    <tr>\n",
       "      <th>77399</th>\n",
       "      <td>0.0</td>\n",
       "      <td>0.0</td>\n",
       "      <td>0.0</td>\n",
       "      <td>0.0</td>\n",
       "      <td>0.0</td>\n",
       "      <td>0.0</td>\n",
       "      <td>0.0</td>\n",
       "      <td>0.0</td>\n",
       "      <td>0.0</td>\n",
       "    </tr>\n",
       "    <tr>\n",
       "      <th>77400</th>\n",
       "      <td>0.0</td>\n",
       "      <td>0.0</td>\n",
       "      <td>0.0</td>\n",
       "      <td>0.0</td>\n",
       "      <td>0.0</td>\n",
       "      <td>0.0</td>\n",
       "      <td>0.0</td>\n",
       "      <td>0.0</td>\n",
       "      <td>0.0</td>\n",
       "    </tr>\n",
       "  </tbody>\n",
       "</table>\n",
       "<p>77401 rows × 9 columns</p>\n",
       "</div>"
      ],
      "text/plain": [
       "       var1_ew_mean  var1_ew_std  var1_ew_skew  var1_ew_kurt  var1_ew_min  \\\n",
       "0               0.0          0.0           0.0           0.0          0.0   \n",
       "1               0.0          0.0           0.0           0.0          0.0   \n",
       "2               0.0          0.0           0.0           0.0          0.0   \n",
       "3               0.0          0.0           0.0           0.0          0.0   \n",
       "4               0.0          0.0           0.0           0.0          0.0   \n",
       "...             ...          ...           ...           ...          ...   \n",
       "77396           0.0          0.0           0.0           0.0          0.0   \n",
       "77397           0.0          0.0           0.0           0.0          0.0   \n",
       "77398           0.0          0.0           0.0           0.0          0.0   \n",
       "77399           0.0          0.0           0.0           0.0          0.0   \n",
       "77400           0.0          0.0           0.0           0.0          0.0   \n",
       "\n",
       "       var1_ew_1qrt  var1_ew_med  var1_ew_3qrt  var1_ew_max  \n",
       "0               0.0          0.0           0.0          0.0  \n",
       "1               0.0          0.0           0.0          0.0  \n",
       "2               0.0          0.0           0.0          0.0  \n",
       "3               0.0          0.0           0.0          0.0  \n",
       "4               0.0          0.0           0.0          0.0  \n",
       "...             ...          ...           ...          ...  \n",
       "77396           0.0          0.0           0.0          0.0  \n",
       "77397           0.0          0.0           0.0          0.0  \n",
       "77398           0.0          0.0           0.0          0.0  \n",
       "77399           0.0          0.0           0.0          0.0  \n",
       "77400           0.0          0.0           0.0          0.0  \n",
       "\n",
       "[77401 rows x 9 columns]"
      ]
     },
     "execution_count": 44,
     "metadata": {},
     "output_type": "execute_result"
    }
   ],
   "source": [
    "# Configuring the EW statistical extractor\n",
    "# decay: A value between 0 and 1. A higher value gives more weight to more recent points.\n",
    "# A decay of 0.9 means each data point has 90% of the weight of the next point in the window.\n",
    "config_ew = EWStatisticalConfig(window_size=wind.config.window_size, overlap=0.5, decay=0.9)\n",
    "ew_extractor = ExtractEWStatisticalFeatures(config_ew)\n",
    "ew_extractor.is_windowed = True\n",
    "\n",
    "df = ew_extractor(wind(signal[col]))\n",
    "df"
   ]
  },
  {
   "cell_type": "markdown",
   "metadata": {},
   "source": [
    "----"
   ]
  },
  {
   "cell_type": "markdown",
   "metadata": {},
   "source": [
    "## 5.  📊 Exploratory Analysis\n"
   ]
  },
  {
   "cell_type": "markdown",
   "metadata": {},
   "source": [
    "In this section we will explore and visualize some signals from the dataset."
   ]
  },
  {
   "cell_type": "markdown",
   "metadata": {},
   "source": [
    "### 5.1. Visualization Tools Overview"
   ]
  },
  {
   "cell_type": "markdown",
   "metadata": {},
   "source": [
    "The 3WToolkit provides three ready-to-use visualization functions that make it easy to explore time series data:\n",
    "\n",
    "- **`DataVisualization.plot_series(...)`**: plots a single time series in a clear and straightforward way.  \n",
    "- **`DataVisualization.plot_multiple_series(...)`**: allows plotting several series together for comparison.  \n",
    "- **`DataVisualization.correlation_heatmap(..._)`**: generates a correlation heatmap, helping to identify relationships between multiple features.\n",
    "\n",
    "In the next sections we will show quick examples of how to use each of these modules.\n"
   ]
  },
  {
   "cell_type": "markdown",
   "metadata": {},
   "source": [
    "#### Selecting an event to plot"
   ]
  },
  {
   "cell_type": "code",
   "execution_count": 45,
   "metadata": {},
   "outputs": [],
   "source": [
    "sig = raw_dataset[123][\"signal\"].copy()"
   ]
  },
  {
   "cell_type": "markdown",
   "metadata": {},
   "source": [
    "#### Single Series Example\n",
    "\n",
    "With `DataVisualization.plot_series` you can quickly visualize one feature over time.  \n",
    "This is useful to understand the overall trend, variation, and gaps (missing values) in a single signal.\n"
   ]
  },
  {
   "cell_type": "code",
   "execution_count": 46,
   "metadata": {},
   "outputs": [
    {
     "name": "stdout",
     "output_type": "stream",
     "text": [
      "DataVisualization: Chart saved to '/home/rafael/pos-doc/repos/3W/toolkit/output/3w_plots/p-tpt.png'\n"
     ]
    },
    {
     "data": {
      "image/png": "[encoded data removed]",
      "text/plain": [
       "<Figure size 1200x600 with 1 Axes>"
      ]
     },
     "metadata": {},
     "output_type": "display_data"
    }
   ],
   "source": [
    "series = sig[\"P-TPT\"]\n",
    "fig, path = DataVisualization.plot_series(\n",
    "    series=series,\n",
    "    title=\"P-TPT\",\n",
    "    xlabel=\"Timestamp\",\n",
    "    ylabel=\"P-TPT\",\n",
    "    overlay_events=False,\n",
    "    color=\"green\",\n",
    ")\n",
    "\n",
    "plt.show()"
   ]
  },
  {
   "cell_type": "markdown",
   "metadata": {},
   "source": [
    "#### Multiple Series Example\n",
    "\n",
    "With function `DataVisualization.plot_multiple_series` you can display several features on the same plot.  \n",
    "This is helpful when you want to compare signals directly and observe how they evolve together.\n"
   ]
  },
  {
   "cell_type": "code",
   "execution_count": 47,
   "metadata": {},
   "outputs": [
    {
     "name": "stdout",
     "output_type": "stream",
     "text": [
      "DataVisualization: Chart saved to '/home/rafael/pos-doc/repos/3W/toolkit/output/3w_plots/p-mon-ckp_p-tpt.png'\n"
     ]
    },
    {
     "data": {
      "image/png": "[encoded data removed]",
      "text/plain": [
       "<Figure size 1200x600 with 1 Axes>"
      ]
     },
     "metadata": {},
     "output_type": "display_data"
    }
   ],
   "source": [
    "features = [\"P-MON-CKP\", \"P-TPT\"]\n",
    "series_list = [sig[features[0]], sig[features[1]]]\n",
    "\n",
    "fig = DataVisualization.plot_multiple_series(\n",
    "    series_list=series_list,\n",
    "    labels=features,\n",
    "    title=\"'P-MON-CKP', 'P-TPT'\",\n",
    "    xlabel=\"Timestamp\",\n",
    "    ylabel=\"Value\",\n",
    ")\n",
    "\n",
    "plt.show()"
   ]
  },
  {
   "cell_type": "markdown",
   "metadata": {},
   "source": [
    "#### Correlation Heatmap Example\n",
    "\n",
    "Finally, `PlotCorrelationHeatmap.correlation_heatmap` creates a heatmap of pairwise correlations.  \n",
    "This is a quick way to check which features are strongly related to each other.\n"
   ]
  },
  {
   "cell_type": "code",
   "execution_count": 48,
   "metadata": {},
   "outputs": [
    {
     "name": "stdout",
     "output_type": "stream",
     "text": [
      "DataVisualization: Chart saved to '/home/rafael/pos-doc/repos/3W/toolkit/output/3w_plots/correlation_heatmap_of_selected_features.png'\n"
     ]
    },
    {
     "data": {
      "image/png": "[encoded data removed]",
      "text/plain": [
       "<Figure size 1000x800 with 2 Axes>"
      ]
     },
     "metadata": {},
     "output_type": "display_data"
    }
   ],
   "source": [
    "features = [\"P-ANULAR\", \"P-JUS-CKGL\", \"P-MON-CKP\", \"P-TPT\", \"T-JUS-CKP\", \"T-TPT\"]\n",
    "subset = sig[features]\n",
    "\n",
    "fig = DataVisualization.correlation_heatmap(\n",
    "    df_of_series=subset, title=\"Correlation Heatmap of Selected Features\"\n",
    ")\n",
    "\n",
    "plt.show()"
   ]
  },
  {
   "cell_type": "markdown",
   "metadata": {},
   "source": [
    "------"
   ]
  },
  {
   "cell_type": "markdown",
   "metadata": {},
   "source": [
    "## 6.  🤖 Model Training and Evaluation"
   ]
  },
  {
   "cell_type": "markdown",
   "metadata": {},
   "source": [
    "## Introduction to Model Training with 3WToolkit\n",
    "\n",
    "In this section, we introduce the process of training models using 3WToolkit, with the 3W dataset. \n",
    "\n",
    "The goal is to demonstrate how to transform raw time series into datasets suitable for supervised trainining, leveraging the toolkit's automation and reproducibility features.\n",
    "\n",
    "The pipeline includes the following main steps:\n",
    "- Loading the 3W dataset.\n",
    "- Segmenting the signals into windows, allowing each window to be treated as an independent sample for the model.\n",
    "- Training the model, using the windows as inputs and the corresponding labels as target.\n",
    "- Evaluating the model performance, by computing quantitative metrics (e.g., Accuracy, Recall, F1-score, etc.) and generating visualizations of predictions versus ground truth."
   ]
  },
  {
   "cell_type": "markdown",
   "metadata": {},
   "source": [
    "First we import the relevant modules and initialize a ParquetDataset instance, defining the target classes 0, 1 and 2. "
   ]
  },
  {
   "cell_type": "code",
   "execution_count": 49,
   "metadata": {},
   "outputs": [],
   "source": [
    "import numpy as np\n",
    "import pandas as pd\n",
    "import matplotlib.pyplot as plt\n",
    "import torch\n",
    "\n",
    "from tqdm import tqdm\n",
    "\n",
    "from ThreeWToolkit.preprocessing import Windowing\n",
    "from ThreeWToolkit.trainer.trainer import ModelTrainer, TrainerConfig\n",
    "from ThreeWToolkit.models.mlp import MLPConfig\n",
    "from ThreeWToolkit.dataset import ParquetDataset\n",
    "from ThreeWToolkit.core.base_dataset import ParquetDatasetConfig\n",
    "from ThreeWToolkit.core.base_assessment import ModelAssessmentConfig\n",
    "from ThreeWToolkit.assessment.model_assess import ModelAssessment\n",
    "from ThreeWToolkit.core.enums import TaskType"
   ]
  },
  {
   "cell_type": "markdown",
   "metadata": {},
   "source": [
    "**I. Create a ParquetDataset that loads cleaned data with target classes 0, 1, and 2**"
   ]
  },
  {
   "cell_type": "code",
   "execution_count": 50,
   "metadata": {},
   "outputs": [
    {
     "name": "stdout",
     "output_type": "stream",
     "text": [
      "[ParquetDataset] Dataset found at ../../dataset\n",
      "[ParquetDataset] Validating dataset integrity...\n",
      "[ParquetDataset] Dataset integrity check passed!\n"
     ]
    },
    {
     "data": {
      "text/plain": [
       "{'signal':                      ABER-CKGL  ABER-CKP  ESTADO-DHSV  ESTADO-M1  ESTADO-M2  \\\n",
       " timestamp                                                                     \n",
       " 2018-05-13 03:56:05        0.0       0.0          0.0        0.0        0.0   \n",
       " 2018-05-13 03:56:06        0.0       0.0          0.0        0.0        0.0   \n",
       " 2018-05-13 03:56:07        0.0       0.0          0.0        0.0        0.0   \n",
       " 2018-05-13 03:56:08        0.0       0.0          0.0        0.0        0.0   \n",
       " 2018-05-13 03:56:09        0.0       0.0          0.0        0.0        0.0   \n",
       " ...                        ...       ...          ...        ...        ...   \n",
       " 2018-05-13 11:55:59        0.0       0.0          0.0        0.0        0.0   \n",
       " 2018-05-13 11:56:00        0.0       0.0          0.0        0.0        0.0   \n",
       " 2018-05-13 11:56:01        0.0       0.0          0.0        0.0        0.0   \n",
       " 2018-05-13 11:56:02        0.0       0.0          0.0        0.0        0.0   \n",
       " 2018-05-13 11:56:03        0.0       0.0          0.0        0.0        0.0   \n",
       " \n",
       "                      ESTADO-PXO  ESTADO-SDV-GL  ESTADO-SDV-P  ESTADO-W1  \\\n",
       " timestamp                                                                 \n",
       " 2018-05-13 03:56:05         0.0            0.0           0.0        0.0   \n",
       " 2018-05-13 03:56:06         0.0            0.0           0.0        0.0   \n",
       " 2018-05-13 03:56:07         0.0            0.0           0.0        0.0   \n",
       " 2018-05-13 03:56:08         0.0            0.0           0.0        0.0   \n",
       " 2018-05-13 03:56:09         0.0            0.0           0.0        0.0   \n",
       " ...                         ...            ...           ...        ...   \n",
       " 2018-05-13 11:55:59         0.0            0.0           0.0        0.0   \n",
       " 2018-05-13 11:56:00         0.0            0.0           0.0        0.0   \n",
       " 2018-05-13 11:56:01         0.0            0.0           0.0        0.0   \n",
       " 2018-05-13 11:56:02         0.0            0.0           0.0        0.0   \n",
       " 2018-05-13 11:56:03         0.0            0.0           0.0        0.0   \n",
       " \n",
       "                      ESTADO-W2  ...  P-JUS-CKGL  P-JUS-CKP  P-MON-CKP  \\\n",
       " timestamp                       ...                                     \n",
       " 2018-05-13 03:56:05        0.0  ...         0.0        0.0   0.221506   \n",
       " 2018-05-13 03:56:06        0.0  ...         0.0        0.0   0.221506   \n",
       " 2018-05-13 03:56:07        0.0  ...         0.0        0.0   0.221506   \n",
       " 2018-05-13 03:56:08        0.0  ...         0.0        0.0   0.221506   \n",
       " 2018-05-13 03:56:09        0.0  ...         0.0        0.0   0.221506   \n",
       " ...                        ...  ...         ...        ...        ...   \n",
       " 2018-05-13 11:55:59        0.0  ...         0.0        0.0   0.198314   \n",
       " 2018-05-13 11:56:00        0.0  ...         0.0        0.0   0.198314   \n",
       " 2018-05-13 11:56:01        0.0  ...         0.0        0.0   0.198101   \n",
       " 2018-05-13 11:56:02        0.0  ...         0.0        0.0   0.198089   \n",
       " 2018-05-13 11:56:03        0.0  ...         0.0        0.0   0.198088   \n",
       " \n",
       "                         P-PDG     P-TPT  QGL  T-JUS-CKP  T-MON-CKP  T-PDG  \\\n",
       " timestamp                                                                   \n",
       " 2018-05-13 03:56:05  1.214039  1.477511  0.0   1.645573        0.0    0.0   \n",
       " 2018-05-13 03:56:06  1.214029  1.477511  0.0   1.645573        0.0    0.0   \n",
       " 2018-05-13 03:56:07  1.214039  1.477511  0.0   1.645573        0.0    0.0   \n",
       " 2018-05-13 03:56:08  1.214029  1.477511  0.0   1.645573        0.0    0.0   \n",
       " 2018-05-13 03:56:09  1.214039  1.477511  0.0   1.645573        0.0    0.0   \n",
       " ...                       ...       ...  ...        ...        ...    ...   \n",
       " 2018-05-13 11:55:59  2.102652 -1.141288  0.0  -2.040777        0.0    0.0   \n",
       " 2018-05-13 11:56:00  2.102651 -1.141205  0.0  -2.040454        0.0    0.0   \n",
       " 2018-05-13 11:56:01  2.102651 -1.141080  0.0  -2.040174        0.0    0.0   \n",
       " 2018-05-13 11:56:02  2.102652 -1.140957  0.0  -2.039065        0.0    0.0   \n",
       " 2018-05-13 11:56:03  2.102652 -1.140910  0.0  -2.037667        0.0    0.0   \n",
       " \n",
       "                         T-TPT  \n",
       " timestamp                      \n",
       " 2018-05-13 03:56:05  0.966436  \n",
       " 2018-05-13 03:56:06  0.966436  \n",
       " 2018-05-13 03:56:07  0.966436  \n",
       " 2018-05-13 03:56:08  0.966436  \n",
       " 2018-05-13 03:56:09  0.966436  \n",
       " ...                       ...  \n",
       " 2018-05-13 11:55:59 -3.061611  \n",
       " 2018-05-13 11:56:00 -3.061611  \n",
       " 2018-05-13 11:56:01 -3.061612  \n",
       " 2018-05-13 11:56:02 -3.061612  \n",
       " 2018-05-13 11:56:03 -3.061612  \n",
       " \n",
       " [28799 rows x 22 columns],\n",
       " 'label':                      class\n",
       " timestamp                 \n",
       " 2018-05-13 03:56:05      2\n",
       " 2018-05-13 03:56:06      2\n",
       " 2018-05-13 03:56:07      2\n",
       " 2018-05-13 03:56:08      2\n",
       " 2018-05-13 03:56:09      2\n",
       " ...                    ...\n",
       " 2018-05-13 11:55:59      2\n",
       " 2018-05-13 11:56:00      2\n",
       " 2018-05-13 11:56:01      2\n",
       " 2018-05-13 11:56:02      2\n",
       " 2018-05-13 11:56:03      2\n",
       " \n",
       " [28799 rows x 1 columns],\n",
       " 'file_name': PosixPath('2/SIMULATED_00006.parquet')}"
      ]
     },
     "execution_count": 50,
     "metadata": {},
     "output_type": "execute_result"
    }
   ],
   "source": [
    "ds_config = ParquetDatasetConfig(path=dataset_path, clean_data=True, target_class=[0, 1, 2])\n",
    "ds = ParquetDataset(ds_config)\n",
    "ds[19]"
   ]
  },
  {
   "cell_type": "markdown",
   "metadata": {},
   "source": [
    "**II. Instantiating configuration classes for the MLP model, Training parameters, and Evaluation parameters.**"
   ]
  },
  {
   "cell_type": "markdown",
   "metadata": {},
   "source": [
    "With the ParquetDataset instance defined, we can set the parameters for the MLP model using the MLPConfig object. These parameters will be combined with the TrainerConfig and managed through the ModelTrainer, which encapsulates the training workflow.\n",
    "\n",
    "The defined worflow control most relevant parameters that will be used for training of a model. \n",
    "\n",
    "Finally, the ModelTrainer is instantiated with the training configuration, while the ModelAssessment object prepares the evaluation pipeline. The model architecture can be visualized by printing the `trainer.model`."
   ]
  },
  {
   "cell_type": "code",
   "execution_count": 51,
   "metadata": {},
   "outputs": [
    {
     "name": "stdout",
     "output_type": "stream",
     "text": [
      "MLP(\n",
      "  (activation_func): ReLU()\n",
      "  (model): Sequential(\n",
      "    (0): Linear(in_features=100, out_features=32, bias=True)\n",
      "    (1): ReLU()\n",
      "    (2): Linear(in_features=32, out_features=16, bias=True)\n",
      "    (3): ReLU()\n",
      "    (4): Linear(in_features=16, out_features=3, bias=True)\n",
      "  )\n",
      ")\n"
     ]
    }
   ],
   "source": [
    "window_size = 100\n",
    "mlp_config = MLPConfig(\n",
    "    input_size=window_size,\n",
    "    hidden_sizes=(32, 16),\n",
    "    output_size=3,\n",
    "    random_seed=11,\n",
    "    activation_function=\"relu\",\n",
    "    regularization=None,\n",
    ")\n",
    "\n",
    "trainer_config = TrainerConfig(\n",
    "    optimizer=\"adam\",\n",
    "    criterion=\"cross_entropy\",\n",
    "    batch_size=32,\n",
    "    epochs=20,\n",
    "    seed=11,\n",
    "    config_model=mlp_config,\n",
    "    learning_rate=0.001,\n",
    "    device=\"cuda\" if torch.cuda.is_available() else \"cpu\",\n",
    "    cross_validation=False,\n",
    "    shuffle_train=True,\n",
    ")\n",
    "\n",
    "assessment_config = ModelAssessmentConfig(\n",
    "    metrics=[\"balanced_accuracy\", \"precision\", \"recall\", \"f1\"],\n",
    "    task_type=TaskType.CLASSIFICATION,\n",
    "    class_names=[\"Class_A\", \"Class_B\", \"Class_C\"],\n",
    "    export_results=True,\n",
    "    generate_report=False,\n",
    ")\n",
    "\n",
    "trainer = ModelTrainer(trainer_config)\n",
    "assessor = ModelAssessment(assessment_config)\n",
    "print(trainer.model)\n"
   ]
  },
  {
   "cell_type": "markdown",
   "metadata": {},
   "source": [
    "**III. Preprocessing the data**"
   ]
  },
  {
   "cell_type": "markdown",
   "metadata": {},
   "source": [
    "The next step is to iterate over a dataset of time series events, applying a windowing function to a selected signal column, in this case \"T-TPT\".\n",
    "\n",
    " All windowed segments from all events are then concatenated into a single DataFrame (dfs_final). This prepares the data for supervised training, where each row represents a windowed segment with its corresponding class label."
   ]
  },
  {
   "cell_type": "code",
   "execution_count": 52,
   "metadata": {},
   "outputs": [
    {
     "name": "stderr",
     "output_type": "stream",
     "text": [
      "100%|██████████| 760/760 [00:24<00:00, 31.53it/s]\n"
     ]
    }
   ],
   "source": [
    "# Select target columns and prepare training data with windowing\n",
    "selected_col = \"T-TPT\"\n",
    "x_train = []\n",
    "y_train = []\n",
    "dfs = []\n",
    "\n",
    "wind = Windowing(WindowingConfig(window=\"hann\",\n",
    "        window_size=window_size,\n",
    "        overlap=0.5,\n",
    "        pad_last_window=True))\n",
    "\n",
    "for event in tqdm(ds):\n",
    "    windowed_signal = wind(\n",
    "        event[\"signal\"][selected_col]\n",
    "    )\n",
    "    windowed_signal.drop(columns=[\"win\"], inplace=True)\n",
    "    windowed_signal[\"label\"] = np.unique(event[\"label\"][\"class\"])[0]\n",
    "    dfs.append(windowed_signal)\n",
    "dfs_final = pd.concat(dfs, ignore_index=True, axis=0)"
   ]
  },
  {
   "cell_type": "markdown",
   "metadata": {},
   "source": [
    "**IV. Training**"
   ]
  },
  {
   "cell_type": "markdown",
   "metadata": {},
   "source": [
    "Finally we can call the train function using the trainer object. "
   ]
  },
  {
   "cell_type": "code",
   "execution_count": 53,
   "metadata": {},
   "outputs": [
    {
     "data": {
      "application/vnd.jupyter.widget-view+json": {
       "model_id": "9d5cb875c1eb47e3bc9b6d8c1d7d6a73",
       "version_major": 2,
       "version_minor": 0
      },
      "text/plain": [
       "[Pipeline] Training:   0%|          | 0/20 [00:00<?, ?epoch/s]"
      ]
     },
     "metadata": {},
     "output_type": "display_data"
    }
   ],
   "source": [
    "# Train the MLP model using the ModelTrainer interface\n",
    "trainer.train(x_train=dfs_final.iloc[:, :-1], y_train=dfs_final[\"label\"].astype(int))"
   ]
  },
  {
   "cell_type": "markdown",
   "metadata": {},
   "source": [
    "**V. Assessment**"
   ]
  },
  {
   "cell_type": "markdown",
   "metadata": {},
   "source": [
    "The trainer class allows direct evaluation of the trained model using the `assess` method, which returns a dictionary containing performance metrics and evaluation parameters."
   ]
  },
  {
   "cell_type": "code",
   "execution_count": 54,
   "metadata": {},
   "outputs": [
    {
     "name": "stdout",
     "output_type": "stream",
     "text": [
      "Results exported to /home/rafael/pos-doc/repos/3W/toolkit/output\n",
      "Model Assessment Summary\n",
      "========================\n",
      "Model: MLP\n",
      "Task Type: TaskType.CLASSIFICATION\n",
      "Timestamp: 2025-10-15T14:50:44.978103\n",
      "\n",
      "Metrics:\n",
      "  balanced_accuracy: 0.9501\n",
      "  precision: 0.9665\n",
      "  recall: 0.9651\n",
      "  f1: 0.9649\n"
     ]
    },
    {
     "data": {
      "text/plain": [
       "{'model_name': 'MLP',\n",
       " 'task_type': <TaskType.CLASSIFICATION: 'classification'>,\n",
       " 'predictions': array([2, 2, 2, ..., 0, 0, 0], shape=(440356,)),\n",
       " 'true_values': array([2, 2, 2, ..., 0, 0, 0], shape=(440356,)),\n",
       " 'X_test': array([[0.        , 0.00051192, 0.00204574, ..., 0.00459149, 0.00204418,\n",
       "         0.00051159],\n",
       "        [0.        , 0.00051175, 0.0020449 , ..., 0.00458746, 0.00204227,\n",
       "         0.00051108],\n",
       "        [0.        , 0.00051167, 0.00204482, ..., 0.00459149, 0.00204405,\n",
       "         0.00051153],\n",
       "        ...,\n",
       "        [0.        , 0.000307  , 0.00122664, ..., 0.00274646, 0.00122265,\n",
       "         0.00030596],\n",
       "        [0.        , 0.00030587, 0.00122227, ..., 0.        , 0.        ,\n",
       "         0.        ],\n",
       "        [0.        , 0.00030595, 0.00122257, ..., 0.        , 0.        ,\n",
       "         0.        ]], shape=(440356, 100)),\n",
       " 'metrics': {'balanced_accuracy': 0.9500612456025209,\n",
       "  'precision': 0.9664839883576251,\n",
       "  'recall': 0.9651327562245092,\n",
       "  'f1': 0.9649262819949906},\n",
       " 'config': {'metrics': ['balanced_accuracy', 'precision', 'recall', 'f1'],\n",
       "  'output_dir': PosixPath('/home/rafael/pos-doc/repos/3W/toolkit/output'),\n",
       "  'export_results': True,\n",
       "  'generate_report': False,\n",
       "  'task_type': <TaskType.CLASSIFICATION: 'classification'>,\n",
       "  'batch_size': 64,\n",
       "  'device': 'cuda',\n",
       "  'report_title': None,\n",
       "  'report_author': '3W Toolkit Report'},\n",
       " 'timestamp': '2025-10-15T14:50:44.978103'}"
      ]
     },
     "execution_count": 54,
     "metadata": {},
     "output_type": "execute_result"
    }
   ],
   "source": [
    "trainer.assess(\n",
    "    dfs_final.iloc[:, :-1], dfs_final[\"label\"].astype(int), assessment_config\n",
    ")"
   ]
  },
  {
   "cell_type": "markdown",
   "metadata": {},
   "source": [
    "**Another option, and the most recommended one, is to use the `ModelAssessment` class to perform the evaluation of the results.**"
   ]
  },
  {
   "cell_type": "code",
   "execution_count": 55,
   "metadata": {},
   "outputs": [
    {
     "name": "stdout",
     "output_type": "stream",
     "text": [
      "Results exported to /home/rafael/pos-doc/repos/3W/toolkit/output\n",
      "Model Assessment Summary\n",
      "========================\n",
      "Model: MLP\n",
      "Task Type: TaskType.CLASSIFICATION\n",
      "Timestamp: 2025-10-15T14:50:49.129377\n",
      "\n",
      "Metrics:\n",
      "  balanced_accuracy: 0.9501\n",
      "  precision: 0.9665\n",
      "  recall: 0.9651\n",
      "  f1: 0.9649\n"
     ]
    },
    {
     "data": {
      "text/plain": [
       "{'model_name': 'MLP',\n",
       " 'task_type': <TaskType.CLASSIFICATION: 'classification'>,\n",
       " 'predictions': array([2, 2, 2, ..., 0, 0, 0], shape=(440356,)),\n",
       " 'true_values': array([2, 2, 2, ..., 0, 0, 0], shape=(440356,)),\n",
       " 'X_test': array([[0.        , 0.00051192, 0.00204574, ..., 0.00459149, 0.00204418,\n",
       "         0.00051159],\n",
       "        [0.        , 0.00051175, 0.0020449 , ..., 0.00458746, 0.00204227,\n",
       "         0.00051108],\n",
       "        [0.        , 0.00051167, 0.00204482, ..., 0.00459149, 0.00204405,\n",
       "         0.00051153],\n",
       "        ...,\n",
       "        [0.        , 0.000307  , 0.00122664, ..., 0.00274646, 0.00122265,\n",
       "         0.00030596],\n",
       "        [0.        , 0.00030587, 0.00122227, ..., 0.        , 0.        ,\n",
       "         0.        ],\n",
       "        [0.        , 0.00030595, 0.00122257, ..., 0.        , 0.        ,\n",
       "         0.        ]], shape=(440356, 100)),\n",
       " 'metrics': {'balanced_accuracy': 0.9500612456025209,\n",
       "  'precision': 0.9664839883576251,\n",
       "  'recall': 0.9651327562245092,\n",
       "  'f1': 0.9649262819949906},\n",
       " 'config': {'metrics': ['balanced_accuracy', 'precision', 'recall', 'f1'],\n",
       "  'output_dir': PosixPath('/home/rafael/pos-doc/repos/3W/toolkit/output'),\n",
       "  'export_results': True,\n",
       "  'generate_report': False,\n",
       "  'task_type': <TaskType.CLASSIFICATION: 'classification'>,\n",
       "  'batch_size': 64,\n",
       "  'device': 'cuda',\n",
       "  'report_title': None,\n",
       "  'report_author': '3W Toolkit Report'},\n",
       " 'timestamp': '2025-10-15T14:50:49.129377'}"
      ]
     },
     "execution_count": 55,
     "metadata": {},
     "output_type": "execute_result"
    }
   ],
   "source": [
    "results = assessor.evaluate(trainer.model, dfs_final.iloc[:, :-1], dfs_final[\"label\"].astype(int))\n",
    "results"
   ]
  },
  {
   "cell_type": "markdown",
   "metadata": {},
   "source": [
    "Retrieving aggregated metrics"
   ]
  },
  {
   "cell_type": "code",
   "execution_count": 56,
   "metadata": {},
   "outputs": [
    {
     "name": "stdout",
     "output_type": "stream",
     "text": [
      "Model Assessment Summary\n",
      "========================\n",
      "Model: MLP\n",
      "Task Type: TaskType.CLASSIFICATION\n",
      "Timestamp: 2025-10-15T14:50:49.129377\n",
      "\n",
      "Metrics:\n",
      "  balanced_accuracy: 0.9501\n",
      "  precision: 0.9665\n",
      "  recall: 0.9651\n",
      "  f1: 0.9649\n"
     ]
    }
   ],
   "source": [
    "print(assessor.summary())"
   ]
  },
  {
   "cell_type": "markdown",
   "metadata": {},
   "source": [
    "The trainer object also collects a history of validation and training loss that can be visualized after the training is completed. "
   ]
  },
  {
   "cell_type": "code",
   "execution_count": 57,
   "metadata": {},
   "outputs": [
    {
     "data": {
      "image/png": "[encoded data removed]",
      "text/plain": [
       "<Figure size 1000x500 with 1 Axes>"
      ]
     },
     "metadata": {},
     "output_type": "display_data"
    }
   ],
   "source": [
    "# Visualize training history\n",
    "plt.figure(figsize=(10, 5))\n",
    "plt.plot(trainer.history[0][\"val_loss\"], label=\"Val Loss\")\n",
    "plt.plot(trainer.history[0][\"train_loss\"], label=\"Train Loss\")\n",
    "\n",
    "plt.title(\"Training and Validation Loss\")\n",
    "plt.xlabel(\"Epoch\")\n",
    "plt.ylabel(\"Loss\")\n",
    "plt.legend()\n",
    "\n",
    "plt.show()"
   ]
  },
  {
   "cell_type": "markdown",
   "metadata": {},
   "source": [
    "## 7. 🔗 Pipeline Integration"
   ]
  },
  {
   "cell_type": "markdown",
   "metadata": {},
   "source": [
    "The ``Pipeline`` class provides a powerful way to chain together all the steps of your machine learning workflow in a single, cohesive structure. This approach ensures reproducibility, reduces boilerplate code, and makes it easier to experiment with different configurations.\n",
    "\n",
    "The Pipeline in 3WToolkit v2.0.0 follows a sequential execution model where each step processes the data and passes it to the next stage. The pipeline automatically handles data transformations between steps, ensuring compatibility and proper data flow."
   ]
  },
  {
   "cell_type": "markdown",
   "metadata": {},
   "source": [
    "________"
   ]
  },
  {
   "cell_type": "markdown",
   "metadata": {},
   "source": [
    "**Pipeline Execution Flow:**"
   ]
  },
  {
   "cell_type": "markdown",
   "metadata": {},
   "source": [
    "```markdown\n",
    "Dataset Loading → Preprocessing → Feature Extraction → Model Training → Model Assessment\n",
    "```"
   ]
  },
  {
   "cell_type": "markdown",
   "metadata": {},
   "source": [
    "Each component in the pipeline is configured using its respective configuration class, which encapsulates all the parameters needed for that specific step."
   ]
  },
  {
   "cell_type": "markdown",
   "metadata": {},
   "source": [
    "______"
   ]
  },
  {
   "cell_type": "markdown",
   "metadata": {},
   "source": [
    "### 7.1. Creating a Basic Pipeline"
   ]
  },
  {
   "cell_type": "markdown",
   "metadata": {},
   "source": [
    "To create a pipeline, you'll need to import the necessary configuration classes and the `Pipeline` class itself:"
   ]
  },
  {
   "cell_type": "code",
   "execution_count": 58,
   "metadata": {},
   "outputs": [],
   "source": [
    "import matplotlib.pyplot as plt\n",
    "\n",
    "from ThreeWToolkit.pipeline import Pipeline\n",
    "from ThreeWToolkit.core.base_dataset import ParquetDatasetConfig\n",
    "from ThreeWToolkit.core.base_preprocessing import (\n",
    "    ImputeMissingConfig,\n",
    "    NormalizeConfig,\n",
    "    WindowingConfig,\n",
    ")\n",
    "from ThreeWToolkit.core.base_assessment import ModelAssessmentConfig\n",
    "from ThreeWToolkit.core.enums import TaskType\n",
    "from ThreeWToolkit.models.mlp import MLPConfig\n",
    "from ThreeWToolkit.trainer.trainer import TrainerConfig"
   ]
  },
  {
   "cell_type": "markdown",
   "metadata": {},
   "source": [
    "Now let's create a simple pipeline:"
   ]
  },
  {
   "cell_type": "code",
   "execution_count": 59,
   "metadata": {},
   "outputs": [
    {
     "name": "stdout",
     "output_type": "stream",
     "text": [
      "[ParquetDataset] Dataset found at ../../dataset\n",
      "[ParquetDataset] Validating dataset integrity...\n",
      "[ParquetDataset] Dataset integrity check passed!\n",
      ">> ['T-JUS-CKP', 'T-MON-CKP']\n"
     ]
    },
    {
     "data": {
      "application/vnd.jupyter.widget-view+json": {
       "model_id": "29eeb1ab71ea4a6fb59b27f3f96cdcf1",
       "version_major": 2,
       "version_minor": 0
      },
      "text/plain": [
       "[Pipeline] Processing batches:   0%|          | 0/722 [00:00<?, ?file/s]"
      ]
     },
     "metadata": {},
     "output_type": "display_data"
    },
    {
     "data": {
      "application/vnd.jupyter.widget-view+json": {
       "model_id": "f5ad50a674084596a00d6cb3b44330dd",
       "version_major": 2,
       "version_minor": 0
      },
      "text/plain": [
       "[Pipeline] Preprocessing steps:   0%|          | 0/3 [00:00<?, ?step/s]"
      ]
     },
     "metadata": {},
     "output_type": "display_data"
    },
    {
     "data": {
      "application/vnd.jupyter.widget-view+json": {
       "model_id": "13f75f07f89640128c44a5b7dd6e400e",
       "version_major": 2,
       "version_minor": 0
      },
      "text/plain": [
       "[Pipeline] Preprocessing steps:   0%|          | 0/3 [00:00<?, ?step/s]"
      ]
     },
     "metadata": {},
     "output_type": "display_data"
    },
    {
     "data": {
      "application/vnd.jupyter.widget-view+json": {
       "model_id": "fd4a062d7a9f40fbbfd4fe47f78ab380",
       "version_major": 2,
       "version_minor": 0
      },
      "text/plain": [
       "[Pipeline] Preprocessing steps:   0%|          | 0/3 [00:00<?, ?step/s]"
      ]
     },
     "metadata": {},
     "output_type": "display_data"
    },
    {
     "data": {
      "application/vnd.jupyter.widget-view+json": {
       "model_id": "c5dcac11fef648adb11095bec33f20fa",
       "version_major": 2,
       "version_minor": 0
      },
      "text/plain": [
       "[Pipeline] Preprocessing steps:   0%|          | 0/3 [00:00<?, ?step/s]"
      ]
     },
     "metadata": {},
     "output_type": "display_data"
    },
    {
     "data": {
      "application/vnd.jupyter.widget-view+json": {
       "model_id": "ffd97657aef5424eab9a1f7fe8a0ed8d",
       "version_major": 2,
       "version_minor": 0
      },
      "text/plain": [
       "[Pipeline] Preprocessing steps:   0%|          | 0/3 [00:00<?, ?step/s]"
      ]
     },
     "metadata": {},
     "output_type": "display_data"
    },
    {
     "data": {
      "application/vnd.jupyter.widget-view+json": {
       "model_id": "bc9e48318f46476193e63f54fa2a9209",
       "version_major": 2,
       "version_minor": 0
      },
      "text/plain": [
       "[Pipeline] Preprocessing steps:   0%|          | 0/3 [00:00<?, ?step/s]"
      ]
     },
     "metadata": {},
     "output_type": "display_data"
    },
    {
     "data": {
      "application/vnd.jupyter.widget-view+json": {
       "model_id": "3a114f271eb345fc97809c1460f2f598",
       "version_major": 2,
       "version_minor": 0
      },
      "text/plain": [
       "[Pipeline] Preprocessing steps:   0%|          | 0/3 [00:00<?, ?step/s]"
      ]
     },
     "metadata": {},
     "output_type": "display_data"
    },
    {
     "data": {
      "application/vnd.jupyter.widget-view+json": {
       "model_id": "34a7fc9fd0064ca497322e99b82ec8a6",
       "version_major": 2,
       "version_minor": 0
      },
      "text/plain": [
       "[Pipeline] Preprocessing steps:   0%|          | 0/3 [00:00<?, ?step/s]"
      ]
     },
     "metadata": {},
     "output_type": "display_data"
    },
    {
     "data": {
      "application/vnd.jupyter.widget-view+json": {
       "model_id": "4b78d7276bfd4919beeb7d9a0bb6ff7d",
       "version_major": 2,
       "version_minor": 0
      },
      "text/plain": [
       "[Pipeline] Preprocessing steps:   0%|          | 0/3 [00:00<?, ?step/s]"
      ]
     },
     "metadata": {},
     "output_type": "display_data"
    },
    {
     "data": {
      "application/vnd.jupyter.widget-view+json": {
       "model_id": "39b68da3483947d0a123ee3c8743b732",
       "version_major": 2,
       "version_minor": 0
      },
      "text/plain": [
       "[Pipeline] Preprocessing steps:   0%|          | 0/3 [00:00<?, ?step/s]"
      ]
     },
     "metadata": {},
     "output_type": "display_data"
    },
    {
     "data": {
      "application/vnd.jupyter.widget-view+json": {
       "model_id": "25bbd6284c754aa4b29384aad373ccbc",
       "version_major": 2,
       "version_minor": 0
      },
      "text/plain": [
       "[Pipeline] Preprocessing steps:   0%|          | 0/3 [00:00<?, ?step/s]"
      ]
     },
     "metadata": {},
     "output_type": "display_data"
    },
    {
     "data": {
      "application/vnd.jupyter.widget-view+json": {
       "model_id": "0070466e18a4439d96f03fa12f9453cd",
       "version_major": 2,
       "version_minor": 0
      },
      "text/plain": [
       "[Pipeline] Preprocessing steps:   0%|          | 0/3 [00:00<?, ?step/s]"
      ]
     },
     "metadata": {},
     "output_type": "display_data"
    },
    {
     "data": {
      "application/vnd.jupyter.widget-view+json": {
       "model_id": "5f08a377929d40fb9a3f465b3e15b37d",
       "version_major": 2,
       "version_minor": 0
      },
      "text/plain": [
       "[Pipeline] Preprocessing steps:   0%|          | 0/3 [00:00<?, ?step/s]"
      ]
     },
     "metadata": {},
     "output_type": "display_data"
    },
    {
     "data": {
      "application/vnd.jupyter.widget-view+json": {
       "model_id": "2293e2dffde34c758f058ea50172ebc9",
       "version_major": 2,
       "version_minor": 0
      },
      "text/plain": [
       "[Pipeline] Preprocessing steps:   0%|          | 0/3 [00:00<?, ?step/s]"
      ]
     },
     "metadata": {},
     "output_type": "display_data"
    },
    {
     "data": {
      "application/vnd.jupyter.widget-view+json": {
       "model_id": "8b68429000e146f2b6ba6d84fb9c4a57",
       "version_major": 2,
       "version_minor": 0
      },
      "text/plain": [
       "[Pipeline] Preprocessing steps:   0%|          | 0/3 [00:00<?, ?step/s]"
      ]
     },
     "metadata": {},
     "output_type": "display_data"
    },
    {
     "data": {
      "application/vnd.jupyter.widget-view+json": {
       "model_id": "1edf547724294c3bae1ae5ccf4f05d7a",
       "version_major": 2,
       "version_minor": 0
      },
      "text/plain": [
       "[Pipeline] Preprocessing steps:   0%|          | 0/3 [00:00<?, ?step/s]"
      ]
     },
     "metadata": {},
     "output_type": "display_data"
    },
    {
     "data": {
      "application/vnd.jupyter.widget-view+json": {
       "model_id": "c69d22e117a64a21aed09b3b8a77d494",
       "version_major": 2,
       "version_minor": 0
      },
      "text/plain": [
       "[Pipeline] Preprocessing steps:   0%|          | 0/3 [00:00<?, ?step/s]"
      ]
     },
     "metadata": {},
     "output_type": "display_data"
    },
    {
     "data": {
      "application/vnd.jupyter.widget-view+json": {
       "model_id": "4d86fc9068d14e7680cb25442f7b5e85",
       "version_major": 2,
       "version_minor": 0
      },
      "text/plain": [
       "[Pipeline] Preprocessing steps:   0%|          | 0/3 [00:00<?, ?step/s]"
      ]
     },
     "metadata": {},
     "output_type": "display_data"
    },
    {
     "data": {
      "application/vnd.jupyter.widget-view+json": {
       "model_id": "0ea2eda3d15a4cd8bf144e1c983bda89",
       "version_major": 2,
       "version_minor": 0
      },
      "text/plain": [
       "[Pipeline] Preprocessing steps:   0%|          | 0/3 [00:00<?, ?step/s]"
      ]
     },
     "metadata": {},
     "output_type": "display_data"
    },
    {
     "data": {
      "application/vnd.jupyter.widget-view+json": {
       "model_id": "3f719ea345cf4050bad3938e5c5aca7b",
       "version_major": 2,
       "version_minor": 0
      },
      "text/plain": [
       "[Pipeline] Preprocessing steps:   0%|          | 0/3 [00:00<?, ?step/s]"
      ]
     },
     "metadata": {},
     "output_type": "display_data"
    },
    {
     "data": {
      "application/vnd.jupyter.widget-view+json": {
       "model_id": "06222c52fe5449389bdc2e747335124a",
       "version_major": 2,
       "version_minor": 0
      },
      "text/plain": [
       "[Pipeline] Preprocessing steps:   0%|          | 0/3 [00:00<?, ?step/s]"
      ]
     },
     "metadata": {},
     "output_type": "display_data"
    },
    {
     "data": {
      "application/vnd.jupyter.widget-view+json": {
       "model_id": "e717b6266b2c4f298d604a0289110269",
       "version_major": 2,
       "version_minor": 0
      },
      "text/plain": [
       "[Pipeline] Preprocessing steps:   0%|          | 0/3 [00:00<?, ?step/s]"
      ]
     },
     "metadata": {},
     "output_type": "display_data"
    },
    {
     "data": {
      "application/vnd.jupyter.widget-view+json": {
       "model_id": "5f00d18cf02d40219def058e9c28e428",
       "version_major": 2,
       "version_minor": 0
      },
      "text/plain": [
       "[Pipeline] Preprocessing steps:   0%|          | 0/3 [00:00<?, ?step/s]"
      ]
     },
     "metadata": {},
     "output_type": "display_data"
    },
    {
     "data": {
      "application/vnd.jupyter.widget-view+json": {
       "model_id": "595dd92e45c7401d9a55ed21071242a8",
       "version_major": 2,
       "version_minor": 0
      },
      "text/plain": [
       "[Pipeline] Preprocessing steps:   0%|          | 0/3 [00:00<?, ?step/s]"
      ]
     },
     "metadata": {},
     "output_type": "display_data"
    },
    {
     "data": {
      "application/vnd.jupyter.widget-view+json": {
       "model_id": "c6f6ab4cd16e4a72a8f723d99e831cae",
       "version_major": 2,
       "version_minor": 0
      },
      "text/plain": [
       "[Pipeline] Preprocessing steps:   0%|          | 0/3 [00:00<?, ?step/s]"
      ]
     },
     "metadata": {},
     "output_type": "display_data"
    },
    {
     "data": {
      "application/vnd.jupyter.widget-view+json": {
       "model_id": "06106a64211c41bd8e5f01eb0ba3716c",
       "version_major": 2,
       "version_minor": 0
      },
      "text/plain": [
       "[Pipeline] Preprocessing steps:   0%|          | 0/3 [00:00<?, ?step/s]"
      ]
     },
     "metadata": {},
     "output_type": "display_data"
    },
    {
     "data": {
      "application/vnd.jupyter.widget-view+json": {
       "model_id": "97e5b8d8faaa47dbbe6e23b686c9366a",
       "version_major": 2,
       "version_minor": 0
      },
      "text/plain": [
       "[Pipeline] Preprocessing steps:   0%|          | 0/3 [00:00<?, ?step/s]"
      ]
     },
     "metadata": {},
     "output_type": "display_data"
    },
    {
     "data": {
      "application/vnd.jupyter.widget-view+json": {
       "model_id": "fa3666349b134398bad7ed509eea4394",
       "version_major": 2,
       "version_minor": 0
      },
      "text/plain": [
       "[Pipeline] Preprocessing steps:   0%|          | 0/3 [00:00<?, ?step/s]"
      ]
     },
     "metadata": {},
     "output_type": "display_data"
    },
    {
     "data": {
      "application/vnd.jupyter.widget-view+json": {
       "model_id": "db3e776395874145a5a6a8e69d240767",
       "version_major": 2,
       "version_minor": 0
      },
      "text/plain": [
       "[Pipeline] Preprocessing steps:   0%|          | 0/3 [00:00<?, ?step/s]"
      ]
     },
     "metadata": {},
     "output_type": "display_data"
    },
    {
     "data": {
      "application/vnd.jupyter.widget-view+json": {
       "model_id": "83f8f5dea5ce4ae9a8b971835fd34e13",
       "version_major": 2,
       "version_minor": 0
      },
      "text/plain": [
       "[Pipeline] Preprocessing steps:   0%|          | 0/3 [00:00<?, ?step/s]"
      ]
     },
     "metadata": {},
     "output_type": "display_data"
    },
    {
     "data": {
      "application/vnd.jupyter.widget-view+json": {
       "model_id": "eb82f5b8df7f409096274b92bf3b47ff",
       "version_major": 2,
       "version_minor": 0
      },
      "text/plain": [
       "[Pipeline] Preprocessing steps:   0%|          | 0/3 [00:00<?, ?step/s]"
      ]
     },
     "metadata": {},
     "output_type": "display_data"
    },
    {
     "data": {
      "application/vnd.jupyter.widget-view+json": {
       "model_id": "43b90f688c3842f7ba7c262522d0495f",
       "version_major": 2,
       "version_minor": 0
      },
      "text/plain": [
       "[Pipeline] Preprocessing steps:   0%|          | 0/3 [00:00<?, ?step/s]"
      ]
     },
     "metadata": {},
     "output_type": "display_data"
    },
    {
     "data": {
      "application/vnd.jupyter.widget-view+json": {
       "model_id": "e04ada3d261748d8a2618334302485de",
       "version_major": 2,
       "version_minor": 0
      },
      "text/plain": [
       "[Pipeline] Preprocessing steps:   0%|          | 0/3 [00:00<?, ?step/s]"
      ]
     },
     "metadata": {},
     "output_type": "display_data"
    },
    {
     "data": {
      "application/vnd.jupyter.widget-view+json": {
       "model_id": "7aa930901166402ba074e39add25e1ff",
       "version_major": 2,
       "version_minor": 0
      },
      "text/plain": [
       "[Pipeline] Preprocessing steps:   0%|          | 0/3 [00:00<?, ?step/s]"
      ]
     },
     "metadata": {},
     "output_type": "display_data"
    },
    {
     "data": {
      "application/vnd.jupyter.widget-view+json": {
       "model_id": "b1c91fff963c4c959ff2847ed4752d64",
       "version_major": 2,
       "version_minor": 0
      },
      "text/plain": [
       "[Pipeline] Preprocessing steps:   0%|          | 0/3 [00:00<?, ?step/s]"
      ]
     },
     "metadata": {},
     "output_type": "display_data"
    },
    {
     "data": {
      "application/vnd.jupyter.widget-view+json": {
       "model_id": "4ecc354ac5384ca6ae33bd60042427a1",
       "version_major": 2,
       "version_minor": 0
      },
      "text/plain": [
       "[Pipeline] Preprocessing steps:   0%|          | 0/3 [00:00<?, ?step/s]"
      ]
     },
     "metadata": {},
     "output_type": "display_data"
    },
    {
     "data": {
      "application/vnd.jupyter.widget-view+json": {
       "model_id": "4f723977e3734d7a96fd9d161fd7c0ab",
       "version_major": 2,
       "version_minor": 0
      },
      "text/plain": [
       "[Pipeline] Preprocessing steps:   0%|          | 0/3 [00:00<?, ?step/s]"
      ]
     },
     "metadata": {},
     "output_type": "display_data"
    },
    {
     "data": {
      "application/vnd.jupyter.widget-view+json": {
       "model_id": "4d166933301342caab2eb1936da33ef8",
       "version_major": 2,
       "version_minor": 0
      },
      "text/plain": [
       "[Pipeline] Preprocessing steps:   0%|          | 0/3 [00:00<?, ?step/s]"
      ]
     },
     "metadata": {},
     "output_type": "display_data"
    },
    {
     "data": {
      "application/vnd.jupyter.widget-view+json": {
       "model_id": "093a010998a2471f88653ef447f31e17",
       "version_major": 2,
       "version_minor": 0
      },
      "text/plain": [
       "[Pipeline] Preprocessing steps:   0%|          | 0/3 [00:00<?, ?step/s]"
      ]
     },
     "metadata": {},
     "output_type": "display_data"
    },
    {
     "data": {
      "application/vnd.jupyter.widget-view+json": {
       "model_id": "47bb20fa4cf64a6d8464d2cc64e943dd",
       "version_major": 2,
       "version_minor": 0
      },
      "text/plain": [
       "[Pipeline] Preprocessing steps:   0%|          | 0/3 [00:00<?, ?step/s]"
      ]
     },
     "metadata": {},
     "output_type": "display_data"
    },
    {
     "data": {
      "application/vnd.jupyter.widget-view+json": {
       "model_id": "d548a5637d494ff292a3a1ac2543600b",
       "version_major": 2,
       "version_minor": 0
      },
      "text/plain": [
       "[Pipeline] Preprocessing steps:   0%|          | 0/3 [00:00<?, ?step/s]"
      ]
     },
     "metadata": {},
     "output_type": "display_data"
    },
    {
     "data": {
      "application/vnd.jupyter.widget-view+json": {
       "model_id": "78b4aec70b7f426db7d546a141fcbee0",
       "version_major": 2,
       "version_minor": 0
      },
      "text/plain": [
       "[Pipeline] Preprocessing steps:   0%|          | 0/3 [00:00<?, ?step/s]"
      ]
     },
     "metadata": {},
     "output_type": "display_data"
    },
    {
     "data": {
      "application/vnd.jupyter.widget-view+json": {
       "model_id": "71cfa7793b9448a6956bc727d5bfded6",
       "version_major": 2,
       "version_minor": 0
      },
      "text/plain": [
       "[Pipeline] Preprocessing steps:   0%|          | 0/3 [00:00<?, ?step/s]"
      ]
     },
     "metadata": {},
     "output_type": "display_data"
    },
    {
     "data": {
      "application/vnd.jupyter.widget-view+json": {
       "model_id": "36011ae3896043388b557c07ff8589d0",
       "version_major": 2,
       "version_minor": 0
      },
      "text/plain": [
       "[Pipeline] Preprocessing steps:   0%|          | 0/3 [00:00<?, ?step/s]"
      ]
     },
     "metadata": {},
     "output_type": "display_data"
    },
    {
     "data": {
      "application/vnd.jupyter.widget-view+json": {
       "model_id": "683b71b5a28e4b0c8ae4b68eb73abee3",
       "version_major": 2,
       "version_minor": 0
      },
      "text/plain": [
       "[Pipeline] Preprocessing steps:   0%|          | 0/3 [00:00<?, ?step/s]"
      ]
     },
     "metadata": {},
     "output_type": "display_data"
    },
    {
     "data": {
      "application/vnd.jupyter.widget-view+json": {
       "model_id": "63dd8202ebd84c1f9183f2063255eb3c",
       "version_major": 2,
       "version_minor": 0
      },
      "text/plain": [
       "[Pipeline] Preprocessing steps:   0%|          | 0/3 [00:00<?, ?step/s]"
      ]
     },
     "metadata": {},
     "output_type": "display_data"
    },
    {
     "data": {
      "application/vnd.jupyter.widget-view+json": {
       "model_id": "87936fe3bca440faacbc616b0814851a",
       "version_major": 2,
       "version_minor": 0
      },
      "text/plain": [
       "[Pipeline] Preprocessing steps:   0%|          | 0/3 [00:00<?, ?step/s]"
      ]
     },
     "metadata": {},
     "output_type": "display_data"
    },
    {
     "data": {
      "application/vnd.jupyter.widget-view+json": {
       "model_id": "2b054d61093d4525ac06049d057ed84c",
       "version_major": 2,
       "version_minor": 0
      },
      "text/plain": [
       "[Pipeline] Preprocessing steps:   0%|          | 0/3 [00:00<?, ?step/s]"
      ]
     },
     "metadata": {},
     "output_type": "display_data"
    },
    {
     "data": {
      "application/vnd.jupyter.widget-view+json": {
       "model_id": "81b41bd9565041e193967e685f126402",
       "version_major": 2,
       "version_minor": 0
      },
      "text/plain": [
       "[Pipeline] Preprocessing steps:   0%|          | 0/3 [00:00<?, ?step/s]"
      ]
     },
     "metadata": {},
     "output_type": "display_data"
    },
    {
     "data": {
      "application/vnd.jupyter.widget-view+json": {
       "model_id": "408fe87985bc47dbac5c9925228ff891",
       "version_major": 2,
       "version_minor": 0
      },
      "text/plain": [
       "[Pipeline] Preprocessing steps:   0%|          | 0/3 [00:00<?, ?step/s]"
      ]
     },
     "metadata": {},
     "output_type": "display_data"
    },
    {
     "data": {
      "application/vnd.jupyter.widget-view+json": {
       "model_id": "052c0b5c8397490794c53d19e656055e",
       "version_major": 2,
       "version_minor": 0
      },
      "text/plain": [
       "[Pipeline] Preprocessing steps:   0%|          | 0/3 [00:00<?, ?step/s]"
      ]
     },
     "metadata": {},
     "output_type": "display_data"
    },
    {
     "data": {
      "application/vnd.jupyter.widget-view+json": {
       "model_id": "272b3bd835d24cf4aea5bf3625ccac36",
       "version_major": 2,
       "version_minor": 0
      },
      "text/plain": [
       "[Pipeline] Preprocessing steps:   0%|          | 0/3 [00:00<?, ?step/s]"
      ]
     },
     "metadata": {},
     "output_type": "display_data"
    },
    {
     "data": {
      "application/vnd.jupyter.widget-view+json": {
       "model_id": "9862a61e484c49d79619753ed1dc245b",
       "version_major": 2,
       "version_minor": 0
      },
      "text/plain": [
       "[Pipeline] Preprocessing steps:   0%|          | 0/3 [00:00<?, ?step/s]"
      ]
     },
     "metadata": {},
     "output_type": "display_data"
    },
    {
     "data": {
      "application/vnd.jupyter.widget-view+json": {
       "model_id": "26b38d68cc0d48619ebe0be66867e5da",
       "version_major": 2,
       "version_minor": 0
      },
      "text/plain": [
       "[Pipeline] Preprocessing steps:   0%|          | 0/3 [00:00<?, ?step/s]"
      ]
     },
     "metadata": {},
     "output_type": "display_data"
    },
    {
     "data": {
      "application/vnd.jupyter.widget-view+json": {
       "model_id": "1116bf86e4bd42709b8e48ea778fc1f6",
       "version_major": 2,
       "version_minor": 0
      },
      "text/plain": [
       "[Pipeline] Preprocessing steps:   0%|          | 0/3 [00:00<?, ?step/s]"
      ]
     },
     "metadata": {},
     "output_type": "display_data"
    },
    {
     "data": {
      "application/vnd.jupyter.widget-view+json": {
       "model_id": "2e0c6dbe9135486c976c3718d630d675",
       "version_major": 2,
       "version_minor": 0
      },
      "text/plain": [
       "[Pipeline] Preprocessing steps:   0%|          | 0/3 [00:00<?, ?step/s]"
      ]
     },
     "metadata": {},
     "output_type": "display_data"
    },
    {
     "data": {
      "application/vnd.jupyter.widget-view+json": {
       "model_id": "97a0ff20a3cb41928255f749a3100d6d",
       "version_major": 2,
       "version_minor": 0
      },
      "text/plain": [
       "[Pipeline] Preprocessing steps:   0%|          | 0/3 [00:00<?, ?step/s]"
      ]
     },
     "metadata": {},
     "output_type": "display_data"
    },
    {
     "data": {
      "application/vnd.jupyter.widget-view+json": {
       "model_id": "1deb5970c34f4c5b9e08a88a34fa4b31",
       "version_major": 2,
       "version_minor": 0
      },
      "text/plain": [
       "[Pipeline] Preprocessing steps:   0%|          | 0/3 [00:00<?, ?step/s]"
      ]
     },
     "metadata": {},
     "output_type": "display_data"
    },
    {
     "data": {
      "application/vnd.jupyter.widget-view+json": {
       "model_id": "acc858ed6cdc4ab19308281d2bedccb1",
       "version_major": 2,
       "version_minor": 0
      },
      "text/plain": [
       "[Pipeline] Preprocessing steps:   0%|          | 0/3 [00:00<?, ?step/s]"
      ]
     },
     "metadata": {},
     "output_type": "display_data"
    },
    {
     "data": {
      "application/vnd.jupyter.widget-view+json": {
       "model_id": "25a9d56ce6454b3e96111a27b2a01745",
       "version_major": 2,
       "version_minor": 0
      },
      "text/plain": [
       "[Pipeline] Preprocessing steps:   0%|          | 0/3 [00:00<?, ?step/s]"
      ]
     },
     "metadata": {},
     "output_type": "display_data"
    },
    {
     "data": {
      "application/vnd.jupyter.widget-view+json": {
       "model_id": "17d5793efe6f45d09f3729305847a2f2",
       "version_major": 2,
       "version_minor": 0
      },
      "text/plain": [
       "[Pipeline] Preprocessing steps:   0%|          | 0/3 [00:00<?, ?step/s]"
      ]
     },
     "metadata": {},
     "output_type": "display_data"
    },
    {
     "data": {
      "application/vnd.jupyter.widget-view+json": {
       "model_id": "1c77c23128e6497f92b2ad4c7cc1d41d",
       "version_major": 2,
       "version_minor": 0
      },
      "text/plain": [
       "[Pipeline] Preprocessing steps:   0%|          | 0/3 [00:00<?, ?step/s]"
      ]
     },
     "metadata": {},
     "output_type": "display_data"
    },
    {
     "data": {
      "application/vnd.jupyter.widget-view+json": {
       "model_id": "c4161fe54c6c48849f33a3e2920977af",
       "version_major": 2,
       "version_minor": 0
      },
      "text/plain": [
       "[Pipeline] Preprocessing steps:   0%|          | 0/3 [00:00<?, ?step/s]"
      ]
     },
     "metadata": {},
     "output_type": "display_data"
    },
    {
     "data": {
      "application/vnd.jupyter.widget-view+json": {
       "model_id": "8ae825f14ac0482192126795dd358ff5",
       "version_major": 2,
       "version_minor": 0
      },
      "text/plain": [
       "[Pipeline] Preprocessing steps:   0%|          | 0/3 [00:00<?, ?step/s]"
      ]
     },
     "metadata": {},
     "output_type": "display_data"
    },
    {
     "data": {
      "application/vnd.jupyter.widget-view+json": {
       "model_id": "b09452ba826a4060ad8cc96a503b4e8d",
       "version_major": 2,
       "version_minor": 0
      },
      "text/plain": [
       "[Pipeline] Preprocessing steps:   0%|          | 0/3 [00:00<?, ?step/s]"
      ]
     },
     "metadata": {},
     "output_type": "display_data"
    },
    {
     "data": {
      "application/vnd.jupyter.widget-view+json": {
       "model_id": "9eb745eb30ac40e9bed3e124d9b2ebe0",
       "version_major": 2,
       "version_minor": 0
      },
      "text/plain": [
       "[Pipeline] Preprocessing steps:   0%|          | 0/3 [00:00<?, ?step/s]"
      ]
     },
     "metadata": {},
     "output_type": "display_data"
    },
    {
     "data": {
      "application/vnd.jupyter.widget-view+json": {
       "model_id": "5bf7c23806cc49cba514dc74c2214604",
       "version_major": 2,
       "version_minor": 0
      },
      "text/plain": [
       "[Pipeline] Preprocessing steps:   0%|          | 0/3 [00:00<?, ?step/s]"
      ]
     },
     "metadata": {},
     "output_type": "display_data"
    },
    {
     "data": {
      "application/vnd.jupyter.widget-view+json": {
       "model_id": "ed232fb1684a4fb8b2cdcdaba6da378d",
       "version_major": 2,
       "version_minor": 0
      },
      "text/plain": [
       "[Pipeline] Preprocessing steps:   0%|          | 0/3 [00:00<?, ?step/s]"
      ]
     },
     "metadata": {},
     "output_type": "display_data"
    },
    {
     "data": {
      "application/vnd.jupyter.widget-view+json": {
       "model_id": "92cd7bc60b2e4eb2bbf4bc046ac11496",
       "version_major": 2,
       "version_minor": 0
      },
      "text/plain": [
       "[Pipeline] Preprocessing steps:   0%|          | 0/3 [00:00<?, ?step/s]"
      ]
     },
     "metadata": {},
     "output_type": "display_data"
    },
    {
     "data": {
      "application/vnd.jupyter.widget-view+json": {
       "model_id": "9b34eda1332147a1a742bd724aad63ad",
       "version_major": 2,
       "version_minor": 0
      },
      "text/plain": [
       "[Pipeline] Preprocessing steps:   0%|          | 0/3 [00:00<?, ?step/s]"
      ]
     },
     "metadata": {},
     "output_type": "display_data"
    },
    {
     "data": {
      "application/vnd.jupyter.widget-view+json": {
       "model_id": "67f8797d81df4c87a84dbe0c3caca0fe",
       "version_major": 2,
       "version_minor": 0
      },
      "text/plain": [
       "[Pipeline] Preprocessing steps:   0%|          | 0/3 [00:00<?, ?step/s]"
      ]
     },
     "metadata": {},
     "output_type": "display_data"
    },
    {
     "data": {
      "application/vnd.jupyter.widget-view+json": {
       "model_id": "84c3c9e7966945d68eeaff3ee69240eb",
       "version_major": 2,
       "version_minor": 0
      },
      "text/plain": [
       "[Pipeline] Preprocessing steps:   0%|          | 0/3 [00:00<?, ?step/s]"
      ]
     },
     "metadata": {},
     "output_type": "display_data"
    },
    {
     "data": {
      "application/vnd.jupyter.widget-view+json": {
       "model_id": "2af03e7c9a754bd5b085f0762838989e",
       "version_major": 2,
       "version_minor": 0
      },
      "text/plain": [
       "[Pipeline] Preprocessing steps:   0%|          | 0/3 [00:00<?, ?step/s]"
      ]
     },
     "metadata": {},
     "output_type": "display_data"
    },
    {
     "data": {
      "application/vnd.jupyter.widget-view+json": {
       "model_id": "a8465c2e043147a9ac731f53943a2c9f",
       "version_major": 2,
       "version_minor": 0
      },
      "text/plain": [
       "[Pipeline] Training:   0%|          | 0/20 [00:00<?, ?epoch/s]"
      ]
     },
     "metadata": {},
     "output_type": "display_data"
    },
    {
     "name": "stdout",
     "output_type": "stream",
     "text": [
      "Results exported to /home/rafael/pos-doc/repos/3W/toolkit/output\n",
      "Model Assessment Summary\n",
      "========================\n",
      "Model: MLP\n",
      "Task Type: TaskType.CLASSIFICATION\n",
      "Timestamp: 2025-10-15T14:53:05.017599\n",
      "\n",
      "Metrics:\n",
      "  balanced_accuracy: 0.8768\n",
      "  precision: 0.8779\n",
      "  recall: 0.8716\n",
      "  f1: 0.8722\n"
     ]
    }
   ],
   "source": [
    "# Define the model configuration\n",
    "config_model = MLPConfig(\n",
    "    hidden_sizes=(64, 32),\n",
    "    output_size=2,\n",
    "    random_seed=42,\n",
    "    activation_function=\"relu\",\n",
    "    regularization=None,\n",
    ")\n",
    "\n",
    "# Create the pipeline with sequential steps\n",
    "pipeline = Pipeline(\n",
    "    [\n",
    "        # Step 1: Load Dataset\n",
    "        ParquetDatasetConfig(\n",
    "            path=dataset_path,\n",
    "            split=None,\n",
    "            download=False,\n",
    "            columns=[\"T-JUS-CKP\", \"T-MON-CKP\"],\n",
    "            target_column=\"class\",\n",
    "            target_class=[0, 1],\n",
    "        ),\n",
    "        # Step 2: Preprocessing\n",
    "        ImputeMissingConfig(strategy=\"median\", columns=[\"T-JUS-CKP\"]),\n",
    "        NormalizeConfig(norm=\"l2\"),\n",
    "        WindowingConfig(window_size=100),\n",
    "        # Step 3: Model Training\n",
    "        TrainerConfig(\n",
    "            optimizer=\"adam\",\n",
    "            criterion=\"cross_entropy\",\n",
    "            batch_size=32,\n",
    "            epochs=20,\n",
    "            seed=42,\n",
    "            config_model=config_model,\n",
    "            learning_rate=0.001,\n",
    "            cross_validation=False,\n",
    "            shuffle_train=True,\n",
    "        ),\n",
    "        # Step 4: Model Assessment\n",
    "        ModelAssessmentConfig(\n",
    "            metrics=[\"balanced_accuracy\", \"precision\", \"recall\", \"f1\"],\n",
    "            task_type=TaskType.CLASSIFICATION,\n",
    "            export_results=True,\n",
    "            generate_report=False,\n",
    "        ),\n",
    "    ]\n",
    ")\n",
    "\n",
    "# Execute the entire pipeline\n",
    "pipeline.run()"
   ]
  },
  {
   "cell_type": "code",
   "execution_count": 60,
   "metadata": {},
   "outputs": [
    {
     "data": {
      "text/plain": [
       "<matplotlib.legend.Legend at 0x7cfd281c0410>"
      ]
     },
     "execution_count": 60,
     "metadata": {},
     "output_type": "execute_result"
    },
    {
     "data": {
      "image/png": "[encoded data removed]",
      "text/plain": [
       "<Figure size 1000x500 with 1 Axes>"
      ]
     },
     "metadata": {},
     "output_type": "display_data"
    }
   ],
   "source": [
    "hist = pipeline.step_model_training.history[0]\n",
    "\n",
    "plt.figure(figsize=(10, 5))\n",
    "plt.plot(hist[\"val_loss\"], label=\"Val Loss\")\n",
    "plt.plot(hist[\"train_loss\"], label=\"Train Loss\")\n",
    "plt.title(\"Training and Validation Loss\")\n",
    "plt.xlabel(\"Epoch\")\n",
    "plt.ylabel(\"Loss\")\n",
    "plt.legend()"
   ]
  },
  {
   "cell_type": "markdown",
   "metadata": {},
   "source": [
    "### 7.2. Pipeline Components in Detail"
   ]
  },
  {
   "cell_type": "markdown",
   "metadata": {},
   "source": [
    "**Dataset Configuration**"
   ]
  },
  {
   "cell_type": "markdown",
   "metadata": {},
   "source": [
    "The `ParquetDatasetConfig` is always the first step in your pipeline. It defines how to load and filter your data:"
   ]
  },
  {
   "cell_type": "markdown",
   "metadata": {},
   "source": [
    "<div style=\"font-size:15px\">\n",
    "\n",
    "```python\n",
    "ParquetDatasetConfig(\n",
    "    path=\"./data/raw\",                      # Path to your parquet files\n",
    "    split=None,                             # Train/test split ratio (e.g., 0.8 for 80/20)\n",
    "    download=False,                         # Whether to download the dataset\n",
    "    columns=[\"T-JUS-CKP\", \"T-MON-CKP\"],     # Features to use\n",
    "    target_column=\"class\",                  # Target variable column name\n",
    "    target_class=[0, 1],                    # Classes to include (for binary classification)\n",
    ")"
   ]
  },
  {
   "cell_type": "markdown",
   "metadata": {},
   "source": [
    "**Preprocessing Steps**"
   ]
  },
  {
   "cell_type": "markdown",
   "metadata": {},
   "source": [
    "You can chain multiple preprocessing steps. They will be executed in the order they appear:"
   ]
  },
  {
   "cell_type": "markdown",
   "metadata": {},
   "source": [
    "<div style=\"font-size:15px\">\n",
    "\n",
    "```python\n",
    "# Handle missing values\n",
    "(\n",
    "    ImputeMissingConfig(\n",
    "        strategy=\"median\",  # Options: \"mean\", \"median\", \"forward\", \"backward\"\n",
    "        columns=[\"T-JUS-CKP\"],  # Specific columns to impute\n",
    "    ),\n",
    ")\n",
    "\n",
    "# Normalize the data\n",
    "(\n",
    "    NormalizeConfig(\n",
    "        norm=\"l2\"  # Options: \"l1\", \"l2\", \"max\", \"standard\"\n",
    "    ),\n",
    ")\n",
    "\n",
    "# Create time windows\n",
    "(\n",
    "    WindowingConfig(\n",
    "        window_size=100  # Number of time steps per window\n",
    "    ),\n",
    ")"
   ]
  },
  {
   "cell_type": "markdown",
   "metadata": {},
   "source": [
    "**Feature Extraction (Optional)**"
   ]
  },
  {
   "cell_type": "markdown",
   "metadata": {},
   "source": [
    "**Important:** Only one feature extraction method can be used at a time. Choose the one that best fits your problem:"
   ]
  },
  {
   "cell_type": "markdown",
   "metadata": {},
   "source": [
    "**Option A: Statistical Features**"
   ]
  },
  {
   "cell_type": "markdown",
   "metadata": {},
   "source": [
    "Extracts basic statistical features like mean, standard deviation, min, max, etc.:"
   ]
  },
  {
   "cell_type": "markdown",
   "metadata": {
    "vscode": {
     "languageId": "html"
    }
   },
   "source": [
    "<div style=\"font-size:15px\">\n",
    "\n",
    "```python\n",
    "StatisticalConfig()"
   ]
  },
  {
   "cell_type": "markdown",
   "metadata": {},
   "source": [
    "**Option B: Exponentially Weighted Statistical Features**"
   ]
  },
  {
   "cell_type": "markdown",
   "metadata": {},
   "source": [
    "Extracts statistical features with exponential weighting, giving more importance to recent values:"
   ]
  },
  {
   "cell_type": "markdown",
   "metadata": {},
   "source": [
    "<div style=\"font-size:15px\">\n",
    "\n",
    "```python\n",
    "EWStatisticalConfig(\n",
    "    selected_features=[\"ew_mean\", \"ew_std\", \"ew_skew\"],         # Features to extract\n",
    "    overlap=0.5,                                                # Window overlap (0.5 = 50% overlap)\n",
    "    offset=0,                                                   # Starting offset\n",
    "    decay=0.9,                                                  # Exponential decay factor (higher = more weight on recent values)\n",
    "eps=1e-8,                                                       # Small constant for numerical stability\n",
    ")\n"
   ]
  },
  {
   "cell_type": "markdown",
   "metadata": {},
   "source": [
    "**Option C: Wavelet Features**"
   ]
  },
  {
   "cell_type": "markdown",
   "metadata": {},
   "source": [
    "Extracts features using wavelet decomposition:"
   ]
  },
  {
   "cell_type": "markdown",
   "metadata": {},
   "source": [
    "<div style=\"font-size:15px\">\n",
    "\n",
    "```python\n",
    "WaveletConfig(\n",
    "    level=3,                # Decomposition level\n",
    "    overlap=0.5,            # Window overlap\n",
    "    offset=0,               # Starting offset\n",
    "    wavelet=\"haar\",         # Wavelet type: \"haar\", \"db4\", \"sym4\", etc.\n",
    ")"
   ]
  },
  {
   "cell_type": "markdown",
   "metadata": {},
   "source": [
    "**Model Training**"
   ]
  },
  {
   "cell_type": "markdown",
   "metadata": {},
   "source": [
    "Configure how your model will be trained:"
   ]
  },
  {
   "cell_type": "markdown",
   "metadata": {},
   "source": [
    "<div style=\"font-size:15px\">\n",
    "\n",
    "```python\n",
    "TrainerConfig(\n",
    "    optimizer=\"adam\",                       # Options: \"adam\", \"sgd\", \"rmsprop\"\n",
    "    criterion=\"cross_entropy\",              # Loss function\n",
    "    batch_size=32,                          # Number of samples per batch\n",
    "    epochs=20,                              # Number of training epochs\n",
    "    seed=42,                                # Random seed for reproducibility\n",
    "    config_model=config_model,              # Model architecture configuration\n",
    "    learning_rate=0.001,                    # Learning rate\n",
    "    cross_validation=False,                 # Whether to use cross-validation\n",
    "    shuffle_train=True,                     # Whether to shuffle training data\n",
    ")"
   ]
  },
  {
   "cell_type": "markdown",
   "metadata": {},
   "source": [
    "**Model Assessment**"
   ]
  },
  {
   "cell_type": "markdown",
   "metadata": {},
   "source": [
    "Define how to evaluate your model:"
   ]
  },
  {
   "cell_type": "markdown",
   "metadata": {},
   "source": [
    "<div style=\"font-size:15px\">\n",
    "\n",
    "```python\n",
    "ModelAssessmentConfig(\n",
    "    metrics=[\"balanced_accuracy\", \"precision\", \"recall\", \"f1\"],\n",
    "    task_type=TaskType.CLASSIFICATION,                                  # Or TaskType.REGRESSION\n",
    "    export_results=True,                                                # Save results to file\n",
    "    generate_report=False,                                              # Generate detailed HTML report\n",
    ")"
   ]
  },
  {
   "cell_type": "markdown",
   "metadata": {},
   "source": [
    "### 7.3. Complete Pipeline Examples"
   ]
  },
  {
   "cell_type": "markdown",
   "metadata": {},
   "source": [
    "**Example 1: Pipeline with Statistical Features**"
   ]
  },
  {
   "cell_type": "markdown",
   "metadata": {},
   "source": [
    "<div style=\"font-size:15px\">\n",
    "\n",
    "```python\n",
    "config_model = MLPConfig(\n",
    "    hidden_sizes=(128, 64, 32),\n",
    "    output_size=3,\n",
    "    random_seed=42,\n",
    "    activation_function=\"relu\",\n",
    "    regularization=None,\n",
    ")\n",
    "\n",
    "pipeline = Pipeline(\n",
    "    [\n",
    "        ParquetDatasetConfig(\n",
    "            path=\"./data/raw\",\n",
    "            split=0.8,\n",
    "            download=False,\n",
    "            columns=[\"T-JUS-CKP\", \"T-MON-CKP\", \"P-PDG\"],\n",
    "            target_column=\"class\",\n",
    "            target_class=[0, 1, 2],\n",
    "        ),\n",
    "        ImputeMissingConfig(strategy=\"mean\", columns=None),  # Impute all columns\n",
    "        NormalizeConfig(norm=\"standard\"),\n",
    "        WindowingConfig(window_size=150),\n",
    "        StatisticalConfig(),  # Extract statistical features\n",
    "        TrainerConfig(\n",
    "            optimizer=\"adam\",\n",
    "            criterion=\"cross_entropy\",\n",
    "            batch_size=64,\n",
    "            epochs=50,\n",
    "            seed=42,\n",
    "            config_model=config_model,\n",
    "            learning_rate=0.0005,\n",
    "            cross_validation=True,\n",
    "            shuffle_train=True,\n",
    "        ),\n",
    "        ModelAssessmentConfig(\n",
    "            metrics=[\"balanced_accuracy\", \"precision\", \"recall\", \"f1\"],\n",
    "            task_type=TaskType.CLASSIFICATION,\n",
    "            export_results=True,\n",
    "            generate_report=True,\n",
    "        ),\n",
    "    ]\n",
    ")\n",
    "\n",
    "pipeline.run()"
   ]
  },
  {
   "cell_type": "markdown",
   "metadata": {},
   "source": [
    "**Example 2: Pipeline with Wavelet Features**"
   ]
  },
  {
   "cell_type": "markdown",
   "metadata": {},
   "source": [
    "<div style=\"font-size:15px\">\n",
    "\n",
    "```python\n",
    "config_model = MLPConfig(\n",
    "    hidden_sizes=(64, 32),\n",
    "    output_size=2,\n",
    "    random_seed=11,\n",
    "    activation_function=\"tanh\",\n",
    "    regularization=\"l2\",\n",
    ")\n",
    "\n",
    "pipeline = Pipeline(\n",
    "    [\n",
    "        ParquetDatasetConfig(\n",
    "            path=\"../../data/raw\",\n",
    "            split=0.7,\n",
    "            download=False,\n",
    "            columns=[\"T-JUS-CKP\", \"T-MON-CKP\"],\n",
    "            target_column=\"class\",\n",
    "            target_class=[0, 1],\n",
    "        ),\n",
    "        ImputeMissingConfig(strategy=\"forward\", columns=[\"T-JUS-CKP\", \"T-MON-CKP\"]),\n",
    "        NormalizeConfig(norm=\"l2\"),\n",
    "        WindowingConfig(window_size=200),\n",
    "        WaveletConfig(\n",
    "            level=4,\n",
    "            overlap=0.5,\n",
    "            offset=0,\n",
    "            wavelet=\"db4\",  # Daubechies wavelet\n",
    "        ),\n",
    "        TrainerConfig(\n",
    "            optimizer=\"sgd\",\n",
    "            criterion=\"cross_entropy\",\n",
    "            batch_size=16,\n",
    "            epochs=30,\n",
    "            seed=11,\n",
    "            config_model=config_model,\n",
    "            learning_rate=0.01,\n",
    "            cross_validation=False,\n",
    "            shuffle_train=True,\n",
    "        ),\n",
    "        ModelAssessmentConfig(\n",
    "            metrics=[\"balanced_accuracy\", \"f1\"],\n",
    "            task_type=TaskType.CLASSIFICATION,\n",
    "            export_results=True,\n",
    "            generate_report=False,\n",
    "        ),\n",
    "    ]\n",
    ")\n",
    "\n",
    "pipeline.run()"
   ]
  },
  {
   "cell_type": "markdown",
   "metadata": {},
   "source": [
    "**Example 3: Minimal Pipeline**"
   ]
  },
  {
   "cell_type": "markdown",
   "metadata": {},
   "source": [
    "<div style=\"font-size:15px\">\n",
    "\n",
    "```python\n",
    "config_model = MLPConfig(\n",
    "    hidden_sizes=(32, 16),\n",
    "    output_size=3,\n",
    "    random_seed=42,\n",
    "    activation_function=\"relu\",\n",
    "    regularization=None,\n",
    ")\n",
    "\n",
    "pipeline = Pipeline(\n",
    "    [\n",
    "        ParquetDatasetConfig(\n",
    "            path=\"./data/raw\",\n",
    "            split=None,\n",
    "            download=False,\n",
    "            columns=[\"T-JUS-CKP\", \"T-MON-CKP\"],\n",
    "            target_column=\"class\",\n",
    "            target_class=[0, 1, 2],\n",
    "        ),\n",
    "        TrainerConfig(\n",
    "            optimizer=\"adam\",\n",
    "            criterion=\"cross_entropy\",\n",
    "            batch_size=32,\n",
    "            epochs=20,\n",
    "            seed=42,\n",
    "            config_model=config_model,\n",
    "            learning_rate=0.001,\n",
    "            cross_validation=False,\n",
    "            shuffle_train=True,\n",
    "        ),\n",
    "        ModelAssessmentConfig(\n",
    "            metrics=[\"balanced_accuracy\", \"precision\", \"recall\", \"f1\"],\n",
    "            task_type=TaskType.CLASSIFICATION,\n",
    "            export_results=True,\n",
    "            generate_report=False,\n",
    "        ),\n",
    "    ]\n",
    ")\n",
    "\n",
    "pipeline.run()"
   ]
  },
  {
   "cell_type": "markdown",
   "metadata": {},
   "source": [
    "### 7.4. Best Practices"
   ]
  },
  {
   "cell_type": "markdown",
   "metadata": {},
   "source": [
    "**Choosing Feature Extraction Methods**\n",
    "\n",
    "- **No Feature Extraction:** Use raw windowed data when you have enough data and computational resources. Best for deep learning models.\n",
    "- **Statistical Features:** Fast and interpretable. Good baseline for most problems.\n",
    "- **Exponentially Weighted Statistical Features:** When recent observations are more important than older ones (e.g., trending patterns).\n",
    "- **Wavelet Features:** When you need to capture both time and frequency domain information. Good for signal processing tasks."
   ]
  },
  {
   "cell_type": "markdown",
   "metadata": {},
   "source": [
    "**Reproducibility**\n",
    "\n",
    "Always set random seeds for reproducibility:"
   ]
  },
  {
   "cell_type": "markdown",
   "metadata": {},
   "source": [
    "<div style=\"font-size:15px\">\n",
    "\n",
    "```python\n",
    "config_model = MLPConfig(random_seed=42, ...)\n",
    "TrainerConfig(seed=42, ...)"
   ]
  },
  {
   "cell_type": "markdown",
   "metadata": {},
   "source": [
    "**Experiment Tracking**\n",
    "\n",
    "Enable result export to keep track of your experiments:"
   ]
  },
  {
   "cell_type": "markdown",
   "metadata": {},
   "source": [
    "<div style=\"font-size:15px\">\n",
    "\n",
    "```python\n",
    "ModelAssessmentConfig(\n",
    "    export_results=True,\n",
    "    generate_report=True  # For detailed analysis\n",
    ")"
   ]
  },
  {
   "cell_type": "markdown",
   "metadata": {},
   "source": [
    "**Pipeline Debugging**"
   ]
  },
  {
   "cell_type": "markdown",
   "metadata": {},
   "source": [
    "If your pipeline fails, check each component individually. You can comment out steps to isolate issues:"
   ]
  },
  {
   "cell_type": "markdown",
   "metadata": {},
   "source": [
    "<div style=\"font-size:15px\">\n",
    "\n",
    "```python\n",
    "pipeline = Pipeline([\n",
    "    ParquetDatasetConfig(...),\n",
    "    ImputeMissingConfig(...),\n",
    "    # NormalizeConfig(...),  # Temporarily disabled for debugging\n",
    "    WindowingConfig(...),\n",
    "    # ... rest of the pipeline\n",
    "])"
   ]
  },
  {
   "cell_type": "markdown",
   "metadata": {},
   "source": [
    "After running your pipeline, proceed to analyze the results and iterate on your configuration to improve model performance. Consider experimenting with different feature extraction methods, hyperparameters, and preprocessing strategies."
   ]
  },
  {
   "cell_type": "markdown",
   "metadata": {},
   "source": [
    "__________"
   ]
  },
  {
   "cell_type": "markdown",
   "metadata": {},
   "source": [
    "## 7. Report Generation\n",
    "The `3WToolkit` provides a `ReportGeneration` module to automatically create comprehensive HTML or LaTeX reports from model evaluation results. This feature simplifies the process of documenting, sharing, and communicating model performance in a standardized format.\n",
    "\n",
    "The `ReportGeneration` class takes the results from the `ModelAssessment` step and compiles them into a structured report that includes:\n",
    "\n",
    "- **Model and Dataset Information**: Details about the model, its configuration, and the dataset used.\n",
    "- **Performance Metrics**: A summary of key metrics like accuracy, precision, recall, and F1-score.\n",
    "- **Confusion Matrix**: A visualization of the model's performance for each class.\n",
    "- **Classification Report**: A detailed breakdown of metrics per class.\n",
    "- **Custom Plots**: The ability to include additional plots, such as feature importance or prediction visualizations.\n",
    "\n",
    "In this section, we will demonstrate how to generate a report using the evaluation results obtained in the previous step."
   ]
  },
  {
   "cell_type": "code",
   "execution_count": 61,
   "metadata": {},
   "outputs": [
    {
     "name": "stdout",
     "output_type": "stream",
     "text": [
      "Generating Markdown report from template: 'report_template.html'...\n",
      "DataVisualization: Chart saved to '/home/rafael/pos-doc/repos/3W/toolkit/output/3w_plots/p-tpt.png'\n",
      "DataVisualization: Chart saved to '/home/rafael/pos-doc/repos/3W/toolkit/output/3w_plots/p-mon-ckp_and_p-tpt.png'\n",
      "DataVisualization: Chart saved to '/home/rafael/pos-doc/repos/3W/toolkit/output/3w_plots/correlation_heatmap_of_selected_features.png'\n",
      "Markdown report generated successfully.\n",
      "Generating Beamer report: '3WToolkit Signal Analysis Report'...\n",
      "DataVisualization: Chart saved to '/home/rafael/pos-doc/repos/3W/toolkit/output/3w_plots/p-tpt.png'\n",
      "DataVisualization: Chart saved to '/home/rafael/pos-doc/repos/3W/toolkit/output/3w_plots/p-mon-ckp_and_p-tpt.png'\n",
      "DataVisualization: Chart saved to '/home/rafael/pos-doc/repos/3W/toolkit/output/3w_plots/correlation_heatmap_of_selected_features.png'\n",
      "Beamer document generated successfully.\n",
      "Saving HTML report to '/home/rafael/pos-doc/repos/3W/toolkit/ThreeWToolkit/reports/report-3WToolkit Signal Analysis Report/html/signal_analysis_report.html'...\n",
      "HTML report saved successfully to '/home/rafael/pos-doc/repos/3W/toolkit/ThreeWToolkit/reports/report-3WToolkit Signal Analysis Report/html/signal_analysis_report.html'\n",
      "Warning: Could not copy LaTeX support files: No 'figures' directory found to copy.\n",
      "HTML report saved successfully\n",
      "Saving report to '/home/rafael/pos-doc/repos/3W/toolkit/ThreeWToolkit/reports/report-3WToolkit Signal Analysis Report/latex' folder'...\n",
      "Report saved successfully to 'signal_analysis_report.tex'\n",
      "LaTeX report saved successfully\n"
     ]
    }
   ],
   "source": [
    "from ThreeWToolkit.reports.report_generation import ReportGeneration\n",
    "\n",
    "model = trainer.model\n",
    "\n",
    "X_train, y_train = dfs_final.iloc[:, :-1], dfs_final[\"label\"].astype(int)\n",
    "X_test, y_test = results['X_test'], results['true_values']\n",
    "predictions = results['predictions']\n",
    "\n",
    "calculated_metrics = results['metrics']\n",
    "title = results['config']['report_title']\n",
    "author = results['config']['report_author']\n",
    "\n",
    "plots_config = {\n",
    "    \"PlotSeries\": {\n",
    "        \"series\": sig[\"P-TPT\"],\n",
    "        \"title\": \"P-TPT\",\n",
    "        \"xlabel\": \"Timestamp\",\n",
    "        \"ylabel\": \"P-TPT\",\n",
    "        \"overlay_events\": False,\n",
    "        'color': \"green\"\n",
    "    }, #['P-TPT', 'T-TPT'],\n",
    "    \"PlotMultipleSeries\": {\n",
    "        \"series_list\": [sig[['P-MON-CKP']], sig[['P-TPT']]],\n",
    "        \"labels\": ['P-MON-CKP', 'P-TPT'],\n",
    "        \"title\": \"P-MON-CKP' and 'P-TPT\",\n",
    "        \"xlabel\": \"Timestamp\",\n",
    "        \"ylabel\": \"Value\"\n",
    "    },\n",
    "    \"PlotCorrelationHeatmap\": {\n",
    "        \"df_of_series\": sig[['P-ANULAR', 'P-JUS-CKGL', 'P-MON-CKP', 'P-TPT', 'T-JUS-CKP', 'T-TPT']],\n",
    "        \"title\": \"Correlation Heatmap of Selected Features\"\n",
    "    }\n",
    "}\n",
    "\n",
    "title = \"3WToolkit Signal Analysis Report\"\n",
    "\n",
    "report_generation = ReportGeneration(\n",
    "    model=model,\n",
    "    X_train=X_train, y_train=y_train,\n",
    "    X_test=X_test, y_test=y_test,\n",
    "    predictions=predictions,\n",
    "    calculated_metrics=calculated_metrics,\n",
    "    plot_config=plots_config,\n",
    "    title=title,\n",
    "    author=author,\n",
    "    export_report_after_generate=False\n",
    ")\n",
    "\n",
    "html_report = report_generation.generate_summary_report(template_name=\"report_template.html\", format=\"html\")\n",
    "latex_report = report_generation.generate_summary_report(format=\"latex\")\n",
    "\n",
    "report_generation.save_report(html_report, \"signal_analysis_report\", format=\"html\")\n",
    "report_generation.save_report(latex_report, \"signal_analysis_report\", format=\"latex\")"
   ]
  },
  {
   "cell_type": "markdown",
   "metadata": {},
   "source": [
    "### Export to CSV\n",
    "\n",
    "The 3WToolkit also allows for easy exporting of data, such as model predictions and evaluation results, to CSV format. This is useful for external analysis, sharing, or integration with other data processing pipelines. In this section, we will demonstrate how to save the evaluation results to a CSV file."
   ]
  },
  {
   "cell_type": "code",
   "execution_count": 62,
   "metadata": {},
   "outputs": [
    {
     "name": "stdout",
     "output_type": "stream",
     "text": [
      "Exporting results to 'model_results.csv'...\n",
      "Successfully exported results to '/home/rafael/pos-doc/repos/3W/toolkit/ThreeWToolkit/reports/report-3WToolkit Signal Analysis Report/model_results.csv'.\n"
     ]
    },
    {
     "data": {
      "text/html": [
       "<div>\n",
       "<style scoped>\n",
       "    .dataframe tbody tr th:only-of-type {\n",
       "        vertical-align: middle;\n",
       "    }\n",
       "\n",
       "    .dataframe tbody tr th {\n",
       "        vertical-align: top;\n",
       "    }\n",
       "\n",
       "    .dataframe thead th {\n",
       "        text-align: right;\n",
       "    }\n",
       "</style>\n",
       "<table border=\"1\" class=\"dataframe\">\n",
       "  <thead>\n",
       "    <tr style=\"text-align: right;\">\n",
       "      <th></th>\n",
       "      <th>feature_1</th>\n",
       "      <th>feature_2</th>\n",
       "      <th>feature_3</th>\n",
       "      <th>feature_4</th>\n",
       "      <th>feature_5</th>\n",
       "      <th>feature_6</th>\n",
       "      <th>feature_7</th>\n",
       "      <th>feature_8</th>\n",
       "      <th>feature_9</th>\n",
       "      <th>feature_10</th>\n",
       "      <th>...</th>\n",
       "      <th>feature_98</th>\n",
       "      <th>feature_99</th>\n",
       "      <th>feature_100</th>\n",
       "      <th>true_values</th>\n",
       "      <th>predictions</th>\n",
       "      <th>model_name</th>\n",
       "      <th>balanced_accuracy</th>\n",
       "      <th>precision</th>\n",
       "      <th>recall</th>\n",
       "      <th>f1</th>\n",
       "    </tr>\n",
       "  </thead>\n",
       "  <tbody>\n",
       "    <tr>\n",
       "      <th>0</th>\n",
       "      <td>0.0</td>\n",
       "      <td>0.000512</td>\n",
       "      <td>0.002046</td>\n",
       "      <td>0.004595</td>\n",
       "      <td>0.008151</td>\n",
       "      <td>0.012699</td>\n",
       "      <td>0.018221</td>\n",
       "      <td>0.024695</td>\n",
       "      <td>0.032097</td>\n",
       "      <td>0.040396</td>\n",
       "      <td>...</td>\n",
       "      <td>0.004591</td>\n",
       "      <td>0.002044</td>\n",
       "      <td>0.000512</td>\n",
       "      <td>2</td>\n",
       "      <td>2</td>\n",
       "      <td>MLP</td>\n",
       "      <td>0.950061</td>\n",
       "      <td>0.966484</td>\n",
       "      <td>0.965133</td>\n",
       "      <td>0.964926</td>\n",
       "    </tr>\n",
       "    <tr>\n",
       "      <th>1</th>\n",
       "      <td>0.0</td>\n",
       "      <td>0.000512</td>\n",
       "      <td>0.002045</td>\n",
       "      <td>0.004593</td>\n",
       "      <td>0.008147</td>\n",
       "      <td>0.012691</td>\n",
       "      <td>0.018209</td>\n",
       "      <td>0.024677</td>\n",
       "      <td>0.032071</td>\n",
       "      <td>0.040361</td>\n",
       "      <td>...</td>\n",
       "      <td>0.004587</td>\n",
       "      <td>0.002042</td>\n",
       "      <td>0.000511</td>\n",
       "      <td>2</td>\n",
       "      <td>2</td>\n",
       "      <td>MLP</td>\n",
       "      <td>0.950061</td>\n",
       "      <td>0.966484</td>\n",
       "      <td>0.965133</td>\n",
       "      <td>0.964926</td>\n",
       "    </tr>\n",
       "    <tr>\n",
       "      <th>2</th>\n",
       "      <td>0.0</td>\n",
       "      <td>0.000512</td>\n",
       "      <td>0.002045</td>\n",
       "      <td>0.004594</td>\n",
       "      <td>0.008148</td>\n",
       "      <td>0.012695</td>\n",
       "      <td>0.018216</td>\n",
       "      <td>0.024690</td>\n",
       "      <td>0.032091</td>\n",
       "      <td>0.040391</td>\n",
       "      <td>...</td>\n",
       "      <td>0.004591</td>\n",
       "      <td>0.002044</td>\n",
       "      <td>0.000512</td>\n",
       "      <td>2</td>\n",
       "      <td>2</td>\n",
       "      <td>MLP</td>\n",
       "      <td>0.950061</td>\n",
       "      <td>0.966484</td>\n",
       "      <td>0.965133</td>\n",
       "      <td>0.964926</td>\n",
       "    </tr>\n",
       "    <tr>\n",
       "      <th>3</th>\n",
       "      <td>0.0</td>\n",
       "      <td>0.000511</td>\n",
       "      <td>0.002042</td>\n",
       "      <td>0.004588</td>\n",
       "      <td>0.008138</td>\n",
       "      <td>0.012678</td>\n",
       "      <td>0.018190</td>\n",
       "      <td>0.024653</td>\n",
       "      <td>0.032042</td>\n",
       "      <td>0.040326</td>\n",
       "      <td>...</td>\n",
       "      <td>0.004595</td>\n",
       "      <td>0.002046</td>\n",
       "      <td>0.000512</td>\n",
       "      <td>2</td>\n",
       "      <td>2</td>\n",
       "      <td>MLP</td>\n",
       "      <td>0.950061</td>\n",
       "      <td>0.966484</td>\n",
       "      <td>0.965133</td>\n",
       "      <td>0.964926</td>\n",
       "    </tr>\n",
       "    <tr>\n",
       "      <th>4</th>\n",
       "      <td>0.0</td>\n",
       "      <td>0.000512</td>\n",
       "      <td>0.002044</td>\n",
       "      <td>0.004592</td>\n",
       "      <td>0.008145</td>\n",
       "      <td>0.012689</td>\n",
       "      <td>0.018206</td>\n",
       "      <td>0.024675</td>\n",
       "      <td>0.032070</td>\n",
       "      <td>0.040362</td>\n",
       "      <td>...</td>\n",
       "      <td>0.004599</td>\n",
       "      <td>0.002048</td>\n",
       "      <td>0.000512</td>\n",
       "      <td>2</td>\n",
       "      <td>2</td>\n",
       "      <td>MLP</td>\n",
       "      <td>0.950061</td>\n",
       "      <td>0.966484</td>\n",
       "      <td>0.965133</td>\n",
       "      <td>0.964926</td>\n",
       "    </tr>\n",
       "  </tbody>\n",
       "</table>\n",
       "<p>5 rows × 107 columns</p>\n",
       "</div>"
      ],
      "text/plain": [
       "   feature_1  feature_2  feature_3  feature_4  feature_5  feature_6  \\\n",
       "0        0.0   0.000512   0.002046   0.004595   0.008151   0.012699   \n",
       "1        0.0   0.000512   0.002045   0.004593   0.008147   0.012691   \n",
       "2        0.0   0.000512   0.002045   0.004594   0.008148   0.012695   \n",
       "3        0.0   0.000511   0.002042   0.004588   0.008138   0.012678   \n",
       "4        0.0   0.000512   0.002044   0.004592   0.008145   0.012689   \n",
       "\n",
       "   feature_7  feature_8  feature_9  feature_10  ...  feature_98  feature_99  \\\n",
       "0   0.018221   0.024695   0.032097    0.040396  ...    0.004591    0.002044   \n",
       "1   0.018209   0.024677   0.032071    0.040361  ...    0.004587    0.002042   \n",
       "2   0.018216   0.024690   0.032091    0.040391  ...    0.004591    0.002044   \n",
       "3   0.018190   0.024653   0.032042    0.040326  ...    0.004595    0.002046   \n",
       "4   0.018206   0.024675   0.032070    0.040362  ...    0.004599    0.002048   \n",
       "\n",
       "   feature_100  true_values  predictions  model_name  balanced_accuracy  \\\n",
       "0     0.000512            2            2         MLP           0.950061   \n",
       "1     0.000511            2            2         MLP           0.950061   \n",
       "2     0.000512            2            2         MLP           0.950061   \n",
       "3     0.000512            2            2         MLP           0.950061   \n",
       "4     0.000512            2            2         MLP           0.950061   \n",
       "\n",
       "   precision    recall        f1  \n",
       "0   0.966484  0.965133  0.964926  \n",
       "1   0.966484  0.965133  0.964926  \n",
       "2   0.966484  0.965133  0.964926  \n",
       "3   0.966484  0.965133  0.964926  \n",
       "4   0.966484  0.965133  0.964926  \n",
       "\n",
       "[5 rows x 107 columns]"
      ]
     },
     "execution_count": 62,
     "metadata": {},
     "output_type": "execute_result"
    }
   ],
   "source": [
    "df_results = report_generation.export_results_to_csv(results, filename=\"model_results.csv\")\n",
    "df_results.head()"
   ]
  }
 ],
 "metadata": {
  "kernelspec": {
   "display_name": "3W",
   "language": "python",
   "name": "python3"
  },
  "language_info": {
   "codemirror_mode": {
    "name": "ipython",
    "version": 3
   },
   "file_extension": ".py",
   "mimetype": "text/x-python",
   "name": "python",
   "nbconvert_exporter": "python",
   "pygments_lexer": "ipython3",
   "version": "3.13.3"
  }
 },
 "nbformat": 4,
 "nbformat_minor": 2
}
