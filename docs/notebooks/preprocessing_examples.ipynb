{
 "cells": [
  {
   "cell_type": "markdown",
   "id": "56c7567e",
   "metadata": {},
   "source": [
    "# Preprocessing Demonstration\n",
    "\n",
    "\n",
    "This notebook demonstrates the **preprocessing utilities** shipped in `ThreeWToolkit.preprocessing`. Functions demonstrated:\n",
    "- `impute_missing_data`\n",
    "- `normalize`\n",
    "- `windowing`\n",
    "- `rename_columns`"
   ]
  },
  {
   "cell_type": "markdown",
   "id": "043095a4",
   "metadata": {},
   "source": [
    "Importing libraries:"
   ]
  },
  {
   "cell_type": "code",
   "execution_count": 1,
   "id": "b641ef22",
   "metadata": {},
   "outputs": [],
   "source": [
    "import pandas as pd\n",
    "import numpy as np\n",
    "import matplotlib.pyplot as plt\n",
    "from ThreeWToolkit.core.base_preprocessing import (\n",
    "    ImputeMissingConfig,\n",
    "    NormalizeConfig,\n",
    "    WindowingConfig,\n",
    "    RenameColumnsConfig,\n",
    ")\n",
    "from ThreeWToolkit.preprocessing import (\n",
    "    ImputeMissing,\n",
    "    Normalize,\n",
    "    Windowing,\n",
    "    RenameColumns,\n",
    ")\n",
    "from ThreeWToolkit.core.base_dataset import ParquetDatasetConfig\n",
    "from ThreeWToolkit.dataset import ParquetDataset\n",
    "from pathlib import Path"
   ]
  },
  {
   "cell_type": "markdown",
   "id": "f5e3d6b2",
   "metadata": {},
   "source": [
    "Loading 3W Dataset:"
   ]
  },
  {
   "cell_type": "code",
   "execution_count": 2,
   "id": "cdc7473c",
   "metadata": {},
   "outputs": [],
   "source": [
    "# define path\n",
    "dataset_path = Path(\"../../dataset/\")"
   ]
  },
  {
   "cell_type": "markdown",
   "id": "8073d2bc",
   "metadata": {},
   "source": [
    "Preparing dataset for demonstration:"
   ]
  },
  {
   "cell_type": "code",
   "execution_count": 3,
   "id": "57b18c64",
   "metadata": {},
   "outputs": [
    {
     "name": "stdout",
     "output_type": "stream",
     "text": [
      "[ParquetDataset] Dataset found at ../../dataset\n",
      "[ParquetDataset] Validating dataset integrity...\n",
      "[ParquetDataset] Dataset integrity check passed!\n"
     ]
    }
   ],
   "source": [
    "ds_config = ParquetDatasetConfig(path=dataset_path)\n",
    "raw_dataset = ParquetDataset(ds_config)\n",
    "\n",
    "# Select a single event from the dataset\n",
    "event_id = 0\n",
    "event = raw_dataset[event_id]\n",
    "\n",
    "# Convert the 'signal' to a pandas DataFrame\n",
    "signal = pd.DataFrame(event[\"signal\"])\n",
    "\n",
    "# Convert Period columns to datetime for compatibility\n",
    "for col in signal.columns:\n",
    "    if isinstance(signal[col].dtype, pd.PeriodDtype):\n",
    "        signal[col] = signal[col].dt.to_timestamp()"
   ]
  },
  {
   "cell_type": "markdown",
   "id": "c040dd56",
   "metadata": {},
   "source": [
    "## Impute Missing Data\n",
    "\n",
    "Function to fill missing values in DataFrames or Series using different imputation strategies\n",
    "\n",
    "The function accepts:  \n",
    "- A Pandas **DataFrame** or **Series** (`data`) containing missing values to impute  \n",
    "- An imputation strategy (`strategy`) which can be:  \n",
    "  - `\"mean\"` → replaces NaNs with the column mean  \n",
    "  - `\"median\"` → replaces NaNs with the column median  \n",
    "  - `\"constant\"` → replaces NaNs with a constant value provided by the user  \n",
    "- A constant value (`fill_value`, optional) required if the strategy is `\"constant\"`  \n",
    "- A list of columns (`columns`, optional) to apply the imputation; if not provided, all numeric columns are imputed  \n"
   ]
  },
  {
   "cell_type": "markdown",
   "id": "1e2cdab5",
   "metadata": {},
   "source": [
    "### Basic Usage using mock data\n",
    "\n",
    "Using `\"mean\"` value:"
   ]
  },
  {
   "cell_type": "code",
   "execution_count": 4,
   "id": "a3c41bf1",
   "metadata": {},
   "outputs": [
    {
     "data": {
      "text/html": [
       "<div>\n",
       "<style scoped>\n",
       "    .dataframe tbody tr th:only-of-type {\n",
       "        vertical-align: middle;\n",
       "    }\n",
       "\n",
       "    .dataframe tbody tr th {\n",
       "        vertical-align: top;\n",
       "    }\n",
       "\n",
       "    .dataframe thead th {\n",
       "        text-align: right;\n",
       "    }\n",
       "</style>\n",
       "<table border=\"1\" class=\"dataframe\">\n",
       "  <thead>\n",
       "    <tr style=\"text-align: right;\">\n",
       "      <th></th>\n",
       "      <th>a</th>\n",
       "      <th>b</th>\n",
       "      <th>c</th>\n",
       "    </tr>\n",
       "  </thead>\n",
       "  <tbody>\n",
       "    <tr>\n",
       "      <th>0</th>\n",
       "      <td>1.0</td>\n",
       "      <td>2.0</td>\n",
       "      <td>x</td>\n",
       "    </tr>\n",
       "    <tr>\n",
       "      <th>1</th>\n",
       "      <td>2.0</td>\n",
       "      <td>2.0</td>\n",
       "      <td>y</td>\n",
       "    </tr>\n",
       "    <tr>\n",
       "      <th>2</th>\n",
       "      <td>3.0</td>\n",
       "      <td>2.0</td>\n",
       "      <td>z</td>\n",
       "    </tr>\n",
       "  </tbody>\n",
       "</table>\n",
       "</div>"
      ],
      "text/plain": [
       "     a    b  c\n",
       "0  1.0  2.0  x\n",
       "1  2.0  2.0  y\n",
       "2  3.0  2.0  z"
      ]
     },
     "execution_count": 4,
     "metadata": {},
     "output_type": "execute_result"
    }
   ],
   "source": [
    "df = pd.DataFrame({\n",
    "    \"a\": [1.0, np.nan, 3.0],\n",
    "    \"b\": [np.nan, 2.0, 2.0],\n",
    "    \"c\": [\"x\", \"y\", \"z\"]\n",
    "})\n",
    "\n",
    "impute_missing = ImputeMissing(\n",
    "    ImputeMissingConfig(strategy=\"mean\", columns=[\"a\", \"b\"])\n",
    ")\n",
    "\n",
    "df_pre = impute_missing.pre_process(df)\n",
    "df_imputed = impute_missing.run(df_pre)\n",
    "imputed_df = impute_missing.post_process(df_imputed)\n",
    "\n",
    "imputed_df.head(5)"
   ]
  },
  {
   "cell_type": "markdown",
   "id": "6f1c1f45",
   "metadata": {},
   "source": [
    "Using `\"median\"` value:"
   ]
  },
  {
   "cell_type": "code",
   "execution_count": 5,
   "id": "9f9f2a60",
   "metadata": {},
   "outputs": [
    {
     "data": {
      "text/html": [
       "<div>\n",
       "<style scoped>\n",
       "    .dataframe tbody tr th:only-of-type {\n",
       "        vertical-align: middle;\n",
       "    }\n",
       "\n",
       "    .dataframe tbody tr th {\n",
       "        vertical-align: top;\n",
       "    }\n",
       "\n",
       "    .dataframe thead th {\n",
       "        text-align: right;\n",
       "    }\n",
       "</style>\n",
       "<table border=\"1\" class=\"dataframe\">\n",
       "  <thead>\n",
       "    <tr style=\"text-align: right;\">\n",
       "      <th></th>\n",
       "      <th>a</th>\n",
       "      <th>b</th>\n",
       "      <th>c</th>\n",
       "    </tr>\n",
       "  </thead>\n",
       "  <tbody>\n",
       "    <tr>\n",
       "      <th>0</th>\n",
       "      <td>1.0</td>\n",
       "      <td>3.0</td>\n",
       "      <td>x</td>\n",
       "    </tr>\n",
       "    <tr>\n",
       "      <th>1</th>\n",
       "      <td>2.0</td>\n",
       "      <td>2.0</td>\n",
       "      <td>y</td>\n",
       "    </tr>\n",
       "    <tr>\n",
       "      <th>2</th>\n",
       "      <td>3.0</td>\n",
       "      <td>4.0</td>\n",
       "      <td>z</td>\n",
       "    </tr>\n",
       "  </tbody>\n",
       "</table>\n",
       "</div>"
      ],
      "text/plain": [
       "     a    b  c\n",
       "0  1.0  3.0  x\n",
       "1  2.0  2.0  y\n",
       "2  3.0  4.0  z"
      ]
     },
     "execution_count": 5,
     "metadata": {},
     "output_type": "execute_result"
    }
   ],
   "source": [
    "df = pd.DataFrame({\n",
    "    \"a\": [1.0, np.nan, 3.0],\n",
    "    \"b\": [np.nan, 2.0, 4.0],\n",
    "    \"c\": [\"x\", \"y\", \"z\"]\n",
    "})\n",
    "\n",
    "impute_missing = ImputeMissing(\n",
    "    ImputeMissingConfig(strategy=\"median\", columns=[\"a\", \"b\"])\n",
    ")\n",
    "\n",
    "df_pre = impute_missing.pre_process(df)\n",
    "df_imputed = impute_missing.run(df_pre)\n",
    "imputed_df = impute_missing.post_process(df_imputed)\n",
    "\n",
    "imputed_df.head(5)"
   ]
  },
  {
   "cell_type": "markdown",
   "id": "6bc5474c",
   "metadata": {},
   "source": [
    "Using `\"constant\"` value:"
   ]
  },
  {
   "cell_type": "code",
   "execution_count": 9,
   "id": "f5662dc3",
   "metadata": {},
   "outputs": [
    {
     "data": {
      "text/html": [
       "<div>\n",
       "<style scoped>\n",
       "    .dataframe tbody tr th:only-of-type {\n",
       "        vertical-align: middle;\n",
       "    }\n",
       "\n",
       "    .dataframe tbody tr th {\n",
       "        vertical-align: top;\n",
       "    }\n",
       "\n",
       "    .dataframe thead th {\n",
       "        text-align: right;\n",
       "    }\n",
       "</style>\n",
       "<table border=\"1\" class=\"dataframe\">\n",
       "  <thead>\n",
       "    <tr style=\"text-align: right;\">\n",
       "      <th></th>\n",
       "      <th>a</th>\n",
       "      <th>b</th>\n",
       "      <th>c</th>\n",
       "    </tr>\n",
       "  </thead>\n",
       "  <tbody>\n",
       "    <tr>\n",
       "      <th>0</th>\n",
       "      <td>1.0</td>\n",
       "      <td>-1.0</td>\n",
       "      <td>x</td>\n",
       "    </tr>\n",
       "    <tr>\n",
       "      <th>1</th>\n",
       "      <td>-1.0</td>\n",
       "      <td>2.0</td>\n",
       "      <td>y</td>\n",
       "    </tr>\n",
       "    <tr>\n",
       "      <th>2</th>\n",
       "      <td>3.0</td>\n",
       "      <td>4.0</td>\n",
       "      <td>z</td>\n",
       "    </tr>\n",
       "  </tbody>\n",
       "</table>\n",
       "</div>"
      ],
      "text/plain": [
       "     a    b  c\n",
       "0  1.0 -1.0  x\n",
       "1 -1.0  2.0  y\n",
       "2  3.0  4.0  z"
      ]
     },
     "execution_count": 9,
     "metadata": {},
     "output_type": "execute_result"
    }
   ],
   "source": [
    "df = pd.DataFrame({\n",
    "    \"a\": [1.0, np.nan, 3.0],\n",
    "    \"b\": [np.nan, 2.0, 4.0],\n",
    "    \"c\": [\"x\", \"y\", \"z\"]\n",
    "})\n",
    "\n",
    "impute_missing = ImputeMissing(\n",
    "    ImputeMissingConfig(strategy=\"constant\", columns=[\"a\", \"b\"], fill_value=-1.0)\n",
    ")\n",
    "\n",
    "df_pre = impute_missing.pre_process(df)\n",
    "df_imputed = impute_missing.run(df_pre)\n",
    "imputed_df = impute_missing.post_process(df_imputed)\n",
    "\n",
    "imputed_df.head(5)"
   ]
  },
  {
   "cell_type": "markdown",
   "id": "d678f8d6",
   "metadata": {},
   "source": [
    "### Using 3W data as example\n",
    "\n",
    "Using column \"T-TPT\" to demonstrate this functionality. First, overriding 5 values with `NaN`:"
   ]
  },
  {
   "cell_type": "code",
   "execution_count": 10,
   "id": "4d050834",
   "metadata": {},
   "outputs": [
    {
     "name": "stdout",
     "output_type": "stream",
     "text": [
      "\n",
      "Values after introducing NaN:\n",
      "timestamp\n",
      "2018-09-05 20:44:36   NaN\n",
      "2018-09-05 20:44:37   NaN\n",
      "2018-09-05 20:44:38   NaN\n",
      "2018-09-05 20:44:39   NaN\n",
      "2018-09-05 20:44:40   NaN\n",
      "Name: T-TPT, dtype: float64\n"
     ]
    }
   ],
   "source": [
    "col = \"T-TPT\"\n",
    "indices_to_nan = signal.index[:5]\n",
    "\n",
    "# Introduce NaN\n",
    "signal.loc[indices_to_nan, col] = pd.NA\n",
    "\n",
    "print(\"\\nValues after introducing NaN:\")\n",
    "print(signal.loc[indices_to_nan, col])\n"
   ]
  },
  {
   "cell_type": "markdown",
   "id": "e5103335",
   "metadata": {},
   "source": [
    "Applying `\"mean\"` imputation:"
   ]
  },
  {
   "cell_type": "code",
   "execution_count": 11,
   "id": "8d0cae7a",
   "metadata": {},
   "outputs": [
    {
     "name": "stdout",
     "output_type": "stream",
     "text": [
      "\n",
      "Values after mean imputation:\n",
      "timestamp\n",
      "2018-09-05 20:44:36    0.492552\n",
      "2018-09-05 20:44:37    0.492552\n",
      "2018-09-05 20:44:38    0.492552\n",
      "2018-09-05 20:44:39    0.492552\n",
      "2018-09-05 20:44:40    0.492552\n",
      "Name: T-TPT, dtype: float64\n"
     ]
    }
   ],
   "source": [
    "impute_missing = ImputeMissing(\n",
    "    ImputeMissingConfig(strategy=\"mean\")\n",
    ")\n",
    "\n",
    "signal_pre = impute_missing.pre_process(signal)\n",
    "signal_imputed = impute_missing.run(signal_pre)\n",
    "signal = impute_missing.post_process(signal_imputed)\n",
    "\n",
    "print(\"\\nValues after mean imputation:\")\n",
    "print(signal.loc[indices_to_nan, col])"
   ]
  },
  {
   "cell_type": "markdown",
   "id": "4d408e4d",
   "metadata": {},
   "source": [
    "________"
   ]
  },
  {
   "cell_type": "markdown",
   "id": "1c274623",
   "metadata": {},
   "source": [
    "## Normalize\n",
    "\n",
    "Function to normalize input data using **L1**, **L2**, or **max** norm\n",
    "\n",
    "The function accepts:  \n",
    "- A Pandas **DataFrame** or **Series** (`X`) containing the data to normalize  \n",
    "- A norm type (`norm`) which can be:  \n",
    "  - `\"l1\"` → normalization using the L1 norm (sum of absolute values = 1)  \n",
    "  - `\"l2\"` → normalization using the L2 norm (Euclidean length = 1)  \n",
    "  - `\"max\"` → normalization by dividing by the maximum absolute value  \n",
    "- An axis (`axis`, default = 1):  \n",
    "  - `0` → normalize along columns  \n",
    "  - `1` → normalize along rows  \n",
    "- A flag (`copy_values`, default = True) to indicate whether the normalization is performed on a copy of the input  \n",
    "- A flag (`return_norm_values`, default = False) to return both the normalized data and the computed norm values  "
   ]
  },
  {
   "cell_type": "markdown",
   "id": "2237f1bc",
   "metadata": {},
   "source": [
    "### Basic Usage using mock data\n",
    "\n",
    "Using L2 norm with a DataFrame:"
   ]
  },
  {
   "cell_type": "code",
   "execution_count": 12,
   "id": "b8fbaeb5",
   "metadata": {},
   "outputs": [
    {
     "data": {
      "text/html": [
       "<div>\n",
       "<style scoped>\n",
       "    .dataframe tbody tr th:only-of-type {\n",
       "        vertical-align: middle;\n",
       "    }\n",
       "\n",
       "    .dataframe tbody tr th {\n",
       "        vertical-align: top;\n",
       "    }\n",
       "\n",
       "    .dataframe thead th {\n",
       "        text-align: right;\n",
       "    }\n",
       "</style>\n",
       "<table border=\"1\" class=\"dataframe\">\n",
       "  <thead>\n",
       "    <tr style=\"text-align: right;\">\n",
       "      <th></th>\n",
       "      <th>x</th>\n",
       "      <th>y</th>\n",
       "    </tr>\n",
       "  </thead>\n",
       "  <tbody>\n",
       "    <tr>\n",
       "      <th>0</th>\n",
       "      <td>1.0</td>\n",
       "      <td>0.0</td>\n",
       "    </tr>\n",
       "    <tr>\n",
       "      <th>1</th>\n",
       "      <td>1.0</td>\n",
       "      <td>0.0</td>\n",
       "    </tr>\n",
       "  </tbody>\n",
       "</table>\n",
       "</div>"
      ],
      "text/plain": [
       "     x    y\n",
       "0  1.0  0.0\n",
       "1  1.0  0.0"
      ]
     },
     "execution_count": 12,
     "metadata": {},
     "output_type": "execute_result"
    }
   ],
   "source": [
    "df = pd.DataFrame({\"x\": [3, 4], \"y\": [0, 0]})\n",
    "\n",
    "normalize_step = Normalize(NormalizeConfig(norm=\"l2\", axis=1))\n",
    "\n",
    "df_pre = normalize_step.pre_process(df)\n",
    "normed_array = normalize_step.run(df_pre)\n",
    "normed = normalize_step.post_process(normed_array)\n",
    "\n",
    "normed"
   ]
  },
  {
   "cell_type": "markdown",
   "id": "bed01f5c",
   "metadata": {},
   "source": [
    "Using L2 norm with Series (Pandas)"
   ]
  },
  {
   "cell_type": "code",
   "execution_count": 13,
   "id": "dea5374e",
   "metadata": {},
   "outputs": [
    {
     "data": {
      "text/plain": [
       "0    0.6\n",
       "1    0.8\n",
       "Name: s, dtype: float64"
      ]
     },
     "execution_count": 13,
     "metadata": {},
     "output_type": "execute_result"
    }
   ],
   "source": [
    "s = pd.Series([3.0, 4.0], name=\"s\")\n",
    "\n",
    "normalize_step = Normalize(NormalizeConfig(norm=\"l2\", axis=0))\n",
    "\n",
    "s_pre = normalize_step.pre_process(s)\n",
    "normed_array = normalize_step.run(s_pre)\n",
    "normed = normalize_step.post_process(normed_array)\n",
    "\n",
    "normed"
   ]
  },
  {
   "cell_type": "markdown",
   "id": "4162bcbf",
   "metadata": {},
   "source": [
    "### Using 3W data as example\n",
    "\n",
    "Using column \"T-TPT\" to demonstrate this functionality.\n",
    "\n",
    "Checking column before normalization:"
   ]
  },
  {
   "cell_type": "code",
   "execution_count": 14,
   "id": "ab273a24",
   "metadata": {},
   "outputs": [
    {
     "data": {
      "text/plain": [
       "timestamp\n",
       "2018-09-05 20:44:36    0.492552\n",
       "2018-09-05 20:44:37    0.492552\n",
       "2018-09-05 20:44:38    0.492552\n",
       "2018-09-05 20:44:39    0.492552\n",
       "2018-09-05 20:44:40    0.492552\n",
       "2018-09-05 20:44:41    0.589097\n",
       "2018-09-05 20:44:42    0.589097\n",
       "2018-09-05 20:44:43    0.589097\n",
       "2018-09-05 20:44:44    0.589097\n",
       "2018-09-05 20:44:45    0.589097\n",
       "Name: T-TPT, dtype: float64"
      ]
     },
     "execution_count": 14,
     "metadata": {},
     "output_type": "execute_result"
    }
   ],
   "source": [
    "col = \"T-TPT\"\n",
    "signal[col].head(10)"
   ]
  },
  {
   "cell_type": "markdown",
   "id": "bc9466fb",
   "metadata": {},
   "source": [
    "Applying L2 normalization and checking results:"
   ]
  },
  {
   "cell_type": "code",
   "execution_count": 15,
   "id": "ee1e50ac",
   "metadata": {},
   "outputs": [
    {
     "data": {
      "text/plain": [
       "timestamp\n",
       "2018-09-05 20:44:36    0.001414\n",
       "2018-09-05 20:44:37    0.001414\n",
       "2018-09-05 20:44:38    0.001414\n",
       "2018-09-05 20:44:39    0.001414\n",
       "2018-09-05 20:44:40    0.001414\n",
       "2018-09-05 20:44:41    0.001691\n",
       "2018-09-05 20:44:42    0.001691\n",
       "2018-09-05 20:44:43    0.001691\n",
       "2018-09-05 20:44:44    0.001691\n",
       "2018-09-05 20:44:45    0.001691\n",
       "Name: T-TPT, dtype: float64"
      ]
     },
     "execution_count": 15,
     "metadata": {},
     "output_type": "execute_result"
    }
   ],
   "source": [
    "# Apply L2 normalization row-wise\n",
    "normalize_step = Normalize(NormalizeConfig(norm=\"l2\", axis=0))\n",
    "\n",
    "signal_pre = normalize_step.pre_process(signal[col])\n",
    "normed_array = normalize_step.run(signal_pre)\n",
    "signal[col] = normalize_step.post_process(normed_array)\n",
    "\n",
    "signal[col].head(10)\n"
   ]
  },
  {
   "cell_type": "markdown",
   "id": "ec2aa0a4",
   "metadata": {},
   "source": [
    "________"
   ]
  },
  {
   "cell_type": "markdown",
   "id": "12c25d28",
   "metadata": {},
   "source": [
    "## Windowing\n",
    "\n",
    "Function to segment a 1D time-series into overlapping windows and apply a specified windowing function  \n",
    "\n",
    "The function accepts:  \n",
    "- A Pandas **Series** (`X`) representing the input 1D signal  \n",
    "- A window function (`window`, default = `\"hann\"`):  \n",
    "  - A string for standard windows (e.g., `\"hann\"`, `\"hamming\"`)  \n",
    "  - A tuple for parametrized windows (e.g., `(\"kaiser\", beta)`)  \n",
    "- A window size (`window_size`, default = 4): number of samples per window  \n",
    "- An overlap ratio (`overlap`, default = 0.0): must be in the range `[0, 1)`  \n",
    "- A flag (`normalize`, default = False) to normalize the window function to unit area  \n",
    "- A flag (`fftbins`, default = True) to generate FFT-compatible windows  \n",
    "- A flag (`pad_last_window`, default = False) to pad the last incomplete window with constant values  \n",
    "- A padding value (`pad_value`, default = 0.0) used when `pad_last_window=True`  "
   ]
  },
  {
   "cell_type": "markdown",
   "id": "6292ef3b",
   "metadata": {},
   "source": [
    "### Basic Usage using mock data\n"
   ]
  },
  {
   "cell_type": "code",
   "execution_count": 16,
   "id": "948d50b3",
   "metadata": {},
   "outputs": [
    {
     "name": "stdout",
     "output_type": "stream",
     "text": [
      "Without Overlap:\n",
      "    var1_t0  var1_t1  var1_t2  var1_t3  win\n",
      "0      0.0      1.0      2.0      3.0    1\n",
      "1      4.0      5.0      6.0      7.0    2\n",
      "2      8.0      9.0     10.0     11.0    3\n",
      "\n",
      "With 50% Overlap:\n",
      "    var1_t0  var1_t1  var1_t2  var1_t3  win\n",
      "0      0.0      1.0      2.0      3.0    1\n",
      "1      2.0      3.0      4.0      5.0    2\n",
      "2      4.0      5.0      6.0      7.0    3\n",
      "3      6.0      7.0      8.0      9.0    4\n",
      "4      8.0      9.0     10.0     11.0    5\n"
     ]
    }
   ],
   "source": [
    "# Simple time series\n",
    "serie = pd.Series(np.arange(12), name=\"sinal\")\n",
    "\n",
    "# Applying windowing without overlap\n",
    "windowing_step_no_overlap = Windowing(WindowingConfig(window=\"boxcar\", window_size=4, overlap=0.0))\n",
    "serie_pre_no_overlap = windowing_step_no_overlap.pre_process(serie)\n",
    "result_no_overlap = windowing_step_no_overlap.run(serie_pre_no_overlap)\n",
    "result_no_overlap = windowing_step_no_overlap.post_process(result_no_overlap)\n",
    "\n",
    "# Applying windowing with 50% overlap\n",
    "windowing_step_overlap = Windowing(WindowingConfig(window=\"boxcar\", window_size=4, overlap=0.5))\n",
    "serie_pre_overlap = windowing_step_overlap.pre_process(serie)\n",
    "result_overlap = windowing_step_overlap.run(serie_pre_overlap)\n",
    "result_overlap = windowing_step_overlap.post_process(result_overlap)\n",
    "\n",
    "print(\"Without Overlap:\\n\", result_no_overlap)\n",
    "print(\"\\nWith 50% Overlap:\\n\", result_overlap)"
   ]
  },
  {
   "cell_type": "markdown",
   "id": "3eaf6094",
   "metadata": {},
   "source": [
    "Example with 0.5 of overlap + visualization:"
   ]
  },
  {
   "cell_type": "code",
   "execution_count": 18,
   "id": "b3597077",
   "metadata": {},
   "outputs": [
    {
     "name": "stdout",
     "output_type": "stream",
     "text": [
      "   var1_t0   var1_t1   var1_t2   var1_t3   var1_t4   var1_t5   var1_t6  \\\n",
      "0      0.0  0.030491  0.209083  0.541729  0.871539  0.998533  0.840267   \n",
      "1      0.0  0.088709  0.263321  0.337434  0.194443 -0.108119 -0.379793   \n",
      "2     -0.0 -0.040096 -0.237594 -0.578266 -0.892593 -0.986827 -0.799144   \n",
      "3     -0.0 -0.084368 -0.237594 -0.274821 -0.097795  0.214970  0.466323   \n",
      "4      0.0  0.049231  0.263321  0.608023  0.903182  0.963550  0.748652   \n",
      "\n",
      "    var1_t7   var1_t8       var1_t9  win  \n",
      "0  0.498842  0.178119  2.052785e-02    1  \n",
      "1 -0.450105 -0.305246 -9.423355e-02    2  \n",
      "2 -0.450105 -0.145068 -1.032445e-02    3  \n",
      "3  0.498842  0.320954  9.535146e-02    4  \n",
      "4  0.396092  0.110316  3.508301e-17    5  \n"
     ]
    },
    {
     "data": {
      "image/png": "[encoded data removed]",
      "text/plain": [
       "<Figure size 800x300 with 1 Axes>"
      ]
     },
     "metadata": {},
     "output_type": "display_data"
    }
   ],
   "source": [
    "def plot_windowed_series(original, windowed_df, window_size, title=\"Windowed Signal\"):\n",
    "    fig, ax = plt.subplots(figsize=(8, 3))\n",
    "\n",
    "    # Plot original series\n",
    "    ax.plot(original.index, original.values, label=\"Original Signal\", color='black', lw=2, alpha=0.5)\n",
    "\n",
    "    # Plot each window segment\n",
    "    for _, row in windowed_df.iterrows():\n",
    "        window = row.iloc[:-1].values\n",
    "        idx_start = int((row[\"win\"] - 1) * (window_size * (1 - overlap)))\n",
    "        idxs = np.arange(idx_start, idx_start + window_size)\n",
    "        ax.plot(idxs, window, linestyle='--', marker='o', alpha=0.6)\n",
    "\n",
    "    ax.set_title(title)\n",
    "    ax.set_xlabel(\"Time\")\n",
    "    ax.set_ylabel(\"Amplitude\")\n",
    "    ax.legend()\n",
    "    ax.grid(True)\n",
    "    plt.tight_layout()\n",
    "    plt.show()\n",
    "\n",
    "# Parameters\n",
    "window_size = 10\n",
    "overlap = 0.5\n",
    "\n",
    "# Series and windowing\n",
    "windowing_step = Windowing(WindowingConfig(window=\"hann\", window_size=10, overlap=0.5))\n",
    "\n",
    "serie = pd.Series(np.sin(np.linspace(0, 3 * np.pi, 30)), name=\"signal\")\n",
    "serie_pre = windowing_step.pre_process(serie)\n",
    "result = windowing_step.run(serie_pre)\n",
    "result = windowing_step.post_process(result)\n",
    "\n",
    "# Values to check\n",
    "print(result)\n",
    "# Plotting\n",
    "plot_windowed_series(serie, result, window_size, title=\"Windowed Sinusoidal Signal (50% Overlap)\")"
   ]
  },
  {
   "cell_type": "markdown",
   "id": "9bce6780",
   "metadata": {},
   "source": [
    "Example with padding:"
   ]
  },
  {
   "cell_type": "code",
   "execution_count": 19,
   "id": "7d5f271e",
   "metadata": {},
   "outputs": [
    {
     "name": "stdout",
     "output_type": "stream",
     "text": [
      "Without Padding:\n",
      "    var1_t0  var1_t1  var1_t2  var1_t3  var1_t4  win\n",
      "0      0.0      1.0      2.0      3.0      4.0    1\n",
      "1      3.0      4.0      5.0      6.0      7.0    2\n",
      "2      6.0      7.0      8.0      9.0     10.0    3\n",
      "\n",
      "With Padding:\n",
      "    var1_t0  var1_t1  var1_t2  var1_t3  var1_t4  win\n",
      "0      0.0      1.0      2.0      3.0      4.0    1\n",
      "1      3.0      4.0      5.0      6.0      7.0    2\n",
      "2      6.0      7.0      8.0      9.0     10.0    3\n",
      "3      9.0     10.0     11.0     12.0     -1.0    4\n",
      "4     12.0     -1.0     -1.0     -1.0     -1.0    5\n"
     ]
    }
   ],
   "source": [
    "serie_pad = pd.Series(np.arange(13), name=\"signal\")\n",
    "\n",
    "# Without padding\n",
    "windowing_step_no_pad = Windowing(WindowingConfig(window=\"boxcar\", window_size=5, overlap=0.3, pad_last_window=False))\n",
    "serie_pre_no_pad = windowing_step_no_pad.pre_process(serie_pad)\n",
    "res_no_pad = windowing_step_no_pad.run(serie_pre_no_pad)\n",
    "res_no_pad = windowing_step_no_pad.post_process(res_no_pad)\n",
    "\n",
    "# With padding\n",
    "windowing_step_pad = Windowing(WindowingConfig(window=\"boxcar\", window_size=5, overlap=0.3, pad_last_window=True, pad_value=-1))\n",
    "serie_pre_pad = windowing_step_pad.pre_process(serie_pad)\n",
    "res_pad = windowing_step_pad.run(serie_pre_pad)\n",
    "res_pad = windowing_step_pad.post_process(res_pad)\n",
    "\n",
    "print(\"Without Padding:\\n\", res_no_pad.tail())\n",
    "print(\"\\nWith Padding:\\n\", res_pad.tail())"
   ]
  },
  {
   "cell_type": "markdown",
   "id": "b53b4d9f",
   "metadata": {},
   "source": [
    "Example with tuple like for parametrized windows:"
   ]
  },
  {
   "cell_type": "code",
   "execution_count": 20,
   "id": "cddde30a",
   "metadata": {},
   "outputs": [
    {
     "name": "stdout",
     "output_type": "stream",
     "text": [
      "Tukey shape dataframe:\n",
      " (4, 4)\n",
      "Kaiser shape dataframe:\n",
      " (4, 4)\n",
      "General cosine shape dataframe:\n",
      " (4, 4)\n"
     ]
    }
   ],
   "source": [
    "# Simple time series\n",
    "serie = pd.Series(np.arange(12), name=\"sinal\")\n",
    "\n",
    "windowing_step_tukey = Windowing(WindowingConfig(window=(\"tukey\", 0.25), window_size=3))\n",
    "serie_pre_tukey = windowing_step_tukey.pre_process(serie)\n",
    "wind_tukey = windowing_step_tukey.run(serie_pre_tukey)\n",
    "wind_tukey = windowing_step_tukey.post_process(wind_tukey)\n",
    "\n",
    "windowing_step_kaiser = Windowing(WindowingConfig(window=(\"kaiser\", 4.0), window_size=3))\n",
    "serie_pre_kaiser = windowing_step_kaiser.pre_process(serie)\n",
    "wind_kaiser = windowing_step_kaiser.run(serie_pre_kaiser)\n",
    "wind_kaiser = windowing_step_kaiser.post_process(wind_kaiser)\n",
    "\n",
    "windowing_step_cosine = Windowing(WindowingConfig(window=(\"general_cosine\", [0.5, 0.5]), window_size=3))\n",
    "serie_pre_cosine = windowing_step_cosine.pre_process(serie)\n",
    "wind_cosine = windowing_step_cosine.run(serie_pre_cosine)\n",
    "wind_cosine = windowing_step_cosine.post_process(wind_cosine)\n",
    "\n",
    "print(\"Tukey shape dataframe:\\n\", wind_tukey.shape)\n",
    "print(\"Kaiser shape dataframe:\\n\", wind_kaiser.shape)\n",
    "print(\"General cosine shape dataframe:\\n\", wind_cosine.shape)"
   ]
  },
  {
   "cell_type": "markdown",
   "id": "73b18479",
   "metadata": {},
   "source": [
    "### Using 3W data as example\n",
    "\n",
    "The column \"P-TPT\" will be used to demonstrate this functionality."
   ]
  },
  {
   "cell_type": "markdown",
   "id": "0c98457c",
   "metadata": {},
   "source": [
    "Checking column before windowing:"
   ]
  },
  {
   "cell_type": "code",
   "execution_count": 18,
   "id": "2f226671",
   "metadata": {},
   "outputs": [
    {
     "data": {
      "text/plain": [
       "timestamp\n",
       "2018-09-05 20:44:36   -2.374172\n",
       "2018-09-05 20:44:37   -2.374172\n",
       "2018-09-05 20:44:38   -2.374172\n",
       "2018-09-05 20:44:39   -2.374172\n",
       "2018-09-05 20:44:40   -2.374172\n",
       "2018-09-05 20:44:41   -2.374172\n",
       "2018-09-05 20:44:42   -2.374172\n",
       "2018-09-05 20:44:43   -2.374172\n",
       "2018-09-05 20:44:44   -2.374172\n",
       "2018-09-05 20:44:45   -2.374172\n",
       "Name: P-TPT, dtype: float64"
      ]
     },
     "execution_count": 18,
     "metadata": {},
     "output_type": "execute_result"
    }
   ],
   "source": [
    "col = \"P-TPT\"\n",
    "signal[col].head(10)"
   ]
  },
  {
   "cell_type": "markdown",
   "id": "c03afb01",
   "metadata": {},
   "source": [
    "Applying windowing (Hann window, window size 4, 50% overlap, and pad the last window) and checking results:\n"
   ]
  },
  {
   "cell_type": "code",
   "execution_count": null,
   "id": "9f442667",
   "metadata": {},
   "outputs": [
    {
     "name": "stdout",
     "output_type": "stream",
     "text": [
      "\n",
      "After windowing (first 5 windows):\n"
     ]
    },
    {
     "data": {
      "text/html": [
       "<div>\n",
       "<style scoped>\n",
       "    .dataframe tbody tr th:only-of-type {\n",
       "        vertical-align: middle;\n",
       "    }\n",
       "\n",
       "    .dataframe tbody tr th {\n",
       "        vertical-align: top;\n",
       "    }\n",
       "\n",
       "    .dataframe thead th {\n",
       "        text-align: right;\n",
       "    }\n",
       "</style>\n",
       "<table border=\"1\" class=\"dataframe\">\n",
       "  <thead>\n",
       "    <tr style=\"text-align: right;\">\n",
       "      <th></th>\n",
       "      <th>var1_t0</th>\n",
       "      <th>var1_t1</th>\n",
       "      <th>var1_t2</th>\n",
       "      <th>var1_t3</th>\n",
       "      <th>win</th>\n",
       "    </tr>\n",
       "  </thead>\n",
       "  <tbody>\n",
       "    <tr>\n",
       "      <th>0</th>\n",
       "      <td>0.0</td>\n",
       "      <td>0.000707</td>\n",
       "      <td>0.001414</td>\n",
       "      <td>0.000707</td>\n",
       "      <td>1</td>\n",
       "    </tr>\n",
       "    <tr>\n",
       "      <th>1</th>\n",
       "      <td>0.0</td>\n",
       "      <td>0.000707</td>\n",
       "      <td>0.001414</td>\n",
       "      <td>0.000846</td>\n",
       "      <td>2</td>\n",
       "    </tr>\n",
       "    <tr>\n",
       "      <th>2</th>\n",
       "      <td>0.0</td>\n",
       "      <td>0.000846</td>\n",
       "      <td>0.001691</td>\n",
       "      <td>0.000846</td>\n",
       "      <td>3</td>\n",
       "    </tr>\n",
       "    <tr>\n",
       "      <th>3</th>\n",
       "      <td>0.0</td>\n",
       "      <td>0.000846</td>\n",
       "      <td>0.001691</td>\n",
       "      <td>0.000846</td>\n",
       "      <td>4</td>\n",
       "    </tr>\n",
       "    <tr>\n",
       "      <th>4</th>\n",
       "      <td>0.0</td>\n",
       "      <td>0.000846</td>\n",
       "      <td>0.001691</td>\n",
       "      <td>0.000846</td>\n",
       "      <td>5</td>\n",
       "    </tr>\n",
       "  </tbody>\n",
       "</table>\n",
       "</div>"
      ],
      "text/plain": [
       "   var1_t0   var1_t1   var1_t2   var1_t3  win\n",
       "0      0.0  0.000707  0.001414  0.000707    1\n",
       "1      0.0  0.000707  0.001414  0.000846    2\n",
       "2      0.0  0.000846  0.001691  0.000846    3\n",
       "3      0.0  0.000846  0.001691  0.000846    4\n",
       "4      0.0  0.000846  0.001691  0.000846    5"
      ]
     },
     "metadata": {},
     "output_type": "display_data"
    }
   ],
   "source": [
    "windowing_step = Windowing(WindowingConfig(window=\"hann\", window_size=4, overlap=0.5, pad_last_window=True))\n",
    "\n",
    "signal_pre = windowing_step.pre_process(signal[col])\n",
    "windowed_df = windowing_step.run(signal_pre)\n",
    "windowed_df = windowing_step.post_process(windowed_df)\n",
    "\n",
    "print(\"\\nAfter windowing (first 5 windows):\")\n",
    "display(windowed_df.head())"
   ]
  },
  {
   "cell_type": "markdown",
   "id": "b630ac13",
   "metadata": {},
   "source": [
    "______________"
   ]
  },
  {
   "cell_type": "markdown",
   "id": "e72a797f",
   "metadata": {},
   "source": [
    "## Rename Columns\n",
    "\n",
    "Function to rename columns of a DataFrame using a mapping dictionary  \n",
    "\n",
    "The function accepts:  \n",
    "- A Pandas **DataFrame** (`data`) whose columns need to be renamed  \n",
    "- A dictionary (`columns_map`) where:  \n",
    "  - Keys are the current column names  \n",
    "  - Values are the new column names to assign  "
   ]
  },
  {
   "cell_type": "markdown",
   "id": "6264b167",
   "metadata": {},
   "source": [
    "### Basic Usage using mock data"
   ]
  },
  {
   "cell_type": "code",
   "execution_count": 22,
   "id": "a23e896b",
   "metadata": {},
   "outputs": [
    {
     "name": "stdout",
     "output_type": "stream",
     "text": [
      "\n",
      "Renamed DataFrame:\n",
      "   Alpha  Beta  C\n",
      "0      1     4  7\n",
      "1      2     5  8\n",
      "2      3     6  9\n"
     ]
    }
   ],
   "source": [
    "# Create a sample DataFrame\n",
    "df = pd.DataFrame({\n",
    "    \"A\": [1, 2, 3],\n",
    "    \"B\": [4, 5, 6],\n",
    "    \"C\": [7, 8, 9]\n",
    "})\n",
    "\n",
    "# Define a valid columns_map to rename columns\n",
    "columns_map = {\n",
    "    \"A\": \"Alpha\",\n",
    "    \"B\": \"Beta\"\n",
    "}\n",
    "\n",
    "# Rename columns with validation\n",
    "rename_step = RenameColumns(RenameColumnsConfig(columns_map=columns_map))\n",
    "\n",
    "df_pre = rename_step.pre_process(df)\n",
    "renamed_df = rename_step.run(df_pre)\n",
    "renamed_df = rename_step.post_process(renamed_df)\n",
    "\n",
    "print(\"\\nRenamed DataFrame:\")\n",
    "print(renamed_df)"
   ]
  },
  {
   "cell_type": "markdown",
   "id": "d2ae8679",
   "metadata": {},
   "source": [
    "### Using 3W data as example\n",
    "\n",
    "Using the columns \"ABER-CKGL\" and \"ABER-CKP\" to demonstrate this functionality."
   ]
  },
  {
   "cell_type": "code",
   "execution_count": 24,
   "id": "448cbafd",
   "metadata": {},
   "outputs": [
    {
     "data": {
      "text/html": [
       "<div>\n",
       "<style scoped>\n",
       "    .dataframe tbody tr th:only-of-type {\n",
       "        vertical-align: middle;\n",
       "    }\n",
       "\n",
       "    .dataframe tbody tr th {\n",
       "        vertical-align: top;\n",
       "    }\n",
       "\n",
       "    .dataframe thead th {\n",
       "        text-align: right;\n",
       "    }\n",
       "</style>\n",
       "<table border=\"1\" class=\"dataframe\">\n",
       "  <thead>\n",
       "    <tr style=\"text-align: right;\">\n",
       "      <th></th>\n",
       "      <th>ABER-CKGL</th>\n",
       "      <th>ABER-CKP</th>\n",
       "      <th>ESTADO-DHSV</th>\n",
       "      <th>ESTADO-M1</th>\n",
       "      <th>ESTADO-M2</th>\n",
       "      <th>ESTADO-PXO</th>\n",
       "      <th>ESTADO-SDV-GL</th>\n",
       "      <th>ESTADO-SDV-P</th>\n",
       "      <th>ESTADO-W1</th>\n",
       "      <th>ESTADO-W2</th>\n",
       "      <th>...</th>\n",
       "      <th>P-JUS-CKGL</th>\n",
       "      <th>P-JUS-CKP</th>\n",
       "      <th>P-MON-CKP</th>\n",
       "      <th>P-PDG</th>\n",
       "      <th>P-TPT</th>\n",
       "      <th>QGL</th>\n",
       "      <th>T-JUS-CKP</th>\n",
       "      <th>T-MON-CKP</th>\n",
       "      <th>T-PDG</th>\n",
       "      <th>T-TPT</th>\n",
       "    </tr>\n",
       "    <tr>\n",
       "      <th>timestamp</th>\n",
       "      <th></th>\n",
       "      <th></th>\n",
       "      <th></th>\n",
       "      <th></th>\n",
       "      <th></th>\n",
       "      <th></th>\n",
       "      <th></th>\n",
       "      <th></th>\n",
       "      <th></th>\n",
       "      <th></th>\n",
       "      <th></th>\n",
       "      <th></th>\n",
       "      <th></th>\n",
       "      <th></th>\n",
       "      <th></th>\n",
       "      <th></th>\n",
       "      <th></th>\n",
       "      <th></th>\n",
       "      <th></th>\n",
       "      <th></th>\n",
       "      <th></th>\n",
       "    </tr>\n",
       "  </thead>\n",
       "  <tbody>\n",
       "    <tr>\n",
       "      <th>2018-09-05 20:44:36</th>\n",
       "      <td>0.0</td>\n",
       "      <td>0.0</td>\n",
       "      <td>0.0</td>\n",
       "      <td>0.0</td>\n",
       "      <td>0.0</td>\n",
       "      <td>0.0</td>\n",
       "      <td>0.0</td>\n",
       "      <td>0.0</td>\n",
       "      <td>0.0</td>\n",
       "      <td>0.0</td>\n",
       "      <td>...</td>\n",
       "      <td>0.0</td>\n",
       "      <td>0.0</td>\n",
       "      <td>-1.062317</td>\n",
       "      <td>-2.703362</td>\n",
       "      <td>-2.374172</td>\n",
       "      <td>0.0</td>\n",
       "      <td>-0.131847</td>\n",
       "      <td>0.0</td>\n",
       "      <td>0.0</td>\n",
       "      <td>0.001414</td>\n",
       "    </tr>\n",
       "    <tr>\n",
       "      <th>2018-09-05 20:44:37</th>\n",
       "      <td>0.0</td>\n",
       "      <td>0.0</td>\n",
       "      <td>0.0</td>\n",
       "      <td>0.0</td>\n",
       "      <td>0.0</td>\n",
       "      <td>0.0</td>\n",
       "      <td>0.0</td>\n",
       "      <td>0.0</td>\n",
       "      <td>0.0</td>\n",
       "      <td>0.0</td>\n",
       "      <td>...</td>\n",
       "      <td>0.0</td>\n",
       "      <td>0.0</td>\n",
       "      <td>-1.062317</td>\n",
       "      <td>-2.703362</td>\n",
       "      <td>-2.374172</td>\n",
       "      <td>0.0</td>\n",
       "      <td>-0.131847</td>\n",
       "      <td>0.0</td>\n",
       "      <td>0.0</td>\n",
       "      <td>0.001414</td>\n",
       "    </tr>\n",
       "    <tr>\n",
       "      <th>2018-09-05 20:44:38</th>\n",
       "      <td>0.0</td>\n",
       "      <td>0.0</td>\n",
       "      <td>0.0</td>\n",
       "      <td>0.0</td>\n",
       "      <td>0.0</td>\n",
       "      <td>0.0</td>\n",
       "      <td>0.0</td>\n",
       "      <td>0.0</td>\n",
       "      <td>0.0</td>\n",
       "      <td>0.0</td>\n",
       "      <td>...</td>\n",
       "      <td>0.0</td>\n",
       "      <td>0.0</td>\n",
       "      <td>-1.062317</td>\n",
       "      <td>-2.703362</td>\n",
       "      <td>-2.374172</td>\n",
       "      <td>0.0</td>\n",
       "      <td>-0.131847</td>\n",
       "      <td>0.0</td>\n",
       "      <td>0.0</td>\n",
       "      <td>0.001414</td>\n",
       "    </tr>\n",
       "    <tr>\n",
       "      <th>2018-09-05 20:44:39</th>\n",
       "      <td>0.0</td>\n",
       "      <td>0.0</td>\n",
       "      <td>0.0</td>\n",
       "      <td>0.0</td>\n",
       "      <td>0.0</td>\n",
       "      <td>0.0</td>\n",
       "      <td>0.0</td>\n",
       "      <td>0.0</td>\n",
       "      <td>0.0</td>\n",
       "      <td>0.0</td>\n",
       "      <td>...</td>\n",
       "      <td>0.0</td>\n",
       "      <td>0.0</td>\n",
       "      <td>-1.062317</td>\n",
       "      <td>-2.703362</td>\n",
       "      <td>-2.374172</td>\n",
       "      <td>0.0</td>\n",
       "      <td>-0.131847</td>\n",
       "      <td>0.0</td>\n",
       "      <td>0.0</td>\n",
       "      <td>0.001414</td>\n",
       "    </tr>\n",
       "    <tr>\n",
       "      <th>2018-09-05 20:44:40</th>\n",
       "      <td>0.0</td>\n",
       "      <td>0.0</td>\n",
       "      <td>0.0</td>\n",
       "      <td>0.0</td>\n",
       "      <td>0.0</td>\n",
       "      <td>0.0</td>\n",
       "      <td>0.0</td>\n",
       "      <td>0.0</td>\n",
       "      <td>0.0</td>\n",
       "      <td>0.0</td>\n",
       "      <td>...</td>\n",
       "      <td>0.0</td>\n",
       "      <td>0.0</td>\n",
       "      <td>-1.062317</td>\n",
       "      <td>-2.703362</td>\n",
       "      <td>-2.374172</td>\n",
       "      <td>0.0</td>\n",
       "      <td>-0.131847</td>\n",
       "      <td>0.0</td>\n",
       "      <td>0.0</td>\n",
       "      <td>0.001414</td>\n",
       "    </tr>\n",
       "  </tbody>\n",
       "</table>\n",
       "<p>5 rows × 22 columns</p>\n",
       "</div>"
      ],
      "text/plain": [
       "                     ABER-CKGL  ABER-CKP  ESTADO-DHSV  ESTADO-M1  ESTADO-M2  \\\n",
       "timestamp                                                                     \n",
       "2018-09-05 20:44:36        0.0       0.0          0.0        0.0        0.0   \n",
       "2018-09-05 20:44:37        0.0       0.0          0.0        0.0        0.0   \n",
       "2018-09-05 20:44:38        0.0       0.0          0.0        0.0        0.0   \n",
       "2018-09-05 20:44:39        0.0       0.0          0.0        0.0        0.0   \n",
       "2018-09-05 20:44:40        0.0       0.0          0.0        0.0        0.0   \n",
       "\n",
       "                     ESTADO-PXO  ESTADO-SDV-GL  ESTADO-SDV-P  ESTADO-W1  \\\n",
       "timestamp                                                                 \n",
       "2018-09-05 20:44:36         0.0            0.0           0.0        0.0   \n",
       "2018-09-05 20:44:37         0.0            0.0           0.0        0.0   \n",
       "2018-09-05 20:44:38         0.0            0.0           0.0        0.0   \n",
       "2018-09-05 20:44:39         0.0            0.0           0.0        0.0   \n",
       "2018-09-05 20:44:40         0.0            0.0           0.0        0.0   \n",
       "\n",
       "                     ESTADO-W2  ...  P-JUS-CKGL  P-JUS-CKP  P-MON-CKP  \\\n",
       "timestamp                       ...                                     \n",
       "2018-09-05 20:44:36        0.0  ...         0.0        0.0  -1.062317   \n",
       "2018-09-05 20:44:37        0.0  ...         0.0        0.0  -1.062317   \n",
       "2018-09-05 20:44:38        0.0  ...         0.0        0.0  -1.062317   \n",
       "2018-09-05 20:44:39        0.0  ...         0.0        0.0  -1.062317   \n",
       "2018-09-05 20:44:40        0.0  ...         0.0        0.0  -1.062317   \n",
       "\n",
       "                        P-PDG     P-TPT  QGL  T-JUS-CKP  T-MON-CKP  T-PDG  \\\n",
       "timestamp                                                                   \n",
       "2018-09-05 20:44:36 -2.703362 -2.374172  0.0  -0.131847        0.0    0.0   \n",
       "2018-09-05 20:44:37 -2.703362 -2.374172  0.0  -0.131847        0.0    0.0   \n",
       "2018-09-05 20:44:38 -2.703362 -2.374172  0.0  -0.131847        0.0    0.0   \n",
       "2018-09-05 20:44:39 -2.703362 -2.374172  0.0  -0.131847        0.0    0.0   \n",
       "2018-09-05 20:44:40 -2.703362 -2.374172  0.0  -0.131847        0.0    0.0   \n",
       "\n",
       "                        T-TPT  \n",
       "timestamp                      \n",
       "2018-09-05 20:44:36  0.001414  \n",
       "2018-09-05 20:44:37  0.001414  \n",
       "2018-09-05 20:44:38  0.001414  \n",
       "2018-09-05 20:44:39  0.001414  \n",
       "2018-09-05 20:44:40  0.001414  \n",
       "\n",
       "[5 rows x 22 columns]"
      ]
     },
     "execution_count": 24,
     "metadata": {},
     "output_type": "execute_result"
    }
   ],
   "source": [
    "signal.head()"
   ]
  },
  {
   "cell_type": "markdown",
   "id": "659a8a00",
   "metadata": {},
   "source": [
    "After renaming:"
   ]
  },
  {
   "cell_type": "code",
   "execution_count": 23,
   "id": "d551bbaf",
   "metadata": {},
   "outputs": [
    {
     "data": {
      "text/html": [
       "<div>\n",
       "<style scoped>\n",
       "    .dataframe tbody tr th:only-of-type {\n",
       "        vertical-align: middle;\n",
       "    }\n",
       "\n",
       "    .dataframe tbody tr th {\n",
       "        vertical-align: top;\n",
       "    }\n",
       "\n",
       "    .dataframe thead th {\n",
       "        text-align: right;\n",
       "    }\n",
       "</style>\n",
       "<table border=\"1\" class=\"dataframe\">\n",
       "  <thead>\n",
       "    <tr style=\"text-align: right;\">\n",
       "      <th></th>\n",
       "      <th>sensor_A</th>\n",
       "      <th>sensor_B</th>\n",
       "      <th>ESTADO-DHSV</th>\n",
       "      <th>ESTADO-M1</th>\n",
       "      <th>ESTADO-M2</th>\n",
       "      <th>ESTADO-PXO</th>\n",
       "      <th>ESTADO-SDV-GL</th>\n",
       "      <th>ESTADO-SDV-P</th>\n",
       "      <th>ESTADO-W1</th>\n",
       "      <th>ESTADO-W2</th>\n",
       "      <th>...</th>\n",
       "      <th>P-JUS-CKGL</th>\n",
       "      <th>P-JUS-CKP</th>\n",
       "      <th>P-MON-CKP</th>\n",
       "      <th>P-PDG</th>\n",
       "      <th>P-TPT</th>\n",
       "      <th>QGL</th>\n",
       "      <th>T-JUS-CKP</th>\n",
       "      <th>T-MON-CKP</th>\n",
       "      <th>T-PDG</th>\n",
       "      <th>T-TPT</th>\n",
       "    </tr>\n",
       "    <tr>\n",
       "      <th>timestamp</th>\n",
       "      <th></th>\n",
       "      <th></th>\n",
       "      <th></th>\n",
       "      <th></th>\n",
       "      <th></th>\n",
       "      <th></th>\n",
       "      <th></th>\n",
       "      <th></th>\n",
       "      <th></th>\n",
       "      <th></th>\n",
       "      <th></th>\n",
       "      <th></th>\n",
       "      <th></th>\n",
       "      <th></th>\n",
       "      <th></th>\n",
       "      <th></th>\n",
       "      <th></th>\n",
       "      <th></th>\n",
       "      <th></th>\n",
       "      <th></th>\n",
       "      <th></th>\n",
       "    </tr>\n",
       "  </thead>\n",
       "  <tbody>\n",
       "    <tr>\n",
       "      <th>2018-09-05 20:44:36</th>\n",
       "      <td>0.0</td>\n",
       "      <td>0.0</td>\n",
       "      <td>0.0</td>\n",
       "      <td>0.0</td>\n",
       "      <td>0.0</td>\n",
       "      <td>0.0</td>\n",
       "      <td>0.0</td>\n",
       "      <td>0.0</td>\n",
       "      <td>0.0</td>\n",
       "      <td>0.0</td>\n",
       "      <td>...</td>\n",
       "      <td>0.0</td>\n",
       "      <td>0.0</td>\n",
       "      <td>-1.062317</td>\n",
       "      <td>-2.703362</td>\n",
       "      <td>-2.374172</td>\n",
       "      <td>0.0</td>\n",
       "      <td>-0.131847</td>\n",
       "      <td>0.0</td>\n",
       "      <td>0.0</td>\n",
       "      <td>0.001414</td>\n",
       "    </tr>\n",
       "    <tr>\n",
       "      <th>2018-09-05 20:44:37</th>\n",
       "      <td>0.0</td>\n",
       "      <td>0.0</td>\n",
       "      <td>0.0</td>\n",
       "      <td>0.0</td>\n",
       "      <td>0.0</td>\n",
       "      <td>0.0</td>\n",
       "      <td>0.0</td>\n",
       "      <td>0.0</td>\n",
       "      <td>0.0</td>\n",
       "      <td>0.0</td>\n",
       "      <td>...</td>\n",
       "      <td>0.0</td>\n",
       "      <td>0.0</td>\n",
       "      <td>-1.062317</td>\n",
       "      <td>-2.703362</td>\n",
       "      <td>-2.374172</td>\n",
       "      <td>0.0</td>\n",
       "      <td>-0.131847</td>\n",
       "      <td>0.0</td>\n",
       "      <td>0.0</td>\n",
       "      <td>0.001414</td>\n",
       "    </tr>\n",
       "    <tr>\n",
       "      <th>2018-09-05 20:44:38</th>\n",
       "      <td>0.0</td>\n",
       "      <td>0.0</td>\n",
       "      <td>0.0</td>\n",
       "      <td>0.0</td>\n",
       "      <td>0.0</td>\n",
       "      <td>0.0</td>\n",
       "      <td>0.0</td>\n",
       "      <td>0.0</td>\n",
       "      <td>0.0</td>\n",
       "      <td>0.0</td>\n",
       "      <td>...</td>\n",
       "      <td>0.0</td>\n",
       "      <td>0.0</td>\n",
       "      <td>-1.062317</td>\n",
       "      <td>-2.703362</td>\n",
       "      <td>-2.374172</td>\n",
       "      <td>0.0</td>\n",
       "      <td>-0.131847</td>\n",
       "      <td>0.0</td>\n",
       "      <td>0.0</td>\n",
       "      <td>0.001414</td>\n",
       "    </tr>\n",
       "    <tr>\n",
       "      <th>2018-09-05 20:44:39</th>\n",
       "      <td>0.0</td>\n",
       "      <td>0.0</td>\n",
       "      <td>0.0</td>\n",
       "      <td>0.0</td>\n",
       "      <td>0.0</td>\n",
       "      <td>0.0</td>\n",
       "      <td>0.0</td>\n",
       "      <td>0.0</td>\n",
       "      <td>0.0</td>\n",
       "      <td>0.0</td>\n",
       "      <td>...</td>\n",
       "      <td>0.0</td>\n",
       "      <td>0.0</td>\n",
       "      <td>-1.062317</td>\n",
       "      <td>-2.703362</td>\n",
       "      <td>-2.374172</td>\n",
       "      <td>0.0</td>\n",
       "      <td>-0.131847</td>\n",
       "      <td>0.0</td>\n",
       "      <td>0.0</td>\n",
       "      <td>0.001414</td>\n",
       "    </tr>\n",
       "    <tr>\n",
       "      <th>2018-09-05 20:44:40</th>\n",
       "      <td>0.0</td>\n",
       "      <td>0.0</td>\n",
       "      <td>0.0</td>\n",
       "      <td>0.0</td>\n",
       "      <td>0.0</td>\n",
       "      <td>0.0</td>\n",
       "      <td>0.0</td>\n",
       "      <td>0.0</td>\n",
       "      <td>0.0</td>\n",
       "      <td>0.0</td>\n",
       "      <td>...</td>\n",
       "      <td>0.0</td>\n",
       "      <td>0.0</td>\n",
       "      <td>-1.062317</td>\n",
       "      <td>-2.703362</td>\n",
       "      <td>-2.374172</td>\n",
       "      <td>0.0</td>\n",
       "      <td>-0.131847</td>\n",
       "      <td>0.0</td>\n",
       "      <td>0.0</td>\n",
       "      <td>0.001414</td>\n",
       "    </tr>\n",
       "  </tbody>\n",
       "</table>\n",
       "<p>5 rows × 22 columns</p>\n",
       "</div>"
      ],
      "text/plain": [
       "                     sensor_A  sensor_B  ESTADO-DHSV  ESTADO-M1  ESTADO-M2  \\\n",
       "timestamp                                                                    \n",
       "2018-09-05 20:44:36       0.0       0.0          0.0        0.0        0.0   \n",
       "2018-09-05 20:44:37       0.0       0.0          0.0        0.0        0.0   \n",
       "2018-09-05 20:44:38       0.0       0.0          0.0        0.0        0.0   \n",
       "2018-09-05 20:44:39       0.0       0.0          0.0        0.0        0.0   \n",
       "2018-09-05 20:44:40       0.0       0.0          0.0        0.0        0.0   \n",
       "\n",
       "                     ESTADO-PXO  ESTADO-SDV-GL  ESTADO-SDV-P  ESTADO-W1  \\\n",
       "timestamp                                                                 \n",
       "2018-09-05 20:44:36         0.0            0.0           0.0        0.0   \n",
       "2018-09-05 20:44:37         0.0            0.0           0.0        0.0   \n",
       "2018-09-05 20:44:38         0.0            0.0           0.0        0.0   \n",
       "2018-09-05 20:44:39         0.0            0.0           0.0        0.0   \n",
       "2018-09-05 20:44:40         0.0            0.0           0.0        0.0   \n",
       "\n",
       "                     ESTADO-W2  ...  P-JUS-CKGL  P-JUS-CKP  P-MON-CKP  \\\n",
       "timestamp                       ...                                     \n",
       "2018-09-05 20:44:36        0.0  ...         0.0        0.0  -1.062317   \n",
       "2018-09-05 20:44:37        0.0  ...         0.0        0.0  -1.062317   \n",
       "2018-09-05 20:44:38        0.0  ...         0.0        0.0  -1.062317   \n",
       "2018-09-05 20:44:39        0.0  ...         0.0        0.0  -1.062317   \n",
       "2018-09-05 20:44:40        0.0  ...         0.0        0.0  -1.062317   \n",
       "\n",
       "                        P-PDG     P-TPT  QGL  T-JUS-CKP  T-MON-CKP  T-PDG  \\\n",
       "timestamp                                                                   \n",
       "2018-09-05 20:44:36 -2.703362 -2.374172  0.0  -0.131847        0.0    0.0   \n",
       "2018-09-05 20:44:37 -2.703362 -2.374172  0.0  -0.131847        0.0    0.0   \n",
       "2018-09-05 20:44:38 -2.703362 -2.374172  0.0  -0.131847        0.0    0.0   \n",
       "2018-09-05 20:44:39 -2.703362 -2.374172  0.0  -0.131847        0.0    0.0   \n",
       "2018-09-05 20:44:40 -2.703362 -2.374172  0.0  -0.131847        0.0    0.0   \n",
       "\n",
       "                        T-TPT  \n",
       "timestamp                      \n",
       "2018-09-05 20:44:36  0.001414  \n",
       "2018-09-05 20:44:37  0.001414  \n",
       "2018-09-05 20:44:38  0.001414  \n",
       "2018-09-05 20:44:39  0.001414  \n",
       "2018-09-05 20:44:40  0.001414  \n",
       "\n",
       "[5 rows x 22 columns]"
      ]
     },
     "execution_count": 23,
     "metadata": {},
     "output_type": "execute_result"
    }
   ],
   "source": [
    "columns_map = {\n",
    "    \"ABER-CKGL\": \"sensor_A\",\n",
    "    \"ABER-CKP\": \"sensor_B\"\n",
    "}\n",
    "rename_step = RenameColumns(RenameColumnsConfig(columns_map=columns_map))\n",
    "\n",
    "signal_pre = rename_step.pre_process(signal)\n",
    "signal_renamed = rename_step.run(signal_pre)\n",
    "signal_renamed = rename_step.post_process(signal_renamed)\n",
    "signal_renamed.head()"
   ]
  }
 ],
 "metadata": {
  "kernelspec": {
   "display_name": ".venv",
   "language": "python",
   "name": "python3"
  },
  "language_info": {
   "codemirror_mode": {
    "name": "ipython",
    "version": 3
   },
   "file_extension": ".py",
   "mimetype": "text/x-python",
   "name": "python",
   "nbconvert_exporter": "python",
   "pygments_lexer": "ipython3",
   "version": "3.10.11"
  }
 },
 "nbformat": 4,
 "nbformat_minor": 5
}
