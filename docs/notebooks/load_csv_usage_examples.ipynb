{
 "cells": [
  {
   "cell_type": "markdown",
   "id": "09dc24e9",
   "metadata": {},
   "source": [
    "\n",
    "# Usage Examples: `load_csv` Function\n",
    "\n",
    "This notebook demonstrates how to use the `load_csv` function defined in the `ThreeWToolkit.data_loader` module.\n",
    "\n",
    "The function allows for loading CSV files with column selection and optional date parsing.\n"
   ]
  },
  {
   "cell_type": "code",
   "execution_count": 1,
   "id": "8ecfaf43",
   "metadata": {},
   "outputs": [],
   "source": [
    "from tempfile import NamedTemporaryFile\n",
    "from ThreeWToolkit.data_loader import load_csv"
   ]
  },
  {
   "cell_type": "markdown",
   "id": "925492f9",
   "metadata": {},
   "source": [
    "### Example 1: Basic CSV loading with date column parsing"
   ]
  },
  {
   "cell_type": "code",
   "execution_count": 2,
   "id": "33f456d3",
   "metadata": {},
   "outputs": [
    {
     "data": {
      "text/html": [
       "<div>\n",
       "<style scoped>\n",
       "    .dataframe tbody tr th:only-of-type {\n",
       "        vertical-align: middle;\n",
       "    }\n",
       "\n",
       "    .dataframe tbody tr th {\n",
       "        vertical-align: top;\n",
       "    }\n",
       "\n",
       "    .dataframe thead th {\n",
       "        text-align: right;\n",
       "    }\n",
       "</style>\n",
       "<table border=\"1\" class=\"dataframe\">\n",
       "  <thead>\n",
       "    <tr style=\"text-align: right;\">\n",
       "      <th></th>\n",
       "      <th>date</th>\n",
       "      <th>value</th>\n",
       "      <th>signal1</th>\n",
       "      <th>signal2</th>\n",
       "    </tr>\n",
       "  </thead>\n",
       "  <tbody>\n",
       "    <tr>\n",
       "      <th>0</th>\n",
       "      <td>2024-01-01</td>\n",
       "      <td>100</td>\n",
       "      <td>400</td>\n",
       "      <td>500</td>\n",
       "    </tr>\n",
       "    <tr>\n",
       "      <th>1</th>\n",
       "      <td>2024-01-02</td>\n",
       "      <td>200</td>\n",
       "      <td>600</td>\n",
       "      <td>500</td>\n",
       "    </tr>\n",
       "  </tbody>\n",
       "</table>\n",
       "</div>"
      ],
      "text/plain": [
       "        date  value  signal1  signal2\n",
       "0 2024-01-01    100      400      500\n",
       "1 2024-01-02    200      600      500"
      ]
     },
     "execution_count": 2,
     "metadata": {},
     "output_type": "execute_result"
    }
   ],
   "source": [
    "with NamedTemporaryFile(mode=\"w+\", delete=False, suffix=\".csv\") as tmp:\n",
    "    tmp.write(\n",
    "        \"date,value,signal1,signal2\\n \\\n",
    "              2024-01-01,100,400,500\\n \\\n",
    "              2024-01-02,200,600,500\"\n",
    "    )\n",
    "    tmp.flush()\n",
    "    tmp_path = tmp.name\n",
    "\n",
    "df = load_csv(\n",
    "    file_path=tmp_path,\n",
    "    column_names=[\"date\", \"value\", \"signal1\", \"signal2\"],\n",
    "    date_column=[\"date\"],\n",
    "    parse_dates=True,\n",
    ")\n",
    "\n",
    "df.head()\n"
   ]
  },
  {
   "cell_type": "markdown",
   "id": "4a0efa27",
   "metadata": {},
   "source": [
    "### Example 2: Basic CSV loading with specific column selection and date column parsing"
   ]
  },
  {
   "cell_type": "code",
   "execution_count": null,
   "id": "fda075e3",
   "metadata": {},
   "outputs": [
    {
     "data": {
      "text/html": [
       "<div>\n",
       "<style scoped>\n",
       "    .dataframe tbody tr th:only-of-type {\n",
       "        vertical-align: middle;\n",
       "    }\n",
       "\n",
       "    .dataframe tbody tr th {\n",
       "        vertical-align: top;\n",
       "    }\n",
       "\n",
       "    .dataframe thead th {\n",
       "        text-align: right;\n",
       "    }\n",
       "</style>\n",
       "<table border=\"1\" class=\"dataframe\">\n",
       "  <thead>\n",
       "    <tr style=\"text-align: right;\">\n",
       "      <th></th>\n",
       "      <th>date</th>\n",
       "      <th>signal1</th>\n",
       "    </tr>\n",
       "  </thead>\n",
       "  <tbody>\n",
       "    <tr>\n",
       "      <th>0</th>\n",
       "      <td>2024-01-01</td>\n",
       "      <td>400</td>\n",
       "    </tr>\n",
       "    <tr>\n",
       "      <th>1</th>\n",
       "      <td>2024-01-02</td>\n",
       "      <td>600</td>\n",
       "    </tr>\n",
       "  </tbody>\n",
       "</table>\n",
       "</div>"
      ],
      "text/plain": [
       "        date  signal1\n",
       "0 2024-01-01      400\n",
       "1 2024-01-02      600"
      ]
     },
     "execution_count": 3,
     "metadata": {},
     "output_type": "execute_result"
    }
   ],
   "source": [
    "with NamedTemporaryFile(mode=\"w+\", delete=False, suffix=\".csv\") as tmp:\n",
    "    tmp.write(\n",
    "        \"date,value,signal1,signal2\\n \\\n",
    "              2024-01-01,100,400,500\\n \\\n",
    "              2024-01-02,200,600,500\"\n",
    "    )\n",
    "    tmp.flush()\n",
    "    tmp_path = tmp.name\n",
    "\n",
    "df = load_csv(\n",
    "    file_path=tmp_path,\n",
    "    column_names=[\"date\", \"signal1\"],\n",
    "    date_column=[\"date\"],\n",
    "    parse_dates=True,\n",
    ")\n",
    "\n",
    "df.head()"
   ]
  },
  {
   "cell_type": "markdown",
   "id": "3939c456",
   "metadata": {},
   "source": [
    "### Example 3: Basic CSV loading without date column parsing"
   ]
  },
  {
   "cell_type": "code",
   "execution_count": 4,
   "id": "26e305cd",
   "metadata": {},
   "outputs": [
    {
     "data": {
      "text/html": [
       "<div>\n",
       "<style scoped>\n",
       "    .dataframe tbody tr th:only-of-type {\n",
       "        vertical-align: middle;\n",
       "    }\n",
       "\n",
       "    .dataframe tbody tr th {\n",
       "        vertical-align: top;\n",
       "    }\n",
       "\n",
       "    .dataframe thead th {\n",
       "        text-align: right;\n",
       "    }\n",
       "</style>\n",
       "<table border=\"1\" class=\"dataframe\">\n",
       "  <thead>\n",
       "    <tr style=\"text-align: right;\">\n",
       "      <th></th>\n",
       "      <th>date</th>\n",
       "      <th>value</th>\n",
       "      <th>signal1</th>\n",
       "      <th>signal2</th>\n",
       "    </tr>\n",
       "  </thead>\n",
       "  <tbody>\n",
       "    <tr>\n",
       "      <th>0</th>\n",
       "      <td>2024-01-01</td>\n",
       "      <td>100</td>\n",
       "      <td>400</td>\n",
       "      <td>500</td>\n",
       "    </tr>\n",
       "    <tr>\n",
       "      <th>1</th>\n",
       "      <td>2024-01-02</td>\n",
       "      <td>200</td>\n",
       "      <td>600</td>\n",
       "      <td>500</td>\n",
       "    </tr>\n",
       "  </tbody>\n",
       "</table>\n",
       "</div>"
      ],
      "text/plain": [
       "                        date  value  signal1  signal2\n",
       "0                 2024-01-01    100      400      500\n",
       "1                 2024-01-02    200      600      500"
      ]
     },
     "execution_count": 4,
     "metadata": {},
     "output_type": "execute_result"
    }
   ],
   "source": [
    "with NamedTemporaryFile(mode=\"w+\", delete=False, suffix=\".csv\") as tmp:\n",
    "    tmp.write(\n",
    "        \"date,value,signal1,signal2\\n \\\n",
    "              2024-01-01,100,400,500\\n \\\n",
    "              2024-01-02,200,600,500\"\n",
    "    )\n",
    "    tmp.flush()\n",
    "    tmp_path = tmp.name\n",
    "\n",
    "df = load_csv(\n",
    "    file_path=tmp_path,\n",
    "    column_names=[\"date\", \"value\", \"signal1\", \"signal2\"],\n",
    "    date_column=[\"date\"],\n",
    "    parse_dates=False,\n",
    ")\n",
    "\n",
    "df.head()"
   ]
  },
  {
   "cell_type": "markdown",
   "id": "2cdc0653",
   "metadata": {},
   "source": [
    "### Example 4: Error handling - Input validation with non-existent file"
   ]
  },
  {
   "cell_type": "code",
   "execution_count": null,
   "id": "91c548a8",
   "metadata": {},
   "outputs": [
    {
     "name": "stdout",
     "output_type": "stream",
     "text": [
      "Expected error: The file 'non_existent.csv' does not exist.\n"
     ]
    }
   ],
   "source": [
    "try:\n",
    "    df = load_csv(\n",
    "        file_path=\"non_existent.csv\",\n",
    "        column_names=[\"date\", \"value\"],\n",
    "        date_column=[\"date\"],\n",
    "        parse_dates=True,\n",
    "    )\n",
    "except FileNotFoundError as e:\n",
    "    print(\"Expected error:\", e)"
   ]
  },
  {
   "cell_type": "markdown",
   "id": "a5dfdda0",
   "metadata": {},
   "source": [
    "### Example 5: Error handling - Input validation with column name error"
   ]
  },
  {
   "cell_type": "code",
   "execution_count": 6,
   "id": "088faed3",
   "metadata": {},
   "outputs": [
    {
     "name": "stdout",
     "output_type": "stream",
     "text": [
      "Expected error: `column_names` must be a list of strings.\n"
     ]
    }
   ],
   "source": [
    "try:\n",
    "    df = load_csv(\n",
    "        file_path=tmp_path,\n",
    "        column_names=\"not a list\",\n",
    "        date_column=[\"date\"],\n",
    "        parse_dates=True,\n",
    "    )\n",
    "except ValueError as e:\n",
    "    print(\"Expected error:\", e)\n"
   ]
  },
  {
   "cell_type": "markdown",
   "id": "becd8772",
   "metadata": {},
   "source": [
    "### Example 6: Error handling - Input validation with date column error"
   ]
  },
  {
   "cell_type": "code",
   "execution_count": null,
   "id": "606cb321",
   "metadata": {},
   "outputs": [
    {
     "name": "stdout",
     "output_type": "stream",
     "text": [
      "Expected error: `date_column` must be a list of strings.\n"
     ]
    }
   ],
   "source": [
    "try:\n",
    "    df = load_csv(\n",
    "        file_path=tmp_path,\n",
    "        column_names=[\"date\", \"value\"],\n",
    "        date_column=\"not a list\",\n",
    "        parse_dates=True,\n",
    "    )\n",
    "except ValueError as e:\n",
    "    print(\"Expected error:\", e)"
   ]
  }
 ],
 "metadata": {
  "kernelspec": {
   "display_name": ".venv",
   "language": "python",
   "name": "python3"
  },
  "language_info": {
   "codemirror_mode": {
    "name": "ipython",
    "version": 3
   },
   "file_extension": ".py",
   "mimetype": "text/x-python",
   "name": "python",
   "nbconvert_exporter": "python",
   "pygments_lexer": "ipython3",
   "version": "3.10.11"
  }
 },
 "nbformat": 4,
 "nbformat_minor": 5
}
